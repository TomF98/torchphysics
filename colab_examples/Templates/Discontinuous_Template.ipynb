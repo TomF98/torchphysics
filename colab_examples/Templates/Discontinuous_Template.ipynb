{
 "cells": [
  {
   "cell_type": "markdown",
   "metadata": {},
   "source": [
    "# Template: A Problem with a Discontinuous Solution\n",
    "### (Difficulty: Easy)\n",
    "\n",
    "In this Notebook we want to solve a simple Poisson Problem with a Robin-Condition at a interface. \n",
    "\n",
    "We take $\\Omega \\subset \\mathbb{R}^2$ as the rectangle $(0, 1) \\times (0, 1)$\n",
    "and denote with $\\Gamma$ the interface defined as a line from $(0.5, 0)$ to $(0.5, 1)$.\n",
    "\\\n",
    "We want to solve the following problem:\n",
    "\\begin{align*}\n",
    "    \\Delta u &= 0, \\text{ in } \\Omega \\\\\n",
    "    u_1(0, y) &= 0 , \\text{ for } y \\in [0, 1] \\\\\n",
    "    u_2(1, y) &= 2 , \\text{ for } y \\in [0, 1] \\\\\n",
    "    \\vec{n} \\nabla u_i(x, y) &= 0 , \\text{ for } x \\in [0, 1], y \\in \\{0, 1\\}\\\\\n",
    "    \\vec{n} \\nabla u_i &= u_2 - u_1, \\text{ for } x \\in \\Gamma\n",
    "\\end{align*}\n",
    "for $i = 1, 2$ and with the wanted solution $u=(u_1, u_2)$, split up into left and right part.\n",
    "\n",
    "One can see that the analytic solution is $u_1(x, y) = x$ and $u_2(x, y) = 1 + x$.\n",
    "To implement this with PINNs, use **two** neural networks (one for each domain), that are coupled at the interface.\n",
    "\n",
    "\n",
    "You can also take a look at documentation if you need some specific functionalities (like using two networks in one condition (tp.models.Parallel))): [Link to docs](https://torchphysics.readthedocs.io/en/latest/)"
   ]
  },
  {
   "cell_type": "code",
   "execution_count": null,
   "metadata": {},
   "outputs": [],
   "source": [
    "!pip install torchaudio==0.13.0\n",
    "!pip install torchvision==0.14.0\n",
    "!pip install torchphysics"
   ]
  },
  {
   "cell_type": "code",
   "execution_count": null,
   "metadata": {},
   "outputs": [],
   "source": [
    "import torchphysics as tp\n",
    "import torch\n",
    "import math"
   ]
  }
 ],
 "metadata": {
  "language_info": {
   "name": "python"
  },
  "orig_nbformat": 4
 },
 "nbformat": 4,
 "nbformat_minor": 2
}
