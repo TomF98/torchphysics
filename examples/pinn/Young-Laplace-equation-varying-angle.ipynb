{
 "cells": [
  {
   "cell_type": "code",
   "execution_count": null,
   "id": "1ef6d147-2dd4-4547-9fb6-79b3758d7350",
   "metadata": {},
   "outputs": [],
   "source": [
    "import torchphysics as tp\n",
    "import numpy as np\n",
    "import torch\n",
    "from matplotlib import pyplot as plt\n",
    "import pytorch_lightning as pl"
   ]
  },
  {
   "cell_type": "code",
   "execution_count": 3,
   "id": "af0c47bc",
   "metadata": {},
   "outputs": [
    {
     "name": "stdout",
     "output_type": "stream",
     "text": [
      "Bond number: 0.0340011875\n"
     ]
    }
   ],
   "source": [
    "# geometry information\n",
    "d = 1 # diameter in mm\n",
    "R = d/2/1e3 # radius in m\n",
    "h_l = 0.005 # water height in m\n",
    "h_c = 0.01 # capillary height\n",
    "norm = R # characteristic capillary radius for normalization\n",
    "\n",
    "# surface tension coefficient\n",
    "sigma = 0.072\n",
    "\n",
    "# densities (liquid/gas)\n",
    "rho_l = 998.2\n",
    "rho_g = 1.225\n",
    "\n",
    "# contact angle\n",
    "theta_value = 80.0\n",
    "theta = theta_value * np.pi/180\n",
    "\n",
    "# gravitational acceleration\n",
    "g = 9.81\n",
    "\n",
    "# Bond number\n",
    "Bo = rho_l*g*R**2/sigma\n",
    "print(f'Bond number: {Bo}')\n",
    "\n",
    "# number of sample points\n",
    "N_points_PDE = 10000\n",
    "N_points_BC = 5000"
   ]
  },
  {
   "cell_type": "code",
   "execution_count": 4,
   "id": "6af0dba0-d481-4566-a8b7-244098eee713",
   "metadata": {},
   "outputs": [],
   "source": [
    "# Input and output spaces\n",
    "X = tp.spaces.R2(variable_name='x')\n",
    "Z = tp.spaces.R1('z')\n",
    "LAMB = tp.spaces.R1('lamb')\n",
    "Theta = tp.spaces.R1(\"theta\")\n",
    "\n",
    "Omega = tp.domains.Circle(space=X, center=[0, 0], radius=1)\n",
    "interval_theta = tp.domains.Interval(Theta, 10 * np.pi/180.0, 170*np.pi/180.0)"
   ]
  },
  {
   "cell_type": "code",
   "execution_count": 5,
   "id": "586dc307",
   "metadata": {},
   "outputs": [
    {
     "name": "stdout",
     "output_type": "stream",
     "text": [
      "3.141592653589793\n",
      "31.415926535897935\n"
     ]
    }
   ],
   "source": [
    "# calculate normalized cross-sectional area and initial volume\n",
    "A = np.pi*R**2/norm**2\n",
    "V0 = A*h_l/norm\n",
    "\n",
    "dA = A/N_points_PDE\n",
    "dV = V0/N_points_PDE\n",
    "print(A)\n",
    "print(V0)"
   ]
  },
  {
   "cell_type": "code",
   "execution_count": 6,
   "id": "d020f7f4-c286-466f-928d-1f80ee64c53f",
   "metadata": {},
   "outputs": [],
   "source": [
    "sampler_pde_condition = tp.samplers.RandomUniformSampler(Omega*interval_theta, n_points=N_points_PDE)\n",
    "domain_boundary_condition  = Omega.boundary\n",
    "sampler_boundary_condition = tp.samplers.RandomUniformSampler(domain_boundary_condition*interval_theta, \n",
    "                                                     n_points=N_points_BC)"
   ]
  },
  {
   "cell_type": "code",
   "execution_count": 7,
   "id": "c29f3f92-d613-470f-ab74-9369e071ea04",
   "metadata": {},
   "outputs": [],
   "source": [
    "def length_of_grad(grad_z):\n",
    "    return torch.sqrt(1 + grad_z[:, :1]**2 + grad_z[:, 1:]**2)\n",
    "\n",
    "def residual_pde_condition(z, x, lamb):\n",
    "    grad_z = tp.utils.grad(z, x)\n",
    "    len_grad = length_of_grad(grad_z)\n",
    "    return tp.utils.div(grad_z/len_grad, x) - Bo*z - lamb\n",
    "\n",
    "# calculate normal vectors prior to optimization to decrease computational effort\n",
    "#normal_vectors = Omega.boundary.normal(sampler_boundary_condition.sample_points()).to('cuda')\n",
    "\n",
    "def residual_boundary_condition(z, x, theta):\n",
    "    grad_z = tp.utils.grad(z, x)\n",
    "    len_grad = length_of_grad(grad_z)\n",
    "    normal_vectors = Omega.boundary.normal(x)\n",
    "    normal_grad = torch.sum(normal_vectors*grad_z, dim=1, keepdim=True)\n",
    "    return normal_grad/len_grad - torch.cos(theta)\n",
    "\n",
    "def residual_volume_condition(z):\n",
    "    return torch.sum(z*dA, dim=0, keepdim=True) - V0"
   ]
  },
  {
   "cell_type": "code",
   "execution_count": 8,
   "id": "fa15606a-a2c7-40bf-9e41-920c8f6a1bc9",
   "metadata": {},
   "outputs": [],
   "source": [
    "fcn_layer = tp.models.FCN(input_space=X*Theta, output_space=Z, hidden = (50, 50, 50, 50, 50, 50))\n",
    "\n",
    "model = tp.models.Sequential(fcn_layer)\n",
    "\n",
    "model_lamb = tp.models.FCN(input_space=Theta, output_space=LAMB, hidden = (20, 20, 20, 20))\n",
    "\n",
    "combi_model = tp.models.Parallel(model, model_lamb)"
   ]
  },
  {
   "cell_type": "code",
   "execution_count": 9,
   "id": "008c09a7-81f8-41b5-8c10-3892812740ad",
   "metadata": {},
   "outputs": [],
   "source": [
    "pde_condition      = tp.conditions.PINNCondition(module      = combi_model, \n",
    "                                                 sampler     = sampler_pde_condition,\n",
    "                                                 residual_fn = residual_pde_condition,\n",
    "                                                 )\n",
    "\n",
    "boundary_condition = tp.conditions.PINNCondition(module      = model, \n",
    "                                                 sampler     = sampler_boundary_condition,\n",
    "                                                 residual_fn = residual_boundary_condition)\n",
    "\n",
    "volume_condition   = tp.conditions.PINNCondition(module      = model, \n",
    "                                                 sampler     = sampler_pde_condition,\n",
    "                                                 residual_fn = residual_volume_condition, \n",
    "                                                 )"
   ]
  },
  {
   "cell_type": "code",
   "execution_count": 11,
   "id": "53cf64ac",
   "metadata": {},
   "outputs": [
    {
     "name": "stderr",
     "output_type": "stream",
     "text": [
      "GPU available: True (cuda), used: True\n",
      "TPU available: False, using: 0 TPU cores\n",
      "IPU available: False, using: 0 IPUs\n",
      "HPU available: False, using: 0 HPUs\n",
      "LOCAL_RANK: 0 - CUDA_VISIBLE_DEVICES: [4]\n",
      "\n",
      "  | Name             | Type       | Params\n",
      "------------------------------------------------\n",
      "0 | train_conditions | ModuleList | 14.3 K\n",
      "1 | val_conditions   | ModuleList | 0     \n",
      "------------------------------------------------\n",
      "14.3 K    Trainable params\n",
      "0         Non-trainable params\n",
      "14.3 K    Total params\n",
      "0.057     Total estimated model params size (MB)\n"
     ]
    },
    {
     "data": {
      "application/vnd.jupyter.widget-view+json": {
       "model_id": "20fe544955104fca8b3803dd032b2ab6",
       "version_major": 2,
       "version_minor": 0
      },
      "text/plain": [
       "Sanity Checking: |          | 0/? [00:00<?, ?it/s]"
      ]
     },
     "metadata": {},
     "output_type": "display_data"
    },
    {
     "data": {
      "application/vnd.jupyter.widget-view+json": {
       "model_id": "c02e96b0877a4fb88216d7761bdd25f6",
       "version_major": 2,
       "version_minor": 0
      },
      "text/plain": [
       "Training: |          | 0/? [00:00<?, ?it/s]"
      ]
     },
     "metadata": {},
     "output_type": "display_data"
    },
    {
     "data": {
      "application/vnd.jupyter.widget-view+json": {
       "model_id": "e7a70b4588384820895a4b2d63860a70",
       "version_major": 2,
       "version_minor": 0
      },
      "text/plain": [
       "Validation: |          | 0/? [00:00<?, ?it/s]"
      ]
     },
     "metadata": {},
     "output_type": "display_data"
    },
    {
     "name": "stderr",
     "output_type": "stream",
     "text": [
      "`Trainer.fit` stopped: `max_steps=80000` reached.\n"
     ]
    }
   ],
   "source": [
    "training_conditions = [volume_condition, pde_condition, boundary_condition]\n",
    "optim = tp.OptimizerSetting(optimizer_class=torch.optim.Adam, lr=0.001)\n",
    "solver = tp.solver.Solver(train_conditions=training_conditions, optimizer_setting=optim)\n",
    "\n",
    "# Start the training\n",
    "trainer = pl.Trainer(\n",
    "    devices=1, # or None if CPU is used\n",
    "    max_steps=80000, # number of training steps\n",
    "    logger=False,\n",
    "    benchmark=True,\n",
    "    accelerator=\"cpu\",\n",
    "    # checkpoint_callback=False  # Uncomment this for more verbose\n",
    ")\n",
    "trainer.fit(solver) # start training"
   ]
  },
  {
   "cell_type": "code",
   "execution_count": 12,
   "id": "de63182a",
   "metadata": {},
   "outputs": [
    {
     "name": "stderr",
     "output_type": "stream",
     "text": [
      "GPU available: True (cuda), used: True\n",
      "TPU available: False, using: 0 TPU cores\n",
      "IPU available: False, using: 0 IPUs\n",
      "HPU available: False, using: 0 HPUs\n",
      "/home/fb3_f01/miniconda3/envs/myenv/lib/python3.9/site-packages/pytorch_lightning/callbacks/model_checkpoint.py:639: Checkpoint directory /home/fb3_f01/YL-Equation/checkpoints exists and is not empty.\n",
      "LOCAL_RANK: 0 - CUDA_VISIBLE_DEVICES: [4]\n",
      "\n",
      "  | Name             | Type       | Params\n",
      "------------------------------------------------\n",
      "0 | train_conditions | ModuleList | 14.3 K\n",
      "1 | val_conditions   | ModuleList | 0     \n",
      "------------------------------------------------\n",
      "14.3 K    Trainable params\n",
      "0         Non-trainable params\n",
      "14.3 K    Total params\n",
      "0.057     Total estimated model params size (MB)\n"
     ]
    },
    {
     "data": {
      "application/vnd.jupyter.widget-view+json": {
       "model_id": "38b6df9c90174e01806b867b0d6e2ff4",
       "version_major": 2,
       "version_minor": 0
      },
      "text/plain": [
       "Sanity Checking: |          | 0/? [00:00<?, ?it/s]"
      ]
     },
     "metadata": {},
     "output_type": "display_data"
    },
    {
     "name": "stderr",
     "output_type": "stream",
     "text": [
      "/home/fb3_f01/miniconda3/envs/myenv/lib/python3.9/site-packages/pytorch_lightning/trainer/connectors/data_connector.py:441: The 'val_dataloader' does not have many workers which may be a bottleneck. Consider increasing the value of the `num_workers` argument` to `num_workers=254` in the `DataLoader` to improve performance.\n",
      "/home/fb3_f01/miniconda3/envs/myenv/lib/python3.9/site-packages/pytorch_lightning/trainer/connectors/data_connector.py:441: The 'train_dataloader' does not have many workers which may be a bottleneck. Consider increasing the value of the `num_workers` argument` to `num_workers=254` in the `DataLoader` to improve performance.\n"
     ]
    },
    {
     "data": {
      "application/vnd.jupyter.widget-view+json": {
       "model_id": "cd17171bdd6b4c43b20cab4fcedcd3de",
       "version_major": 2,
       "version_minor": 0
      },
      "text/plain": [
       "Training: |          | 0/? [00:00<?, ?it/s]"
      ]
     },
     "metadata": {},
     "output_type": "display_data"
    },
    {
     "data": {
      "application/vnd.jupyter.widget-view+json": {
       "model_id": "9772e374bda74d3a89d263d720f0864f",
       "version_major": 2,
       "version_minor": 0
      },
      "text/plain": [
       "Validation: |          | 0/? [00:00<?, ?it/s]"
      ]
     },
     "metadata": {},
     "output_type": "display_data"
    },
    {
     "name": "stderr",
     "output_type": "stream",
     "text": [
      "`Trainer.fit` stopped: `max_steps=20000` reached.\n"
     ]
    },
    {
     "name": "stdout",
     "output_type": "stream",
     "text": [
      "Training time: 5396.203118562698 seconds\n"
     ]
    }
   ],
   "source": [
    "import time\n",
    "\n",
    "pde_condition.sampler = pde_condition.sampler.make_static()\n",
    "boundary_condition.sampler = boundary_condition.sampler.make_static()\n",
    "volume_condition.sampler = volume_condition.sampler.make_static()\n",
    "\n",
    "optim = tp.OptimizerSetting(optimizer_class=torch.optim.LBFGS, lr=0.1, \n",
    "                            optimizer_args={'max_iter': 5})\n",
    "solver = tp.solver.Solver(train_conditions=training_conditions, optimizer_setting=optim)\n",
    "# Start the training\n",
    "trainer = pl.Trainer(\n",
    "    devices=1, # or None if CPU is used\n",
    "    max_steps=20000, # number of training steps\n",
    "    logger=False,\n",
    "    benchmark=True,\n",
    "    accelerator=\"cpu\",\n",
    "    # checkpoint_callback=False  # Uncomment this for more verbose\n",
    ")\n",
    "\n",
    "start_time = time.time()\n",
    "trainer.fit(solver) # start training\n",
    "end_time = time.time()\n",
    "print(f'Training time: {end_time - start_time} seconds')"
   ]
  },
  {
   "cell_type": "code",
   "execution_count": 15,
   "id": "00c3d1e0-aeda-4e15-9ca5-67bbb953bd73",
   "metadata": {},
   "outputs": [
    {
     "name": "stdout",
     "output_type": "stream",
     "text": [
      "Elevation: 0.5759258\n"
     ]
    },
    {
     "data": {
      "image/png": "[encoded data removed]",
      "text/plain": [
       "<Figure size 640x480 with 2 Axes>"
      ]
     },
     "metadata": {},
     "output_type": "display_data"
    }
   ],
   "source": [
    "vmin = 9.4\n",
    "vmax = 10.7\n",
    "theta = 150.0\n",
    "\n",
    "plot_sampler = tp.samplers.PlotSampler(plot_domain=Omega, n_points=3169, \n",
    "                                       data_for_other_variables={\"theta\": theta*np.pi/180.0})\n",
    "sample_points = plot_sampler.sample_points()\n",
    "output = model.forward(sample_points)\n",
    "\n",
    "x_vis = sample_points.as_tensor[:,0].detach().numpy()\n",
    "y_vis = sample_points.as_tensor[:,1].detach().numpy()\n",
    "z_vis = output.as_tensor.detach().numpy().flatten()\n",
    "\n",
    "elevation = (max(z_vis)-min(z_vis))\n",
    "\n",
    "print(\"Elevation:\", elevation)\n",
    "\n",
    "from mpl_toolkits.mplot3d import axes3d\n",
    "plt.rcParams['font.size'] = 32\n",
    "plt.rcParams['legend.fontsize'] = 24\n",
    "plt.rcParams['axes.titlesize'] = 'medium'\n",
    "\n",
    "fig = plt.figure()\n",
    "helper_color = plt.scatter([0, 0], [0, 0], c=[vmin, vmax],)\n",
    "plt.tricontourf(x_vis, y_vis, z_vis, vmin=vmin, vmax=vmax)\n",
    "plt.colorbar(helper_color)\n",
    "plt.savefig(f\"pinns_capillary_theta_{theta}_deg.png\", dpi=300)\n"
   ]
  }
 ],
 "metadata": {
  "kernelspec": {
   "display_name": "myenv",
   "language": "python",
   "name": "python3"
  },
  "language_info": {
   "codemirror_mode": {
    "name": "ipython",
    "version": 3
   },
   "file_extension": ".py",
   "mimetype": "text/x-python",
   "name": "python",
   "nbconvert_exporter": "python",
   "pygments_lexer": "ipython3",
   "version": "3.9.23"
  }
 },
 "nbformat": 4,
 "nbformat_minor": 5
}
