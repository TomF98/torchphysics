{
 "cells": [
  {
   "cell_type": "markdown",
   "metadata": {
    "id": "e61-jWGaOgNC"
   },
   "source": [
    "# Solving an inverse Problem with TorchPhysics and PINNs: Bonus Exercise 8b\n",
    "Assume you are jumping from a plane with a parachute. Under some simplifications, your fall can be described by the following ODE:\n",
    "\\begin{align*}\n",
    "    \\begin{split}\n",
    "        \\partial_t^2 u(t) &= {\\color{red}{D(t)}} \\Big[\\partial_t u(t)\\Big]^2 - g  \\text{ for } t\\in I_t=[0,T], \\\\\n",
    "        u(0) &= H, \\\\\n",
    "        \\partial_t u(0) &= v_0,\n",
    "    \\end{split}\n",
    "\\end{align*}\n",
    "where $u : [0, T] \\to \\mathbb{R}$ is the height at time $t$, $H$ the starting height, $g$ the gravity constant, $v_0$ the initial velocity, and $\\color{red}{D(t)}$ a friction coefficient that is proportional to the cross section of the parachute at time $t$.\n",
    "\n",
    "Given a noisy dataset $\\{(u_i, t_i)\\}_{i=1}^N$ of the height $u_i$ at time $t_i$, we aim to reconstruct the movement of the parachute described by $\\color{red}{D(t)}$.\n",
    "\n",
    "Again, we use a data condition for learning $u$ from the data. Moreover, since ${\\color{red}{D(t)}}$ is only present in the PDE condition, we do not include the remaining conditions for additional loss terms. In other words, we train networks for $u$ and ${\\color{red}{D}}$ that minimize\n",
    "$$\n",
    "\\frac{1}{N}\\sum_{i=1}^N \\vert u(t_i) - u_i \\vert^2 + \\frac{1}{M}\\sum_{k=1}^M \\left\\vert \\partial_t^2 u(\\tilde{t}_k) - {\\color{red}{D(\\tilde{t}_k)}} \\Big[\\partial_t u(\\tilde{t}_k)\\Big]^2 + g \\right\\vert^2.\n",
    "$$"
   ]
  },
  {
   "cell_type": "code",
   "execution_count": 1,
   "metadata": {
    "colab": {
     "base_uri": "https://localhost:8080/"
    },
    "id": "U8O17moiOgND",
    "outputId": "c0eac49b-96d3-4403-c373-f7d78ddf1d97"
   },
   "outputs": [],
   "source": [
    "import pathlib\n",
    "import os\n",
    "gpu_device = str(int(str(pathlib.Path().resolve())[-2:]) % 8)\n",
    "os.environ[\"CUDA_VISIBLE_DEVICES\"]= gpu_device"
   ]
  },
  {
   "cell_type": "code",
   "execution_count": 2,
   "metadata": {
    "id": "0awebdFzOgND"
   },
   "outputs": [],
   "source": [
    "import torchphysics as tp\n",
    "import pytorch_lightning as pl\n",
    "import torch\n",
    "import math\n",
    "from matplotlib import pyplot as plt\n",
    "\n",
    "# Here all parameters are defined:\n",
    "g = 9.81                # Gravity constant\n",
    "H = 0                   # Initial height H\n",
    "v_0 = -2                # Initial velocity v_0\n",
    "t_min, t_max = 0.0, 10 # Bounds for time interval\n",
    "\n",
    "# The groundtruth D(t) that is to be learned\n",
    "def D_groundtruth(t):\n",
    "    return 3 * (1.1 + torch.sin(-0.42*t))"
   ]
  },
  {
   "cell_type": "markdown",
   "metadata": {
    "id": "MBOAF1nxP1zw"
   },
   "source": [
    "### Spaces, domains and samplers"
   ]
  },
  {
   "cell_type": "code",
   "execution_count": 3,
   "metadata": {
    "id": "IjN49vmzOgNE"
   },
   "outputs": [],
   "source": [
    "T = tp.spaces.R1('t')\n",
    "U = tp.spaces.R1('u')\n",
    "# TODO: Create the output space of parameter function D\n",
    "D = tp.spaces.R1('D')\n",
    "\n",
    "# TODO: Define the time interval I_t\n",
    "I_t = tp.domains.Interval(T, t_min, t_max)\n",
    "\n",
    "# TODO: Create random uniform sampler for the PDE condition, which should hold on I_t. Use 3000 as the number of sampling points\n",
    "pde_sampler = tp.samplers.RandomUniformSampler(I_t, 3000)"
   ]
  },
  {
   "cell_type": "markdown",
   "metadata": {
    "id": "Qbs69nt1Rflc"
   },
   "source": [
    "### Load PyTorch dataset $\\{(u_i, t_i)\\}_{i=1}^N$. "
   ]
  },
  {
   "cell_type": "code",
   "execution_count": 4,
   "metadata": {},
   "outputs": [
    {
     "name": "stdout",
     "output_type": "stream",
     "text": [
      "--2024-11-06 14:48:36--  https://github.com/TomF98/torchphysics/raw/Berlin-Workshop/examples/SolutionData/Ex_8b/parachute_t_data.pt\n",
      "Resolving github.com (github.com)... 140.82.121.4\n",
      "Connecting to github.com (github.com)|140.82.121.4|:443... connected.\n",
      "HTTP request sent, awaiting response... 302 Found\n",
      "Location: https://raw.githubusercontent.com/TomF98/torchphysics/Berlin-Workshop/examples/SolutionData/Ex_8b/parachute_t_data.pt [following]\n",
      "--2024-11-06 14:48:36--  https://raw.githubusercontent.com/TomF98/torchphysics/Berlin-Workshop/examples/SolutionData/Ex_8b/parachute_t_data.pt\n",
      "Resolving raw.githubusercontent.com (raw.githubusercontent.com)... 185.199.110.133, 185.199.108.133, 185.199.111.133, ...\n",
      "Connecting to raw.githubusercontent.com (raw.githubusercontent.com)|185.199.110.133|:443... connected.\n",
      "HTTP request sent, awaiting response... 200 OK\n",
      "Length: 1417 (1.4K) [application/octet-stream]\n",
      "Saving to: 'parachute_t_data.pt'\n",
      "\n",
      "parachute_t_data.pt 100%[===================>]   1.38K  --.-KB/s    in 0s      \n",
      "\n",
      "2024-11-06 14:48:36 (16.1 MB/s) - 'parachute_t_data.pt' saved [1417/1417]\n",
      "\n",
      "--2024-11-06 14:48:36--  https://github.com/TomF98/torchphysics/raw/Berlin-Workshop/examples/SolutionData/Ex_8b/parachute_u_data.pt\n",
      "Resolving github.com (github.com)... 140.82.121.4\n",
      "Connecting to github.com (github.com)|140.82.121.4|:443... connected.\n",
      "HTTP request sent, awaiting response... 302 Found\n",
      "Location: https://raw.githubusercontent.com/TomF98/torchphysics/Berlin-Workshop/examples/SolutionData/Ex_8b/parachute_u_data.pt [following]\n",
      "--2024-11-06 14:48:37--  https://raw.githubusercontent.com/TomF98/torchphysics/Berlin-Workshop/examples/SolutionData/Ex_8b/parachute_u_data.pt\n",
      "Resolving raw.githubusercontent.com (raw.githubusercontent.com)... 185.199.110.133, 185.199.108.133, 185.199.111.133, ...\n",
      "Connecting to raw.githubusercontent.com (raw.githubusercontent.com)|185.199.110.133|:443... connected.\n",
      "HTTP request sent, awaiting response... 200 OK\n",
      "Length: 1417 (1.4K) [application/octet-stream]\n",
      "Saving to: 'parachute_u_data.pt'\n",
      "\n",
      "parachute_u_data.pt 100%[===================>]   1.38K  --.-KB/s    in 0s      \n",
      "\n",
      "2024-11-06 14:48:37 (17.6 MB/s) - 'parachute_u_data.pt' saved [1417/1417]\n",
      "\n"
     ]
    },
    {
     "name": "stderr",
     "output_type": "stream",
     "text": [
      "/tmp/ipykernel_533763/2305262365.py:7: FutureWarning: You are using `torch.load` with `weights_only=False` (the current default value), which uses the default pickle module implicitly. It is possible to construct malicious pickle data which will execute arbitrary code during unpickling (See https://github.com/pytorch/pytorch/blob/main/SECURITY.md#untrusted-models for more details). In a future release, the default value for `weights_only` will be flipped to `True`. This limits the functions that could be executed during unpickling. Arbitrary objects will no longer be allowed to be loaded via this mode unless they are explicitly allowlisted by the user via `torch.serialization.add_safe_globals`. We recommend you start setting `weights_only=True` for any use case where you don't have full control of the loaded file. Please open an issue on GitHub for any issues related to this experimental feature.\n",
      "  t_data = torch.load('parachute_t_data.pt')\n",
      "/tmp/ipykernel_533763/2305262365.py:8: FutureWarning: You are using `torch.load` with `weights_only=False` (the current default value), which uses the default pickle module implicitly. It is possible to construct malicious pickle data which will execute arbitrary code during unpickling (See https://github.com/pytorch/pytorch/blob/main/SECURITY.md#untrusted-models for more details). In a future release, the default value for `weights_only` will be flipped to `True`. This limits the functions that could be executed during unpickling. Arbitrary objects will no longer be allowed to be loaded via this mode unless they are explicitly allowlisted by the user via `torch.serialization.add_safe_globals`. We recommend you start setting `weights_only=True` for any use case where you don't have full control of the loaded file. Please open an issue on GitHub for any issues related to this experimental feature.\n",
      "  u_data = torch.load('parachute_u_data.pt')\n"
     ]
    }
   ],
   "source": [
    "# Here, we load the data. First, we download it from GitHub ...\n",
    "!wget https://github.com/TomF98/torchphysics/raw/Berlin-Workshop/examples/SolutionData/Ex_8b/parachute_t_data.pt\n",
    "!wget https://github.com/TomF98/torchphysics/raw/Berlin-Workshop/examples/SolutionData/Ex_8b/parachute_u_data.pt\n",
    "\n",
    "# ... then we read it with PyTorch. 't_data' contains points t_i and\n",
    "#                                   'u_data' the coressponding height u_i.\n",
    "t_data = torch.load('parachute_t_data.pt')\n",
    "u_data = torch.load('parachute_u_data.pt')"
   ]
  },
  {
   "cell_type": "code",
   "execution_count": 5,
   "metadata": {},
   "outputs": [
    {
     "data": {
      "image/png": "[encoded data removed]",
      "text/plain": [
       "<Figure size 700x300 with 2 Axes>"
      ]
     },
     "metadata": {},
     "output_type": "display_data"
    }
   ],
   "source": [
    "# Plot ground truth parameter D(t) and data u_i\n",
    "fig, (ax1, ax2) = plt.subplots(1, 2, figsize=(7,3))\n",
    "ax1.plot(t_data[:, 0], D_groundtruth(t_data[:, 0]))\n",
    "ax1.set_title(r'Ground truth $D(t)$')\n",
    "ax1.set_xlabel('time t')\n",
    "ax2.scatter(t_data[:, 0], u_data[:, 0], s=1.)\n",
    "ax2.set_title(r'Noisy data $u_i$')\n",
    "ax2.set_xlabel('time t')\n",
    "plt.show()"
   ]
  },
  {
   "cell_type": "code",
   "execution_count": 6,
   "metadata": {},
   "outputs": [],
   "source": [
    "# In order to work with the data in TorchPhysics,\n",
    "# we need to transform the data into `tp.spaces.Points` objects.\n",
    "t_data_points = tp.spaces.Points(t_data, T)\n",
    "\n",
    "# TODO: Do the same for u_data.\n",
    "u_data_points = tp.spaces.Points(u_data, U)\n",
    "\n",
    "# TODO: Create a DataLoader, that loads combinations of t_data_points and u_data_points.\n",
    "# Hint: This is analogous to Exercise_8.\n",
    "data_loader = tp.utils.PointsDataLoader((t_data_points, u_data_points), batch_size=len(t_data))"
   ]
  },
  {
   "cell_type": "markdown",
   "metadata": {
    "id": "RATQFckAZ-Wh"
   },
   "source": [
    "### Proceed with familiar TorchPhysics pipeline: Create models, residual functions and conditions"
   ]
  },
  {
   "cell_type": "code",
   "execution_count": 7,
   "metadata": {
    "id": "W6o7yz4iOgNF"
   },
   "outputs": [],
   "source": [
    "# We use the same model archiecture for u as in Exercise 8\n",
    "model_u = tp.models.FCN(input_space=T, output_space=U, hidden = (50, 50))\n",
    "\n",
    "# TODO: Create a FCN for the parameter function D(t). Use hidden=(30, 30, 30)\n",
    "model_D = tp.models.FCN(T, D, hidden=(30,30,30))\n",
    "\n",
    "# TODO: We want to train the model for u and for D in parallel. For that, pass them as inputs to tp.models.Parallel\n",
    "model = tp.models.Parallel(model_u, model_D)"
   ]
  },
  {
   "cell_type": "code",
   "execution_count": 8,
   "metadata": {
    "id": "Rbq3kJPJOgNF"
   },
   "outputs": [],
   "source": [
    "# TODO: Create a residual for the PDE condition\n",
    "def pde_residual(t, u, D):\n",
    "  return tp.utils.laplacian(u, t) - D*tp.utils.grad(u, t)**2 + g\n",
    "\n",
    "# TODO: Create corresponding TorchPhysics condition. Note that the parallel model for u and D should be trained on this condition.\n",
    "pde_condition = tp.conditions.PINNCondition(model, pde_sampler, pde_residual)"
   ]
  },
  {
   "cell_type": "code",
   "execution_count": 9,
   "metadata": {
    "id": "3MqTre8iOgNJ"
   },
   "outputs": [],
   "source": [
    "# TODO: Again, we need a data condition, which is analogous to Exercise 8.\n",
    "data_condition = tp.conditions.DataCondition(module=model_u,\n",
    "                                             dataloader=data_loader,\n",
    "                                             norm=2,\n",
    "                                             use_full_dataset=True,\n",
    "                                             weight=50)"
   ]
  },
  {
   "cell_type": "markdown",
   "metadata": {
    "id": "jSQArukGOgNJ"
   },
   "source": [
    "### Training with the Adam optimizer"
   ]
  },
  {
   "cell_type": "code",
   "execution_count": 10,
   "metadata": {
    "colab": {
     "base_uri": "https://localhost:8080/",
     "height": 347,
     "referenced_widgets": [
      "fd41187cfbee4c319e881af0d66e4b3c",
      "59bcee0681604a66844c54404f3e2625",
      "67e022f755be469ca2b75af99fb8d030",
      "60b26d5a6e3a46999de5a576a4537dd7",
      "e949dcc0c54d40f1b0f2d0431758d55f",
      "395b61d28dea4936a3ff25de0cf457bf",
      "fa910045ca0c490fa663205310bc08fe",
      "c15b61d738084ab1b4125c786d39a49a",
      "6aa09c75ff1947c08b3422556b45eea8",
      "f359f710e8354517b3e130b6ddcd3396",
      "d39a5ad884114a4eb5ea52da90ee6987",
      "3883c72ef9784fc38d65828d535ef617",
      "b5d0a0168d034561939facba9b1e03c8",
      "ccb99de10686488ebb55c3869e19eefe",
      "db3657e8a3c241efb281066bbad3214e",
      "26551a5b71e041adaa961d656bcef62b",
      "113277147f38406fad1dd6fd9dea8520",
      "5f323e4dbbd24eb09f7407b619587e50",
      "976126a28d6541b7b992d79f791e05f8",
      "71947812087c476298986856825aa910",
      "36f1ef1103ba4b17a87780e65d8eb5e9",
      "5de03d70b4aa4a9e8367582f33d057c8",
      "d3bcaa26c2c841ed92032a0613df06f7",
      "cefcc6d2fa6d4fff862a647513a7b8d8",
      "564c7b52701b44c080549a53744f7ec6",
      "7fb0d0d421944144b44f8f025cc1c91d",
      "0dbd768aea3c447f84697d5d6a4daac3",
      "742a5083f3f2464f8b7eb5e95d763f73",
      "3bcfb94c5a0d4e0ab9de0bd047ba9992",
      "426ceeacc43348d79173e272d0c1eeb2",
      "8f84de2bd15d4a0792eb8b8f39a3b47e",
      "dda832ba7dca48ba90f5d7f3b45a9e4f",
      "736bd421449040d1997b8ce9a4053135"
     ]
    },
    "id": "NO-TjIwjOgNJ",
    "outputId": "6f6a391b-d7ae-4fb9-9210-8f150171f259"
   },
   "outputs": [
    {
     "name": "stderr",
     "output_type": "stream",
     "text": [
      "GPU available: True (cuda), used: True\n",
      "TPU available: False, using: 0 TPU cores\n",
      "HPU available: False, using: 0 HPUs\n",
      "You are using a CUDA device ('GeForce RTX 3090') that has Tensor Cores. To properly utilize them, you should set `torch.set_float32_matmul_precision('medium' | 'high')` which will trade-off precision for performance. For more details, read https://pytorch.org/docs/stable/generated/torch.set_float32_matmul_precision.html#torch.set_float32_matmul_precision\n",
      "LOCAL_RANK: 0 - CUDA_VISIBLE_DEVICES: [1]\n",
      "\n",
      "  | Name             | Type       | Params | Mode \n",
      "--------------------------------------------------------\n",
      "0 | train_conditions | ModuleList | 4.7 K  | train\n",
      "1 | val_conditions   | ModuleList | 0      | train\n",
      "--------------------------------------------------------\n",
      "4.7 K     Trainable params\n",
      "0         Non-trainable params\n",
      "4.7 K     Total params\n",
      "0.019     Total estimated model params size (MB)\n",
      "19        Modules in train mode\n",
      "0         Modules in eval mode\n"
     ]
    },
    {
     "name": "stdout",
     "output_type": "stream",
     "text": [
      "                                                                            "
     ]
    },
    {
     "name": "stderr",
     "output_type": "stream",
     "text": [
      "/localdata/komso/komso01/.local/lib/python3.8/site-packages/pytorch_lightning/trainer/connectors/data_connector.py:424: The 'val_dataloader' does not have many workers which may be a bottleneck. Consider increasing the value of the `num_workers` argument` to `num_workers=254` in the `DataLoader` to improve performance.\n",
      "/localdata/komso/komso01/.local/lib/python3.8/site-packages/pytorch_lightning/trainer/connectors/data_connector.py:424: The 'train_dataloader' does not have many workers which may be a bottleneck. Consider increasing the value of the `num_workers` argument` to `num_workers=254` in the `DataLoader` to improve performance.\n"
     ]
    },
    {
     "name": "stdout",
     "output_type": "stream",
     "text": [
      "Epoch 0: 100%|██████████| 5000/5000 [01:32<00:00, 53.83it/s, train/loss=0.135] \n",
      "Validation: |          | 0/? [00:00<?, ?it/s]\u001b[A\n",
      "Validation:   0%|          | 0/1 [00:00<?, ?it/s]\u001b[A\n",
      "Validation DataLoader 0:   0%|          | 0/1 [00:00<?, ?it/s]\u001b[A\n",
      "Validation DataLoader 0: 100%|██████████| 1/1 [00:00<00:00, 280.14it/s]\u001b[A\n",
      "Epoch 0: 100%|██████████| 5000/5000 [01:32<00:00, 53.83it/s, train/loss=0.135]"
     ]
    },
    {
     "name": "stderr",
     "output_type": "stream",
     "text": [
      "`Trainer.fit` stopped: `max_steps=5000` reached.\n"
     ]
    },
    {
     "name": "stdout",
     "output_type": "stream",
     "text": [
      "Epoch 0: 100%|██████████| 5000/5000 [01:32<00:00, 53.83it/s, train/loss=0.135]\n"
     ]
    }
   ],
   "source": [
    "# Training parameters for ADAM optimizer\n",
    "train_iterations = 5000\n",
    "learning_rate = 1.e-3\n",
    "\n",
    "optim = tp.OptimizerSetting(optimizer_class=torch.optim.Adam, lr=learning_rate)\n",
    "solver = tp.solver.Solver(train_conditions=[data_condition, pde_condition], optimizer_setting=optim)\n",
    "\n",
    "trainer = pl.Trainer(devices=1, accelerator=\"gpu\", # use one GPU\n",
    "                     max_steps=train_iterations, # iteration number\n",
    "                     benchmark=True, # faster if input batch has constant size\n",
    "                     logger=False, # for writting into tensorboard\n",
    "                     enable_checkpointing=False)\n",
    "\n",
    "trainer.fit(solver)"
   ]
  },
  {
   "cell_type": "code",
   "execution_count": 11,
   "metadata": {},
   "outputs": [
    {
     "data": {
      "image/png": "[encoded data removed]",
      "text/plain": [
       "<Figure size 640x480 with 1 Axes>"
      ]
     },
     "metadata": {},
     "output_type": "display_data"
    }
   ],
   "source": [
    "# We plot the parameter function D that we learned\n",
    "from matplotlib import pyplot as plt\n",
    "\n",
    "plot_domain = tp.domains.Interval(T, t_min, t_max)\n",
    "plot_sampler = tp.samplers.PlotSampler(plot_domain, 1000)\n",
    "fig = tp.utils.plot(model_D, lambda D: D, plot_sampler, label=r'Trained parameter $D$')\n",
    "\n",
    "# Plot ground truth D(t)\n",
    "ts = torch.linspace(t_min, t_max, 1000)\n",
    "plt.plot(ts, D_groundtruth(ts), label=r'Ground truth $D$')\n",
    "plt.legend()\n",
    "plt.show()"
   ]
  },
  {
   "cell_type": "code",
   "execution_count": 12,
   "metadata": {},
   "outputs": [
    {
     "data": {
      "image/png": "[encoded data removed]",
      "text/plain": [
       "<Figure size 640x480 with 1 Axes>"
      ]
     },
     "metadata": {},
     "output_type": "display_data"
    }
   ],
   "source": [
    "# Plot learned solution u(t)\n",
    "plot_domain = tp.domains.Interval(T, t_min, t_max)\n",
    "plot_sampler = tp.samplers.PlotSampler(plot_domain, 1000)\n",
    "fig = tp.utils.plot(model_u, lambda u: u, plot_sampler, label=r'Learned solution $u$')\n",
    "plt.scatter(torch.linspace(t_min, t_max, len(u_data)), u_data, zorder=1, label='Noisy data u_i', c='r')\n",
    "plt.legend()\n",
    "plt.show()"
   ]
  },
  {
   "cell_type": "markdown",
   "metadata": {
    "id": "sVV45uYMOgNJ"
   },
   "source": [
    "### Improve the results by using LBFGS"
   ]
  },
  {
   "cell_type": "code",
   "execution_count": 13,
   "metadata": {
    "id": "XGN1aeNZaZa5"
   },
   "outputs": [
    {
     "name": "stderr",
     "output_type": "stream",
     "text": [
      "GPU available: True (cuda), used: True\n",
      "TPU available: False, using: 0 TPU cores\n",
      "HPU available: False, using: 0 HPUs\n",
      "/localdata/komso/komso01/.local/lib/python3.8/site-packages/pytorch_lightning/callbacks/model_checkpoint.py:654: Checkpoint directory /localdata/komso/komso01/checkpoints exists and is not empty.\n",
      "LOCAL_RANK: 0 - CUDA_VISIBLE_DEVICES: [1]\n",
      "\n",
      "  | Name             | Type       | Params | Mode \n",
      "--------------------------------------------------------\n",
      "0 | train_conditions | ModuleList | 4.7 K  | train\n",
      "1 | val_conditions   | ModuleList | 0      | train\n",
      "--------------------------------------------------------\n",
      "4.7 K     Trainable params\n",
      "0         Non-trainable params\n",
      "4.7 K     Total params\n",
      "0.019     Total estimated model params size (MB)\n",
      "19        Modules in train mode\n",
      "0         Modules in eval mode\n"
     ]
    },
    {
     "name": "stdout",
     "output_type": "stream",
     "text": [
      "Epoch 0: 100%|██████████| 1000/1000 [01:13<00:00, 13.53it/s, train/loss=0.116]\n",
      "Validation: |          | 0/? [00:00<?, ?it/s]\u001b[A\n",
      "Validation:   0%|          | 0/1 [00:00<?, ?it/s]\u001b[A\n",
      "Validation DataLoader 0:   0%|          | 0/1 [00:00<?, ?it/s]\u001b[A\n",
      "Validation DataLoader 0: 100%|██████████| 1/1 [00:00<00:00, 263.64it/s]\u001b[A\n",
      "Epoch 0: 100%|██████████| 1000/1000 [01:13<00:00, 13.52it/s, train/loss=0.116]"
     ]
    },
    {
     "name": "stderr",
     "output_type": "stream",
     "text": [
      "`Trainer.fit` stopped: `max_steps=1000` reached.\n"
     ]
    },
    {
     "name": "stdout",
     "output_type": "stream",
     "text": [
      "Epoch 0: 100%|██████████| 1000/1000 [01:13<00:00, 13.51it/s, train/loss=0.116]\n"
     ]
    }
   ],
   "source": [
    "optim = tp.OptimizerSetting(optimizer_class=torch.optim.LBFGS, lr=0.1, optimizer_args={'max_iter': 3})\n",
    "pde_condition.sampler = tp.samplers.GridSampler(I_t, 3000).make_static() # We use a static sampler to save time (static means: points are sampled beforehand and not every training step)\n",
    "solver = tp.solver.Solver([data_condition, pde_condition], optimizer_setting=optim)\n",
    "\n",
    "trainer = pl.Trainer(devices=1, accelerator=\"gpu\",\n",
    "                     max_steps=1000,\n",
    "                     logger=False,\n",
    "                     benchmark=True)\n",
    "\n",
    "trainer.fit(solver)"
   ]
  },
  {
   "cell_type": "code",
   "execution_count": 14,
   "metadata": {
    "colab": {
     "base_uri": "https://localhost:8080/",
     "height": 469
    },
    "id": "OehXHw7BIewd",
    "outputId": "38bff952-6c2d-4734-82b1-1dc8b62e39d0"
   },
   "outputs": [
    {
     "data": {
      "image/png": "[encoded data removed]",
      "text/plain": [
       "<Figure size 640x480 with 1 Axes>"
      ]
     },
     "metadata": {},
     "output_type": "display_data"
    }
   ],
   "source": [
    "# We plot the parameter function D that we learned\n",
    "from matplotlib import pyplot as plt\n",
    "\n",
    "plot_domain = tp.domains.Interval(T, t_min, t_max)\n",
    "plot_sampler = tp.samplers.PlotSampler(plot_domain, 1000)\n",
    "fig = tp.utils.plot(model_D, lambda D: D, plot_sampler, label=r'Trained parameter $D$')\n",
    "\n",
    "# Plot ground truth D(t)\n",
    "ts = torch.linspace(t_min, t_max, 1000)\n",
    "plt.plot(ts, D_groundtruth(ts), label=r'Ground truth $D$')\n",
    "plt.legend()\n",
    "plt.show()"
   ]
  },
  {
   "cell_type": "code",
   "execution_count": 15,
   "metadata": {
    "colab": {
     "base_uri": "https://localhost:8080/",
     "height": 469
    },
    "id": "iYyfygDDwrii",
    "outputId": "0d207700-00e3-4827-c37b-9e8cb93956a2"
   },
   "outputs": [
    {
     "data": {
      "image/png": "[encoded data removed]",
      "text/plain": [
       "<Figure size 640x480 with 1 Axes>"
      ]
     },
     "metadata": {},
     "output_type": "display_data"
    }
   ],
   "source": [
    "# Plot learned solution u(t)\n",
    "plot_domain = tp.domains.Interval(T, t_min, t_max)\n",
    "plot_sampler = tp.samplers.PlotSampler(plot_domain, 1000)\n",
    "fig = tp.utils.plot(model_u, lambda u: u, plot_sampler, label=r'Learned solution $u$')\n",
    "plt.scatter(torch.linspace(t_min, t_max, len(u_data)), u_data, zorder=1, label='Noisy data u_i', c='r')\n",
    "plt.legend()\n",
    "plt.show()"
   ]
  },
  {
   "cell_type": "code",
   "execution_count": null,
   "metadata": {
    "id": "9asc0Ey3oX8u"
   },
   "outputs": [],
   "source": []
  }
 ],
 "metadata": {
  "colab": {
   "provenance": []
  },
  "kernelspec": {
   "display_name": "Python 3 (ipykernel)",
   "language": "python",
   "name": "python3"
  },
  "language_info": {
   "codemirror_mode": {
    "name": "ipython",
    "version": 3
   },
   "file_extension": ".py",
   "mimetype": "text/x-python",
   "name": "python",
   "nbconvert_exporter": "python",
   "pygments_lexer": "ipython3",
   "version": "3.8.10"
  },
  "widgets": {
   "application/vnd.jupyter.widget-state+json": {
    "0dbd768aea3c447f84697d5d6a4daac3": {
     "model_module": "@jupyter-widgets/base",
     "model_module_version": "1.2.0",
     "model_name": "LayoutModel",
     "state": {
      "_model_module": "@jupyter-widgets/base",
      "_model_module_version": "1.2.0",
      "_model_name": "LayoutModel",
      "_view_count": null,
      "_view_module": "@jupyter-widgets/base",
      "_view_module_version": "1.2.0",
      "_view_name": "LayoutView",
      "align_content": null,
      "align_items": null,
      "align_self": null,
      "border": null,
      "bottom": null,
      "display": "inline-flex",
      "flex": null,
      "flex_flow": "row wrap",
      "grid_area": null,
      "grid_auto_columns": null,
      "grid_auto_flow": null,
      "grid_auto_rows": null,
      "grid_column": null,
      "grid_gap": null,
      "grid_row": null,
      "grid_template_areas": null,
      "grid_template_columns": null,
      "grid_template_rows": null,
      "height": null,
      "justify_content": null,
      "justify_items": null,
      "left": null,
      "margin": null,
      "max_height": null,
      "max_width": null,
      "min_height": null,
      "min_width": null,
      "object_fit": null,
      "object_position": null,
      "order": null,
      "overflow": null,
      "overflow_x": null,
      "overflow_y": null,
      "padding": null,
      "right": null,
      "top": null,
      "visibility": "hidden",
      "width": "100%"
     }
    },
    "113277147f38406fad1dd6fd9dea8520": {
     "model_module": "@jupyter-widgets/base",
     "model_module_version": "1.2.0",
     "model_name": "LayoutModel",
     "state": {
      "_model_module": "@jupyter-widgets/base",
      "_model_module_version": "1.2.0",
      "_model_name": "LayoutModel",
      "_view_count": null,
      "_view_module": "@jupyter-widgets/base",
      "_view_module_version": "1.2.0",
      "_view_name": "LayoutView",
      "align_content": null,
      "align_items": null,
      "align_self": null,
      "border": null,
      "bottom": null,
      "display": null,
      "flex": null,
      "flex_flow": null,
      "grid_area": null,
      "grid_auto_columns": null,
      "grid_auto_flow": null,
      "grid_auto_rows": null,
      "grid_column": null,
      "grid_gap": null,
      "grid_row": null,
      "grid_template_areas": null,
      "grid_template_columns": null,
      "grid_template_rows": null,
      "height": null,
      "justify_content": null,
      "justify_items": null,
      "left": null,
      "margin": null,
      "max_height": null,
      "max_width": null,
      "min_height": null,
      "min_width": null,
      "object_fit": null,
      "object_position": null,
      "order": null,
      "overflow": null,
      "overflow_x": null,
      "overflow_y": null,
      "padding": null,
      "right": null,
      "top": null,
      "visibility": null,
      "width": null
     }
    },
    "26551a5b71e041adaa961d656bcef62b": {
     "model_module": "@jupyter-widgets/base",
     "model_module_version": "1.2.0",
     "model_name": "LayoutModel",
     "state": {
      "_model_module": "@jupyter-widgets/base",
      "_model_module_version": "1.2.0",
      "_model_name": "LayoutModel",
      "_view_count": null,
      "_view_module": "@jupyter-widgets/base",
      "_view_module_version": "1.2.0",
      "_view_name": "LayoutView",
      "align_content": null,
      "align_items": null,
      "align_self": null,
      "border": null,
      "bottom": null,
      "display": "inline-flex",
      "flex": null,
      "flex_flow": "row wrap",
      "grid_area": null,
      "grid_auto_columns": null,
      "grid_auto_flow": null,
      "grid_auto_rows": null,
      "grid_column": null,
      "grid_gap": null,
      "grid_row": null,
      "grid_template_areas": null,
      "grid_template_columns": null,
      "grid_template_rows": null,
      "height": null,
      "justify_content": null,
      "justify_items": null,
      "left": null,
      "margin": null,
      "max_height": null,
      "max_width": null,
      "min_height": null,
      "min_width": null,
      "object_fit": null,
      "object_position": null,
      "order": null,
      "overflow": null,
      "overflow_x": null,
      "overflow_y": null,
      "padding": null,
      "right": null,
      "top": null,
      "visibility": null,
      "width": "100%"
     }
    },
    "36f1ef1103ba4b17a87780e65d8eb5e9": {
     "model_module": "@jupyter-widgets/base",
     "model_module_version": "1.2.0",
     "model_name": "LayoutModel",
     "state": {
      "_model_module": "@jupyter-widgets/base",
      "_model_module_version": "1.2.0",
      "_model_name": "LayoutModel",
      "_view_count": null,
      "_view_module": "@jupyter-widgets/base",
      "_view_module_version": "1.2.0",
      "_view_name": "LayoutView",
      "align_content": null,
      "align_items": null,
      "align_self": null,
      "border": null,
      "bottom": null,
      "display": null,
      "flex": null,
      "flex_flow": null,
      "grid_area": null,
      "grid_auto_columns": null,
      "grid_auto_flow": null,
      "grid_auto_rows": null,
      "grid_column": null,
      "grid_gap": null,
      "grid_row": null,
      "grid_template_areas": null,
      "grid_template_columns": null,
      "grid_template_rows": null,
      "height": null,
      "justify_content": null,
      "justify_items": null,
      "left": null,
      "margin": null,
      "max_height": null,
      "max_width": null,
      "min_height": null,
      "min_width": null,
      "object_fit": null,
      "object_position": null,
      "order": null,
      "overflow": null,
      "overflow_x": null,
      "overflow_y": null,
      "padding": null,
      "right": null,
      "top": null,
      "visibility": null,
      "width": null
     }
    },
    "3883c72ef9784fc38d65828d535ef617": {
     "model_module": "@jupyter-widgets/controls",
     "model_module_version": "1.5.0",
     "model_name": "HBoxModel",
     "state": {
      "_dom_classes": [],
      "_model_module": "@jupyter-widgets/controls",
      "_model_module_version": "1.5.0",
      "_model_name": "HBoxModel",
      "_view_count": null,
      "_view_module": "@jupyter-widgets/controls",
      "_view_module_version": "1.5.0",
      "_view_name": "HBoxView",
      "box_style": "",
      "children": [
       "IPY_MODEL_b5d0a0168d034561939facba9b1e03c8",
       "IPY_MODEL_ccb99de10686488ebb55c3869e19eefe",
       "IPY_MODEL_db3657e8a3c241efb281066bbad3214e"
      ],
      "layout": "IPY_MODEL_26551a5b71e041adaa961d656bcef62b"
     }
    },
    "395b61d28dea4936a3ff25de0cf457bf": {
     "model_module": "@jupyter-widgets/base",
     "model_module_version": "1.2.0",
     "model_name": "LayoutModel",
     "state": {
      "_model_module": "@jupyter-widgets/base",
      "_model_module_version": "1.2.0",
      "_model_name": "LayoutModel",
      "_view_count": null,
      "_view_module": "@jupyter-widgets/base",
      "_view_module_version": "1.2.0",
      "_view_name": "LayoutView",
      "align_content": null,
      "align_items": null,
      "align_self": null,
      "border": null,
      "bottom": null,
      "display": null,
      "flex": null,
      "flex_flow": null,
      "grid_area": null,
      "grid_auto_columns": null,
      "grid_auto_flow": null,
      "grid_auto_rows": null,
      "grid_column": null,
      "grid_gap": null,
      "grid_row": null,
      "grid_template_areas": null,
      "grid_template_columns": null,
      "grid_template_rows": null,
      "height": null,
      "justify_content": null,
      "justify_items": null,
      "left": null,
      "margin": null,
      "max_height": null,
      "max_width": null,
      "min_height": null,
      "min_width": null,
      "object_fit": null,
      "object_position": null,
      "order": null,
      "overflow": null,
      "overflow_x": null,
      "overflow_y": null,
      "padding": null,
      "right": null,
      "top": null,
      "visibility": null,
      "width": null
     }
    },
    "3bcfb94c5a0d4e0ab9de0bd047ba9992": {
     "model_module": "@jupyter-widgets/controls",
     "model_module_version": "1.5.0",
     "model_name": "DescriptionStyleModel",
     "state": {
      "_model_module": "@jupyter-widgets/controls",
      "_model_module_version": "1.5.0",
      "_model_name": "DescriptionStyleModel",
      "_view_count": null,
      "_view_module": "@jupyter-widgets/base",
      "_view_module_version": "1.2.0",
      "_view_name": "StyleView",
      "description_width": ""
     }
    },
    "426ceeacc43348d79173e272d0c1eeb2": {
     "model_module": "@jupyter-widgets/base",
     "model_module_version": "1.2.0",
     "model_name": "LayoutModel",
     "state": {
      "_model_module": "@jupyter-widgets/base",
      "_model_module_version": "1.2.0",
      "_model_name": "LayoutModel",
      "_view_count": null,
      "_view_module": "@jupyter-widgets/base",
      "_view_module_version": "1.2.0",
      "_view_name": "LayoutView",
      "align_content": null,
      "align_items": null,
      "align_self": null,
      "border": null,
      "bottom": null,
      "display": null,
      "flex": "2",
      "flex_flow": null,
      "grid_area": null,
      "grid_auto_columns": null,
      "grid_auto_flow": null,
      "grid_auto_rows": null,
      "grid_column": null,
      "grid_gap": null,
      "grid_row": null,
      "grid_template_areas": null,
      "grid_template_columns": null,
      "grid_template_rows": null,
      "height": null,
      "justify_content": null,
      "justify_items": null,
      "left": null,
      "margin": null,
      "max_height": null,
      "max_width": null,
      "min_height": null,
      "min_width": null,
      "object_fit": null,
      "object_position": null,
      "order": null,
      "overflow": null,
      "overflow_x": null,
      "overflow_y": null,
      "padding": null,
      "right": null,
      "top": null,
      "visibility": null,
      "width": null
     }
    },
    "564c7b52701b44c080549a53744f7ec6": {
     "model_module": "@jupyter-widgets/controls",
     "model_module_version": "1.5.0",
     "model_name": "FloatProgressModel",
     "state": {
      "_dom_classes": [],
      "_model_module": "@jupyter-widgets/controls",
      "_model_module_version": "1.5.0",
      "_model_name": "FloatProgressModel",
      "_view_count": null,
      "_view_module": "@jupyter-widgets/controls",
      "_view_module_version": "1.5.0",
      "_view_name": "ProgressView",
      "bar_style": "",
      "description": "",
      "description_tooltip": null,
      "layout": "IPY_MODEL_426ceeacc43348d79173e272d0c1eeb2",
      "max": 1,
      "min": 0,
      "orientation": "horizontal",
      "style": "IPY_MODEL_8f84de2bd15d4a0792eb8b8f39a3b47e",
      "value": 1
     }
    },
    "59bcee0681604a66844c54404f3e2625": {
     "model_module": "@jupyter-widgets/controls",
     "model_module_version": "1.5.0",
     "model_name": "HTMLModel",
     "state": {
      "_dom_classes": [],
      "_model_module": "@jupyter-widgets/controls",
      "_model_module_version": "1.5.0",
      "_model_name": "HTMLModel",
      "_view_count": null,
      "_view_module": "@jupyter-widgets/controls",
      "_view_module_version": "1.5.0",
      "_view_name": "HTMLView",
      "description": "",
      "description_tooltip": null,
      "layout": "IPY_MODEL_395b61d28dea4936a3ff25de0cf457bf",
      "placeholder": "​",
      "style": "IPY_MODEL_fa910045ca0c490fa663205310bc08fe",
      "value": "Sanity Checking DataLoader 0: 100%"
     }
    },
    "5de03d70b4aa4a9e8367582f33d057c8": {
     "model_module": "@jupyter-widgets/controls",
     "model_module_version": "1.5.0",
     "model_name": "DescriptionStyleModel",
     "state": {
      "_model_module": "@jupyter-widgets/controls",
      "_model_module_version": "1.5.0",
      "_model_name": "DescriptionStyleModel",
      "_view_count": null,
      "_view_module": "@jupyter-widgets/base",
      "_view_module_version": "1.2.0",
      "_view_name": "StyleView",
      "description_width": ""
     }
    },
    "5f323e4dbbd24eb09f7407b619587e50": {
     "model_module": "@jupyter-widgets/controls",
     "model_module_version": "1.5.0",
     "model_name": "DescriptionStyleModel",
     "state": {
      "_model_module": "@jupyter-widgets/controls",
      "_model_module_version": "1.5.0",
      "_model_name": "DescriptionStyleModel",
      "_view_count": null,
      "_view_module": "@jupyter-widgets/base",
      "_view_module_version": "1.2.0",
      "_view_name": "StyleView",
      "description_width": ""
     }
    },
    "60b26d5a6e3a46999de5a576a4537dd7": {
     "model_module": "@jupyter-widgets/controls",
     "model_module_version": "1.5.0",
     "model_name": "HTMLModel",
     "state": {
      "_dom_classes": [],
      "_model_module": "@jupyter-widgets/controls",
      "_model_module_version": "1.5.0",
      "_model_name": "HTMLModel",
      "_view_count": null,
      "_view_module": "@jupyter-widgets/controls",
      "_view_module_version": "1.5.0",
      "_view_name": "HTMLView",
      "description": "",
      "description_tooltip": null,
      "layout": "IPY_MODEL_f359f710e8354517b3e130b6ddcd3396",
      "placeholder": "​",
      "style": "IPY_MODEL_d39a5ad884114a4eb5ea52da90ee6987",
      "value": " 1/1 [00:00&lt;00:00, 70.27it/s]"
     }
    },
    "67e022f755be469ca2b75af99fb8d030": {
     "model_module": "@jupyter-widgets/controls",
     "model_module_version": "1.5.0",
     "model_name": "FloatProgressModel",
     "state": {
      "_dom_classes": [],
      "_model_module": "@jupyter-widgets/controls",
      "_model_module_version": "1.5.0",
      "_model_name": "FloatProgressModel",
      "_view_count": null,
      "_view_module": "@jupyter-widgets/controls",
      "_view_module_version": "1.5.0",
      "_view_name": "ProgressView",
      "bar_style": "",
      "description": "",
      "description_tooltip": null,
      "layout": "IPY_MODEL_c15b61d738084ab1b4125c786d39a49a",
      "max": 1,
      "min": 0,
      "orientation": "horizontal",
      "style": "IPY_MODEL_6aa09c75ff1947c08b3422556b45eea8",
      "value": 1
     }
    },
    "6aa09c75ff1947c08b3422556b45eea8": {
     "model_module": "@jupyter-widgets/controls",
     "model_module_version": "1.5.0",
     "model_name": "ProgressStyleModel",
     "state": {
      "_model_module": "@jupyter-widgets/controls",
      "_model_module_version": "1.5.0",
      "_model_name": "ProgressStyleModel",
      "_view_count": null,
      "_view_module": "@jupyter-widgets/base",
      "_view_module_version": "1.2.0",
      "_view_name": "StyleView",
      "bar_color": null,
      "description_width": ""
     }
    },
    "71947812087c476298986856825aa910": {
     "model_module": "@jupyter-widgets/controls",
     "model_module_version": "1.5.0",
     "model_name": "ProgressStyleModel",
     "state": {
      "_model_module": "@jupyter-widgets/controls",
      "_model_module_version": "1.5.0",
      "_model_name": "ProgressStyleModel",
      "_view_count": null,
      "_view_module": "@jupyter-widgets/base",
      "_view_module_version": "1.2.0",
      "_view_name": "StyleView",
      "bar_color": null,
      "description_width": ""
     }
    },
    "736bd421449040d1997b8ce9a4053135": {
     "model_module": "@jupyter-widgets/controls",
     "model_module_version": "1.5.0",
     "model_name": "DescriptionStyleModel",
     "state": {
      "_model_module": "@jupyter-widgets/controls",
      "_model_module_version": "1.5.0",
      "_model_name": "DescriptionStyleModel",
      "_view_count": null,
      "_view_module": "@jupyter-widgets/base",
      "_view_module_version": "1.2.0",
      "_view_name": "StyleView",
      "description_width": ""
     }
    },
    "742a5083f3f2464f8b7eb5e95d763f73": {
     "model_module": "@jupyter-widgets/base",
     "model_module_version": "1.2.0",
     "model_name": "LayoutModel",
     "state": {
      "_model_module": "@jupyter-widgets/base",
      "_model_module_version": "1.2.0",
      "_model_name": "LayoutModel",
      "_view_count": null,
      "_view_module": "@jupyter-widgets/base",
      "_view_module_version": "1.2.0",
      "_view_name": "LayoutView",
      "align_content": null,
      "align_items": null,
      "align_self": null,
      "border": null,
      "bottom": null,
      "display": null,
      "flex": null,
      "flex_flow": null,
      "grid_area": null,
      "grid_auto_columns": null,
      "grid_auto_flow": null,
      "grid_auto_rows": null,
      "grid_column": null,
      "grid_gap": null,
      "grid_row": null,
      "grid_template_areas": null,
      "grid_template_columns": null,
      "grid_template_rows": null,
      "height": null,
      "justify_content": null,
      "justify_items": null,
      "left": null,
      "margin": null,
      "max_height": null,
      "max_width": null,
      "min_height": null,
      "min_width": null,
      "object_fit": null,
      "object_position": null,
      "order": null,
      "overflow": null,
      "overflow_x": null,
      "overflow_y": null,
      "padding": null,
      "right": null,
      "top": null,
      "visibility": null,
      "width": null
     }
    },
    "7fb0d0d421944144b44f8f025cc1c91d": {
     "model_module": "@jupyter-widgets/controls",
     "model_module_version": "1.5.0",
     "model_name": "HTMLModel",
     "state": {
      "_dom_classes": [],
      "_model_module": "@jupyter-widgets/controls",
      "_model_module_version": "1.5.0",
      "_model_name": "HTMLModel",
      "_view_count": null,
      "_view_module": "@jupyter-widgets/controls",
      "_view_module_version": "1.5.0",
      "_view_name": "HTMLView",
      "description": "",
      "description_tooltip": null,
      "layout": "IPY_MODEL_dda832ba7dca48ba90f5d7f3b45a9e4f",
      "placeholder": "​",
      "style": "IPY_MODEL_736bd421449040d1997b8ce9a4053135",
      "value": " 1/1 [00:00&lt;00:00, 259.23it/s]"
     }
    },
    "8f84de2bd15d4a0792eb8b8f39a3b47e": {
     "model_module": "@jupyter-widgets/controls",
     "model_module_version": "1.5.0",
     "model_name": "ProgressStyleModel",
     "state": {
      "_model_module": "@jupyter-widgets/controls",
      "_model_module_version": "1.5.0",
      "_model_name": "ProgressStyleModel",
      "_view_count": null,
      "_view_module": "@jupyter-widgets/base",
      "_view_module_version": "1.2.0",
      "_view_name": "StyleView",
      "bar_color": null,
      "description_width": ""
     }
    },
    "976126a28d6541b7b992d79f791e05f8": {
     "model_module": "@jupyter-widgets/base",
     "model_module_version": "1.2.0",
     "model_name": "LayoutModel",
     "state": {
      "_model_module": "@jupyter-widgets/base",
      "_model_module_version": "1.2.0",
      "_model_name": "LayoutModel",
      "_view_count": null,
      "_view_module": "@jupyter-widgets/base",
      "_view_module_version": "1.2.0",
      "_view_name": "LayoutView",
      "align_content": null,
      "align_items": null,
      "align_self": null,
      "border": null,
      "bottom": null,
      "display": null,
      "flex": "2",
      "flex_flow": null,
      "grid_area": null,
      "grid_auto_columns": null,
      "grid_auto_flow": null,
      "grid_auto_rows": null,
      "grid_column": null,
      "grid_gap": null,
      "grid_row": null,
      "grid_template_areas": null,
      "grid_template_columns": null,
      "grid_template_rows": null,
      "height": null,
      "justify_content": null,
      "justify_items": null,
      "left": null,
      "margin": null,
      "max_height": null,
      "max_width": null,
      "min_height": null,
      "min_width": null,
      "object_fit": null,
      "object_position": null,
      "order": null,
      "overflow": null,
      "overflow_x": null,
      "overflow_y": null,
      "padding": null,
      "right": null,
      "top": null,
      "visibility": null,
      "width": null
     }
    },
    "b5d0a0168d034561939facba9b1e03c8": {
     "model_module": "@jupyter-widgets/controls",
     "model_module_version": "1.5.0",
     "model_name": "HTMLModel",
     "state": {
      "_dom_classes": [],
      "_model_module": "@jupyter-widgets/controls",
      "_model_module_version": "1.5.0",
      "_model_name": "HTMLModel",
      "_view_count": null,
      "_view_module": "@jupyter-widgets/controls",
      "_view_module_version": "1.5.0",
      "_view_name": "HTMLView",
      "description": "",
      "description_tooltip": null,
      "layout": "IPY_MODEL_113277147f38406fad1dd6fd9dea8520",
      "placeholder": "​",
      "style": "IPY_MODEL_5f323e4dbbd24eb09f7407b619587e50",
      "value": "Epoch 0: 100%"
     }
    },
    "c15b61d738084ab1b4125c786d39a49a": {
     "model_module": "@jupyter-widgets/base",
     "model_module_version": "1.2.0",
     "model_name": "LayoutModel",
     "state": {
      "_model_module": "@jupyter-widgets/base",
      "_model_module_version": "1.2.0",
      "_model_name": "LayoutModel",
      "_view_count": null,
      "_view_module": "@jupyter-widgets/base",
      "_view_module_version": "1.2.0",
      "_view_name": "LayoutView",
      "align_content": null,
      "align_items": null,
      "align_self": null,
      "border": null,
      "bottom": null,
      "display": null,
      "flex": "2",
      "flex_flow": null,
      "grid_area": null,
      "grid_auto_columns": null,
      "grid_auto_flow": null,
      "grid_auto_rows": null,
      "grid_column": null,
      "grid_gap": null,
      "grid_row": null,
      "grid_template_areas": null,
      "grid_template_columns": null,
      "grid_template_rows": null,
      "height": null,
      "justify_content": null,
      "justify_items": null,
      "left": null,
      "margin": null,
      "max_height": null,
      "max_width": null,
      "min_height": null,
      "min_width": null,
      "object_fit": null,
      "object_position": null,
      "order": null,
      "overflow": null,
      "overflow_x": null,
      "overflow_y": null,
      "padding": null,
      "right": null,
      "top": null,
      "visibility": null,
      "width": null
     }
    },
    "ccb99de10686488ebb55c3869e19eefe": {
     "model_module": "@jupyter-widgets/controls",
     "model_module_version": "1.5.0",
     "model_name": "FloatProgressModel",
     "state": {
      "_dom_classes": [],
      "_model_module": "@jupyter-widgets/controls",
      "_model_module_version": "1.5.0",
      "_model_name": "FloatProgressModel",
      "_view_count": null,
      "_view_module": "@jupyter-widgets/controls",
      "_view_module_version": "1.5.0",
      "_view_name": "ProgressView",
      "bar_style": "success",
      "description": "",
      "description_tooltip": null,
      "layout": "IPY_MODEL_976126a28d6541b7b992d79f791e05f8",
      "max": 3000,
      "min": 0,
      "orientation": "horizontal",
      "style": "IPY_MODEL_71947812087c476298986856825aa910",
      "value": 3000
     }
    },
    "cefcc6d2fa6d4fff862a647513a7b8d8": {
     "model_module": "@jupyter-widgets/controls",
     "model_module_version": "1.5.0",
     "model_name": "HTMLModel",
     "state": {
      "_dom_classes": [],
      "_model_module": "@jupyter-widgets/controls",
      "_model_module_version": "1.5.0",
      "_model_name": "HTMLModel",
      "_view_count": null,
      "_view_module": "@jupyter-widgets/controls",
      "_view_module_version": "1.5.0",
      "_view_name": "HTMLView",
      "description": "",
      "description_tooltip": null,
      "layout": "IPY_MODEL_742a5083f3f2464f8b7eb5e95d763f73",
      "placeholder": "​",
      "style": "IPY_MODEL_3bcfb94c5a0d4e0ab9de0bd047ba9992",
      "value": "Validation DataLoader 0: 100%"
     }
    },
    "d39a5ad884114a4eb5ea52da90ee6987": {
     "model_module": "@jupyter-widgets/controls",
     "model_module_version": "1.5.0",
     "model_name": "DescriptionStyleModel",
     "state": {
      "_model_module": "@jupyter-widgets/controls",
      "_model_module_version": "1.5.0",
      "_model_name": "DescriptionStyleModel",
      "_view_count": null,
      "_view_module": "@jupyter-widgets/base",
      "_view_module_version": "1.2.0",
      "_view_name": "StyleView",
      "description_width": ""
     }
    },
    "d3bcaa26c2c841ed92032a0613df06f7": {
     "model_module": "@jupyter-widgets/controls",
     "model_module_version": "1.5.0",
     "model_name": "HBoxModel",
     "state": {
      "_dom_classes": [],
      "_model_module": "@jupyter-widgets/controls",
      "_model_module_version": "1.5.0",
      "_model_name": "HBoxModel",
      "_view_count": null,
      "_view_module": "@jupyter-widgets/controls",
      "_view_module_version": "1.5.0",
      "_view_name": "HBoxView",
      "box_style": "",
      "children": [
       "IPY_MODEL_cefcc6d2fa6d4fff862a647513a7b8d8",
       "IPY_MODEL_564c7b52701b44c080549a53744f7ec6",
       "IPY_MODEL_7fb0d0d421944144b44f8f025cc1c91d"
      ],
      "layout": "IPY_MODEL_0dbd768aea3c447f84697d5d6a4daac3"
     }
    },
    "db3657e8a3c241efb281066bbad3214e": {
     "model_module": "@jupyter-widgets/controls",
     "model_module_version": "1.5.0",
     "model_name": "HTMLModel",
     "state": {
      "_dom_classes": [],
      "_model_module": "@jupyter-widgets/controls",
      "_model_module_version": "1.5.0",
      "_model_name": "HTMLModel",
      "_view_count": null,
      "_view_module": "@jupyter-widgets/controls",
      "_view_module_version": "1.5.0",
      "_view_name": "HTMLView",
      "description": "",
      "description_tooltip": null,
      "layout": "IPY_MODEL_36f1ef1103ba4b17a87780e65d8eb5e9",
      "placeholder": "​",
      "style": "IPY_MODEL_5de03d70b4aa4a9e8367582f33d057c8",
      "value": " 3000/3000 [04:20&lt;00:00, 11.51it/s, train/loss=0.212]"
     }
    },
    "dda832ba7dca48ba90f5d7f3b45a9e4f": {
     "model_module": "@jupyter-widgets/base",
     "model_module_version": "1.2.0",
     "model_name": "LayoutModel",
     "state": {
      "_model_module": "@jupyter-widgets/base",
      "_model_module_version": "1.2.0",
      "_model_name": "LayoutModel",
      "_view_count": null,
      "_view_module": "@jupyter-widgets/base",
      "_view_module_version": "1.2.0",
      "_view_name": "LayoutView",
      "align_content": null,
      "align_items": null,
      "align_self": null,
      "border": null,
      "bottom": null,
      "display": null,
      "flex": null,
      "flex_flow": null,
      "grid_area": null,
      "grid_auto_columns": null,
      "grid_auto_flow": null,
      "grid_auto_rows": null,
      "grid_column": null,
      "grid_gap": null,
      "grid_row": null,
      "grid_template_areas": null,
      "grid_template_columns": null,
      "grid_template_rows": null,
      "height": null,
      "justify_content": null,
      "justify_items": null,
      "left": null,
      "margin": null,
      "max_height": null,
      "max_width": null,
      "min_height": null,
      "min_width": null,
      "object_fit": null,
      "object_position": null,
      "order": null,
      "overflow": null,
      "overflow_x": null,
      "overflow_y": null,
      "padding": null,
      "right": null,
      "top": null,
      "visibility": null,
      "width": null
     }
    },
    "e949dcc0c54d40f1b0f2d0431758d55f": {
     "model_module": "@jupyter-widgets/base",
     "model_module_version": "1.2.0",
     "model_name": "LayoutModel",
     "state": {
      "_model_module": "@jupyter-widgets/base",
      "_model_module_version": "1.2.0",
      "_model_name": "LayoutModel",
      "_view_count": null,
      "_view_module": "@jupyter-widgets/base",
      "_view_module_version": "1.2.0",
      "_view_name": "LayoutView",
      "align_content": null,
      "align_items": null,
      "align_self": null,
      "border": null,
      "bottom": null,
      "display": "inline-flex",
      "flex": null,
      "flex_flow": "row wrap",
      "grid_area": null,
      "grid_auto_columns": null,
      "grid_auto_flow": null,
      "grid_auto_rows": null,
      "grid_column": null,
      "grid_gap": null,
      "grid_row": null,
      "grid_template_areas": null,
      "grid_template_columns": null,
      "grid_template_rows": null,
      "height": null,
      "justify_content": null,
      "justify_items": null,
      "left": null,
      "margin": null,
      "max_height": null,
      "max_width": null,
      "min_height": null,
      "min_width": null,
      "object_fit": null,
      "object_position": null,
      "order": null,
      "overflow": null,
      "overflow_x": null,
      "overflow_y": null,
      "padding": null,
      "right": null,
      "top": null,
      "visibility": "hidden",
      "width": "100%"
     }
    },
    "f359f710e8354517b3e130b6ddcd3396": {
     "model_module": "@jupyter-widgets/base",
     "model_module_version": "1.2.0",
     "model_name": "LayoutModel",
     "state": {
      "_model_module": "@jupyter-widgets/base",
      "_model_module_version": "1.2.0",
      "_model_name": "LayoutModel",
      "_view_count": null,
      "_view_module": "@jupyter-widgets/base",
      "_view_module_version": "1.2.0",
      "_view_name": "LayoutView",
      "align_content": null,
      "align_items": null,
      "align_self": null,
      "border": null,
      "bottom": null,
      "display": null,
      "flex": null,
      "flex_flow": null,
      "grid_area": null,
      "grid_auto_columns": null,
      "grid_auto_flow": null,
      "grid_auto_rows": null,
      "grid_column": null,
      "grid_gap": null,
      "grid_row": null,
      "grid_template_areas": null,
      "grid_template_columns": null,
      "grid_template_rows": null,
      "height": null,
      "justify_content": null,
      "justify_items": null,
      "left": null,
      "margin": null,
      "max_height": null,
      "max_width": null,
      "min_height": null,
      "min_width": null,
      "object_fit": null,
      "object_position": null,
      "order": null,
      "overflow": null,
      "overflow_x": null,
      "overflow_y": null,
      "padding": null,
      "right": null,
      "top": null,
      "visibility": null,
      "width": null
     }
    },
    "fa910045ca0c490fa663205310bc08fe": {
     "model_module": "@jupyter-widgets/controls",
     "model_module_version": "1.5.0",
     "model_name": "DescriptionStyleModel",
     "state": {
      "_model_module": "@jupyter-widgets/controls",
      "_model_module_version": "1.5.0",
      "_model_name": "DescriptionStyleModel",
      "_view_count": null,
      "_view_module": "@jupyter-widgets/base",
      "_view_module_version": "1.2.0",
      "_view_name": "StyleView",
      "description_width": ""
     }
    },
    "fd41187cfbee4c319e881af0d66e4b3c": {
     "model_module": "@jupyter-widgets/controls",
     "model_module_version": "1.5.0",
     "model_name": "HBoxModel",
     "state": {
      "_dom_classes": [],
      "_model_module": "@jupyter-widgets/controls",
      "_model_module_version": "1.5.0",
      "_model_name": "HBoxModel",
      "_view_count": null,
      "_view_module": "@jupyter-widgets/controls",
      "_view_module_version": "1.5.0",
      "_view_name": "HBoxView",
      "box_style": "",
      "children": [
       "IPY_MODEL_59bcee0681604a66844c54404f3e2625",
       "IPY_MODEL_67e022f755be469ca2b75af99fb8d030",
       "IPY_MODEL_60b26d5a6e3a46999de5a576a4537dd7"
      ],
      "layout": "IPY_MODEL_e949dcc0c54d40f1b0f2d0431758d55f"
     }
    }
   }
  }
 },
 "nbformat": 4,
 "nbformat_minor": 4
}
