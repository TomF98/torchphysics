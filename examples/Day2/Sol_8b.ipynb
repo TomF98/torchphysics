{
  "cells": [
    {
      "cell_type": "markdown",
      "metadata": {
        "id": "e61-jWGaOgNC"
      },
      "source": [
        "# Solving an inverse Problem with TorchPhysics and PINNs: Bonus Exercise 8b\n",
        "Assume you are jumping from a plane with a parachute. Under some simplifications, your fall can be described by the following ODE:\n",
        "\\begin{align*}\n",
        "    \\begin{split}\n",
        "        \\partial_t^2 u(t) &= {\\color{red}{D(t)}} \\Big[\\partial_t u(t)\\Big]^2 - g  \\text{ for } t\\in I_t=[0,T], \\\\\n",
        "        u(0) &= H, \\\\\n",
        "        \\partial_t u(0) &= v_0,\n",
        "    \\end{split}\n",
        "\\end{align*}\n",
        "where $u : [0, T] \\to \\mathbb{R}$ is the height at time $t$, $H$ the starting height, $g$ the gravity constant, and $\\color{red}{D(t)}$ a friction coefficient that is proportional to the cross section of the parachute at time $t$.\n",
        "\n",
        "Given a noisy dataset $\\{(u_i, t_i)\\}_{i=1}^N$ of the height $u_i$ at time $t_i$, we aim to reconstruct the movement of the parachute described by $\\color{red}{D(t)}$.\n",
        "\n",
        "Again, we use a data condition for learning $u$ from the data. Moreover, since ${\\color{red}{D(t)}}$ is only present in the PDE condition, we do not include the remaining conditions for additional loss terms. In other words, we train networks for $u$ and $D$ that minimize\n",
        "$$\n",
        "\\frac{1}{N}\\sum_{i=1}^N \\vert u(t_i) - u_i \\vert^2 + \\frac{1}{M}\\sum_{k=1}^M \\left\\vert \\partial_t^2 u(\\tilde{t}_k) - {\\color{red}{D(\\tilde{t}_k)}} \\Big[\\partial_t u(\\tilde{t}_k)\\Big]^2 + g \\right\\vert^2.\n",
        "$$"
      ]
    },
    {
      "cell_type": "code",
      "execution_count": null,
      "metadata": {
        "colab": {
          "base_uri": "https://localhost:8080/"
        },
        "collapsed": true,
        "id": "U8O17moiOgND",
        "outputId": "c0eac49b-96d3-4403-c373-f7d78ddf1d97"
      },
      "outputs": [],
      "source": [
        "!pip install torchphysics"
      ]
    },
    {
      "cell_type": "code",
      "execution_count": 43,
      "metadata": {
        "id": "0awebdFzOgND"
      },
      "outputs": [],
      "source": [
        "import torchphysics as tp\n",
        "import pytorch_lightning as pl\n",
        "import torch\n",
        "import math\n",
        "from matplotlib import pyplot as plt\n",
        "\n",
        "# Here all parameters are defined:\n",
        "g = 9.81                # Gravity constant\n",
        "H = 0                   # Initial height H\n",
        "v_0 = -1                # Initial velocity v_0\n",
        "t_min, t_max = 0.0, 3.0 # Bounds for time interval\n",
        "\n",
        "# Number of training points\n",
        "N_pde = 3000\n",
        "\n",
        "# Training parameters for ADAM optimizer\n",
        "train_iterations = 5000\n",
        "learning_rate = 1.e-3"
      ]
    },
    {
      "cell_type": "markdown",
      "metadata": {
        "id": "Qbs69nt1Rflc"
      },
      "source": [
        "Construct PyTorch dataset $\\{(u_i, t_i)\\}_{i=1}^N$. There is nothing TODO here."
      ]
    },
    {
      "cell_type": "code",
      "execution_count": 44,
      "metadata": {
        "colab": {
          "base_uri": "https://localhost:8080/",
          "height": 355
        },
        "id": "vumTTEFYUbx-",
        "outputId": "ff4f4b5e-5427-407b-ffff-69ecd49c6302"
      },
      "outputs": [
        {
          "data": {
            "image/png": "[encoded data removed]",
            "text/plain": [
              "<Figure size 700x300 with 2 Axes>"
            ]
          },
          "metadata": {},
          "output_type": "display_data"
        }
      ],
      "source": [
        "# The ground truth parameter D(t) we wish to reconstruct. It is used here to compute the solution data u_i\n",
        "def D_groundtruth(t):\n",
        "  return 2. * (1.1 + torch.sin(2.5*t))\n",
        "\n",
        "# We use the explicit euler method for calculating the solution data u_i\n",
        "# You don't have to read through the code, it is just for creating the dataset.\n",
        "n_datapoints = 2000\n",
        "t_data = torch.linspace(t_min, t_max, n_datapoints)\n",
        "dt = t_data[1] - t_data[0]\n",
        "u_data = torch.zeros_like(t_data)\n",
        "velocity = torch.zeros_like(t_data)\n",
        "u_data[0] = H\n",
        "velocity[0] = v_0\n",
        "for i in range(t_data.shape[0]-1):\n",
        "  velocity[i+1] = velocity[i] + dt*(D_groundtruth(t_data[i])*velocity[i]**2-g)\n",
        "  u_data[i+1] = u_data[i] + dt*velocity[i+1]\n",
        "\n",
        "# We add 5% noise to the data u_i\n",
        "u_data += torch.rand_like(u_data)*u_data*0.05\n",
        "\n",
        "# Reshape t_data and u_data such that the shape is (n_datapoints, 1), respectively.\n",
        "t_data = t_data.unsqueeze(1)\n",
        "u_data = u_data.unsqueeze(1)\n",
        "\n",
        "# Plot ground truth parameter D(t) and data u_i\n",
        "fig, (ax1, ax2) = plt.subplots(1, 2, figsize=(7,3))\n",
        "ax1.plot(t_data[:, 0], D_groundtruth(t_data[:, 0]))\n",
        "ax1.set_title(r'Ground truth $D(t)$')\n",
        "ax1.set_xlabel('time t')\n",
        "ax2.scatter(t_data[:, 0], u_data[:, 0], s=0.1)\n",
        "ax2.set_title(r'Noisy data $u_i$')\n",
        "ax2.set_xlabel('time t')\n",
        "plt.show()"
      ]
    },
    {
      "cell_type": "markdown",
      "metadata": {
        "id": "MBOAF1nxP1zw"
      },
      "source": [
        "Spaces, domains and samplers"
      ]
    },
    {
      "cell_type": "code",
      "execution_count": 45,
      "metadata": {
        "id": "IjN49vmzOgNE"
      },
      "outputs": [],
      "source": [
        "T = tp.spaces.R1('t')\n",
        "U = tp.spaces.R1('u')\n",
        "# TODO: Create the output space of parameter function D\n",
        "D = tp.spaces.R1('D')\n",
        "\n",
        "# TODO: Define the time interval I_t\n",
        "I_t = tp.domains.Interval(T, t_min, t_max)\n",
        "\n",
        "# TODO: Create random uniform sampler for the PDE condition, which should hold on I_t\n",
        "pde_sampler = tp.samplers.RandomUniformSampler(I_t, n_points=N_pde)"
      ]
    },
    {
      "cell_type": "markdown",
      "metadata": {
        "id": "au5Z9NIjZ3Tq"
      },
      "source": [
        "Transfer dataset into TorchPhysics Points"
      ]
    },
    {
      "cell_type": "code",
      "execution_count": 46,
      "metadata": {
        "id": "OzoX_epZZ2xL"
      },
      "outputs": [],
      "source": [
        "# In order to work with the data in TorchPhysics,\n",
        "# we need to transform the data into `tp.spaces.Points` objects.\n",
        "t_data_points = tp.spaces.Points(t_data, T)\n",
        "\n",
        "# TODO: Do the same for out_data, but note: the output space is U.\n",
        "u_data_points = tp.spaces.Points(u_data, U)\n",
        "\n",
        "# TODO: Create a DataLoader, that loads combinations of t_data_points and u_data_points.\n",
        "# Hint: This is analogous to Exercise_8.\n",
        "data_loader = tp.utils.PointsDataLoader((t_data_points, u_data_points), batch_size=len(t_data))"
      ]
    },
    {
      "cell_type": "markdown",
      "metadata": {
        "id": "RATQFckAZ-Wh"
      },
      "source": [
        "Proceed with familiar TorchPhysics pipeline: Create models, residual functions and conditions"
      ]
    },
    {
      "cell_type": "code",
      "execution_count": 47,
      "metadata": {
        "id": "W6o7yz4iOgNF"
      },
      "outputs": [],
      "source": [
        "# We use the same model archiecture for u as in Exercise 8\n",
        "model_u = tp.models.FCN(input_space=T, output_space=U, hidden = (50, 50))\n",
        "\n",
        "# TODO: Create a FCN for the parameter function D(t). Use hidden=(30, 30, 30)\n",
        "model_D = tp.models.FCN(input_space=T, output_space=D, hidden = (30, 30, 30))\n",
        "\n",
        "# We want to train the model for u and for D in parallel. For that, we define a parallel model in TorchPhysics:\n",
        "model = tp.models.Parallel(model_u, model_D)"
      ]
    },
    {
      "cell_type": "code",
      "execution_count": 48,
      "metadata": {
        "id": "Rbq3kJPJOgNF"
      },
      "outputs": [],
      "source": [
        "# TODO: Create a residual for the PDE condition\n",
        "def pde_residual(u, D, t):\n",
        "  u_t = tp.utils.grad(u, t)\n",
        "  u_tt = tp.utils.grad(u_t, t)\n",
        "  return u_tt - D*u_t**2 + g\n",
        "\n",
        "# TODO: Create corresponding TorchPhysics condition\n",
        "pde_condition = tp.conditions.PINNCondition(model, pde_sampler, pde_residual)"
      ]
    },
    {
      "cell_type": "markdown",
      "metadata": {
        "id": "uD8foOa_OgNH"
      },
      "source": [
        "A DataCondition minimizes the distance between the outputs of the NN and given data points."
      ]
    },
    {
      "cell_type": "code",
      "execution_count": 49,
      "metadata": {
        "id": "3MqTre8iOgNJ"
      },
      "outputs": [],
      "source": [
        "## Again, we need a data condition, which is analogous to Exercise 8.\n",
        "data_condition = tp.conditions.DataCondition(module=model_u,\n",
        "                                             dataloader=data_loader,\n",
        "                                             norm=2,\n",
        "                                             use_full_dataset=True,\n",
        "                                             weight=50)"
      ]
    },
    {
      "cell_type": "markdown",
      "metadata": {
        "id": "jSQArukGOgNJ"
      },
      "source": [
        "## Training with the Adam optimizer"
      ]
    },
    {
      "cell_type": "code",
      "execution_count": 50,
      "metadata": {
        "colab": {
          "base_uri": "https://localhost:8080/",
          "height": 347,
          "referenced_widgets": [
            "fd41187cfbee4c319e881af0d66e4b3c",
            "59bcee0681604a66844c54404f3e2625",
            "67e022f755be469ca2b75af99fb8d030",
            "60b26d5a6e3a46999de5a576a4537dd7",
            "e949dcc0c54d40f1b0f2d0431758d55f",
            "395b61d28dea4936a3ff25de0cf457bf",
            "fa910045ca0c490fa663205310bc08fe",
            "c15b61d738084ab1b4125c786d39a49a",
            "6aa09c75ff1947c08b3422556b45eea8",
            "f359f710e8354517b3e130b6ddcd3396",
            "d39a5ad884114a4eb5ea52da90ee6987",
            "3883c72ef9784fc38d65828d535ef617",
            "b5d0a0168d034561939facba9b1e03c8",
            "ccb99de10686488ebb55c3869e19eefe",
            "db3657e8a3c241efb281066bbad3214e",
            "26551a5b71e041adaa961d656bcef62b",
            "113277147f38406fad1dd6fd9dea8520",
            "5f323e4dbbd24eb09f7407b619587e50",
            "976126a28d6541b7b992d79f791e05f8",
            "71947812087c476298986856825aa910",
            "36f1ef1103ba4b17a87780e65d8eb5e9",
            "5de03d70b4aa4a9e8367582f33d057c8",
            "d3bcaa26c2c841ed92032a0613df06f7",
            "cefcc6d2fa6d4fff862a647513a7b8d8",
            "564c7b52701b44c080549a53744f7ec6",
            "7fb0d0d421944144b44f8f025cc1c91d",
            "0dbd768aea3c447f84697d5d6a4daac3",
            "742a5083f3f2464f8b7eb5e95d763f73",
            "3bcfb94c5a0d4e0ab9de0bd047ba9992",
            "426ceeacc43348d79173e272d0c1eeb2",
            "8f84de2bd15d4a0792eb8b8f39a3b47e",
            "dda832ba7dca48ba90f5d7f3b45a9e4f",
            "736bd421449040d1997b8ce9a4053135"
          ]
        },
        "collapsed": true,
        "id": "NO-TjIwjOgNJ",
        "outputId": "6f6a391b-d7ae-4fb9-9210-8f150171f259"
      },
      "outputs": [
        {
          "name": "stderr",
          "output_type": "stream",
          "text": [
            "INFO:pytorch_lightning.utilities.rank_zero:GPU available: False, used: False\n",
            "INFO:pytorch_lightning.utilities.rank_zero:TPU available: False, using: 0 TPU cores\n",
            "INFO:pytorch_lightning.utilities.rank_zero:HPU available: False, using: 0 HPUs\n",
            "INFO:pytorch_lightning.callbacks.model_summary:\n",
            "  | Name             | Type       | Params | Mode \n",
            "--------------------------------------------------------\n",
            "0 | train_conditions | ModuleList | 4.7 K  | train\n",
            "1 | val_conditions   | ModuleList | 0      | train\n",
            "--------------------------------------------------------\n",
            "4.7 K     Trainable params\n",
            "0         Non-trainable params\n",
            "4.7 K     Total params\n",
            "0.019     Total estimated model params size (MB)\n",
            "19        Modules in train mode\n",
            "0         Modules in eval mode\n"
          ]
        },
        {
          "data": {
            "application/vnd.jupyter.widget-view+json": {
              "model_id": "fd41187cfbee4c319e881af0d66e4b3c",
              "version_major": 2,
              "version_minor": 0
            },
            "text/plain": [
              "Sanity Checking: |          | 0/? [00:00<?, ?it/s]"
            ]
          },
          "metadata": {},
          "output_type": "display_data"
        },
        {
          "data": {
            "application/vnd.jupyter.widget-view+json": {
              "model_id": "3883c72ef9784fc38d65828d535ef617",
              "version_major": 2,
              "version_minor": 0
            },
            "text/plain": [
              "Training: |          | 0/? [00:00<?, ?it/s]"
            ]
          },
          "metadata": {},
          "output_type": "display_data"
        },
        {
          "data": {
            "application/vnd.jupyter.widget-view+json": {
              "model_id": "d3bcaa26c2c841ed92032a0613df06f7",
              "version_major": 2,
              "version_minor": 0
            },
            "text/plain": [
              "Validation: |          | 0/? [00:00<?, ?it/s]"
            ]
          },
          "metadata": {},
          "output_type": "display_data"
        },
        {
          "name": "stderr",
          "output_type": "stream",
          "text": [
            "INFO:pytorch_lightning.utilities.rank_zero:`Trainer.fit` stopped: `max_steps=3000` reached.\n"
          ]
        }
      ],
      "source": [
        "optim = tp.OptimizerSetting(optimizer_class=torch.optim.Adam, lr=learning_rate)\n",
        "solver = tp.solver.Solver(train_conditions=[data_condition, pde_condition], optimizer_setting=optim)\n",
        "\n",
        "\n",
        "trainer = pl.Trainer(devices=1, accelerator=\"cpu\", # use one GPU\n",
        "                     max_steps=3000, # iteration number\n",
        "                     benchmark=True, # faster if input batch has constant size\n",
        "                     logger=False, # for writting into tensorboard\n",
        "                     enable_checkpointing=False)\n",
        "\n",
        "trainer.fit(solver)"
      ]
    },
    {
      "cell_type": "markdown",
      "metadata": {
        "id": "sVV45uYMOgNJ"
      },
      "source": [
        "Optional: try to improve the results by using LBFGS, a second-order optimizer that works only with constant inputs in every iteration."
      ]
    },
    {
      "cell_type": "code",
      "execution_count": null,
      "metadata": {
        "id": "XGN1aeNZaZa5"
      },
      "outputs": [],
      "source": [
        "optim = tp.OptimizerSetting(optimizer_class=torch.optim.LBFGS, lr=0.1, optimizer_args={'max_iter': 3})\n",
        "pde_condition.sampler = tp.samplers.GridSampler(I_t, 2000).make_static() # We use a static sampler to save time (static means: points are sampled beforehand and not every training step)\n",
        "solver = tp.solver.Solver([data_condition, pde_condition], optimizer_setting=optim)\n",
        "\n",
        "trainer = pl.Trainer(devices=1, accelerator=\"cpu\",\n",
        "                     max_steps=1000,\n",
        "                     logger=False,\n",
        "                     benchmark=True)\n",
        "\n",
        "trainer.fit(solver)"
      ]
    },
    {
      "cell_type": "code",
      "execution_count": 51,
      "metadata": {
        "colab": {
          "base_uri": "https://localhost:8080/",
          "height": 469
        },
        "id": "OehXHw7BIewd",
        "outputId": "38bff952-6c2d-4734-82b1-1dc8b62e39d0"
      },
      "outputs": [
        {
          "data": {
            "image/png": "[encoded data removed]",
            "text/plain": [
              "<Figure size 640x480 with 1 Axes>"
            ]
          },
          "metadata": {},
          "output_type": "display_data"
        }
      ],
      "source": [
        "# We plot the parameter function f that we learned\n",
        "from matplotlib import pyplot as plt\n",
        "\n",
        "plot_domain = tp.domains.Interval(T, t_min, t_max)\n",
        "plot_sampler = tp.samplers.PlotSampler(plot_domain, 1000)\n",
        "fig = tp.utils.plot(model_D, lambda D: D, plot_sampler, label=r'Trained parameter $D$')\n",
        "\n",
        "# Plot ground truth D(t)\n",
        "ts = torch.linspace(t_min, t_max, 1000)\n",
        "plt.plot(ts, D_groundtruth(ts), label=r'Ground truth $D$')\n",
        "plt.legend()\n",
        "plt.show()"
      ]
    },
    {
      "cell_type": "code",
      "execution_count": 52,
      "metadata": {
        "colab": {
          "base_uri": "https://localhost:8080/",
          "height": 469
        },
        "id": "iYyfygDDwrii",
        "outputId": "0d207700-00e3-4827-c37b-9e8cb93956a2"
      },
      "outputs": [
        {
          "data": {
            "image/png": "[encoded data removed]",
            "text/plain": [
              "<Figure size 640x480 with 1 Axes>"
            ]
          },
          "metadata": {},
          "output_type": "display_data"
        }
      ],
      "source": [
        "# Plot learned solution u(t)\n",
        "plot_domain = tp.domains.Interval(T, t_min, t_max)\n",
        "plot_sampler = tp.samplers.PlotSampler(plot_domain, 1000)\n",
        "fig = tp.utils.plot(model_u, lambda u: u, plot_sampler, label=r'Learned solution $u$')\n",
        "plt.plot(torch.linspace(t_min, t_max, 2000), u_data, zorder=1, label='Noisy data u_i')\n",
        "plt.legend()\n",
        "plt.show()"
      ]
    },
    {
      "cell_type": "code",
      "execution_count": null,
      "metadata": {
        "id": "9asc0Ey3oX8u"
      },
      "outputs": [],
      "source": []
    }
  ],
  "metadata": {
    "colab": {
      "provenance": []
    },
    "kernelspec": {
      "display_name": "Python 3",
      "name": "python3"
    },
    "language_info": {
      "codemirror_mode": {
        "name": "ipython",
        "version": 3
      },
      "file_extension": ".py",
      "mimetype": "text/x-python",
      "name": "python",
      "nbconvert_exporter": "python",
      "pygments_lexer": "ipython3",
      "version": "3.9.4"
    },
    "widgets": {
      "application/vnd.jupyter.widget-state+json": {
        "0dbd768aea3c447f84697d5d6a4daac3": {
          "model_module": "@jupyter-widgets/base",
          "model_module_version": "1.2.0",
          "model_name": "LayoutModel",
          "state": {
            "_model_module": "@jupyter-widgets/base",
            "_model_module_version": "1.2.0",
            "_model_name": "LayoutModel",
            "_view_count": null,
            "_view_module": "@jupyter-widgets/base",
            "_view_module_version": "1.2.0",
            "_view_name": "LayoutView",
            "align_content": null,
            "align_items": null,
            "align_self": null,
            "border": null,
            "bottom": null,
            "display": "inline-flex",
            "flex": null,
            "flex_flow": "row wrap",
            "grid_area": null,
            "grid_auto_columns": null,
            "grid_auto_flow": null,
            "grid_auto_rows": null,
            "grid_column": null,
            "grid_gap": null,
            "grid_row": null,
            "grid_template_areas": null,
            "grid_template_columns": null,
            "grid_template_rows": null,
            "height": null,
            "justify_content": null,
            "justify_items": null,
            "left": null,
            "margin": null,
            "max_height": null,
            "max_width": null,
            "min_height": null,
            "min_width": null,
            "object_fit": null,
            "object_position": null,
            "order": null,
            "overflow": null,
            "overflow_x": null,
            "overflow_y": null,
            "padding": null,
            "right": null,
            "top": null,
            "visibility": "hidden",
            "width": "100%"
          }
        },
        "113277147f38406fad1dd6fd9dea8520": {
          "model_module": "@jupyter-widgets/base",
          "model_module_version": "1.2.0",
          "model_name": "LayoutModel",
          "state": {
            "_model_module": "@jupyter-widgets/base",
            "_model_module_version": "1.2.0",
            "_model_name": "LayoutModel",
            "_view_count": null,
            "_view_module": "@jupyter-widgets/base",
            "_view_module_version": "1.2.0",
            "_view_name": "LayoutView",
            "align_content": null,
            "align_items": null,
            "align_self": null,
            "border": null,
            "bottom": null,
            "display": null,
            "flex": null,
            "flex_flow": null,
            "grid_area": null,
            "grid_auto_columns": null,
            "grid_auto_flow": null,
            "grid_auto_rows": null,
            "grid_column": null,
            "grid_gap": null,
            "grid_row": null,
            "grid_template_areas": null,
            "grid_template_columns": null,
            "grid_template_rows": null,
            "height": null,
            "justify_content": null,
            "justify_items": null,
            "left": null,
            "margin": null,
            "max_height": null,
            "max_width": null,
            "min_height": null,
            "min_width": null,
            "object_fit": null,
            "object_position": null,
            "order": null,
            "overflow": null,
            "overflow_x": null,
            "overflow_y": null,
            "padding": null,
            "right": null,
            "top": null,
            "visibility": null,
            "width": null
          }
        },
        "26551a5b71e041adaa961d656bcef62b": {
          "model_module": "@jupyter-widgets/base",
          "model_module_version": "1.2.0",
          "model_name": "LayoutModel",
          "state": {
            "_model_module": "@jupyter-widgets/base",
            "_model_module_version": "1.2.0",
            "_model_name": "LayoutModel",
            "_view_count": null,
            "_view_module": "@jupyter-widgets/base",
            "_view_module_version": "1.2.0",
            "_view_name": "LayoutView",
            "align_content": null,
            "align_items": null,
            "align_self": null,
            "border": null,
            "bottom": null,
            "display": "inline-flex",
            "flex": null,
            "flex_flow": "row wrap",
            "grid_area": null,
            "grid_auto_columns": null,
            "grid_auto_flow": null,
            "grid_auto_rows": null,
            "grid_column": null,
            "grid_gap": null,
            "grid_row": null,
            "grid_template_areas": null,
            "grid_template_columns": null,
            "grid_template_rows": null,
            "height": null,
            "justify_content": null,
            "justify_items": null,
            "left": null,
            "margin": null,
            "max_height": null,
            "max_width": null,
            "min_height": null,
            "min_width": null,
            "object_fit": null,
            "object_position": null,
            "order": null,
            "overflow": null,
            "overflow_x": null,
            "overflow_y": null,
            "padding": null,
            "right": null,
            "top": null,
            "visibility": null,
            "width": "100%"
          }
        },
        "36f1ef1103ba4b17a87780e65d8eb5e9": {
          "model_module": "@jupyter-widgets/base",
          "model_module_version": "1.2.0",
          "model_name": "LayoutModel",
          "state": {
            "_model_module": "@jupyter-widgets/base",
            "_model_module_version": "1.2.0",
            "_model_name": "LayoutModel",
            "_view_count": null,
            "_view_module": "@jupyter-widgets/base",
            "_view_module_version": "1.2.0",
            "_view_name": "LayoutView",
            "align_content": null,
            "align_items": null,
            "align_self": null,
            "border": null,
            "bottom": null,
            "display": null,
            "flex": null,
            "flex_flow": null,
            "grid_area": null,
            "grid_auto_columns": null,
            "grid_auto_flow": null,
            "grid_auto_rows": null,
            "grid_column": null,
            "grid_gap": null,
            "grid_row": null,
            "grid_template_areas": null,
            "grid_template_columns": null,
            "grid_template_rows": null,
            "height": null,
            "justify_content": null,
            "justify_items": null,
            "left": null,
            "margin": null,
            "max_height": null,
            "max_width": null,
            "min_height": null,
            "min_width": null,
            "object_fit": null,
            "object_position": null,
            "order": null,
            "overflow": null,
            "overflow_x": null,
            "overflow_y": null,
            "padding": null,
            "right": null,
            "top": null,
            "visibility": null,
            "width": null
          }
        },
        "3883c72ef9784fc38d65828d535ef617": {
          "model_module": "@jupyter-widgets/controls",
          "model_module_version": "1.5.0",
          "model_name": "HBoxModel",
          "state": {
            "_dom_classes": [],
            "_model_module": "@jupyter-widgets/controls",
            "_model_module_version": "1.5.0",
            "_model_name": "HBoxModel",
            "_view_count": null,
            "_view_module": "@jupyter-widgets/controls",
            "_view_module_version": "1.5.0",
            "_view_name": "HBoxView",
            "box_style": "",
            "children": [
              "IPY_MODEL_b5d0a0168d034561939facba9b1e03c8",
              "IPY_MODEL_ccb99de10686488ebb55c3869e19eefe",
              "IPY_MODEL_db3657e8a3c241efb281066bbad3214e"
            ],
            "layout": "IPY_MODEL_26551a5b71e041adaa961d656bcef62b"
          }
        },
        "395b61d28dea4936a3ff25de0cf457bf": {
          "model_module": "@jupyter-widgets/base",
          "model_module_version": "1.2.0",
          "model_name": "LayoutModel",
          "state": {
            "_model_module": "@jupyter-widgets/base",
            "_model_module_version": "1.2.0",
            "_model_name": "LayoutModel",
            "_view_count": null,
            "_view_module": "@jupyter-widgets/base",
            "_view_module_version": "1.2.0",
            "_view_name": "LayoutView",
            "align_content": null,
            "align_items": null,
            "align_self": null,
            "border": null,
            "bottom": null,
            "display": null,
            "flex": null,
            "flex_flow": null,
            "grid_area": null,
            "grid_auto_columns": null,
            "grid_auto_flow": null,
            "grid_auto_rows": null,
            "grid_column": null,
            "grid_gap": null,
            "grid_row": null,
            "grid_template_areas": null,
            "grid_template_columns": null,
            "grid_template_rows": null,
            "height": null,
            "justify_content": null,
            "justify_items": null,
            "left": null,
            "margin": null,
            "max_height": null,
            "max_width": null,
            "min_height": null,
            "min_width": null,
            "object_fit": null,
            "object_position": null,
            "order": null,
            "overflow": null,
            "overflow_x": null,
            "overflow_y": null,
            "padding": null,
            "right": null,
            "top": null,
            "visibility": null,
            "width": null
          }
        },
        "3bcfb94c5a0d4e0ab9de0bd047ba9992": {
          "model_module": "@jupyter-widgets/controls",
          "model_module_version": "1.5.0",
          "model_name": "DescriptionStyleModel",
          "state": {
            "_model_module": "@jupyter-widgets/controls",
            "_model_module_version": "1.5.0",
            "_model_name": "DescriptionStyleModel",
            "_view_count": null,
            "_view_module": "@jupyter-widgets/base",
            "_view_module_version": "1.2.0",
            "_view_name": "StyleView",
            "description_width": ""
          }
        },
        "426ceeacc43348d79173e272d0c1eeb2": {
          "model_module": "@jupyter-widgets/base",
          "model_module_version": "1.2.0",
          "model_name": "LayoutModel",
          "state": {
            "_model_module": "@jupyter-widgets/base",
            "_model_module_version": "1.2.0",
            "_model_name": "LayoutModel",
            "_view_count": null,
            "_view_module": "@jupyter-widgets/base",
            "_view_module_version": "1.2.0",
            "_view_name": "LayoutView",
            "align_content": null,
            "align_items": null,
            "align_self": null,
            "border": null,
            "bottom": null,
            "display": null,
            "flex": "2",
            "flex_flow": null,
            "grid_area": null,
            "grid_auto_columns": null,
            "grid_auto_flow": null,
            "grid_auto_rows": null,
            "grid_column": null,
            "grid_gap": null,
            "grid_row": null,
            "grid_template_areas": null,
            "grid_template_columns": null,
            "grid_template_rows": null,
            "height": null,
            "justify_content": null,
            "justify_items": null,
            "left": null,
            "margin": null,
            "max_height": null,
            "max_width": null,
            "min_height": null,
            "min_width": null,
            "object_fit": null,
            "object_position": null,
            "order": null,
            "overflow": null,
            "overflow_x": null,
            "overflow_y": null,
            "padding": null,
            "right": null,
            "top": null,
            "visibility": null,
            "width": null
          }
        },
        "564c7b52701b44c080549a53744f7ec6": {
          "model_module": "@jupyter-widgets/controls",
          "model_module_version": "1.5.0",
          "model_name": "FloatProgressModel",
          "state": {
            "_dom_classes": [],
            "_model_module": "@jupyter-widgets/controls",
            "_model_module_version": "1.5.0",
            "_model_name": "FloatProgressModel",
            "_view_count": null,
            "_view_module": "@jupyter-widgets/controls",
            "_view_module_version": "1.5.0",
            "_view_name": "ProgressView",
            "bar_style": "",
            "description": "",
            "description_tooltip": null,
            "layout": "IPY_MODEL_426ceeacc43348d79173e272d0c1eeb2",
            "max": 1,
            "min": 0,
            "orientation": "horizontal",
            "style": "IPY_MODEL_8f84de2bd15d4a0792eb8b8f39a3b47e",
            "value": 1
          }
        },
        "59bcee0681604a66844c54404f3e2625": {
          "model_module": "@jupyter-widgets/controls",
          "model_module_version": "1.5.0",
          "model_name": "HTMLModel",
          "state": {
            "_dom_classes": [],
            "_model_module": "@jupyter-widgets/controls",
            "_model_module_version": "1.5.0",
            "_model_name": "HTMLModel",
            "_view_count": null,
            "_view_module": "@jupyter-widgets/controls",
            "_view_module_version": "1.5.0",
            "_view_name": "HTMLView",
            "description": "",
            "description_tooltip": null,
            "layout": "IPY_MODEL_395b61d28dea4936a3ff25de0cf457bf",
            "placeholder": "​",
            "style": "IPY_MODEL_fa910045ca0c490fa663205310bc08fe",
            "value": "Sanity Checking DataLoader 0: 100%"
          }
        },
        "5de03d70b4aa4a9e8367582f33d057c8": {
          "model_module": "@jupyter-widgets/controls",
          "model_module_version": "1.5.0",
          "model_name": "DescriptionStyleModel",
          "state": {
            "_model_module": "@jupyter-widgets/controls",
            "_model_module_version": "1.5.0",
            "_model_name": "DescriptionStyleModel",
            "_view_count": null,
            "_view_module": "@jupyter-widgets/base",
            "_view_module_version": "1.2.0",
            "_view_name": "StyleView",
            "description_width": ""
          }
        },
        "5f323e4dbbd24eb09f7407b619587e50": {
          "model_module": "@jupyter-widgets/controls",
          "model_module_version": "1.5.0",
          "model_name": "DescriptionStyleModel",
          "state": {
            "_model_module": "@jupyter-widgets/controls",
            "_model_module_version": "1.5.0",
            "_model_name": "DescriptionStyleModel",
            "_view_count": null,
            "_view_module": "@jupyter-widgets/base",
            "_view_module_version": "1.2.0",
            "_view_name": "StyleView",
            "description_width": ""
          }
        },
        "60b26d5a6e3a46999de5a576a4537dd7": {
          "model_module": "@jupyter-widgets/controls",
          "model_module_version": "1.5.0",
          "model_name": "HTMLModel",
          "state": {
            "_dom_classes": [],
            "_model_module": "@jupyter-widgets/controls",
            "_model_module_version": "1.5.0",
            "_model_name": "HTMLModel",
            "_view_count": null,
            "_view_module": "@jupyter-widgets/controls",
            "_view_module_version": "1.5.0",
            "_view_name": "HTMLView",
            "description": "",
            "description_tooltip": null,
            "layout": "IPY_MODEL_f359f710e8354517b3e130b6ddcd3396",
            "placeholder": "​",
            "style": "IPY_MODEL_d39a5ad884114a4eb5ea52da90ee6987",
            "value": " 1/1 [00:00&lt;00:00, 70.27it/s]"
          }
        },
        "67e022f755be469ca2b75af99fb8d030": {
          "model_module": "@jupyter-widgets/controls",
          "model_module_version": "1.5.0",
          "model_name": "FloatProgressModel",
          "state": {
            "_dom_classes": [],
            "_model_module": "@jupyter-widgets/controls",
            "_model_module_version": "1.5.0",
            "_model_name": "FloatProgressModel",
            "_view_count": null,
            "_view_module": "@jupyter-widgets/controls",
            "_view_module_version": "1.5.0",
            "_view_name": "ProgressView",
            "bar_style": "",
            "description": "",
            "description_tooltip": null,
            "layout": "IPY_MODEL_c15b61d738084ab1b4125c786d39a49a",
            "max": 1,
            "min": 0,
            "orientation": "horizontal",
            "style": "IPY_MODEL_6aa09c75ff1947c08b3422556b45eea8",
            "value": 1
          }
        },
        "6aa09c75ff1947c08b3422556b45eea8": {
          "model_module": "@jupyter-widgets/controls",
          "model_module_version": "1.5.0",
          "model_name": "ProgressStyleModel",
          "state": {
            "_model_module": "@jupyter-widgets/controls",
            "_model_module_version": "1.5.0",
            "_model_name": "ProgressStyleModel",
            "_view_count": null,
            "_view_module": "@jupyter-widgets/base",
            "_view_module_version": "1.2.0",
            "_view_name": "StyleView",
            "bar_color": null,
            "description_width": ""
          }
        },
        "71947812087c476298986856825aa910": {
          "model_module": "@jupyter-widgets/controls",
          "model_module_version": "1.5.0",
          "model_name": "ProgressStyleModel",
          "state": {
            "_model_module": "@jupyter-widgets/controls",
            "_model_module_version": "1.5.0",
            "_model_name": "ProgressStyleModel",
            "_view_count": null,
            "_view_module": "@jupyter-widgets/base",
            "_view_module_version": "1.2.0",
            "_view_name": "StyleView",
            "bar_color": null,
            "description_width": ""
          }
        },
        "736bd421449040d1997b8ce9a4053135": {
          "model_module": "@jupyter-widgets/controls",
          "model_module_version": "1.5.0",
          "model_name": "DescriptionStyleModel",
          "state": {
            "_model_module": "@jupyter-widgets/controls",
            "_model_module_version": "1.5.0",
            "_model_name": "DescriptionStyleModel",
            "_view_count": null,
            "_view_module": "@jupyter-widgets/base",
            "_view_module_version": "1.2.0",
            "_view_name": "StyleView",
            "description_width": ""
          }
        },
        "742a5083f3f2464f8b7eb5e95d763f73": {
          "model_module": "@jupyter-widgets/base",
          "model_module_version": "1.2.0",
          "model_name": "LayoutModel",
          "state": {
            "_model_module": "@jupyter-widgets/base",
            "_model_module_version": "1.2.0",
            "_model_name": "LayoutModel",
            "_view_count": null,
            "_view_module": "@jupyter-widgets/base",
            "_view_module_version": "1.2.0",
            "_view_name": "LayoutView",
            "align_content": null,
            "align_items": null,
            "align_self": null,
            "border": null,
            "bottom": null,
            "display": null,
            "flex": null,
            "flex_flow": null,
            "grid_area": null,
            "grid_auto_columns": null,
            "grid_auto_flow": null,
            "grid_auto_rows": null,
            "grid_column": null,
            "grid_gap": null,
            "grid_row": null,
            "grid_template_areas": null,
            "grid_template_columns": null,
            "grid_template_rows": null,
            "height": null,
            "justify_content": null,
            "justify_items": null,
            "left": null,
            "margin": null,
            "max_height": null,
            "max_width": null,
            "min_height": null,
            "min_width": null,
            "object_fit": null,
            "object_position": null,
            "order": null,
            "overflow": null,
            "overflow_x": null,
            "overflow_y": null,
            "padding": null,
            "right": null,
            "top": null,
            "visibility": null,
            "width": null
          }
        },
        "7fb0d0d421944144b44f8f025cc1c91d": {
          "model_module": "@jupyter-widgets/controls",
          "model_module_version": "1.5.0",
          "model_name": "HTMLModel",
          "state": {
            "_dom_classes": [],
            "_model_module": "@jupyter-widgets/controls",
            "_model_module_version": "1.5.0",
            "_model_name": "HTMLModel",
            "_view_count": null,
            "_view_module": "@jupyter-widgets/controls",
            "_view_module_version": "1.5.0",
            "_view_name": "HTMLView",
            "description": "",
            "description_tooltip": null,
            "layout": "IPY_MODEL_dda832ba7dca48ba90f5d7f3b45a9e4f",
            "placeholder": "​",
            "style": "IPY_MODEL_736bd421449040d1997b8ce9a4053135",
            "value": " 1/1 [00:00&lt;00:00, 259.23it/s]"
          }
        },
        "8f84de2bd15d4a0792eb8b8f39a3b47e": {
          "model_module": "@jupyter-widgets/controls",
          "model_module_version": "1.5.0",
          "model_name": "ProgressStyleModel",
          "state": {
            "_model_module": "@jupyter-widgets/controls",
            "_model_module_version": "1.5.0",
            "_model_name": "ProgressStyleModel",
            "_view_count": null,
            "_view_module": "@jupyter-widgets/base",
            "_view_module_version": "1.2.0",
            "_view_name": "StyleView",
            "bar_color": null,
            "description_width": ""
          }
        },
        "976126a28d6541b7b992d79f791e05f8": {
          "model_module": "@jupyter-widgets/base",
          "model_module_version": "1.2.0",
          "model_name": "LayoutModel",
          "state": {
            "_model_module": "@jupyter-widgets/base",
            "_model_module_version": "1.2.0",
            "_model_name": "LayoutModel",
            "_view_count": null,
            "_view_module": "@jupyter-widgets/base",
            "_view_module_version": "1.2.0",
            "_view_name": "LayoutView",
            "align_content": null,
            "align_items": null,
            "align_self": null,
            "border": null,
            "bottom": null,
            "display": null,
            "flex": "2",
            "flex_flow": null,
            "grid_area": null,
            "grid_auto_columns": null,
            "grid_auto_flow": null,
            "grid_auto_rows": null,
            "grid_column": null,
            "grid_gap": null,
            "grid_row": null,
            "grid_template_areas": null,
            "grid_template_columns": null,
            "grid_template_rows": null,
            "height": null,
            "justify_content": null,
            "justify_items": null,
            "left": null,
            "margin": null,
            "max_height": null,
            "max_width": null,
            "min_height": null,
            "min_width": null,
            "object_fit": null,
            "object_position": null,
            "order": null,
            "overflow": null,
            "overflow_x": null,
            "overflow_y": null,
            "padding": null,
            "right": null,
            "top": null,
            "visibility": null,
            "width": null
          }
        },
        "b5d0a0168d034561939facba9b1e03c8": {
          "model_module": "@jupyter-widgets/controls",
          "model_module_version": "1.5.0",
          "model_name": "HTMLModel",
          "state": {
            "_dom_classes": [],
            "_model_module": "@jupyter-widgets/controls",
            "_model_module_version": "1.5.0",
            "_model_name": "HTMLModel",
            "_view_count": null,
            "_view_module": "@jupyter-widgets/controls",
            "_view_module_version": "1.5.0",
            "_view_name": "HTMLView",
            "description": "",
            "description_tooltip": null,
            "layout": "IPY_MODEL_113277147f38406fad1dd6fd9dea8520",
            "placeholder": "​",
            "style": "IPY_MODEL_5f323e4dbbd24eb09f7407b619587e50",
            "value": "Epoch 0: 100%"
          }
        },
        "c15b61d738084ab1b4125c786d39a49a": {
          "model_module": "@jupyter-widgets/base",
          "model_module_version": "1.2.0",
          "model_name": "LayoutModel",
          "state": {
            "_model_module": "@jupyter-widgets/base",
            "_model_module_version": "1.2.0",
            "_model_name": "LayoutModel",
            "_view_count": null,
            "_view_module": "@jupyter-widgets/base",
            "_view_module_version": "1.2.0",
            "_view_name": "LayoutView",
            "align_content": null,
            "align_items": null,
            "align_self": null,
            "border": null,
            "bottom": null,
            "display": null,
            "flex": "2",
            "flex_flow": null,
            "grid_area": null,
            "grid_auto_columns": null,
            "grid_auto_flow": null,
            "grid_auto_rows": null,
            "grid_column": null,
            "grid_gap": null,
            "grid_row": null,
            "grid_template_areas": null,
            "grid_template_columns": null,
            "grid_template_rows": null,
            "height": null,
            "justify_content": null,
            "justify_items": null,
            "left": null,
            "margin": null,
            "max_height": null,
            "max_width": null,
            "min_height": null,
            "min_width": null,
            "object_fit": null,
            "object_position": null,
            "order": null,
            "overflow": null,
            "overflow_x": null,
            "overflow_y": null,
            "padding": null,
            "right": null,
            "top": null,
            "visibility": null,
            "width": null
          }
        },
        "ccb99de10686488ebb55c3869e19eefe": {
          "model_module": "@jupyter-widgets/controls",
          "model_module_version": "1.5.0",
          "model_name": "FloatProgressModel",
          "state": {
            "_dom_classes": [],
            "_model_module": "@jupyter-widgets/controls",
            "_model_module_version": "1.5.0",
            "_model_name": "FloatProgressModel",
            "_view_count": null,
            "_view_module": "@jupyter-widgets/controls",
            "_view_module_version": "1.5.0",
            "_view_name": "ProgressView",
            "bar_style": "success",
            "description": "",
            "description_tooltip": null,
            "layout": "IPY_MODEL_976126a28d6541b7b992d79f791e05f8",
            "max": 3000,
            "min": 0,
            "orientation": "horizontal",
            "style": "IPY_MODEL_71947812087c476298986856825aa910",
            "value": 3000
          }
        },
        "cefcc6d2fa6d4fff862a647513a7b8d8": {
          "model_module": "@jupyter-widgets/controls",
          "model_module_version": "1.5.0",
          "model_name": "HTMLModel",
          "state": {
            "_dom_classes": [],
            "_model_module": "@jupyter-widgets/controls",
            "_model_module_version": "1.5.0",
            "_model_name": "HTMLModel",
            "_view_count": null,
            "_view_module": "@jupyter-widgets/controls",
            "_view_module_version": "1.5.0",
            "_view_name": "HTMLView",
            "description": "",
            "description_tooltip": null,
            "layout": "IPY_MODEL_742a5083f3f2464f8b7eb5e95d763f73",
            "placeholder": "​",
            "style": "IPY_MODEL_3bcfb94c5a0d4e0ab9de0bd047ba9992",
            "value": "Validation DataLoader 0: 100%"
          }
        },
        "d39a5ad884114a4eb5ea52da90ee6987": {
          "model_module": "@jupyter-widgets/controls",
          "model_module_version": "1.5.0",
          "model_name": "DescriptionStyleModel",
          "state": {
            "_model_module": "@jupyter-widgets/controls",
            "_model_module_version": "1.5.0",
            "_model_name": "DescriptionStyleModel",
            "_view_count": null,
            "_view_module": "@jupyter-widgets/base",
            "_view_module_version": "1.2.0",
            "_view_name": "StyleView",
            "description_width": ""
          }
        },
        "d3bcaa26c2c841ed92032a0613df06f7": {
          "model_module": "@jupyter-widgets/controls",
          "model_module_version": "1.5.0",
          "model_name": "HBoxModel",
          "state": {
            "_dom_classes": [],
            "_model_module": "@jupyter-widgets/controls",
            "_model_module_version": "1.5.0",
            "_model_name": "HBoxModel",
            "_view_count": null,
            "_view_module": "@jupyter-widgets/controls",
            "_view_module_version": "1.5.0",
            "_view_name": "HBoxView",
            "box_style": "",
            "children": [
              "IPY_MODEL_cefcc6d2fa6d4fff862a647513a7b8d8",
              "IPY_MODEL_564c7b52701b44c080549a53744f7ec6",
              "IPY_MODEL_7fb0d0d421944144b44f8f025cc1c91d"
            ],
            "layout": "IPY_MODEL_0dbd768aea3c447f84697d5d6a4daac3"
          }
        },
        "db3657e8a3c241efb281066bbad3214e": {
          "model_module": "@jupyter-widgets/controls",
          "model_module_version": "1.5.0",
          "model_name": "HTMLModel",
          "state": {
            "_dom_classes": [],
            "_model_module": "@jupyter-widgets/controls",
            "_model_module_version": "1.5.0",
            "_model_name": "HTMLModel",
            "_view_count": null,
            "_view_module": "@jupyter-widgets/controls",
            "_view_module_version": "1.5.0",
            "_view_name": "HTMLView",
            "description": "",
            "description_tooltip": null,
            "layout": "IPY_MODEL_36f1ef1103ba4b17a87780e65d8eb5e9",
            "placeholder": "​",
            "style": "IPY_MODEL_5de03d70b4aa4a9e8367582f33d057c8",
            "value": " 3000/3000 [04:20&lt;00:00, 11.51it/s, train/loss=0.212]"
          }
        },
        "dda832ba7dca48ba90f5d7f3b45a9e4f": {
          "model_module": "@jupyter-widgets/base",
          "model_module_version": "1.2.0",
          "model_name": "LayoutModel",
          "state": {
            "_model_module": "@jupyter-widgets/base",
            "_model_module_version": "1.2.0",
            "_model_name": "LayoutModel",
            "_view_count": null,
            "_view_module": "@jupyter-widgets/base",
            "_view_module_version": "1.2.0",
            "_view_name": "LayoutView",
            "align_content": null,
            "align_items": null,
            "align_self": null,
            "border": null,
            "bottom": null,
            "display": null,
            "flex": null,
            "flex_flow": null,
            "grid_area": null,
            "grid_auto_columns": null,
            "grid_auto_flow": null,
            "grid_auto_rows": null,
            "grid_column": null,
            "grid_gap": null,
            "grid_row": null,
            "grid_template_areas": null,
            "grid_template_columns": null,
            "grid_template_rows": null,
            "height": null,
            "justify_content": null,
            "justify_items": null,
            "left": null,
            "margin": null,
            "max_height": null,
            "max_width": null,
            "min_height": null,
            "min_width": null,
            "object_fit": null,
            "object_position": null,
            "order": null,
            "overflow": null,
            "overflow_x": null,
            "overflow_y": null,
            "padding": null,
            "right": null,
            "top": null,
            "visibility": null,
            "width": null
          }
        },
        "e949dcc0c54d40f1b0f2d0431758d55f": {
          "model_module": "@jupyter-widgets/base",
          "model_module_version": "1.2.0",
          "model_name": "LayoutModel",
          "state": {
            "_model_module": "@jupyter-widgets/base",
            "_model_module_version": "1.2.0",
            "_model_name": "LayoutModel",
            "_view_count": null,
            "_view_module": "@jupyter-widgets/base",
            "_view_module_version": "1.2.0",
            "_view_name": "LayoutView",
            "align_content": null,
            "align_items": null,
            "align_self": null,
            "border": null,
            "bottom": null,
            "display": "inline-flex",
            "flex": null,
            "flex_flow": "row wrap",
            "grid_area": null,
            "grid_auto_columns": null,
            "grid_auto_flow": null,
            "grid_auto_rows": null,
            "grid_column": null,
            "grid_gap": null,
            "grid_row": null,
            "grid_template_areas": null,
            "grid_template_columns": null,
            "grid_template_rows": null,
            "height": null,
            "justify_content": null,
            "justify_items": null,
            "left": null,
            "margin": null,
            "max_height": null,
            "max_width": null,
            "min_height": null,
            "min_width": null,
            "object_fit": null,
            "object_position": null,
            "order": null,
            "overflow": null,
            "overflow_x": null,
            "overflow_y": null,
            "padding": null,
            "right": null,
            "top": null,
            "visibility": "hidden",
            "width": "100%"
          }
        },
        "f359f710e8354517b3e130b6ddcd3396": {
          "model_module": "@jupyter-widgets/base",
          "model_module_version": "1.2.0",
          "model_name": "LayoutModel",
          "state": {
            "_model_module": "@jupyter-widgets/base",
            "_model_module_version": "1.2.0",
            "_model_name": "LayoutModel",
            "_view_count": null,
            "_view_module": "@jupyter-widgets/base",
            "_view_module_version": "1.2.0",
            "_view_name": "LayoutView",
            "align_content": null,
            "align_items": null,
            "align_self": null,
            "border": null,
            "bottom": null,
            "display": null,
            "flex": null,
            "flex_flow": null,
            "grid_area": null,
            "grid_auto_columns": null,
            "grid_auto_flow": null,
            "grid_auto_rows": null,
            "grid_column": null,
            "grid_gap": null,
            "grid_row": null,
            "grid_template_areas": null,
            "grid_template_columns": null,
            "grid_template_rows": null,
            "height": null,
            "justify_content": null,
            "justify_items": null,
            "left": null,
            "margin": null,
            "max_height": null,
            "max_width": null,
            "min_height": null,
            "min_width": null,
            "object_fit": null,
            "object_position": null,
            "order": null,
            "overflow": null,
            "overflow_x": null,
            "overflow_y": null,
            "padding": null,
            "right": null,
            "top": null,
            "visibility": null,
            "width": null
          }
        },
        "fa910045ca0c490fa663205310bc08fe": {
          "model_module": "@jupyter-widgets/controls",
          "model_module_version": "1.5.0",
          "model_name": "DescriptionStyleModel",
          "state": {
            "_model_module": "@jupyter-widgets/controls",
            "_model_module_version": "1.5.0",
            "_model_name": "DescriptionStyleModel",
            "_view_count": null,
            "_view_module": "@jupyter-widgets/base",
            "_view_module_version": "1.2.0",
            "_view_name": "StyleView",
            "description_width": ""
          }
        },
        "fd41187cfbee4c319e881af0d66e4b3c": {
          "model_module": "@jupyter-widgets/controls",
          "model_module_version": "1.5.0",
          "model_name": "HBoxModel",
          "state": {
            "_dom_classes": [],
            "_model_module": "@jupyter-widgets/controls",
            "_model_module_version": "1.5.0",
            "_model_name": "HBoxModel",
            "_view_count": null,
            "_view_module": "@jupyter-widgets/controls",
            "_view_module_version": "1.5.0",
            "_view_name": "HBoxView",
            "box_style": "",
            "children": [
              "IPY_MODEL_59bcee0681604a66844c54404f3e2625",
              "IPY_MODEL_67e022f755be469ca2b75af99fb8d030",
              "IPY_MODEL_60b26d5a6e3a46999de5a576a4537dd7"
            ],
            "layout": "IPY_MODEL_e949dcc0c54d40f1b0f2d0431758d55f"
          }
        }
      }
    }
  },
  "nbformat": 4,
  "nbformat_minor": 0
}
