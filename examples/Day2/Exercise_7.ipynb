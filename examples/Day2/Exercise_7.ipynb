{
 "cells": [
  {
   "attachments": {},
   "cell_type": "markdown",
   "metadata": {},
   "source": [
    "# Performing parameter studies with PINNs in TorchPhysics: Example 7\n",
    "We now consider the Stokes equation and want to learn the flow field for different injection angles $\\alpha$. The equation is given by:\n",
    "\n",
    "\\begin{align*}\n",
    "    -\\frac{\\mu}{2} \\text{div}(\\nabla u_\\alpha + \\nabla u_\\alpha^T) + \\nabla p_\\alpha &= 0 &&\\text{ in } [0, 1]^2, \\text{(Conservation of momentum)}, \\\\\n",
    "    \\text{div}(u_\\alpha) &= 0 &&\\text{ in } [0, 1]^2,  \\text{(Conservation of mass)}, \\\\\n",
    "    u_\\alpha &= u_{in}(\\alpha, x) , &&\\text{ on } \\{0 \\} \\times [0, 1], \\text{(Inflow condition)}\\\\\n",
    "    u_\\alpha &= 0 , &&\\text{ on } [0, 1] \\times \\{0, 1\\}, \\text{(No-slip condition)} \\\\\n",
    "    -\\frac{\\mu}{2}(\\nabla u_\\alpha + \\nabla u_\\alpha^T) \\cdot n + p_\\alpha n &= 0 , &&\\text{ on }  \\{1 \\} \\times [0, 1], \\text{(Outflow condition)}.\n",
    "\\end{align*}\n",
    "\n",
    "This equation describes a channel, where at the left side we prescribe the velocity field, at the bottom and top have a noslip condition (where the fluid sticks to the wall) and at the right side a free outflow. You dont need to understand what each equation means in detail, some further information will be given below.\n",
    "\n",
    "Our main goal is to learn, with one single neural network, multiple solutions for different $\\alpha$. \n",
    "\n",
    "The inflow function will be given by\n",
    "\\begin{equation*}\n",
    "    u_{in}(\\alpha, x) = 4.0 x_2 (1.0 - x_2) \\left(\\begin{matrix}\\cos(\\alpha) \\\\ \\sin(\\alpha)\\end{matrix} \\right),\n",
    "\\end{equation*}\n",
    "such that the flow direction is controlled by the angle and the velocity profile reaches 0 when we approach the bottom and top boundary. "
   ]
  },
  {
   "cell_type": "code",
   "execution_count": null,
   "metadata": {},
   "outputs": [],
   "source": [
    "import pathlib\n",
    "import os\n",
    "gpu_device = str(int(str(pathlib.Path().resolve())[-2:]) % 8)\n",
    "os.environ[\"CUDA_VISIBLE_DEVICES\"]= gpu_device"
   ]
  },
  {
   "cell_type": "code",
   "execution_count": null,
   "metadata": {},
   "outputs": [],
   "source": [
    "import torch\n",
    "import torchphysics as tp\n",
    "import pytorch_lightning as pl\n",
    "import math\n",
    "\n",
    "# Here all parameters are defined:\n",
    "h, w = 1, 1\n",
    "mu = 0.5\n",
    "speed_scale = 4.0\n",
    "\n",
    "# Number of training points \n",
    "N_pde = 50000\n",
    "N_in = 40000\n",
    "N_out = 10000"
   ]
  },
  {
   "cell_type": "markdown",
   "metadata": {},
   "source": [
    "First we need define the spaces of our problem. Note, we now need a space \"X\" for the domain, \"A\" for the inflow angles, \"u\" for the velocity output and \"p\" for the pressure!\n",
    "\n",
    "Next ot the domain $\\Omega$, we also need to sample different angles that will be used as an input to our neural network and in the inflow function.\n",
    "For now, create the interval $[\\pi/4.0, \\pi/2.0]$ for our angles."
   ]
  },
  {
   "cell_type": "code",
   "execution_count": null,
   "metadata": {},
   "outputs": [],
   "source": [
    "# TODO: Add the space for pressure and velocity\n",
    "X = tp.spaces.R2('x')\n",
    "A = tp.spaces.R1(\"alpha\")\n",
    "P = ...\n",
    "U = ...\n",
    "\n",
    "Omega = tp.domains.Parallelogram(X, [0, 0], [w, 0], [0, h])\n",
    "# TODO: Create interval for the angles (use math.pi, for pi):\n",
    "A_int = ..."
   ]
  },
  {
   "cell_type": "markdown",
   "metadata": {},
   "source": [
    "Next are the samplers, which are almost complete. We again need to filter the points at the boundary, since we have multiple boundary conditions.\n",
    "Here, we incoperate the Dirichlet conditions into one PINN-condition and therefore need only two samplers.\n",
    "\n",
    "Finish the sampler that returns true if the point $x$ is on the right boundary, meaning $x_1 = 1$."
   ]
  },
  {
   "cell_type": "code",
   "execution_count": null,
   "metadata": {},
   "outputs": [],
   "source": [
    "# TODO: Complete the filter function:\n",
    "def right_boundary_filter(x):\n",
    "    ...\n",
    "\n",
    "def other_boundary_filter(x):\n",
    "    return torch.logical_not(right_boundary_filter(x))\n",
    "\n",
    "inner_sampler = tp.samplers.RandomUniformSampler(Omega*A_int, N_pde)\n",
    "dirichlet_boundary_sampler = tp.samplers.RandomUniformSampler(A_int*Omega.boundary, N_in, filter_fn=other_boundary_filter)\n",
    "outflow_boundary_sampler = tp.samplers.RandomUniformSampler(A_int*Omega.boundary, N_out, filter_fn=right_boundary_filter)"
   ]
  },
  {
   "cell_type": "markdown",
   "metadata": {},
   "source": [
    "In the following cell, we prepared the boundary function. Note, that this function combines the inflow profile and the no slip condition into one. This simplifies the creation of the following conditions."
   ]
  },
  {
   "cell_type": "code",
   "execution_count": null,
   "metadata": {},
   "outputs": [],
   "source": [
    "def inflow_fn(x, alpha):\n",
    "    inflow_fn = torch.ones_like(x)\n",
    "    # parabolic profile and 0 at the top and bottom\n",
    "    inflow_fn *= speed_scale * x[:, 1:] * (h - x[:, 1:]) \n",
    "    # Inflow direction depends on angle \n",
    "    inflow_fn[:, :1] *= torch.cos(alpha) \n",
    "    inflow_fn[:, 1:] *= torch.sin(alpha) \n",
    "    return inflow_fn"
   ]
  },
  {
   "cell_type": "markdown",
   "metadata": {},
   "source": [
    "Now, we can start with implementing all conditions. Lets start with the neural network, that should learn the solution consisting of $(u, p)$ for different $(x, \\alpha)$."
   ]
  },
  {
   "cell_type": "code",
   "execution_count": null,
   "metadata": {},
   "outputs": [],
   "source": [
    "# TODO: Add the correct input and output spaces\n",
    "model = tp.models.FCN(input_space=..., output_space=..., hidden=(30, 30, 30, 30))"
   ]
  },
  {
   "cell_type": "markdown",
   "metadata": {},
   "source": [
    "The first condition, will be the conservation of mass meaning $\\text{div}(u)=0$:"
   ]
  },
  {
   "cell_type": "code",
   "execution_count": null,
   "metadata": {},
   "outputs": [],
   "source": [
    "# TODO: Implement the residual and complete the PINNCondition.\n",
    "# Use tp.utils.div to compute the divergence of a vector field\n",
    "def mass_residual():\n",
    "    ...\n",
    "\n",
    "# TODO: Complete the condition and use a weight of 20.0!\n",
    "mass_condition = tp.conditions.PINNCondition(...)"
   ]
  },
  {
   "cell_type": "markdown",
   "metadata": {},
   "source": [
    "The second condition, is the conservation of momentum meaning $-\\frac{\\mu}{2} \\text{div}(\\nabla u + \\nabla u^T) + \\nabla p=0$:\n"
   ]
  },
  {
   "cell_type": "code",
   "execution_count": null,
   "metadata": {},
   "outputs": [],
   "source": [
    "def momentum_residual(u, p, x):\n",
    "    sym_grad = tp.utils.sym_grad(u, x) # <- already contains the factor 1/2\n",
    "    mat_div = tp.utils.matrix_div(sym_grad, x)\n",
    "    p_grad = tp.utils.grad(p, x)\n",
    "    # TODO: Add the return for the momentum residual\n",
    "\n",
    "momentum_condition = tp.conditions.PINNCondition(module=model, sampler=inner_sampler, \n",
    "                                                 residual_fn=momentum_residual)"
   ]
  },
  {
   "cell_type": "markdown",
   "metadata": {},
   "source": [
    "Now, we need to handle the boundary conditions. Let start with the Dirichlet condition.\n",
    "As mentioned before we can combine the inflow and noslip condition into one, since the inflow is also 0 at the top and bottom. Our sampler is also already build to sampler points from the need boundary."
   ]
  },
  {
   "cell_type": "code",
   "execution_count": null,
   "metadata": {},
   "outputs": [],
   "source": [
    "# TODO: finish the residual for the Dirichlet condition.\n",
    "# Note, we already prepared the inflow function a few cells back. If you use the function\n",
    "# the residual only consists of 1 line of code.\n",
    "def dirichlet_residual():\n",
    "    ...\n",
    "\n",
    "# TODO: Use a PINNCondition with a weight of 50.0!\n",
    "dirichlet_condition = ..."
   ]
  },
  {
   "cell_type": "markdown",
   "metadata": {},
   "source": [
    "Lastly the outflow condition, which we already finished for you:"
   ]
  },
  {
   "cell_type": "code",
   "execution_count": null,
   "metadata": {},
   "outputs": [],
   "source": [
    "def outflow_residual(u, p, x):\n",
    "    n = Omega.boundary.normal(x)\n",
    "    sym_grad = tp.utils.sym_grad(u, x)\n",
    "    res = - mu * torch.bmm(sym_grad, n.unsqueeze(-1)).squeeze(-1) + p*n\n",
    "    return res\n",
    "\n",
    "outflow_condition = tp.conditions.PINNCondition(module=model,\n",
    "                                            sampler=outflow_boundary_sampler,\n",
    "                                            residual_fn=outflow_residual)"
   ]
  },
  {
   "cell_type": "markdown",
   "metadata": {},
   "source": [
    "We can now start the training:"
   ]
  },
  {
   "cell_type": "code",
   "execution_count": null,
   "metadata": {},
   "outputs": [],
   "source": [
    "optim = tp.OptimizerSetting(torch.optim.Adam, lr=1e-3)\n",
    "# TODO: Collect all for conditions we previously created:\n",
    "solver = tp.solver.Solver([...],\n",
    "                           optimizer_setting=optim)\n",
    "\n",
    "trainer = pl.Trainer(devices=1, accelerator=\"gpu\",\n",
    "                     num_sanity_val_steps=0,\n",
    "                     benchmark=True,\n",
    "                     max_steps=1000, \n",
    "                     logger=False,\n",
    "                     enable_checkpointing=False)\n",
    "trainer.fit(solver)"
   ]
  },
  {
   "cell_type": "markdown",
   "metadata": {},
   "source": [
    "To obtain better results, we switch to LBFGS. This optimizer is a bit slower but has a better convergence behaviour for this problem."
   ]
  },
  {
   "cell_type": "code",
   "execution_count": null,
   "metadata": {},
   "outputs": [],
   "source": [
    "mass_condition.sampler = mass_condition.sampler.make_static()\n",
    "momentum_condition.sampler = momentum_condition.sampler.make_static()\n",
    "dirichlet_condition.sampler = dirichlet_condition.sampler.make_static()\n",
    "outflow_condition.sampler = outflow_condition.sampler.make_static()\n",
    "\n",
    "\n",
    "optim = tp.OptimizerSetting(torch.optim.LBFGS, lr=0.1, optimizer_args={\"max_iter\" : 5})\n",
    "solver = tp.solver.Solver([dirichlet_condition, mass_condition, momentum_condition, outflow_condition],\n",
    "                           optimizer_setting=optim)\n",
    "\n",
    "trainer = pl.Trainer(devices=1, accelerator=\"gpu\",\n",
    "                     num_sanity_val_steps=0,\n",
    "                     benchmark=True,\n",
    "                     max_steps=400, \n",
    "                     logger=False,\n",
    "                     enable_checkpointing=False)\n",
    "trainer.fit(solver)"
   ]
  },
  {
   "cell_type": "markdown",
   "metadata": {},
   "source": [
    "We could train even more to further improve the results. But let us check the solution now:"
   ]
  },
  {
   "cell_type": "code",
   "execution_count": null,
   "metadata": {},
   "outputs": [],
   "source": [
    "# TODO: The following value will be used as the inflow value. Play around with the value \n",
    "# to see different solutions.\n",
    "# Note, we only trained for values in [pi/4, pi/2]. What happens if you but in values outside this range?\n",
    "alpha_eval = math.pi/2.0\n",
    "\n",
    "Omega_plot = tp.domains.Parallelogram(X, [0, 0], [1, 0], [0, 1])\n",
    "plot_sampler = tp.samplers.PlotSampler(Omega_plot, 800, data_for_other_variables={\"alpha\": alpha_eval})\n",
    "\n",
    "fig = tp.utils.plot(model, lambda u: u, plot_sampler)"
   ]
  },
  {
   "cell_type": "markdown",
   "metadata": {},
   "source": [
    "We can also plot the pressure profile we have learned:"
   ]
  },
  {
   "cell_type": "code",
   "execution_count": null,
   "metadata": {},
   "outputs": [],
   "source": [
    "Omega_plot = tp.domains.Parallelogram(X, [0, 0], [1, 0], [0, 1])\n",
    "plot_sampler = tp.samplers.PlotSampler(Omega_plot, 800, data_for_other_variables={\"alpha\": alpha_eval})\n",
    "\n",
    "fig = tp.utils.plot(model, lambda p: p, plot_sampler, plot_type=\"contour_surface\")"
   ]
  },
  {
   "cell_type": "markdown",
   "metadata": {},
   "source": [
    "Or even create a animation of the solution over multiple inflow angles:"
   ]
  },
  {
   "cell_type": "code",
   "execution_count": null,
   "metadata": {},
   "outputs": [],
   "source": [
    "anim_sampler = tp.samplers.AnimationSampler(Omega, A_int, 80, n_points=800)\n",
    "fig, anim = tp.utils.animate(model, lambda u: u, anim_sampler, ani_speed=5)\n",
    "anim.save('flow.gif')\n",
    "# On Google colab you have at the left side a tab with a folder. There you can find the gif and can watch it."
   ]
  },
  {
   "cell_type": "code",
   "execution_count": null,
   "metadata": {},
   "outputs": [],
   "source": [
    "import numpy as np\n",
    "# Note: Here, we assumed that the input space is in order X*A. If you have it ordered differently\n",
    "# just call us we can quickly modify it for you!\n",
    "\n",
    "print(\"Download data...\")\n",
    "# Get data from Github:\n",
    "!wget https://github.com/TomF98/torchphysics/raw/Berlin-Workshop/examples/SolutionData/StokesData/coords.npy\n",
    "!wget https://github.com/TomF98/torchphysics/raw/Berlin-Workshop/examples/SolutionData/StokesData/flow_0.npy\n",
    "!wget https://github.com/TomF98/torchphysics/raw/Berlin-Workshop/examples/SolutionData/StokesData/flow_1.npy\n",
    "!wget https://github.com/TomF98/torchphysics/raw/Berlin-Workshop/examples/SolutionData/StokesData/flow_2.npy\n",
    "\n",
    "# Read data:\n",
    "coords = torch.tensor(np.load(\"coords.npy\"), dtype=torch.float32).reshape(-1, 2)\n",
    "sol_1 = torch.tensor(np.load(\"flow_0.npy\"), dtype=torch.float32).reshape(-1, 2)\n",
    "sol_2 = torch.tensor(np.load(\"flow_1.npy\"), dtype=torch.float32).reshape(-1, 2)\n",
    "sol_3 = torch.tensor(np.load(\"flow_2.npy\"), dtype=torch.float32).reshape(-1, 2)\n",
    "\n",
    "angle_list = [math.pi/4.0, math.pi/3.0, math.pi/2.0]\n",
    "sol_list = [sol_1, sol_2, sol_3]\n",
    "error = 0\n",
    "for angle, current_sol in zip(angle_list, sol_list):\n",
    "    # Build input\n",
    "    in_points = torch.zeros((len(sol_1), 3))\n",
    "    in_points[:, :2] = coords\n",
    "    in_points[:, 2] = angle\n",
    "\n",
    "    # Evaluate Network:\n",
    "    model_out = model(tp.spaces.Points(in_points, X*A)).as_tensor\n",
    "\n",
    "    current_error = model_out[:, :2] - current_sol\n",
    "    error = max(error, torch.max(torch.abs(current_error)))\n",
    "\n",
    "print(\"#######################################################\")\n",
    "print(\"Relative difference to FEM for different inflow angles:\")\n",
    "print(error.item()*100, \"%\")"
   ]
  }
 ],
 "metadata": {
  "kernelspec": {
   "display_name": "bosch",
   "language": "python",
   "name": "python3"
  },
  "language_info": {
   "codemirror_mode": {
    "name": "ipython",
    "version": 3
   },
   "file_extension": ".py",
   "mimetype": "text/x-python",
   "name": "python",
   "nbconvert_exporter": "python",
   "pygments_lexer": "ipython3",
   "version": "3.9.15"
  },
  "orig_nbformat": 4
 },
 "nbformat": 4,
 "nbformat_minor": 2
}
