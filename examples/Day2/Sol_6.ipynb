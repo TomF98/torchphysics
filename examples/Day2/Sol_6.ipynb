{
 "cells": [
  {
   "attachments": {},
   "cell_type": "markdown",
   "metadata": {},
   "source": [
    "# Performing parameter studies with PINNs in TorchPhysics: Example 6\n",
    "We now consider the wave equation\n",
    "\n",
    "\\begin{align*}\n",
    "    \\partial_t^2 u &= c \\, \\partial_x^2 u, &&\\text{ in } I_x \\times I_t, \\\\\n",
    "    u &= 0 , &&\\text{ on } \\partial I_x \\times I_t, \\\\\n",
    "    (\\partial_t u)(\\cdot, 0) &= 0 , &&\\text{ in } I_x, \\\\\n",
    "    u(\\cdot, 0) &= \\sin(x) , &&\\text{ in } I_x,\n",
    "\\end{align*}\n",
    "\n",
    "with $I_x = [0, 2\\pi]$ and $I_t = [0, 5]$. We aim to solve the equation for all $c \\in [0.2, 2.5]$.\n",
    "\n",
    "In this notebook, we provided less guidance to repeat the contents of yesterday."
   ]
  },
  {
   "cell_type": "code",
   "execution_count": null,
   "metadata": {},
   "outputs": [],
   "source": [
    "# This block is for GPU selection. Please execute.\n",
    "import pathlib\n",
    "import os\n",
    "user = int(str(pathlib.Path().resolve())[-2:])\n",
    "if user <= 21: \n",
    "    gpu_device = str(user % 7) # moriarty\n",
    "else: gpu_device = str(user % 4) # neptuno\n",
    "os.environ[\"CUDA_VISIBLE_DEVICES\"]= gpu_device"
   ]
  },
  {
   "cell_type": "code",
   "execution_count": 1,
   "metadata": {},
   "outputs": [
    {
     "name": "stderr",
     "output_type": "stream",
     "text": [
      "/home/nick7/anaconda3/envs/bosch-pde/lib/python3.9/site-packages/pytorch_lightning/metrics/__init__.py:43: LightningDeprecationWarning: `pytorch_lightning.metrics.*` module has been renamed to `torchmetrics.*` and split off to its own package (https://github.com/PyTorchLightning/metrics) since v1.3 and will be removed in v1.5\n",
      "  rank_zero_deprecation(\n"
     ]
    }
   ],
   "source": [
    "import torchphysics as tp\n",
    "import pytorch_lightning as pl\n",
    "import torch\n",
    "import math\n",
    "\n",
    "# Here all parameters are defined:\n",
    "t_min, t_max = 0.0, 5.0\n",
    "x_min, x_max = 0.0, 2 * math.pi\n",
    "c_min, c_max = 0.2, 2.5\n",
    "\n",
    "# Number of training points \n",
    "N_pde = 25000\n",
    "N_boundary = 5000\n",
    "N_initial = 5000\n",
    "\n",
    "# Training parameters\n",
    "train_iterations = 10000\n",
    "learning_rate = 8.e-4"
   ]
  },
  {
   "cell_type": "code",
   "execution_count": 2,
   "metadata": {},
   "outputs": [],
   "source": [
    "### TODO: Implement the spaces\n",
    "X = tp.spaces.R1('x')\n",
    "T = tp.spaces.R1('t')\n",
    "U = tp.spaces.R1('u')\n",
    "C = tp.spaces.R1('c')\n",
    "\n",
    "### TODO: Define the domain, time interval and parameter range as torchphysics domains:\n",
    "I_x = tp.domains.Interval(space=X, lower_bound=x_min, upper_bound=x_max)\n",
    "I_t = tp.domains.Interval(space=T, lower_bound=t_min, upper_bound=t_max)\n",
    "I_c = tp.domains.Interval(space=C, lower_bound=c_min, upper_bound=c_max)\n",
    "\n",
    "### TODO: Create sampler for the PDE condition. Hint: sample from a product domain including x, t and c\n",
    "pde_sampler = tp.samplers.RandomUniformSampler(domain=I_x * I_t * I_c, n_points=N_pde)\n",
    "\n",
    "### TODO: Create a random uniform sampler for the Dirichlet boundary condition:\n",
    "boundary_sampler = tp.samplers.RandomUniformSampler(domain=I_x.boundary * I_t * I_c, n_points=N_boundary)\n",
    "\n",
    "### TODO: Create a sampler for the two initial conditions:\n",
    "initial_sampler = tp.samplers.RandomUniformSampler(domain=I_x * I_t.boundary_left * I_c, n_points=N_initial).make_static()"
   ]
  },
  {
   "cell_type": "code",
   "execution_count": 3,
   "metadata": {},
   "outputs": [],
   "source": [
    "### TODO: Create the neural network for the solution u, depending on the parameter c.\n",
    "###       The model of u should contain 3 hidden layers with 50 neurons each and should have\n",
    "###       X*T*C as an input space (order is important for the following cells).\n",
    "model_u = tp.models.FCN(input_space=X*T*C, output_space=U, hidden = (50,50,50))"
   ]
  },
  {
   "cell_type": "code",
   "execution_count": 4,
   "metadata": {},
   "outputs": [],
   "source": [
    "### TODO: Define condition for the PDE:\n",
    "def pde_residual(c, u, t, x):\n",
    "    return tp.utils.laplacian(u, t) - c * tp.utils.laplacian(u, x)\n",
    "\n",
    "pde_condition = tp.conditions.PINNCondition(model_u, pde_sampler, pde_residual)"
   ]
  },
  {
   "cell_type": "code",
   "execution_count": 5,
   "metadata": {},
   "outputs": [],
   "source": [
    "### TODO: Define the Dirichlet boundary condition:\n",
    "def dirichlet_residual(c, u, t, x):\n",
    "    return u\n",
    "dirichlet_condition = tp.conditions.PINNCondition(model_u, boundary_sampler, dirichlet_residual)"
   ]
  },
  {
   "cell_type": "code",
   "execution_count": 6,
   "metadata": {},
   "outputs": [],
   "source": [
    "### TODO: Define both initial conditions: one that sets the values and one that sets the derivatives, each at t=0.\n",
    "\n",
    "def initial_residual(c, u, t, x):\n",
    "    return u - torch.sin(x)\n",
    "initial_condition = tp.conditions.PINNCondition(model_u, initial_sampler, initial_residual)\n",
    "\n",
    "def initial_derivative_residual(c, u, t, x):\n",
    "    return tp.utils.partial(u, t)\n",
    "initial_derivative_condition = tp.conditions.PINNCondition(model_u, initial_sampler, initial_derivative_residual)"
   ]
  },
  {
   "cell_type": "code",
   "execution_count": 7,
   "metadata": {},
   "outputs": [
    {
     "name": "stderr",
     "output_type": "stream",
     "text": [
      "GPU available: True, used: True\n",
      "TPU available: False, using: 0 TPU cores\n",
      "LOCAL_RANK: 0 - CUDA_VISIBLE_DEVICES: [0,1,2,3]\n",
      "\n",
      "  | Name             | Type       | Params\n",
      "------------------------------------------------\n",
      "0 | train_conditions | ModuleList | 5.4 K \n",
      "1 | val_conditions   | ModuleList | 0     \n",
      "------------------------------------------------\n",
      "5.4 K     Trainable params\n",
      "0         Non-trainable params\n",
      "5.4 K     Total params\n",
      "0.021     Total estimated model params size (MB)\n"
     ]
    },
    {
     "data": {
      "application/vnd.jupyter.widget-view+json": {
       "model_id": "6bd1170631ed49469be424e0469c9d9f",
       "version_major": 2,
       "version_minor": 0
      },
      "text/plain": [
       "Validation sanity check: 0it [00:00, ?it/s]"
      ]
     },
     "metadata": {},
     "output_type": "display_data"
    },
    {
     "name": "stderr",
     "output_type": "stream",
     "text": [
      "/home/nick7/anaconda3/envs/bosch-pde/lib/python3.9/site-packages/pytorch_lightning/trainer/data_loading.py:102: UserWarning: The dataloader, val dataloader 0, does not have many workers which may be a bottleneck. Consider increasing the value of the `num_workers` argument` (try 8 which is the number of cpus on this machine) in the `DataLoader` init to improve performance.\n",
      "  rank_zero_warn(\n",
      "/home/nick7/anaconda3/envs/bosch-pde/lib/python3.9/site-packages/pytorch_lightning/trainer/data_loading.py:102: UserWarning: The dataloader, train dataloader, does not have many workers which may be a bottleneck. Consider increasing the value of the `num_workers` argument` (try 8 which is the number of cpus on this machine) in the `DataLoader` init to improve performance.\n",
      "  rank_zero_warn(\n"
     ]
    },
    {
     "data": {
      "application/vnd.jupyter.widget-view+json": {
       "model_id": "76278146d5034e15bcd1fce72332a035",
       "version_major": 2,
       "version_minor": 0
      },
      "text/plain": [
       "Training: 0it [00:00, ?it/s]"
      ]
     },
     "metadata": {},
     "output_type": "display_data"
    },
    {
     "data": {
      "application/vnd.jupyter.widget-view+json": {
       "model_id": "61294db1b7264c4799f3d84f2befe497",
       "version_major": 2,
       "version_minor": 0
      },
      "text/plain": [
       "Validating: 0it [00:00, ?it/s]"
      ]
     },
     "metadata": {},
     "output_type": "display_data"
    }
   ],
   "source": [
    "### The optimizer is already implemented. Just fill in the conditions that should be optimized and you can start the training.\n",
    "\n",
    "optim = tp.OptimizerSetting(optimizer_class=torch.optim.Adam, lr=learning_rate)\n",
    "solver = tp.solver.Solver(train_conditions=[pde_condition, dirichlet_condition, initial_derivative_condition, initial_condition], optimizer_setting=optim)\n",
    "\n",
    "\n",
    "trainer = pl.Trainer(devices=1, accelerator=\"gpu\",\n",
    "                     max_steps=train_iterations,\n",
    "                     logger=False,\n",
    "                     benchmark=True,\n",
    "                     enable_checkpointing=False)\n",
    "\n",
    "trainer.fit(solver)"
   ]
  },
  {
   "cell_type": "code",
   "execution_count": 11,
   "metadata": {},
   "outputs": [
    {
     "data": {
      "image/png": "[encoded data removed]",
      "text/plain": [
       "<Figure size 432x288 with 2 Axes>"
      ]
     },
     "metadata": {
      "needs_background": "light"
     },
     "output_type": "display_data"
    }
   ],
   "source": [
    "### We can also plot the solution that we learned\n",
    "plot_domain = tp.domains.Parallelogram(X*T, [x_min, t_min], [x_max, t_min], [x_min, t_max])\n",
    "plot_sampler = tp.samplers.PlotSampler(plot_domain, 1000, data_for_other_variables={'c': 0.2})\n",
    "fig = tp.utils.plot(model_u, lambda u: u, plot_sampler, plot_type=\"contour_surface\")"
   ]
  },
  {
   "cell_type": "code",
   "execution_count": 9,
   "metadata": {},
   "outputs": [
    {
     "name": "stderr",
     "output_type": "stream",
     "text": [
      "MovieWriter ffmpeg unavailable; using Pillow instead.\n"
     ]
    },
    {
     "data": {
      "image/png": "[encoded data removed]",
      "text/plain": [
       "<Figure size 432x288 with 1 Axes>"
      ]
     },
     "metadata": {
      "needs_background": "light"
     },
     "output_type": "display_data"
    }
   ],
   "source": [
    "# Or an animation:\n",
    "anim_sampler = tp.samplers.AnimationSampler(I_x, I_t, 200, n_points=250, data_for_other_variables={'c': 0.5})\n",
    "fig, anim = tp.utils.animate(model_u, lambda u: u, anim_sampler, ani_speed=40)\n",
    "anim.save('wave-eq.gif')\n",
    "# You should be able to see a tab with a folder on the left side of your screen. There you should find the gif and can watch it."
   ]
  }
 ],
 "metadata": {
  "kernelspec": {
   "display_name": "bosch",
   "language": "python",
   "name": "python3"
  },
  "language_info": {
   "codemirror_mode": {
    "name": "ipython",
    "version": 3
   },
   "file_extension": ".py",
   "mimetype": "text/x-python",
   "name": "python",
   "nbconvert_exporter": "python",
   "pygments_lexer": "ipython3",
   "version": "3.9.4"
  },
  "orig_nbformat": 4
 },
 "nbformat": 4,
 "nbformat_minor": 2
}
