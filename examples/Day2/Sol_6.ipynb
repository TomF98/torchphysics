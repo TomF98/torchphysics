{
 "cells": [
  {
   "attachments": {},
   "cell_type": "markdown",
   "metadata": {},
   "source": [
    "# Performing parameter studies with PINNs in TorchPhysics: Example 6\n",
    "We now consider the wave equation\n",
    "\n",
    "\\begin{align*}\n",
    "    \\partial_t^2 u &= c \\, \\partial_x^2 u, &&\\text{ in } I_x \\times I_t, \\\\\n",
    "    u &= 0 , &&\\text{ on } \\partial I_x \\times I_t, \\\\\n",
    "    (\\partial_t u)(\\cdot, 0) &= 0 , &&\\text{ in } I_x, \\\\\n",
    "    u(\\cdot, 0) &= \\sin(x) , &&\\text{ in } I_x,\n",
    "\\end{align*}\n",
    "\n",
    "with $I_x = [0, 2\\pi]$ and $I_t = [0, 5]$. We aim to solve the equation for all $c \\in [0.2, 2.5]$.\n",
    "\n",
    "In this notebook, we provided less guidance to repeat the contents of yesterday."
   ]
  },
  {
   "cell_type": "code",
   "execution_count": null,
   "metadata": {},
   "outputs": [],
   "source": [
    "!pip install torchphysics"
   ]
  },
  {
   "cell_type": "code",
   "execution_count": null,
   "metadata": {},
   "outputs": [],
   "source": [
    "import torchphysics as tp\n",
    "import pytorch_lightning as pl\n",
    "import torch\n",
    "import math\n",
    "\n",
    "# Here all parameters are defined:\n",
    "t_min, t_max = 0.0, 5.0\n",
    "x_min, x_max = 0.0, 2 * math.pi\n",
    "c_min, c_max = 0.2, 2.5\n",
    "\n",
    "# Number of training points \n",
    "N_pde = 25000\n",
    "N_boundary = 5000\n",
    "N_initial = 5000\n",
    "\n",
    "# Training parameters\n",
    "train_iterations = 10000\n",
    "learning_rate = 8.e-4"
   ]
  },
  {
   "cell_type": "code",
   "execution_count": 2,
   "metadata": {},
   "outputs": [],
   "source": [
    "### TODO: Implement the spaces\n",
    "X = ...\n",
    "T = ...\n",
    "U = ...\n",
    "C = ...\n",
    "\n",
    "### TODO: Define the domain, time interval and parameter range as torchphysics domains:\n",
    "I_x = ...\n",
    "I_t = ...\n",
    "I_c = ...\n",
    "\n",
    "### TODO: Create sampler for the PDE condition. Hint: sample from a product domain including x, t and c\n",
    "pde_sampler = ...\n",
    "\n",
    "### TODO: Create a random uniform sampler for the Dirichlet boundary condition:\n",
    "boundary_sampler = ...\n",
    "\n",
    "### TODO: Create a sampler for the two initial conditions:\n",
    "initial_sampler = ..."
   ]
  },
  {
   "cell_type": "code",
   "execution_count": 3,
   "metadata": {},
   "outputs": [],
   "source": [
    "### TODO: Create the neural network for the solution u, depending on the parameter c.\n",
    "###       The model of u should contain 3 hidden layers with 50 neurons each and should have\n",
    "###       X*T*C as an input space.\n",
    "model_u = ..."
   ]
  },
  {
   "cell_type": "code",
   "execution_count": 4,
   "metadata": {},
   "outputs": [],
   "source": [
    "### TODO: Define condition for the PDE:\n",
    "def pde_residual(c, u, t, x):\n",
    "    return ...\n",
    "\n",
    "pde_condition = ..."
   ]
  },
  {
   "cell_type": "code",
   "execution_count": 5,
   "metadata": {},
   "outputs": [],
   "source": [
    "### TODO: Define the Dirichlet boundary condition:\n",
    "def dirichlet_residual(u):\n",
    "    return u\n",
    "dirichlet_condition = ..."
   ]
  },
  {
   "cell_type": "code",
   "execution_count": 6,
   "metadata": {},
   "outputs": [],
   "source": [
    "### TODO: Define both initial conditions: one that sets the values and one that sets the derivatives, each at t=0.\n",
    "\n",
    "def initial_residual(u, x):\n",
    "    return ...\n",
    "initial_condition = ...\n",
    "\n",
    "def initial_derivative_residual(u, t):\n",
    "    return ...\n",
    "initial_derivative_condition = ..."
   ]
  },
  {
   "cell_type": "code",
   "execution_count": null,
   "metadata": {},
   "outputs": [],
   "source": [
    "### The optimizer is already implemented. Just fill in the conditions that should be optimized and you can start the training.\n",
    "\n",
    "optim = tp.OptimizerSetting(optimizer_class=torch.optim.Adam, lr=learning_rate)\n",
    "solver = tp.solver.Solver(train_conditions=[..., ..., ..., ...], optimizer_setting=optim)\n",
    "\n",
    "\n",
    "trainer = pl.Trainer(devices=1, accelerator=\"gpu\",\n",
    "                     max_steps=train_iterations,\n",
    "                     logger=False,\n",
    "                     benchmark=True)\n",
    "\n",
    "trainer.fit(solver)"
   ]
  },
  {
   "cell_type": "code",
   "execution_count": null,
   "metadata": {},
   "outputs": [],
   "source": [
    "### We can also plot the solution that we learned\n",
    "plot_domain = tp.domains.Parallelogram(X*T, [x_min, t_min], [x_max, t_min], [x_min, t_max])\n",
    "plot_sampler = tp.samplers.PlotSampler(plot_domain, 1000, data_for_other_variables={'c': 0.2})\n",
    "fig = tp.utils.plot(model_u, lambda u: u, plot_sampler, plot_type=\"contour_surface\")"
   ]
  },
  {
   "cell_type": "code",
   "execution_count": null,
   "metadata": {},
   "outputs": [],
   "source": [
    "# Or an animation:\n",
    "anim_sampler = tp.samplers.AnimationSampler(I_x, I_t, 200, n_points=250, data_for_other_variables={'c': 0.5})\n",
    "fig, anim = tp.utils.animate(model_u, lambda u: u, anim_sampler, ani_speed=40)\n",
    "anim.save('wave-eq.gif')\n",
    "# On Google colab you have at the left side a tab with a folder. There you should find the gif and can watch it."
   ]
  }
 ],
 "metadata": {
  "kernelspec": {
   "display_name": "bosch",
   "language": "python",
   "name": "python3"
  },
  "language_info": {
   "codemirror_mode": {
    "name": "ipython",
    "version": 3
   },
   "file_extension": ".py",
   "mimetype": "text/x-python",
   "name": "python",
   "nbconvert_exporter": "python",
   "pygments_lexer": "ipython3",
   "version": "3.9.4"
  },
  "orig_nbformat": 4
 },
 "nbformat": 4,
 "nbformat_minor": 2
}
