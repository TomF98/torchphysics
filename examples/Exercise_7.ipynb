{
 "cells": [
  {
   "attachments": {},
   "cell_type": "markdown",
   "metadata": {},
   "source": [
    "# Solving an inverse Problem with TorchPhysics and PINNs: Example 7\n",
    "We consider now the wave equation\n",
    "\n",
    "\\begin{align*}\n",
    "    \\partial_t^2 u &= c \\, \\partial_x^2 u, &&\\text{ in } I_x \\times I_t, \\\\\n",
    "    u &= 0 , &&\\text{ on } \\partial I_x \\times I_t, \\\\\n",
    "    (\\partial_t u)(\\cdot, 0) &= 0 , &&\\text{ in } I_x, \\\\\n",
    "    u(\\cdot, 0) &= \\sin(x) , &&\\text{ in } I_x,\n",
    "\\end{align*}\n",
    "\n",
    "with $I_x = [0, 2\\pi]$ and $I_t = [0, 5]$. We are given a noisy dataset $\\{(u_i, x_i, t_i)\\}_{i=1}^N$ and aim to determine the corresponding value of $c$. \n",
    "\n",
    "The data condition already enforces the correct shape of $u$, including boundary and initial conditions. Since $c$ is exclusively present in the PDE loss, we decide to not include the boundary and initial conditions as additional loss terms but train only PDE and data condition."
   ]
  },
  {
   "cell_type": "code",
   "execution_count": null,
   "metadata": {},
   "outputs": [],
   "source": [
    "!pip install torchaudio==0.13.0\n",
    "!pip install torchvision==0.14.0\n",
    "!pip install torchphysics"
   ]
  },
  {
   "cell_type": "code",
   "execution_count": null,
   "metadata": {},
   "outputs": [],
   "source": [
    "import torchphysics as tp\n",
    "import pytorch_lightning as pl\n",
    "import torch\n",
    "import math\n",
    "\n",
    "# Here all parameters are defined:\n",
    "t_min, t_max = 0.0, 5.0\n",
    "x_min, x_max = 0.0, 2 * math.pi \n",
    "\n",
    "# Number of training points \n",
    "N_pde = 20000\n",
    "\n",
    "# Training parameters\n",
    "train_iterations = 5000\n",
    "learning_rate = 1.e-3"
   ]
  },
  {
   "cell_type": "code",
   "execution_count": 2,
   "metadata": {},
   "outputs": [],
   "source": [
    "X = tp.spaces.R1('x')\n",
    "T = tp.spaces.R1('t')\n",
    "U = tp.spaces.R1('u')\n",
    "C = tp.spaces.R1('c')\n",
    "\n",
    "### TODO: Define the domain omega and time interval \n",
    "I_x = ...\n",
    "I_t = ...\n",
    "\n",
    "### TODO: Create random uniform sampler for the PDE condition inside I_x x I_t\n",
    "pde_sampler = ..."
   ]
  },
  {
   "cell_type": "code",
   "execution_count": 3,
   "metadata": {},
   "outputs": [],
   "source": [
    "### TODO: Create the learnable parameter c.\n",
    "###       For the parameter c use `tp.models.Parameter`, and provide an initialization value of the parameter init=, and the space of the param via space=\n",
    "model_u = tp.models.FCN(input_space=X*T, output_space=U, hidden = (50,50,50))\n",
    "param_C = ..."
   ]
  },
  {
   "cell_type": "code",
   "execution_count": 4,
   "metadata": {},
   "outputs": [],
   "source": [
    "### TODO: Define condition for the PDE:\n",
    "def pde_residual(c, u, t, x):\n",
    "    return ...\n",
    "\n",
    "### NOTE: the Condition now takes the parameter as an input, to optimize it alongside the model.\n",
    "pde_condition = tp.conditions.PINNCondition(model_u, pde_sampler, pde_residual, parameter=param_C)"
   ]
  },
  {
   "cell_type": "markdown",
   "metadata": {},
   "source": [
    "To learn some unknown parameter, we also need solution data:"
   ]
  },
  {
   "cell_type": "code",
   "execution_count": null,
   "metadata": {},
   "outputs": [],
   "source": [
    "### Here, we load the data. First download it from GitHub and then read it with\n",
    "### PyTorch. `in_data` contains combinations of X*T points and 'out_data' the \n",
    "### coressponding ampltidue of the wave.\n",
    "\n",
    "!wget https://github.com/TomF98/torchphysics/raw/KoMSO-Workshop/examples/SolutionData/Ex_7/wave_in_data.pt\n",
    "!wget https://github.com/TomF98/torchphysics/raw/KoMSO-Workshop/examples/SolutionData/Ex_7/wave_out_data.pt"
   ]
  },
  {
   "cell_type": "code",
   "execution_count": 18,
   "metadata": {},
   "outputs": [],
   "source": [
    "out_data = torch.load('wave_out_data.pt')\n",
    "in_data = torch.load('wave_in_data.pt')"
   ]
  },
  {
   "cell_type": "code",
   "execution_count": 19,
   "metadata": {},
   "outputs": [],
   "source": [
    "### TODO: add 1% random noise to the output data. Hint: torch.rand_like(a) creates random uniform noise with the same shape etc. as a\n",
    "\n",
    "out_data += ..."
   ]
  },
  {
   "cell_type": "code",
   "execution_count": 8,
   "metadata": {},
   "outputs": [],
   "source": [
    "### Transform the data from the previous cell into `tp.spaces.Points` objects, to\n",
    "### assign them a space and enable TorchPhysics to work with them:\n",
    "in_data_points = tp.spaces.Points(in_data, X*T)\n",
    "# TODO, hint: the output space is U\n",
    "out_data_points = ...\n",
    "\n",
    "### Here we create a DataLoader, that passes the above data to the conditions and\n",
    "### also controls the batch size, the device (CPU or GPU) and more...\n",
    "data_loader = tp.utils.PointsDataLoader((in_data_points, out_data_points), batch_size=len(in_data))"
   ]
  },
  {
   "cell_type": "markdown",
   "metadata": {},
   "source": [
    "A DataCondition minimizes the distance between the outputs of the NN and given data points."
   ]
  },
  {
   "cell_type": "code",
   "execution_count": 9,
   "metadata": {},
   "outputs": [],
   "source": [
    "### TODO: Complete the data condtion given below, by inserting the missing \n",
    "###       keywords.\n",
    "data_condition = tp.conditions.DataCondition(module=model_u,\n",
    "                                             dataloader=data_loader,\n",
    "                                             norm=2, use_full_dataset=True,\n",
    "                                             weight=50) "
   ]
  },
  {
   "cell_type": "markdown",
   "metadata": {},
   "source": [
    "First, we optimize using the Adam optimizer."
   ]
  },
  {
   "cell_type": "code",
   "execution_count": null,
   "metadata": {},
   "outputs": [],
   "source": [
    "optim = tp.OptimizerSetting(optimizer_class=torch.optim.Adam, lr=learning_rate)\n",
    "solver = tp.solver.Solver(train_conditions=[data_condition, pde_condition], optimizer_setting=optim)\n",
    "\n",
    "\n",
    "trainer = pl.Trainer(gpus=1 if torch.cuda.is_available() else None,\n",
    "                     max_steps=train_iterations,\n",
    "                     logger=False,\n",
    "                     benchmark=True)\n",
    "                     \n",
    "trainer.fit(solver)"
   ]
  },
  {
   "cell_type": "markdown",
   "metadata": {},
   "source": [
    "Optional: try to improve the results by using LBFGS, a second-order optimizer that works only with constant inputs in every iteration."
   ]
  },
  {
   "cell_type": "code",
   "execution_count": null,
   "metadata": {},
   "outputs": [],
   "source": [
    "optim = tp.OptimizerSetting(optimizer_class=torch.optim.LBFGS, lr=0.5, optimizer_args={'max_iter': 3})\n",
    "pde_condition.sampler = pde_condition.sampler.make_static()\n",
    "solver = tp.solver.Solver([pde_condition, data_condition], optimizer_setting=optim)\n",
    "\n",
    "trainer = pl.Trainer(gpus=1 if torch.cuda.is_available() else None,\n",
    "                     max_steps=1000,\n",
    "                     logger=False,\n",
    "                     benchmark=True)\n",
    "                     \n",
    "trainer.fit(solver)"
   ]
  },
  {
   "cell_type": "code",
   "execution_count": null,
   "metadata": {},
   "outputs": [],
   "source": [
    "print(\"Correct value of c is: 0.742\")\n",
    "print(\"With PINNs we computed the value:\", param_C.as_tensor.item())\n",
    "print(\"Relative difference is:\", abs(0.742 - param_C.as_tensor.item()) / 0.742)"
   ]
  },
  {
   "cell_type": "code",
   "execution_count": null,
   "metadata": {},
   "outputs": [],
   "source": [
    "### We can also plot the solution that we learned\n",
    "plot_domain = tp.domains.Parallelogram(X*T, [0, 0], [x_max, 0], [0, t_max])\n",
    "plot_sampler = tp.samplers.PlotSampler(plot_domain, 1000)\n",
    "fig = tp.utils.plot(model_u, lambda u: u, plot_sampler, plot_type=\"contour_surface\")"
   ]
  },
  {
   "cell_type": "code",
   "execution_count": null,
   "metadata": {},
   "outputs": [],
   "source": [
    "# Or an animation:\n",
    "anim_sampler = tp.samplers.AnimationSampler(I_x, I_t, 200, n_points=250)\n",
    "fig, anim = tp.utils.animate(model_u, lambda u: u, anim_sampler, ani_speed=40)\n",
    "anim.save('wave-eq.gif')\n",
    "# On Google colab you have at the left side a tab with a folder. There you should find the gif and can watch it."
   ]
  }
 ],
 "metadata": {
  "kernelspec": {
   "display_name": "bosch",
   "language": "python",
   "name": "python3"
  },
  "language_info": {
   "codemirror_mode": {
    "name": "ipython",
    "version": 3
   },
   "file_extension": ".py",
   "mimetype": "text/x-python",
   "name": "python",
   "nbconvert_exporter": "python",
   "pygments_lexer": "ipython3",
   "version": "3.9.4"
  },
  "orig_nbformat": 4
 },
 "nbformat": 4,
 "nbformat_minor": 2
}
