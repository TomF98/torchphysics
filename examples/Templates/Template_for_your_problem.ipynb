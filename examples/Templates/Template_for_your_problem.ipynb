{
 "cells": [
  {
   "cell_type": "markdown",
   "metadata": {},
   "source": [
    "# Template to implement your own problem\n",
    "We prepared the installation lines, to use TorchPhysics to start working on your own problem.\n",
    "\n",
    "Try to keep it simple at the start and maybe only implement a small sub-problem of your equation.\n",
    "\n",
    "You can also take a look at documentation if you need some specific functionalities: [Link to docs](https://torchphysics.readthedocs.io/en/latest/)"
   ]
  },
  {
   "cell_type": "code",
   "execution_count": null,
   "metadata": {},
   "outputs": [],
   "source": [
    "# This block is for GPU selection. Please execute.\n",
    "import pathlib\n",
    "import os\n",
    "user = int(str(pathlib.Path().resolve())[22:24])\n",
    "if user <= 21: \n",
    "    gpu_device = str(user % 7) # moriarty\n",
    "else: gpu_device = str(user % 4) # neptuno\n",
    "os.environ[\"CUDA_VISIBLE_DEVICES\"]= gpu_device"
   ]
  },
  {
   "cell_type": "code",
   "execution_count": null,
   "metadata": {},
   "outputs": [],
   "source": [
    "import torchphysics as tp\n",
    "import torch\n",
    "import math"
   ]
  }
 ],
 "metadata": {
  "language_info": {
   "name": "python"
  },
  "orig_nbformat": 4
 },
 "nbformat": 4,
 "nbformat_minor": 2
}
