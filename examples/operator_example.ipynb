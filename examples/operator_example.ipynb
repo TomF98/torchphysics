{
 "cells": [
  {
   "cell_type": "code",
   "execution_count": 9,
   "metadata": {},
   "outputs": [],
   "source": [
    "import torchphysics as tp \n",
    "import torch\n",
    "import pytorch_lightning as pl\n",
    "# Test to learn integrator f -> u with u' = f (data driven)\n",
    "\n",
    "T = tp.spaces.R1(\"t\") # trunk input\n",
    "U = tp.spaces.R1(\"u\") # solution\n",
    "F = tp.spaces.R1(\"f\") # branch input\n",
    "\n",
    "input_space = tp.spaces.FunctionSpace(T, F)\n",
    "solution_space = tp.spaces.FunctionSpace(T, U)"
   ]
  },
  {
   "cell_type": "code",
   "execution_count": 10,
   "metadata": {},
   "outputs": [
    {
     "name": "stdout",
     "output_type": "stream",
     "text": [
      "Shapes of data:\n",
      "Function input: torch.Size([1000, 100, 1])\n",
      "Expected output: torch.Size([1000, 100, 1])\n"
     ]
    }
   ],
   "source": [
    "# create some dummy data:\n",
    "N_B = 1000\n",
    "N_grid = 100\n",
    "rhs_params = torch.randn((1000, 1))\n",
    "point_grid = torch.linspace(0, 1, N_grid).unsqueeze(0)\n",
    "fn_input = (rhs_params * point_grid).unsqueeze(-1)\n",
    "expected_output = (rhs_params/2.0 * point_grid**2).unsqueeze(-1)\n",
    "\n",
    "print(\"Shapes of data:\")\n",
    "print(\"Function input:\", fn_input.shape)\n",
    "print(\"Expected output:\", expected_output.shape)"
   ]
  },
  {
   "cell_type": "code",
   "execution_count": 11,
   "metadata": {},
   "outputs": [],
   "source": [
    "data_functionset_input = tp.domains.DataFunctionSet(input_space, fn_input)\n",
    "data_functionset_solution = tp.domains.DataFunctionSet(solution_space, expected_output)\n",
    "\n",
    "N_branch = 200\n",
    "functionsampler_input = tp.samplers.FunctionSamplerRandomUniform(N_branch, data_functionset_input, 1)\n",
    "functionsampler_solution = tp.samplers.FunctionSamplerCoupled(data_functionset_solution, functionsampler_input)"
   ]
  },
  {
   "cell_type": "code",
   "execution_count": null,
   "metadata": {},
   "outputs": [],
   "source": [
    "#model = tp.models.FNO(F, U, fourier_layers=2, hidden_channels=8, fourier_modes=2)\n",
    "\n",
    "\n",
    "data_functionset_input.compute_pca(4)\n",
    "data_functionset_solution.compute_pca(4)\n",
    "model = tp.models.PCANN_FC.from_fn_set(\n",
    "    data_functionset_input, data_functionset_solution\n",
    ")\n",
    "\n",
    "#trunk_net = tp.models.FCTrunkNet(T, torch.linspace(0, 1, N_grid).unsqueeze(-1), hidden=(10, 10))\n",
    "#branch_net = tp.models.FCBranchNet(input_space, hidden=(20, 20), \n",
    "#                                   grid=point_grid.unsqueeze(-1))\n",
    "#model = tp.models.DeepONet(trunk_net, branch_net, U, output_neurons=20)"
   ]
  },
  {
   "cell_type": "code",
   "execution_count": 13,
   "metadata": {},
   "outputs": [],
   "source": [
    "data_condition = tp.conditions.OperatorCondition(module=model, \n",
    "                                                input_function_sampler=functionsampler_input, \n",
    "                                                output_function_sampler=functionsampler_solution)"
   ]
  },
  {
   "cell_type": "code",
   "execution_count": 14,
   "metadata": {},
   "outputs": [
    {
     "name": "stderr",
     "output_type": "stream",
     "text": [
      "GPU available: True, used: True\n",
      "TPU available: False, using: 0 TPU cores\n",
      "LOCAL_RANK: 0 - CUDA_VISIBLE_DEVICES: [0,1,2,3]\n",
      "\n",
      "  | Name             | Type       | Params\n",
      "------------------------------------------------\n",
      "0 | train_conditions | ModuleList | 201   \n",
      "1 | val_conditions   | ModuleList | 0     \n",
      "------------------------------------------------\n",
      "201       Trainable params\n",
      "0         Non-trainable params\n",
      "201       Total params\n",
      "0.001     Total estimated model params size (MB)\n",
      "/home/tomfre/miniconda3/envs/bosch/lib/python3.9/site-packages/pytorch_lightning/utilities/distributed.py:69: UserWarning: The dataloader, train dataloader, does not have many workers which may be a bottleneck. Consider increasing the value of the `num_workers` argument` (try 20 which is the number of cpus on this machine) in the `DataLoader` init to improve performance.\n",
      "  warnings.warn(*args, **kwargs)\n",
      "/home/tomfre/miniconda3/envs/bosch/lib/python3.9/site-packages/pytorch_lightning/utilities/distributed.py:69: UserWarning: The dataloader, val dataloader 0, does not have many workers which may be a bottleneck. Consider increasing the value of the `num_workers` argument` (try 20 which is the number of cpus on this machine) in the `DataLoader` init to improve performance.\n",
      "  warnings.warn(*args, **kwargs)\n"
     ]
    },
    {
     "data": {
      "application/vnd.jupyter.widget-view+json": {
       "model_id": "b6ea90365f724be694584eff9616b3d9",
       "version_major": 2,
       "version_minor": 0
      },
      "text/plain": [
       "Training: 0it [00:00, ?it/s]"
      ]
     },
     "metadata": {},
     "output_type": "display_data"
    },
    {
     "data": {
      "application/vnd.jupyter.widget-view+json": {
       "model_id": "4e21f54710ad4883bca2f8048f7c8077",
       "version_major": 2,
       "version_minor": 0
      },
      "text/plain": [
       "Validating: 0it [00:00, ?it/s]"
      ]
     },
     "metadata": {},
     "output_type": "display_data"
    }
   ],
   "source": [
    "optim = tp.OptimizerSetting(optimizer_class=torch.optim.Adam, lr=0.0005)\n",
    "\n",
    "solver = tp.solver.Solver([data_condition], optimizer_setting=optim)\n",
    "\n",
    "trainer = pl.Trainer(gpus=1,\n",
    "                     num_sanity_val_steps=0,\n",
    "                     benchmark=True,\n",
    "                     max_steps=5000, \n",
    "                     logger=False)\n",
    "\n",
    "trainer.fit(solver)"
   ]
  },
  {
   "cell_type": "code",
   "execution_count": 15,
   "metadata": {},
   "outputs": [
    {
     "data": {
      "image/png": "[encoded data removed]",
      "text/plain": [
       "<Figure size 432x288 with 1 Axes>"
      ]
     },
     "metadata": {
      "needs_background": "light"
     },
     "output_type": "display_data"
    }
   ],
   "source": [
    "scale = 0.2\n",
    "test_fn_input = (scale * point_grid.unsqueeze(-1))\n",
    "if isinstance(model, tp.models.DeepONet):\n",
    "    model_out = model(None, test_fn_input).as_tensor\n",
    "else:\n",
    "    model_out = model(test_fn_input).as_tensor\n",
    "\n",
    "import matplotlib.pyplot as plt\n",
    "\n",
    "plt.plot(point_grid.unsqueeze(-1)[0], model_out.detach()[0])\n",
    "plt.plot(point_grid.unsqueeze(-1)[0], scale/2.0*point_grid.unsqueeze(-1)[0]**2)\n",
    "plt.legend([\"learned\", \"reference\"])\n",
    "plt.grid()"
   ]
  }
 ],
 "metadata": {
  "kernelspec": {
   "display_name": "bosch",
   "language": "python",
   "name": "python3"
  },
  "language_info": {
   "codemirror_mode": {
    "name": "ipython",
    "version": 3
   },
   "file_extension": ".py",
   "mimetype": "text/x-python",
   "name": "python",
   "nbconvert_exporter": "python",
   "pygments_lexer": "ipython3",
   "version": "3.9.15"
  }
 },
 "nbformat": 4,
 "nbformat_minor": 2
}
