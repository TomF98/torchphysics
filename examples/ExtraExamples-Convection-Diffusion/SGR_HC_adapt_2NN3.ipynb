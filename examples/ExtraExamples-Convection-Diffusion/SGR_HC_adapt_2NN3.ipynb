{
 "cells": [
  {
   "cell_type": "code",
   "execution_count": null,
   "metadata": {},
   "outputs": [],
   "source": []
  },
  {
   "cell_type": "markdown",
   "metadata": {},
   "source": [
    "# PINN: Singularly perturbed boundary value problem\n"
   ]
  },
  {
   "cell_type": "code",
   "execution_count": 11,
   "metadata": {},
   "outputs": [],
   "source": [
    "!pip install torchaudio==0.13.0\n",
    "!pip install torchvision==0.14.0\n",
    "!pip install torchphysics\n",
    "\n",
    "\n",
    "import torch\n",
    "import torchphysics as tp\n",
    "import math"
   ]
  },
  {
   "cell_type": "code",
   "execution_count": 12,
   "metadata": {},
   "outputs": [],
   "source": [
    "X = tp.spaces.R1('x')\n",
    "Y = tp.spaces.R1('y')\n",
    "D = tp.spaces.R2('D')\n",
    "A = tp.spaces.R2('a')\n",
    "\n",
    "U = tp.spaces.R1('u')"
   ]
  },
  {
   "cell_type": "code",
   "execution_count": 13,
   "metadata": {},
   "outputs": [],
   "source": [
    "h, w = 1, 1\n",
    "eps = 0.1\n",
    "R =-2"
   ]
  },
  {
   "cell_type": "code",
   "execution_count": 14,
   "metadata": {},
   "outputs": [],
   "source": [
    "Ix = tp.domains.Interval(X, 0, w)\n",
    "Iy = tp.domains.Interval(Y, 0, h)\n",
    "\n",
    "A_xy = Ix * Iy\n",
    "A_D = tp.domains.Parallelogram(D, [-1,-1], [-1.0,1], [1,-1.0])"
   ]
  },
  {
   "cell_type": "markdown",
   "metadata": {},
   "source": [
    "Before we visualize the created domain, we create Sampler objects which are iterators that sample points from the domain during the optimization task. There are again various options to sample from the domains, an easy way would be to sample uniformly distributed random points. In this example, we choose an adaptive sampler to sample points in the inner of the domain. It will sample more points in points where the loss is large.\n",
    "\n",
    "The amount of sampled points is defined by their density in the 3/2-dim subset, it could be increased to achieve better training results."
   ]
  },
  {
   "cell_type": "code",
   "execution_count": 15,
   "metadata": {},
   "outputs": [],
   "source": [
    "#inner_sampler = tp.samplers.AdaptiveRandomRejectionSampler(A_x*A_t*A_D, density=2)\n",
    "inner_sampler = tp.samplers.RandomUniformSampler(A_xy*A_D, n_points=100000) #vorher n_points=100000 statt density"
   ]
  },
  {
   "cell_type": "markdown",
   "metadata": {},
   "source": [
    "We visualize the domain through the points created by the samplers using matplotlib:"
   ]
  },
  {
   "cell_type": "code",
   "execution_count": 16,
   "metadata": {},
   "outputs": [
    {
     "data": {
      "image/png": "[encoded data removed]",
      "text/plain": [
       "<Figure size 432x288 with 1 Axes>"
      ]
     },
     "metadata": {
      "needs_background": "light"
     },
     "output_type": "display_data"
    }
   ],
   "source": [
    "fig = tp.utils.scatter(X*Y, inner_sampler)"
   ]
  },
  {
   "cell_type": "code",
   "execution_count": 17,
   "metadata": {},
   "outputs": [],
   "source": [
    "# apply boundary condition via hard constrains:\n",
    "def constrain_fn(u,x,y):   \n",
    "    u_con =  u *(x-w)/w * x/w * (y-h)/h *y/h\n",
    "   \n",
    "    return u_con"
   ]
  },
  {
   "cell_type": "markdown",
   "metadata": {},
   "source": [
    "In the next step we define the NN-model we want to fit to the PDE. A normalization can improve convergence for large or small domains."
   ]
  },
  {
   "cell_type": "code",
   "execution_count": 18,
   "metadata": {
    "scrolled": true
   },
   "outputs": [],
   "source": [
    "model_1 = tp.models.Sequential(\n",
    "    tp.models.NormalizationLayer(A_xy*A_D),\n",
    "    tp.models.FCN(input_space=X*Y*D, output_space=U, hidden=(60, 60, 60), xavier_gains=[5/3,5/3,0]))#,vorher 4 Netze mit 60\n",
    "    \n",
    "model_2 = tp.models.Sequential(\n",
    "    tp.models.NormalizationLayer(A_xy*A_D),\n",
    "    tp.models.FCN(input_space=X*Y*D, output_space=A, hidden=(60, 60, 60), xavier_gains=[5/3,5/3,0]))\n",
    "\n",
    "model=tp.models.Parallel(model_1,model_2)\n",
    "\n",
    "#if NN: \n",
    "#    model.load_state_dict(torch.load('PDE.pt')) #PDE_final; PDE_min_loss"
   ]
  },
  {
   "cell_type": "markdown",
   "metadata": {},
   "source": [
    "Now, we define a condition which aims to minimze the mean squared error of the residual of the poisson equation. "
   ]
  },
  {
   "cell_type": "code",
   "execution_count": 19,
   "metadata": {},
   "outputs": [],
   "source": [
    "def pde_residual(u, a, x, y, D):\n",
    "    u = constrain_fn(u,x,y)\n",
    "    conv_term = torch.sum(D*tp.utils.grad(u, x, y), dim=1, keepdim=True)\n",
    "    lap = tp.utils.div(a, x, y)\n",
    "    return (eps**0.5)*lap - conv_term + R\n",
    "\n",
    "pde_condition = tp.conditions.PINNCondition(module=model,\n",
    "                                            sampler=inner_sampler,\n",
    "                                            residual_fn=pde_residual,\n",
    "                                            name='pde_condition')\n",
    "\n",
    "def pde2_residual(u, a, x, y, D):\n",
    "    u = constrain_fn(u,x,y)\n",
    "    return a + (eps**0.5)*tp.utils.grad(u,x,y)\n",
    "\n",
    "pde2_condition = tp.conditions.PINNCondition(module=model,\n",
    "                                             sampler=inner_sampler,\n",
    "                                             residual_fn=pde2_residual,\n",
    "                                             name='pde2_condition')"
   ]
  },
  {
   "cell_type": "markdown",
   "metadata": {},
   "source": [
    "Finally, we optimize the conditions using a pytorch-lightning.LightningModule Solver and running the training. In the Solver, the training and validation conditions, as well as all optimizer options can be specified."
   ]
  },
  {
   "cell_type": "code",
   "execution_count": 20,
   "metadata": {
    "scrolled": false
   },
   "outputs": [
    {
     "name": "stderr",
     "output_type": "stream",
     "text": [
      "GPU available: False, used: False\n",
      "TPU available: False, using: 0 TPU cores\n",
      "IPU available: False, using: 0 IPUs\n",
      "HPU available: False, using: 0 HPUs\n",
      "\n",
      "  | Name             | Type       | Params\n",
      "------------------------------------------------\n",
      "0 | train_conditions | ModuleList | 15.5 K\n",
      "1 | val_conditions   | ModuleList | 0     \n",
      "------------------------------------------------\n",
      "15.5 K    Trainable params\n",
      "0         Non-trainable params\n",
      "15.5 K    Total params\n",
      "0.062     Total estimated model params size (MB)\n"
     ]
    },
    {
     "data": {
      "application/vnd.jupyter.widget-view+json": {
       "model_id": "",
       "version_major": 2,
       "version_minor": 0
      },
      "text/plain": [
       "Sanity Checking: 0it [00:00, ?it/s]"
      ]
     },
     "metadata": {},
     "output_type": "display_data"
    },
    {
     "name": "stderr",
     "output_type": "stream",
     "text": [
      "/home/inu2sh/.conda/envs/TorchPhysics/lib/python3.10/site-packages/pytorch_lightning/trainer/connectors/data_connector.py:240: PossibleUserWarning: The dataloader, val_dataloader 0, does not have many workers which may be a bottleneck. Consider increasing the value of the `num_workers` argument` (try 36 which is the number of cpus on this machine) in the `DataLoader` init to improve performance.\n",
      "  rank_zero_warn(\n",
      "/home/inu2sh/.conda/envs/TorchPhysics/lib/python3.10/site-packages/pytorch_lightning/trainer/connectors/data_connector.py:240: PossibleUserWarning: The dataloader, train_dataloader, does not have many workers which may be a bottleneck. Consider increasing the value of the `num_workers` argument` (try 36 which is the number of cpus on this machine) in the `DataLoader` init to improve performance.\n",
      "  rank_zero_warn(\n"
     ]
    },
    {
     "data": {
      "application/vnd.jupyter.widget-view+json": {
       "model_id": "c77df8637c1a4973baebf7ac6388153f",
       "version_major": 2,
       "version_minor": 0
      },
      "text/plain": [
       "Training: 0it [00:00, ?it/s]"
      ]
     },
     "metadata": {},
     "output_type": "display_data"
    },
    {
     "data": {
      "application/vnd.jupyter.widget-view+json": {
       "model_id": "",
       "version_major": 2,
       "version_minor": 0
      },
      "text/plain": [
       "Validation: 0it [00:00, ?it/s]"
      ]
     },
     "metadata": {},
     "output_type": "display_data"
    }
   ],
   "source": [
    "optim = tp.solver.OptimizerSetting(torch.optim.Adam, lr=1e-3)\n",
    "solver = tp.solver.Solver([pde_condition,pde2_condition], optimizer_setting = optim)\n",
    "\n",
    "import pytorch_lightning as pl\n",
    "\n",
    "\n",
    "trainer = pl.Trainer(gpus= 0 if torch.cuda.is_available else None,\n",
    "                     max_steps=15000,\n",
    "                     benchmark=True,\n",
    "                     logger=True)\n",
    "                     #checkpoint_callback=False)\n",
    "trainer.fit(solver)"
   ]
  },
  {
   "cell_type": "markdown",
   "metadata": {},
   "source": [
    "Finally, we plot the obtained solution:"
   ]
  },
  {
   "cell_type": "code",
   "execution_count": 21,
   "metadata": {
    "scrolled": true
   },
   "outputs": [
    {
     "name": "stderr",
     "output_type": "stream",
     "text": [
      "GPU available: False, used: False\n",
      "TPU available: False, using: 0 TPU cores\n",
      "IPU available: False, using: 0 IPUs\n",
      "HPU available: False, using: 0 HPUs\n",
      "\n",
      "  | Name             | Type       | Params\n",
      "------------------------------------------------\n",
      "0 | train_conditions | ModuleList | 15.5 K\n",
      "1 | val_conditions   | ModuleList | 0     \n",
      "------------------------------------------------\n",
      "15.5 K    Trainable params\n",
      "0         Non-trainable params\n",
      "15.5 K    Total params\n",
      "0.062     Total estimated model params size (MB)\n"
     ]
    },
    {
     "data": {
      "application/vnd.jupyter.widget-view+json": {
       "model_id": "",
       "version_major": 2,
       "version_minor": 0
      },
      "text/plain": [
       "Sanity Checking: 0it [00:00, ?it/s]"
      ]
     },
     "metadata": {},
     "output_type": "display_data"
    },
    {
     "data": {
      "application/vnd.jupyter.widget-view+json": {
       "model_id": "d8a01cc1dcdc41e5a5fa87101a2404be",
       "version_major": 2,
       "version_minor": 0
      },
      "text/plain": [
       "Training: 0it [00:00, ?it/s]"
      ]
     },
     "metadata": {},
     "output_type": "display_data"
    },
    {
     "data": {
      "application/vnd.jupyter.widget-view+json": {
       "model_id": "",
       "version_major": 2,
       "version_minor": 0
      },
      "text/plain": [
       "Validation: 0it [00:00, ?it/s]"
      ]
     },
     "metadata": {},
     "output_type": "display_data"
    }
   ],
   "source": [
    "optim = tp.solver.OptimizerSetting(torch.optim.Adam, lr=1e-4)\n",
    "#optim = tp.solver.OptimizerSetting(torch.optim.LBFGS, lr=1e-3)\n",
    "optim = tp.solver.OptimizerSetting(torch.optim.LBFGS, lr=1e-2)#SGD, LBFGS\n",
    "solver = tp.solver.Solver([pde_condition,pde2_condition], optimizer_setting = optim)\n",
    "\n",
    "import pytorch_lightning as pl\n",
    "\n",
    "\n",
    "trainer = pl.Trainer(gpus= 0 if torch.cuda.is_available else None,\n",
    "                     max_steps=2000,\n",
    "                     benchmark=True,\n",
    "                     logger=True)\n",
    "                     #checkpoint_callback=False)\n",
    "trainer.fit(solver)"
   ]
  },
  {
   "cell_type": "code",
   "execution_count": 22,
   "metadata": {
    "scrolled": true
   },
   "outputs": [
    {
     "name": "stderr",
     "output_type": "stream",
     "text": [
      "/home/inu2sh/.conda/envs/TorchPhysics/lib/python3.10/site-packages/torch/functional.py:568: UserWarning: torch.meshgrid: in an upcoming release, it will be required to pass the indexing argument. (Triggered internally at  /opt/conda/conda-bld/pytorch_1646755897462/work/aten/src/ATen/native/TensorShape.cpp:2228.)\n",
      "  return _VF.meshgrid(tensors, **kwargs)  # type: ignore[attr-defined]\n",
      "/home/inu2sh/.conda/envs/TorchPhysics/lib/python3.10/site-packages/torchphysics/problem/domains/domain2D/parallelogram.py:134: UserWarning: The use of `x.T` on tensors of dimension other than 2 to reverse their shape is deprecated and it will throw an error in a future release. Consider `x.mT` to transpose batches of matricesor `x.permute(*torch.arange(x.ndim - 1, -1, -1))` to reverse the dimensions of a tensor. (Triggered internally at  /opt/conda/conda-bld/pytorch_1646755897462/work/aten/src/ATen/native/TensorShape.cpp:2318.)\n",
      "  bary_coords = torch.stack(torch.meshgrid((x, y))).T.reshape(-1, 2)\n",
      "/home/inu2sh/.conda/envs/TorchPhysics/lib/python3.10/site-packages/torchphysics/utils/plotting/plot_functions.py:416: UserWarning: Creating a tensor from a list of numpy.ndarrays is extremely slow. Please consider converting the list to a single numpy.ndarray with numpy.array() before converting to a tensor. (Triggered internally at  /opt/conda/conda-bld/pytorch_1646755897462/work/torch/csrc/utils/tensor_new.cpp:210.)\n",
      "  embed_point = Points(torch.tensor([center]), domain.space)\n"
     ]
    },
    {
     "data": {
      "image/png": "[encoded data removed]",
      "text/plain": [
       "<Figure size 432x288 with 2 Axes>"
      ]
     },
     "metadata": {
      "needs_background": "light"
     },
     "output_type": "display_data"
    }
   ],
   "source": [
    "import matplotlib.pyplot as plt\n",
    "import numpy as np\n",
    "\n",
    "\n",
    "xy_plot = tp.domains.Parallelogram(X*Y, [0, 0], [w, 0], [0, h])\n",
    "plot_sampler = tp.samplers.PlotSampler(xy_plot, n_points=1000, \n",
    "                                       data_for_other_variables={'D': [0,0]})##\n",
    "\n",
    "fig = tp.utils.plot(model, constrain_fn, plot_sampler, plot_type=\"contour_surface\")#\n",
    "#name = str(round(i/3.0, 3)) + \",\" + str(round(j/3.0, 3))\n",
    "\n",
    "#plt.title('D=[1,1]')\n",
    "plt.savefig(\"SGR_HC_App2NN.png\")\n",
    "plt.show()\n"
   ]
  },
  {
   "cell_type": "code",
   "execution_count": 23,
   "metadata": {},
   "outputs": [],
   "source": [
    "torch.save(model.state_dict(), 'PDE_SGR_2NN3.pt')"
   ]
  },
  {
   "cell_type": "code",
   "execution_count": 24,
   "metadata": {},
   "outputs": [
    {
     "name": "stdout",
     "output_type": "stream",
     "text": [
      "Zeit =  0.012203693389892578\n",
      "Maximum =  tensor(0.9115)\n"
     ]
    }
   ],
   "source": [
    "import time\n",
    "# Ausgabe des Maximum der Lösung\n",
    "N = 200\n",
    "\n",
    "## Gitter erzeugen\n",
    "xi = np.linspace(0,1,N)\n",
    "yi = np.linspace(0,1,N)\n",
    "XX, YY = np.meshgrid(xi, yi)\n",
    "\n",
    "## In Tensor umwandeln\n",
    "in_data = torch.zeros((N**2, 4))\n",
    "in_data[:, :1]  = torch.tensor(XX).reshape(-1, 1)\n",
    "in_data[:, 1:2] = torch.tensor(YY).reshape(-1, 1)\n",
    "     \n",
    "in_data[:, 2] = -1\n",
    "in_data[:, 3] = 1\n",
    "\n",
    "## Model laden und mit constrains kombinieren\n",
    "t1 = time.time()\n",
    "out = model(tp.spaces.Points(in_data, X*Y*D)).as_tensor.detach()\n",
    "out = constrain_fn(out, in_data[:, :1], in_data[:, 1:2])\n",
    "t2 = time.time()\n",
    "print('Zeit = ', t2-t1)\n",
    "print('Maximum = ',torch.max(out))"
   ]
  }
 ],
 "metadata": {
  "kernelspec": {
   "display_name": "Python [conda env:.conda-TorchPhysics]",
   "language": "python",
   "name": "conda-env-.conda-TorchPhysics-py"
  },
  "language_info": {
   "codemirror_mode": {
    "name": "ipython",
    "version": 3
   },
   "file_extension": ".py",
   "mimetype": "text/x-python",
   "name": "python",
   "nbconvert_exporter": "python",
   "pygments_lexer": "ipython3",
   "version": "3.10.4"
  }
 },
 "nbformat": 4,
 "nbformat_minor": 2
}
