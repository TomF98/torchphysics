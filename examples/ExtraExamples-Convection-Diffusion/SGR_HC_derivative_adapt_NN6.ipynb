{
 "cells": [
  {
   "cell_type": "markdown",
   "metadata": {},
   "source": [
    "# PINN: Singularly perturbed boundary value problem\n"
   ]
  },
  {
   "cell_type": "code",
   "execution_count": 18,
   "metadata": {},
   "outputs": [
    {
     "data": {
      "text/plain": [
       "True"
      ]
     },
     "execution_count": 18,
     "metadata": {},
     "output_type": "execute_result"
    }
   ],
   "source": [
    "!pip install torchaudio==0.13.0\n",
    "!pip install torchvision==0.14.0\n",
    "!pip install torchphysics\n",
    "\n",
    "import torch\n",
    "import torchphysics as tp\n",
    "import math\n",
    "torch.cuda.is_available()"
   ]
  },
  {
   "cell_type": "code",
   "execution_count": 19,
   "metadata": {},
   "outputs": [],
   "source": [
    "X = tp.spaces.R1('x')\n",
    "Y = tp.spaces.R1('y')\n",
    "D = tp.spaces.R2('D')\n",
    "A = tp.spaces.R2('a')\n",
    "\n",
    "U = tp.spaces.R1('u')"
   ]
  },
  {
   "cell_type": "code",
   "execution_count": 20,
   "metadata": {},
   "outputs": [],
   "source": [
    "h, w = 1, 1\n",
    "eps = 0.1\n",
    "R = -2"
   ]
  },
  {
   "cell_type": "code",
   "execution_count": 21,
   "metadata": {},
   "outputs": [],
   "source": [
    "Ix = tp.domains.Interval(X, 0, w)\n",
    "Iy = tp.domains.Interval(Y, 0, h)\n",
    "\n",
    "A_xy = Ix * Iy\n",
    "A_D = tp.domains.Parallelogram(D, [-1,-1], [-1.0,1], [1,-1.0])"
   ]
  },
  {
   "cell_type": "markdown",
   "metadata": {},
   "source": [
    "Before we visualize the created domain, we create Sampler objects which are iterators that sample points from the domain during the optimization task. There are again various options to sample from the domains, an easy way would be to sample uniformly distributed random points. In this example, we choose an adaptive sampler to sample points in the inner of the domain. It will sample more points in points where the loss is large.\n",
    "\n",
    "The amount of sampled points is defined by their density in the 3/2-dim subset, it could be increased to achieve better training results."
   ]
  },
  {
   "cell_type": "code",
   "execution_count": 22,
   "metadata": {},
   "outputs": [],
   "source": [
    "#inner_sampler = tp.samplers.AdaptiveRandomRejectionSampler(A_x*A_t*A_D, density=2)\n",
    "inner_sampler = tp.samplers.RandomUniformSampler(A_xy*A_D, n_points=100000) #vorher n_points=100000 statt density"
   ]
  },
  {
   "cell_type": "markdown",
   "metadata": {},
   "source": [
    "We visualize the domain through the points created by the samplers using matplotlib:"
   ]
  },
  {
   "cell_type": "code",
   "execution_count": 23,
   "metadata": {},
   "outputs": [
    {
     "data": {
      "image/png": "[encoded data removed]",
      "text/plain": [
       "<Figure size 432x288 with 1 Axes>"
      ]
     },
     "metadata": {
      "needs_background": "light"
     },
     "output_type": "display_data"
    }
   ],
   "source": [
    "fig = tp.utils.scatter(X*Y, inner_sampler)"
   ]
  },
  {
   "cell_type": "code",
   "execution_count": 24,
   "metadata": {},
   "outputs": [],
   "source": [
    "# apply boundary condition via hard constrains:\n",
    "def constrain_fn(u,x,y):   \n",
    "    u_con =  u *(x-w)/w * x/w * (y-h)/h *y/h\n",
    "   \n",
    "    return u_con"
   ]
  },
  {
   "cell_type": "markdown",
   "metadata": {},
   "source": [
    "In the next step we define the NN-model we want to fit to the PDE. A normalization can improve convergence for large or small domains."
   ]
  },
  {
   "cell_type": "code",
   "execution_count": 25,
   "metadata": {
    "scrolled": true
   },
   "outputs": [],
   "source": [
    "model = tp.models.Sequential(\n",
    "    tp.models.NormalizationLayer(A_xy*A_D),\n",
    "    tp.models.FCN(input_space=X*Y*D, output_space=U*A, hidden=(60, 60, 60, 60, 60, 60 ), \n",
    "                  xavier_gains=[5/3,5/3,5/3,5/3,5/3,0]))#,vorher 4 Netze mit 60\n",
    "\n",
    "#if NN: \n",
    "    #model.load_state_dict(torch.load('PDE.pt')) #PDE_final; PDE_min_loss"
   ]
  },
  {
   "cell_type": "markdown",
   "metadata": {},
   "source": [
    "Now, we define a condition which aims to minimze the mean squared error of the residual of the poisson equation. "
   ]
  },
  {
   "cell_type": "code",
   "execution_count": 26,
   "metadata": {},
   "outputs": [],
   "source": [
    "def pde_residual(u, a, x, y, D):\n",
    "    u = constrain_fn(u,x,y)\n",
    "    conv_term = torch.sum(D*tp.utils.grad(u, x, y), dim=1, keepdim=True)\n",
    "    lap = tp.utils.div(a, x, y)\n",
    "    return (eps**0.5)*lap - conv_term + R\n",
    "\n",
    "pde_condition = tp.conditions.PINNCondition(module=model,\n",
    "                                            sampler=inner_sampler,\n",
    "                                            residual_fn=pde_residual,\n",
    "                                            name='pde_condition')\n",
    "\n",
    "def pde2_residual(u, a, x, y, D):\n",
    "    u = constrain_fn(u,x,y)\n",
    "    return a + (eps**0.5)*tp.utils.grad(u,x,y)\n",
    "\n",
    "pde2_condition = tp.conditions.PINNCondition(module=model,\n",
    "                                             sampler=inner_sampler,\n",
    "                                             residual_fn=pde2_residual,\n",
    "                                             name='pde2_condition')"
   ]
  },
  {
   "cell_type": "markdown",
   "metadata": {},
   "source": [
    "Finally, we optimize the conditions using a pytorch-lightning.LightningModule Solver and running the training. In the Solver, the training and validation conditions, as well as all optimizer options can be specified."
   ]
  },
  {
   "cell_type": "code",
   "execution_count": 27,
   "metadata": {},
   "outputs": [
    {
     "name": "stderr",
     "output_type": "stream",
     "text": [
      "GPU available: True, used: True\n",
      "TPU available: False, using: 0 TPU cores\n",
      "IPU available: False, using: 0 IPUs\n",
      "HPU available: False, using: 0 HPUs\n",
      "LOCAL_RANK: 0 - CUDA_VISIBLE_DEVICES: [0,1]\n",
      "\n",
      "  | Name             | Type       | Params\n",
      "------------------------------------------------\n",
      "0 | train_conditions | ModuleList | 18.8 K\n",
      "1 | val_conditions   | ModuleList | 0     \n",
      "------------------------------------------------\n",
      "18.8 K    Trainable params\n",
      "0         Non-trainable params\n",
      "18.8 K    Total params\n",
      "0.075     Total estimated model params size (MB)\n"
     ]
    },
    {
     "data": {
      "application/vnd.jupyter.widget-view+json": {
       "model_id": "",
       "version_major": 2,
       "version_minor": 0
      },
      "text/plain": [
       "Sanity Checking: 0it [00:00, ?it/s]"
      ]
     },
     "metadata": {},
     "output_type": "display_data"
    },
    {
     "data": {
      "application/vnd.jupyter.widget-view+json": {
       "model_id": "c2525240bcbf476897fc5dc1c97ddf02",
       "version_major": 2,
       "version_minor": 0
      },
      "text/plain": [
       "Training: 0it [00:00, ?it/s]"
      ]
     },
     "metadata": {},
     "output_type": "display_data"
    },
    {
     "data": {
      "application/vnd.jupyter.widget-view+json": {
       "model_id": "",
       "version_major": 2,
       "version_minor": 0
      },
      "text/plain": [
       "Validation: 0it [00:00, ?it/s]"
      ]
     },
     "metadata": {},
     "output_type": "display_data"
    }
   ],
   "source": [
    "optim = tp.solver.OptimizerSetting(torch.optim.Adam, lr=1e-3)\n",
    "#optim = tp.solver.OptimizerSetting(torch.optim.LBFGS, lr=1e-2)#SGD, LBFGS\n",
    "solver = tp.solver.Solver([pde_condition,pde2_condition], optimizer_setting = optim)\n",
    "\n",
    "import pytorch_lightning as pl\n",
    "\n",
    "#gpus='-1' if torch.cuda.is_available() else None\n",
    "#accelerator='gpu', devices='-1'\n",
    "trainer = pl.Trainer(gpus='1' if torch.cuda.is_available() else None,\n",
    "                     max_steps=15000,\n",
    "                     benchmark=True,\n",
    "                     logger=True)\n",
    "                     #checkpoint_callback=False)\n",
    "trainer.fit(solver)"
   ]
  },
  {
   "cell_type": "markdown",
   "metadata": {},
   "source": []
  },
  {
   "cell_type": "code",
   "execution_count": 35,
   "metadata": {
    "scrolled": true
   },
   "outputs": [
    {
     "name": "stderr",
     "output_type": "stream",
     "text": [
      "GPU available: True, used: True\n",
      "TPU available: False, using: 0 TPU cores\n",
      "IPU available: False, using: 0 IPUs\n",
      "HPU available: False, using: 0 HPUs\n",
      "LOCAL_RANK: 0 - CUDA_VISIBLE_DEVICES: [0,1]\n",
      "\n",
      "  | Name             | Type       | Params\n",
      "------------------------------------------------\n",
      "0 | train_conditions | ModuleList | 18.8 K\n",
      "1 | val_conditions   | ModuleList | 0     \n",
      "------------------------------------------------\n",
      "18.8 K    Trainable params\n",
      "0         Non-trainable params\n",
      "18.8 K    Total params\n",
      "0.075     Total estimated model params size (MB)\n"
     ]
    },
    {
     "data": {
      "application/vnd.jupyter.widget-view+json": {
       "model_id": "",
       "version_major": 2,
       "version_minor": 0
      },
      "text/plain": [
       "Sanity Checking: 0it [00:00, ?it/s]"
      ]
     },
     "metadata": {},
     "output_type": "display_data"
    },
    {
     "data": {
      "application/vnd.jupyter.widget-view+json": {
       "model_id": "50f1d40772ab4bd1940ccf43646487ad",
       "version_major": 2,
       "version_minor": 0
      },
      "text/plain": [
       "Training: 0it [00:00, ?it/s]"
      ]
     },
     "metadata": {},
     "output_type": "display_data"
    },
    {
     "data": {
      "application/vnd.jupyter.widget-view+json": {
       "model_id": "",
       "version_major": 2,
       "version_minor": 0
      },
      "text/plain": [
       "Validation: 0it [00:00, ?it/s]"
      ]
     },
     "metadata": {},
     "output_type": "display_data"
    }
   ],
   "source": [
    "optim = tp.solver.OptimizerSetting(torch.optim.Adam, lr=1e-4)\n",
    "#optim = tp.solver.OptimizerSetting(torch.optim.LBFGS, lr=1e-3)\n",
    "#optim = tp.solver.OptimizerSetting(torch.optim.LBFGS, lr=1e-2)#SGD, LBFGS\n",
    "solver = tp.solver.Solver([pde_condition,pde2_condition], optimizer_setting = optim)\n",
    "\n",
    "import pytorch_lightning as pl\n",
    "\n",
    "trainer = pl.Trainer(gpus=1 if torch.cuda.is_available else None,\n",
    "                     max_steps=2000,\n",
    "                     benchmark=True,\n",
    "                     logger=True)\n",
    "                     #checkpoint_callback=False)\n",
    "trainer.fit(solver)"
   ]
  },
  {
   "cell_type": "code",
   "execution_count": 42,
   "metadata": {
    "scrolled": true
   },
   "outputs": [
    {
     "data": {
      "image/png": "[encoded data removed]",
      "text/plain": [
       "<Figure size 432x288 with 2 Axes>"
      ]
     },
     "metadata": {
      "needs_background": "light"
     },
     "output_type": "display_data"
    }
   ],
   "source": [
    "import matplotlib.pyplot as plt\n",
    "import numpy as np\n",
    "\n",
    "xy_plot = tp.domains.Parallelogram(X*Y, [0, 0], [w, 0], [0, h])\n",
    "plot_sampler = tp.samplers.PlotSampler(xy_plot, n_points=1000, \n",
    "                                       data_for_other_variables={'D': [1,1]})##\n",
    "\n",
    "fig = tp.utils.plot(model, constrain_fn, plot_sampler, plot_type=\"contour_surface\")#\n",
    "#name = str(round(i/3.0, 3)) + \",\" + str(round(j/3.0, 3))\n",
    "\n",
    "#plt.title('D=[1,1]')\n",
    "plt.savefig(\"SGR_appr.Laplace_NN6.png\")\n",
    "plt.show()"
   ]
  },
  {
   "cell_type": "code",
   "execution_count": 30,
   "metadata": {},
   "outputs": [],
   "source": [
    "#xy_plot = tp.domains.Parallelogram(X*Y, [0, 0], [w, 0], [0, h])\n",
    "#\n",
    "#for i in [-3,-2,-1,0,1,2,3]:\n",
    "#    for j in [-3,-2,-1,0,1,2,3]:\n",
    "#        plot_sampler = tp.samplers.PlotSampler(xy_plot, n_points=1000, \n",
    "#                                       data_for_other_variables={'D': [i/3,j/3]})\n",
    "#        fig = tp.utils.plot(model, constrain_fn, plot_sampler, plot_type=\"contour_surface\")"
   ]
  },
  {
   "cell_type": "code",
   "execution_count": 46,
   "metadata": {},
   "outputs": [
    {
     "name": "stdout",
     "output_type": "stream",
     "text": [
      "Zeit =  0.010128498077392578\n",
      "Maximum =  tensor(1.4519)\n"
     ]
    }
   ],
   "source": [
    "import time\n",
    "# Ausgabe des Maximum der Lösung\n",
    "N = 200\n",
    "\n",
    "## Gitter erzeugen\n",
    "xi = np.linspace(0,1,N)\n",
    "yi = np.linspace(0,1,N)\n",
    "XX, YY = np.meshgrid(xi, yi)\n",
    "\n",
    "## In Tensor umwandeln\n",
    "in_data = torch.zeros((N**2, 4))\n",
    "in_data[:, :1]  = torch.tensor(XX).reshape(-1, 1)\n",
    "in_data[:, 1:2] = torch.tensor(YY).reshape(-1, 1)\n",
    "     \n",
    "in_data[:, 2] = 0\n",
    "in_data[:, 3] = 0\n",
    "\n",
    "## Model laden und mit constrains kombinieren\n",
    "t1 = time.time()\n",
    "out = model(tp.spaces.Points(in_data, X*Y*D)).as_tensor.detach()\n",
    "out = constrain_fn(out, in_data[:, :1], in_data[:, 1:2])\n",
    "t2 = time.time()\n",
    "print('Zeit = ', t2-t1)\n",
    "print('Maximum = ',torch.max(out))"
   ]
  },
  {
   "cell_type": "code",
   "execution_count": 44,
   "metadata": {},
   "outputs": [],
   "source": [
    "torch.save(model.state_dict(), 'PDE_SGR_adap_Laplace_NN4.pt')"
   ]
  },
  {
   "cell_type": "code",
   "execution_count": null,
   "metadata": {},
   "outputs": [],
   "source": []
  }
 ],
 "metadata": {
  "kernelspec": {
   "display_name": "Python [conda env:.conda-TorchPhysics]",
   "language": "python",
   "name": "conda-env-.conda-TorchPhysics-py"
  },
  "language_info": {
   "codemirror_mode": {
    "name": "ipython",
    "version": 3
   },
   "file_extension": ".py",
   "mimetype": "text/x-python",
   "name": "python",
   "nbconvert_exporter": "python",
   "pygments_lexer": "ipython3",
   "version": "3.10.4"
  }
 },
 "nbformat": 4,
 "nbformat_minor": 2
}
