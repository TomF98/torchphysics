{
 "cells": [
  {
   "cell_type": "markdown",
   "metadata": {},
   "source": [
    "# PINN: Singularly perturbed boundary value problem\n"
   ]
  },
  {
   "cell_type": "code",
   "execution_count": 1,
   "metadata": {},
   "outputs": [],
   "source": [
    "!pip install torchaudio==0.13.0\n",
    "!pip install torchvision==0.14.0\n",
    "!pip install torchphysics\n",
    "\n",
    "import torch\n",
    "import torchphysics as tp\n",
    "import math"
   ]
  },
  {
   "cell_type": "code",
   "execution_count": 2,
   "metadata": {},
   "outputs": [],
   "source": [
    "X = tp.spaces.R1('x')\n",
    "Y = tp.spaces.R1('y')\n",
    "\n",
    "D = tp.spaces.R2('D')\n",
    "\n",
    "U = tp.spaces.R1('u')"
   ]
  },
  {
   "cell_type": "code",
   "execution_count": 3,
   "metadata": {},
   "outputs": [],
   "source": [
    "h, w = 1, 1\n",
    "eps = 0.1\n",
    "R =-2"
   ]
  },
  {
   "cell_type": "code",
   "execution_count": 4,
   "metadata": {},
   "outputs": [],
   "source": [
    "\n",
    "Ix = tp.domains.Interval(X, 0, w)\n",
    "Iy = tp.domains.Interval(Y, 0, h)\n",
    "\n",
    "A_xy = Ix * Iy\n",
    "A_D = tp.domains.Parallelogram(D, [-1,-1], [-1.0,1], [1,-1.0])"
   ]
  },
  {
   "cell_type": "markdown",
   "metadata": {},
   "source": [
    "Before we visualize the created domain, we create Sampler objects which are iterators that sample points from the domain during the optimization task. There are again various options to sample from the domains, an easy way would be to sample uniformly distributed random points. In this example, we choose an adaptive sampler to sample points in the inner of the domain. It will sample more points in points where the loss is large.\n",
    "\n",
    "The amount of sampled points is defined by their density in the 3/2-dim subset, it could be increased to achieve better training results."
   ]
  },
  {
   "cell_type": "code",
   "execution_count": 5,
   "metadata": {},
   "outputs": [
    {
     "data": {
      "text/plain": [
       "True"
      ]
     },
     "execution_count": 5,
     "metadata": {},
     "output_type": "execute_result"
    }
   ],
   "source": [
    "#inner_sampler = tp.samplers.AdaptiveRandomRejectionSampler(A_x*A_t*A_D, density=2)\n",
    "inner_sampler = tp.samplers.RandomUniformSampler(A_xy*A_D, n_points = 100000)\n",
    "torch.cuda.is_available()"
   ]
  },
  {
   "cell_type": "markdown",
   "metadata": {},
   "source": [
    "We visualize the domain through the points created by the samplers using matplotlib:"
   ]
  },
  {
   "cell_type": "code",
   "execution_count": 6,
   "metadata": {},
   "outputs": [
    {
     "data": {
      "image/png": "[encoded data removed]",
      "text/plain": [
       "<Figure size 432x288 with 1 Axes>"
      ]
     },
     "metadata": {
      "needs_background": "light"
     },
     "output_type": "display_data"
    }
   ],
   "source": [
    "fig = tp.utils.scatter(X*Y, inner_sampler)"
   ]
  },
  {
   "cell_type": "code",
   "execution_count": 7,
   "metadata": {},
   "outputs": [],
   "source": [
    "# apply boundary condition via hard constrains:\n",
    "def constrain_fn(u,x,y):   \n",
    "    u_con =  u *(x-w)/w * x/w * (y-h)/h *y/h\n",
    "   \n",
    "    return u_con"
   ]
  },
  {
   "cell_type": "markdown",
   "metadata": {},
   "source": [
    "In the next step we define the NN-model we want to fit to the PDE. A normalization can improve convergence for large or small domains."
   ]
  },
  {
   "cell_type": "code",
   "execution_count": 8,
   "metadata": {
    "scrolled": true
   },
   "outputs": [],
   "source": [
    "model = tp.models.Sequential(\n",
    "    tp.models.NormalizationLayer(A_xy*A_D),\n",
    "    tp.models.FCN(input_space=X*Y*D, output_space=U, hidden=(60, 60, 60, 60, 60 ), xavier_gains=[5/3,5/3,5/3,5/3,0])\n",
    "    #tp.models.QRES(input_space=X*Y*D, output_space=U, hidden=(50,50,50),xavier_gains=[5/3,5/3,0])\n",
    ")\n",
    "#if NN: \n",
    "#    model.load_state_dict(torch.load('PDE.pt')) #PDE_final; PDE_min_loss"
   ]
  },
  {
   "cell_type": "markdown",
   "metadata": {},
   "source": [
    "Now, we define a condition which aims to minimze the mean squared error of the residual of the poisson equation. "
   ]
  },
  {
   "cell_type": "code",
   "execution_count": 9,
   "metadata": {},
   "outputs": [],
   "source": [
    "def pde_residual(u, x, y, D):\n",
    "    u = constrain_fn(u,x,y)\n",
    "    u_grad = tp.utils.grad(u, x, y)\n",
    "    conv_term = torch.sum(D*tp.utils.grad(u, x, y), dim=1, keepdim=True)\n",
    "    lap = tp.utils.laplacian(u, x, y, grad=u_grad)\n",
    "    return -eps*lap - conv_term + R \n",
    "    \n",
    "pde_condition_1 = tp.conditions.PINNCondition(module=model,\n",
    "                                            sampler=inner_sampler,\n",
    "                                            residual_fn=pde_residual,\n",
    "                                            name='pde_condition_1')"
   ]
  },
  {
   "cell_type": "markdown",
   "metadata": {},
   "source": [
    "Finally, we optimize the conditions using a pytorch-lightning.LightningModule Solver and running the training. In the Solver, the training and validation conditions, as well as all optimizer options can be specified."
   ]
  },
  {
   "cell_type": "code",
   "execution_count": 10,
   "metadata": {},
   "outputs": [
    {
     "name": "stderr",
     "output_type": "stream",
     "text": [
      "GPU available: True, used: True\n",
      "TPU available: False, using: 0 TPU cores\n",
      "IPU available: False, using: 0 IPUs\n",
      "HPU available: False, using: 0 HPUs\n",
      "LOCAL_RANK: 0 - CUDA_VISIBLE_DEVICES: [1]\n",
      "\n",
      "  | Name             | Type       | Params\n",
      "------------------------------------------------\n",
      "0 | train_conditions | ModuleList | 15.0 K\n",
      "1 | val_conditions   | ModuleList | 0     \n",
      "------------------------------------------------\n",
      "15.0 K    Trainable params\n",
      "0         Non-trainable params\n",
      "15.0 K    Total params\n",
      "0.060     Total estimated model params size (MB)\n"
     ]
    },
    {
     "data": {
      "application/vnd.jupyter.widget-view+json": {
       "model_id": "",
       "version_major": 2,
       "version_minor": 0
      },
      "text/plain": [
       "Sanity Checking: 0it [00:00, ?it/s]"
      ]
     },
     "metadata": {},
     "output_type": "display_data"
    },
    {
     "name": "stderr",
     "output_type": "stream",
     "text": [
      "/home/inu2sh/.conda/envs/TorchPhysics/lib/python3.10/site-packages/pytorch_lightning/trainer/connectors/data_connector.py:240: PossibleUserWarning: The dataloader, val_dataloader 0, does not have many workers which may be a bottleneck. Consider increasing the value of the `num_workers` argument` (try 36 which is the number of cpus on this machine) in the `DataLoader` init to improve performance.\n",
      "  rank_zero_warn(\n",
      "/home/inu2sh/.conda/envs/TorchPhysics/lib/python3.10/site-packages/pytorch_lightning/trainer/connectors/data_connector.py:240: PossibleUserWarning: The dataloader, train_dataloader, does not have many workers which may be a bottleneck. Consider increasing the value of the `num_workers` argument` (try 36 which is the number of cpus on this machine) in the `DataLoader` init to improve performance.\n",
      "  rank_zero_warn(\n"
     ]
    },
    {
     "data": {
      "application/vnd.jupyter.widget-view+json": {
       "model_id": "b6d6675e163a45b7af3e31ff108586e0",
       "version_major": 2,
       "version_minor": 0
      },
      "text/plain": [
       "Training: 0it [00:00, ?it/s]"
      ]
     },
     "metadata": {},
     "output_type": "display_data"
    },
    {
     "data": {
      "application/vnd.jupyter.widget-view+json": {
       "model_id": "",
       "version_major": 2,
       "version_minor": 0
      },
      "text/plain": [
       "Validation: 0it [00:00, ?it/s]"
      ]
     },
     "metadata": {},
     "output_type": "display_data"
    }
   ],
   "source": [
    "optim = tp.solver.OptimizerSetting(torch.optim.Adam, lr=1e-3)\n",
    "#optim = tp.solver.OptimizerSetting(torch.optim.LBFGS, lr=1e-2)#SGD, LBFGS\n",
    "solver = tp.solver.Solver([pde_condition_1], optimizer_setting = optim)\n",
    "\n",
    "import pytorch_lightning as pl\n",
    "\n",
    "\n",
    "trainer = pl.Trainer(gpus = 1 if torch.cuda.is_available else None,\n",
    "                     max_steps=15000,\n",
    "                     benchmark=True,\n",
    "                     logger=True)\n",
    "                     #checkpoint_callback=False)\n",
    "trainer.fit(solver)"
   ]
  },
  {
   "cell_type": "markdown",
   "metadata": {},
   "source": [
    "Finally, we plot the obtained solution:"
   ]
  },
  {
   "cell_type": "code",
   "execution_count": 23,
   "metadata": {
    "scrolled": true
   },
   "outputs": [
    {
     "name": "stderr",
     "output_type": "stream",
     "text": [
      "GPU available: True, used: False\n",
      "TPU available: False, using: 0 TPU cores\n",
      "IPU available: False, using: 0 IPUs\n",
      "HPU available: False, using: 0 HPUs\n",
      "\n",
      "  | Name             | Type       | Params\n",
      "------------------------------------------------\n",
      "0 | train_conditions | ModuleList | 15.0 K\n",
      "1 | val_conditions   | ModuleList | 0     \n",
      "------------------------------------------------\n",
      "15.0 K    Trainable params\n",
      "0         Non-trainable params\n",
      "15.0 K    Total params\n",
      "0.060     Total estimated model params size (MB)\n"
     ]
    },
    {
     "data": {
      "application/vnd.jupyter.widget-view+json": {
       "model_id": "",
       "version_major": 2,
       "version_minor": 0
      },
      "text/plain": [
       "Sanity Checking: 0it [00:00, ?it/s]"
      ]
     },
     "metadata": {},
     "output_type": "display_data"
    },
    {
     "data": {
      "application/vnd.jupyter.widget-view+json": {
       "model_id": "49634afebc894956900b85428899494e",
       "version_major": 2,
       "version_minor": 0
      },
      "text/plain": [
       "Training: 0it [00:00, ?it/s]"
      ]
     },
     "metadata": {},
     "output_type": "display_data"
    },
    {
     "data": {
      "application/vnd.jupyter.widget-view+json": {
       "model_id": "",
       "version_major": 2,
       "version_minor": 0
      },
      "text/plain": [
       "Validation: 0it [00:00, ?it/s]"
      ]
     },
     "metadata": {},
     "output_type": "display_data"
    }
   ],
   "source": [
    "optim = tp.solver.OptimizerSetting(torch.optim.Adam, lr=1e-4)\n",
    "#optim = tp.solver.OptimizerSetting(torch.optim.LBFGS, lr=1e-3)\n",
    "#optim = tp.solver.OptimizerSetting(torch.optim.LBFGS, lr=1e-2)#SGD, LBFGS\n",
    "solver = tp.solver.Solver([pde_condition_1], optimizer_setting = optim)\n",
    "\n",
    "import pytorch_lightning as pl\n",
    "\n",
    "\n",
    "trainer = pl.Trainer(gpus=0 if torch.cuda.is_available else None,\n",
    "                     max_steps=100,\n",
    "                     benchmark=True,\n",
    "                     logger=True)\n",
    "                     #checkpoint_callback=False)\n",
    "trainer.fit(solver)"
   ]
  },
  {
   "cell_type": "code",
   "execution_count": 24,
   "metadata": {
    "scrolled": true
   },
   "outputs": [
    {
     "data": {
      "image/png": "[encoded data removed]",
      "text/plain": [
       "<Figure size 432x288 with 2 Axes>"
      ]
     },
     "metadata": {
      "needs_background": "light"
     },
     "output_type": "display_data"
    }
   ],
   "source": [
    "import matplotlib.pyplot as plt\n",
    "import numpy as np\n",
    "\n",
    "\n",
    "xy_plot = tp.domains.Parallelogram(X*Y, [0, 0], [w, 0], [0, h])\n",
    "plot_sampler = tp.samplers.PlotSampler(xy_plot, n_points=1000, \n",
    "                                       data_for_other_variables={'D': [0,0]})##\n",
    "\n",
    "fig = tp.utils.plot(model, constrain_fn, plot_sampler, plot_type=\"contour_surface\")#\n",
    "#name = str(round(i/3.0, 3)) + \",\" + str(round(j/3.0, 3))\n",
    "\n",
    "#plt.title('D=[1,1]')\n",
    "plt.savefig(\"figure33.png\")\n",
    "plt.show()\n"
   ]
  },
  {
   "cell_type": "code",
   "execution_count": 13,
   "metadata": {},
   "outputs": [],
   "source": [
    "#xy_plot = tp.domains.Parallelogram(X*Y, [0, 0], [w, 0], [0, h])\n",
    "#\n",
    "#for i in [-3,-2,-1,0,1,2,3]:\n",
    "#    for j in [-3,-2,-1,0,1,2,3]:\n",
    "#        plot_sampler = tp.samplers.PlotSampler(xy_plot, n_points=1000, \n",
    "#                                       data_for_other_variables={'D': [i/3,j/3]})\n",
    "#        fig = tp.utils.plot(model, constrain_fn, plot_sampler, plot_type=\"contour_surface\")"
   ]
  },
  {
   "cell_type": "code",
   "execution_count": 25,
   "metadata": {},
   "outputs": [
    {
     "name": "stdout",
     "output_type": "stream",
     "text": [
      "Maximum =  tensor(1.4604)\n"
     ]
    }
   ],
   "source": [
    "# Ausgabe des Maximum der Lösung\n",
    "N = 200\n",
    "\n",
    "## Gitter erzeugen\n",
    "xi = np.linspace(0,1,N)\n",
    "yi = np.linspace(0,1,N)\n",
    "XX, YY = np.meshgrid(xi, yi)\n",
    "\n",
    "## In Tensor umwandeln\n",
    "in_data = torch.zeros((N**2, 4))\n",
    "in_data[:, :1]  = torch.tensor(XX).reshape(-1, 1)\n",
    "in_data[:, 1:2] = torch.tensor(YY).reshape(-1, 1)\n",
    "     \n",
    "in_data[:, 2] = 0\n",
    "in_data[:, 3] = 0\n",
    "\n",
    "## Model laden und mit constrains kombinieren\n",
    "out = model(tp.spaces.Points(in_data, X*Y*D)).as_tensor.detach()\n",
    "out = constrain_fn(out, in_data[:, :1], in_data[:, 1:2])\n",
    "\n",
    "print('Maximum = ',torch.max(out))"
   ]
  },
  {
   "cell_type": "code",
   "execution_count": 15,
   "metadata": {},
   "outputs": [],
   "source": [
    "import matplotlib.pyplot as plt\n",
    "import numpy as np\n",
    "\n",
    "N = 100\n",
    "levels = np.linspace(0.0, 1.5, 50)\n",
    "\n",
    "## Gitter erzeugen\n",
    "xi = np.linspace(0,1,N)\n",
    "yi = np.linspace(0,1,N)\n",
    "XX, YY = np.meshgrid(xi, yi)\n",
    "Z = XX + YY\n",
    "\n",
    "## In tensor umwandeln\n",
    "in_data = torch.zeros((N**2, 4))\n",
    "in_data[:, :1]  = torch.tensor(XX).reshape(-1, 1)\n",
    "in_data[:, 1:2] = torch.tensor(YY).reshape(-1, 1)\n",
    "\n",
    "## Plots erstellen\n",
    "x11 = [0, 0.25, 0, -0.25, 0, 0.25, 0.5, 0.25, 0, -0.25, -0.5, -0.25, 0, 0.375, 0.75, 0.375 , 0, -0.375 ,-0.75, -0.375, 0, 0.6, 0.6, -0.6, -0.6]\n",
    "y11 = [0,0, 0.25, 0, -0.25, -0.125, 0, 0.25, 0.5, 0.25, 0, -0.25, -0.5, -0.25, 0, 0.5, 1, 0.5 ,0, -0.5, -1, -0.75, 0.75, 0.75, -0.75]\n",
    "s = 0\n",
    "for j in range(len(x11)):     \n",
    "        s = s+1\n",
    "        in_data[:, 2] = x11[j]\n",
    "        in_data[:, 3] = y11[j]\n",
    "        \n",
    "        plt.figure(figsize=(8, 5))\n",
    "        out = model(tp.spaces.Points(in_data, X*Y*D)).as_tensor.detach()\n",
    "        out = constrain_fn(out, in_data[:, :1], in_data[:, 1:2])\n",
    "        CS = plt.contourf(xi, yi, out.reshape(N, N), cmap=plt.cm.jet, \n",
    "                          vmin=0.0, vmax=1.0, levels=levels)\n",
    "        plt.colorbar(CS)\n",
    "        plt.grid()\n",
    "        plt.ylabel(\"y\")\n",
    "        plt.xlabel(\"x\")\n",
    "        plt.title(\"b = \" + str(N))\n",
    "        \n",
    "        name = str(s)\n",
    "        #plt.title(\"D = [\" + name + \"]\")\n",
    "        plt.savefig(\"plot_D_\" + name + \".png\")\n",
    "        #plt.show()\n",
    "        plt.close()"
   ]
  },
  {
   "cell_type": "code",
   "execution_count": 16,
   "metadata": {},
   "outputs": [
    {
     "name": "stderr",
     "output_type": "stream",
     "text": [
      "/tmp/ipykernel_36055/1881825803.py:9: DeprecationWarning: Starting with ImageIO v3 the behavior of this function will switch to that of iio.v3.imread. To keep the current behavior (and make this warning disappear) use `import imageio.v2 as imageio` or call `imageio.v2.imread` directly.\n",
      "  images.append(imageio.imread(filename))\n"
     ]
    }
   ],
   "source": [
    "import imageio\n",
    "images = []\n",
    "s= 0\n",
    "\n",
    "for i in range(25):\n",
    "        s=s+1\n",
    "        name = str(s)\n",
    "        filename = \"plot_D_\" + name + \".png\"\n",
    "        images.append(imageio.imread(filename))\n",
    "imageio.mimsave('test_movie.gif', images, loop = 0, duration = 500)"
   ]
  },
  {
   "cell_type": "code",
   "execution_count": 17,
   "metadata": {},
   "outputs": [],
   "source": [
    "torch.save(model.state_dict(), 'PDE.pt')"
   ]
  },
  {
   "cell_type": "code",
   "execution_count": 18,
   "metadata": {},
   "outputs": [],
   "source": [
    "##Axen erstellen, um Viewpoint ändern zu können\n",
    "#from mpl_toolkits.mplot3d import Axes3D\n",
    "#ax = Axes3D(fig)\n",
    "\n",
    "## Plots erstellen\n",
    "x11 = [0, 0.25, 0, -0.25, 0, 0.25, 0.5, 0.25, 0, -0.25, -0.5, -0.25, 0, 0.375, 0.75, 0.375 , 0, -0.375 ,-0.75, -0.375, 0, 0.6, 0.6, -0.6, -0.6]\n",
    "y11 = [0,0, 0.25, 0, -0.25, -0.125, 0, 0.25, 0.5, 0.25, 0, -0.25, -0.5, -0.25, 0, 0.5, 1, 0.5 ,0, -0.5, -1, -0.75, 0.75, 0.75, -0.75]\n",
    "s = 0\n",
    "for j in range(len(x11)):   \n",
    "        s = s+1\n",
    "        #Plotten\n",
    "        #ax.view_init(elev=10, azim=(j+1)*(14/360))\n",
    "        plot_sampler = tp.samplers.PlotSampler(plot_domain=xy_plot, n_points=2000, device='cuda',\n",
    "                                       data_for_other_variables={ 'D': [x11[j],y11[j]]})\n",
    "        fig = tp.utils.plot(model, constrain_fn, plot_sampler, plot_type=\"3D\")\n",
    "        #fig = tp.utils.ax.plot(model, constrain_fn, plot_sampler, plot_type=\"3D\", elev=10, azim=(j+1)*(14/360),scene_camera=camera)\n",
    "        #Speichern\n",
    "        name = str(s)\n",
    "        plt.savefig(\"plot_3D_\" + name + \".png\")\n",
    "        plt.close()"
   ]
  },
  {
   "cell_type": "code",
   "execution_count": 19,
   "metadata": {},
   "outputs": [
    {
     "name": "stderr",
     "output_type": "stream",
     "text": [
      "/tmp/ipykernel_36055/1254364634.py:9: DeprecationWarning: Starting with ImageIO v3 the behavior of this function will switch to that of iio.v3.imread. To keep the current behavior (and make this warning disappear) use `import imageio.v2 as imageio` or call `imageio.v2.imread` directly.\n",
      "  images.append(imageio.imread(filename))\n"
     ]
    }
   ],
   "source": [
    "import imageio\n",
    "images = []\n",
    "s= 0\n",
    "\n",
    "for i in range(25):\n",
    "        s=s+1\n",
    "        name = str(s)\n",
    "        filename = \"plot_3D_\" + name + \".png\"\n",
    "        images.append(imageio.imread(filename))\n",
    "imageio.mimsave('test_movie3D.gif', images, loop = 0, duration = 500)"
   ]
  },
  {
   "cell_type": "code",
   "execution_count": 20,
   "metadata": {},
   "outputs": [],
   "source": [
    "import matplotlib.pyplot as plt\n",
    "import numpy as np\n",
    "\n",
    "from mpl_toolkits.mplot3d import Axes3D\n",
    "\n",
    "from matplotlib import cm\n",
    "from matplotlib.ticker import LinearLocator\n",
    "\n",
    "N = 100\n",
    "levels = np.linspace(0.0, 1.5, 50)\n",
    "\n",
    "## Gitter erzeugen\n",
    "xi = np.linspace(0,1,N)\n",
    "yi = np.linspace(0,1,N)\n",
    "XX, YY = np.meshgrid(xi, yi)\n",
    "Z = XX + YY\n",
    "\n",
    "## In tensor umwandeln\n",
    "in_data = torch.zeros((N**2, 4))\n",
    "in_data[:, :1]  = torch.tensor(XX).reshape(-1, 1)\n",
    "in_data[:, 1:2] = torch.tensor(YY).reshape(-1, 1)\n",
    "\n",
    "## Plots erstellen\n",
    "x11 = [0, 0.25, 0, -0.25, 0, 0.25, 0.5, 0.25, 0, -0.25, -0.5, -0.25, 0, 0.375, 0.75, 0.375 , 0, -0.375 ,-0.75, -0.375, 0, 0.6, 0.6, -0.6, -0.6]\n",
    "y11 = [0,0, 0.25, 0, -0.25, -0.125, 0, 0.25, 0.5, 0.25, 0, -0.25, -0.5, -0.25, 0, 0.5, 1, 0.5 ,0, -0.5, -1, -0.75, 0.75, 0.75, -0.75]\n",
    "s = 0\n",
    "for j in range(len(x11)):     \n",
    "        s = s+1\n",
    "        in_data[:, 2] = x11[j]\n",
    "        in_data[:, 3] = y11[j]\n",
    "        \n",
    "        ##Achsen und Plot erstellen:\n",
    "        fig = plt.figure()\n",
    "        ax = fig.add_subplot(projection='3d')\n",
    "        #fig, ax = plt.subplots(subplot_kw={\"projection\": \"3d\"})\n",
    "        ##Z-Werte erstellen:\n",
    "        out = model(tp.spaces.Points(in_data, X*Y*D)).as_tensor.detach()\n",
    "        out = constrain_fn(out, in_data[:, :1], in_data[:, 1:2])\n",
    "        ##Z-Werte in Plot schicken\n",
    "        CS = ax.plot_surface(XX, YY, out.reshape(N,N),cmap=cm.jet)\n",
    "        \n",
    "        ##Legende für Z-Werte\n",
    "        #fig.colorbar(CS) #shrink=0.5, aspect=5\n",
    "        ax.view_init(elev=20, azim=j*14)\n",
    "        ##Optionen des Plots\n",
    "        #plt.grid()\n",
    "        #plt.ylabel(\"y\")\n",
    "        #plt.xlabel(\"x\")\n",
    "        #plt.title(\"b = \" + str(x11[j]) + \",\" + str(y11[j]))\n",
    "        ax.set_title(\"b = \" + str(x11[j]) + \",\" + str(y11[j]))\n",
    "        ##Speichern der Bilder\n",
    "        name = str(s)\n",
    "        #plt.title(\"D = [\" + name + \"]\")\n",
    "        plt.savefig(\"plot_3D_rotierend_\" + name + \".png\")\n",
    "        #plt.show()\n",
    "        plt.close()"
   ]
  },
  {
   "cell_type": "code",
   "execution_count": 21,
   "metadata": {},
   "outputs": [
    {
     "name": "stderr",
     "output_type": "stream",
     "text": [
      "/tmp/ipykernel_36055/2964717738.py:9: DeprecationWarning: Starting with ImageIO v3 the behavior of this function will switch to that of iio.v3.imread. To keep the current behavior (and make this warning disappear) use `import imageio.v2 as imageio` or call `imageio.v2.imread` directly.\n",
      "  images.append(imageio.imread(filename))\n"
     ]
    }
   ],
   "source": [
    "import imageio\n",
    "images = []\n",
    "s= 0\n",
    "\n",
    "for i in range(25):\n",
    "        s=s+1\n",
    "        name = str(s)\n",
    "        filename = \"plot_3D_rotierend_\" + name + \".png\"\n",
    "        images.append(imageio.imread(filename))\n",
    "imageio.mimsave('test_movie3D_rotierend.gif', images, loop = 0, duration = 500)"
   ]
  },
  {
   "cell_type": "code",
   "execution_count": 22,
   "metadata": {},
   "outputs": [
    {
     "name": "stdout",
     "output_type": "stream",
     "text": [
      "Maximum =  tensor(1.4602)\n"
     ]
    }
   ],
   "source": [
    "# Ausgabe des Maximum der Lösung\n",
    "N = 200\n",
    "\n",
    "## Gitter erzeugen\n",
    "xi = np.linspace(0,1,N)\n",
    "yi = np.linspace(0,1,N)\n",
    "XX, YY = np.meshgrid(xi, yi)\n",
    "\n",
    "## In Tensor umwandeln\n",
    "in_data = torch.zeros((N**2, 4))\n",
    "in_data[:, :1]  = torch.tensor(XX).reshape(-1, 1)\n",
    "in_data[:, 1:2] = torch.tensor(YY).reshape(-1, 1)\n",
    "     \n",
    "in_data[:, 2] = 0\n",
    "in_data[:, 3] = 0\n",
    "\n",
    "## Model laden und mit constrains kombinieren\n",
    "out = model(tp.spaces.Points(in_data, X*Y*D)).as_tensor.detach()\n",
    "out = constrain_fn(out, in_data[:, :1], in_data[:, 1:2])\n",
    "\n",
    "print('Maximum = ',torch.max(out))"
   ]
  },
  {
   "cell_type": "code",
   "execution_count": null,
   "metadata": {},
   "outputs": [],
   "source": []
  }
 ],
 "metadata": {
  "kernelspec": {
   "display_name": "Python [conda env:.conda-TorchPhysics]",
   "language": "python",
   "name": "conda-env-.conda-TorchPhysics-py"
  },
  "language_info": {
   "codemirror_mode": {
    "name": "ipython",
    "version": 3
   },
   "file_extension": ".py",
   "mimetype": "text/x-python",
   "name": "python",
   "nbconvert_exporter": "python",
   "pygments_lexer": "ipython3",
   "version": "3.10.4"
  }
 },
 "nbformat": 4,
 "nbformat_minor": 2
}
