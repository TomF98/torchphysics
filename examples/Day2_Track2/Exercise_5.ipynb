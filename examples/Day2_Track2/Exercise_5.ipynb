{
 "cells": [
  {
   "cell_type": "markdown",
   "metadata": {},
   "source": [
    "### PCA-Nets for solving a Stokes Problem.\n",
    "\n",
    "In this example we want to use the PCA-Net approach to solve the Stokes equation on a square for varying inflow \n",
    "profiles.\n",
    "\n",
    "We have the domain $\\Omega = (0,1)\\times(0,1)$. Our PDE is of the following form:\n",
    "\n",
    "\\begin{align*}\n",
    "    \\mu \\Delta u - \\nabla p &= 0 &&\\text{ in } \\Omega, \\\\\n",
    "    \\text{div}(u) &= 0 &&\\text{ in } \\Omega, \\\\\n",
    "    u &= f &&\\text{ on } \\partial \\Omega \\cap \\{x_2=1\\}, \\\\\n",
    "    u &= 0 &&\\text{ on } \\partial \\Omega \\cap \\{x_2\\neq1\\}.\n",
    "\\end{align*}\n",
    "\n",
    "In the Stokes equation we have two unkowns, the velocity $u$ (which is vector valued!) and pressure $p$. In this example we will only try to predict $u$. Our boundary conditions mean, that at the top of the square $\\Omega$ we describe an inflow profile $f$, while on all other boundaries we set the velocity to 0."
   ]
  },
  {
   "cell_type": "code",
   "execution_count": 1,
   "metadata": {},
   "outputs": [],
   "source": [
    "import os, sys\n",
    "sys.path.append(os.getcwd())\n",
    "\n",
    "import torch \n",
    "import torchphysics as tp\n",
    "import pytorch_lightning as pl\n",
    "import numpy as np\n",
    "import matplotlib.pyplot as plt"
   ]
  },
  {
   "cell_type": "markdown",
   "metadata": {},
   "source": [
    "Start with loading the data:"
   ]
  },
  {
   "cell_type": "code",
   "execution_count": 9,
   "metadata": {},
   "outputs": [
    {
     "name": "stdout",
     "output_type": "stream",
     "text": [
      "Available data points: 20000\n",
      "Shape of input data: torch.Size([20000, 64, 2])\n",
      "Shape of output data: torch.Size([20000, 64, 64, 2])\n"
     ]
    }
   ],
   "source": [
    "input_data = torch.load(\"/localdata/tomfre/PCA_data_Stokes/stokes_input.pt\")\n",
    "output_data = torch.load(\"/localdata/tomfre/PCA_data_Stokes/stokes_output.pt\")\n",
    "\n",
    "print(\"Available data points:\", len(input_data))\n",
    "print(\"Shape of input data:\", input_data.shape)\n",
    "print(\"Shape of output data:\", output_data.shape)"
   ]
  },
  {
   "cell_type": "markdown",
   "metadata": {},
   "source": [
    "Plot one example data:"
   ]
  },
  {
   "cell_type": "code",
   "execution_count": null,
   "metadata": {},
   "outputs": [],
   "source": [
    "plot_idx = 0\n",
    "\n",
    "\n",
    "f, axarr = plt.subplots(1, 3, figsize=(10, 3))\n",
    "axarr[0].plot(np.linspace(0, 1, input_data.shape[1]), input_data[plot_idx, :, 0])\n",
    "axarr[0].plot(np.linspace(0, 1, input_data.shape[1]), input_data[plot_idx, :, 1])\n",
    "axarr[0].legend([r\"$f_x$\", r\"$f_y$\"])\n",
    "axarr[0].title.set_text(r\"Example inflow profile\")\n",
    "axarr[1].imshow(output_data[plot_idx, :, :, 0], origin='lower')\n",
    "axarr[1].title.set_text(r\"Example solution $u_x$\")\n",
    "axarr[2].imshow(output_data[plot_idx, :, :, 1], origin='lower')\n",
    "axarr[2].title.set_text(r\"Example solution $u_y$\")\n",
    "plt.tight_layout()"
   ]
  },
  {
   "cell_type": "markdown",
   "metadata": {},
   "source": [
    "Create spaces for the variables and functions."
   ]
  },
  {
   "cell_type": "code",
   "execution_count": null,
   "metadata": {},
   "outputs": [],
   "source": [
    "X = tp.spaces.R1(\"x\")\n",
    "Y = tp.spaces.R1(\"y\")\n",
    "F = ... # TODO: Create a two-dimensional space for the input f\n",
    "U = ... # TODO: Create a two-dimensional space for the output u\n",
    "\n",
    "fn_space_input = tp.spaces.FunctionSpace(...) # TODO: Build functionspace for input functions X->F\n",
    "fn_space_output = ... # TODO: Build functionspace for output functions X*Y->U"
   ]
  },
  {
   "cell_type": "markdown",
   "metadata": {},
   "source": [
    "Build datasets and samplers:"
   ]
  },
  {
   "cell_type": "code",
   "execution_count": null,
   "metadata": {},
   "outputs": [],
   "source": [
    "# Split data into training and testing:\n",
    "total_data = len(input_data)\n",
    "train_N = int(0.8*total_data) # we use 80% of the data for training\n",
    "\n",
    "train_input = input_data[:train_N]\n",
    "train_output = output_data[:train_N]\n",
    "\n",
    "test_input = input_data[train_N:]\n",
    "test_output = output_data[train_N:]\n",
    "\n",
    "# TODO: Implement the \"tp.domains.DataFunctionSet\" for the input and output data.\n",
    "data_functionset_input = tp.domains.DataFunctionSet(...)\n",
    "data_functionset_output = ...\n",
    "\n",
    "# TODO: Finish the FunctionSamplers for the data.\n",
    "functionsampler_input = tp.samplers.FunctionSamplerRandomUniform(10000, ...)\n",
    "functionsampler_output = tp.samplers.FunctionSamplerCoupled(..., ...)"
   ]
  },
  {
   "cell_type": "markdown",
   "metadata": {},
   "source": [
    "As before we now need to compute the pca on our data:"
   ]
  },
  {
   "cell_type": "code",
   "execution_count": null,
   "metadata": {},
   "outputs": [],
   "source": [
    "# TODO: Compute the PCA on the input dataset and output dataset.\n",
    "# Use 60 PCs for the input functions f, and 100 PCs for u\n",
    "data_functionset_input.compute_pca(...)  \n",
    "data_functionset_output.\n",
    "\n",
    "# Then we define the PCA-Net:\n",
    "# TODO: Add the functionsets and set the architecture to two hidden layers with 100 neurons each:\n",
    "model = tp.models.PCANN_FC.from_fn_set(\n",
    "    ..., ..., hidden=...\n",
    ")"
   ]
  },
  {
   "cell_type": "markdown",
   "metadata": {},
   "source": [
    "Next, we define the condition which describes that the model should learn to map the input $f$ to the output $u$."
   ]
  },
  {
   "cell_type": "code",
   "execution_count": null,
   "metadata": {},
   "outputs": [],
   "source": [
    "# TODO: Finish the input arguments:\n",
    "data_condition = tp.conditions.OperatorCondition(module=..., \n",
    "                                                 input_function_sampler=..., \n",
    "                                                 output_function_sampler=...)"
   ]
  },
  {
   "cell_type": "markdown",
   "metadata": {},
   "source": [
    "We are done and can start the training:"
   ]
  },
  {
   "cell_type": "code",
   "execution_count": null,
   "metadata": {},
   "outputs": [],
   "source": [
    "lr_scheduler = torch.optim.lr_scheduler.StepLR\n",
    "\n",
    "optim = tp.OptimizerSetting(optimizer_class=torch.optim.Adam, lr=0.001,\n",
    "                            scheduler_class=lr_scheduler, \n",
    "                            scheduler_args={\"step_size\": 3000, \"gamma\":0.25})\n",
    "solver = tp.solver.Solver([data_condition], optimizer_setting=optim)\n",
    "\n",
    "trainer = pl.Trainer(devices=1, accelerator=\"gpu\",\n",
    "                    num_sanity_val_steps=0,\n",
    "                    benchmark=True,\n",
    "                    max_steps=15000, \n",
    "                    logger=False, \n",
    "                    enable_checkpointing=False)\n",
    "\n",
    "trainer.fit(solver)\n",
    "\n"
   ]
  },
  {
   "cell_type": "markdown",
   "metadata": {},
   "source": [
    "Evaluate on unseen data:"
   ]
  },
  {
   "cell_type": "code",
   "execution_count": null,
   "metadata": {},
   "outputs": [
    {
     "name": "stdout",
     "output_type": "stream",
     "text": [
      "Relative error: 7.563377857208252 %\n"
     ]
    }
   ],
   "source": [
    "model_output = model(tp.spaces.Points(test_input, F)).as_tensor.detach()\n",
    "\n",
    "rel_error = torch.max(torch.abs(model_output - test_output)) / torch.max(test_output)\n",
    "\n",
    "print(f\"Relative error: {rel_error*100} %\")\n"
   ]
  },
  {
   "cell_type": "code",
   "execution_count": null,
   "metadata": {},
   "outputs": [],
   "source": [
    "plot_idx = 0\n",
    "\n",
    "sol_min = torch.min(test_output[plot_idx])\n",
    "sol_max = torch.max(test_output[plot_idx])\n",
    "\n",
    "# Plot \n",
    "fig = plt.figure(figsize=(12, 5))\n",
    "gs = fig.add_gridspec(2, 4)\n",
    "\n",
    "# First column: just plot the input\n",
    "ax_big = fig.add_subplot(gs[:, 0]) \n",
    "ax_big.set_aspect(0.6) \n",
    "ax_big.plot(np.linspace(0, 1, train_input.shape[1]), train_input[plot_idx, :, 0])\n",
    "ax_big.plot(np.linspace(0, 1, train_input.shape[1]), train_input[plot_idx, :, 1])\n",
    "ax_big.set_title(\"Input\")\n",
    "ax_big.grid()\n",
    "ax_big.legend([r\"$f_x$\", r\"$f_y$\"])\n",
    "\n",
    "# Remaining subplots (2 rows x 3 columns)\n",
    "plot_data = [test_output[plot_idx], \n",
    "             model_output[plot_idx], \n",
    "             torch.abs(test_output[plot_idx] - model_output[plot_idx])]\n",
    "title = [[r\"Expected $u_x$\", r\"Predicted $u_x$\", r\"Difference\"], \n",
    "         [r\"Expected $u_y$\", r\"Predicted $u_y$\", r\"Difference\"]]\n",
    "for r in range(2):\n",
    "    for c in range(1, 4):\n",
    "        ax = fig.add_subplot(gs[r, c])\n",
    "        if c < 3:\n",
    "            img = ax.imshow(plot_data[c-1][:, :, r], extent=[0,1,0,1],\n",
    "                            vmin=sol_min, vmax=sol_max, origin='lower')\n",
    "        else:\n",
    "            img = ax.imshow(plot_data[c-1][:, :, r], extent=[0,1,0,1], cmap='jet', origin='lower')\n",
    "        plt.colorbar(img, ax=ax, shrink=0.75)\n",
    "        ax.set_title(title[r][c-1])\n",
    "\n",
    "plt.tight_layout()"
   ]
  }
 ],
 "metadata": {
  "kernelspec": {
   "display_name": "tp_version2",
   "language": "python",
   "name": "python3"
  },
  "language_info": {
   "codemirror_mode": {
    "name": "ipython",
    "version": 3
   },
   "file_extension": ".py",
   "mimetype": "text/x-python",
   "name": "python",
   "nbconvert_exporter": "python",
   "pygments_lexer": "ipython3",
   "version": "3.11.7"
  }
 },
 "nbformat": 4,
 "nbformat_minor": 2
}
