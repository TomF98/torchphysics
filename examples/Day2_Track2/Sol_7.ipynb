{
 "cells": [
  {
   "cell_type": "markdown",
   "metadata": {},
   "source": [
    "### Solving a Stokes equation on domains with different obstacles\n",
    "We are given a domain $\\Omega_\\chi \\subset \\R^2$ which is defined as all points $x \\in (0, 1)^2$ such that $\\chi(x) = 1$. We will consider randomly placed circles removed from the domain $(0, 1)^2$. Our goal is to solve the following Stokes equation on $\\Omega_\\chi$:\n",
    "\\begin{align*}\n",
    "-\\mu \\Delta u - \\nabla p &= 0 &&\\text{ in } \\Omega_\\chi, \\\\\n",
    "\\nabla \\cdot u &= 0 &&\\text{ in } \\Omega_\\chi.\n",
    "\\end{align*}\n",
    "With the boundary conditions:\n",
    "\\begin{align*}\n",
    "u &= u_{in} &&\\text{ when } x_1 = 0, \\\\\n",
    "(\\mu \\nabla u + p) \\cdot n &= 0 &&\\text{ when } x_1 = 1, \\\\\n",
    "u &= 0 &&\\text{ everywhere else on } \\partial \\Omega_\\chi.\n",
    "\\end{align*}\n",
    "Here, $u_{in}$ is a given inflow profile.\n",
    "\n",
    "Our goal is to learn the solution operator that maps the domain $\\Omega_\\chi$ to the solution $u$."
   ]
  },
  {
   "cell_type": "code",
   "execution_count": 1,
   "metadata": {},
   "outputs": [],
   "source": [
    "import os, sys\n",
    "sys.path.append(os.getcwd())\n",
    "\n",
    "import torch \n",
    "import torchphysics as tp\n",
    "import pytorch_lightning as pl\n",
    "import matplotlib.pyplot as plt\n",
    "import numpy as np\n",
    "\n",
    "os.environ[\"CUDA_VISIBLE_DEVICES\"] = \"3\""
   ]
  },
  {
   "cell_type": "markdown",
   "metadata": {},
   "source": [
    "Load data:"
   ]
  },
  {
   "cell_type": "code",
   "execution_count": 2,
   "metadata": {},
   "outputs": [
    {
     "name": "stdout",
     "output_type": "stream",
     "text": [
      "Available data points: 20000\n",
      "Shape of input data: torch.Size([20000, 64, 64, 1])\n",
      "Shape of output data: torch.Size([20000, 64, 64, 2])\n"
     ]
    }
   ],
   "source": [
    "save_path = \"/localdata/tomfre/FNO_data_Stokes\"\n",
    "input_data = torch.load(f\"{save_path}/stokes_input.npy\")\n",
    "output_data = torch.load(f\"{save_path}/stokes_output.npy\")\n",
    "\n",
    "print(\"Available data points:\", len(input_data))\n",
    "print(\"Shape of input data:\", input_data.shape)\n",
    "print(\"Shape of output data:\", output_data.shape)"
   ]
  },
  {
   "cell_type": "markdown",
   "metadata": {},
   "source": [
    "Check example:"
   ]
  },
  {
   "cell_type": "code",
   "execution_count": null,
   "metadata": {},
   "outputs": [],
   "source": [
    "# Plot one example of the data\n",
    "plot_idx = 0\n",
    "\n",
    "f, axarr = plt.subplots(1, 3, figsize=(10, 3))\n",
    "axarr[0].imshow(input_data[plot_idx, :, :, 0], origin='lower', extent=[0,1,0,1])\n",
    "axarr[0].title.set_text(r\"Example domain\")\n",
    "img = axarr[1].imshow(output_data[plot_idx, :, :, 0], origin='lower', extent=[0,1,0,1])\n",
    "plt.colorbar(img, ax=axarr[1], shrink=0.75)\n",
    "axarr[1].title.set_text(r\"Example solution $u_x$\")\n",
    "img = axarr[2].imshow(output_data[plot_idx, :, :, 1], origin='lower', extent=[0,1,0,1])\n",
    "axarr[2].title.set_text(r\"Example solution $u_y$\")\n",
    "plt.colorbar(img, ax=axarr[2], shrink=0.75)\n",
    "plt.tight_layout()"
   ]
  },
  {
   "cell_type": "markdown",
   "metadata": {},
   "source": [
    "Define the spaces:"
   ]
  },
  {
   "cell_type": "code",
   "execution_count": 4,
   "metadata": {},
   "outputs": [],
   "source": [
    "# TODO: Implement the spaces for X, chi and u.\n",
    "\n",
    "X = tp.spaces.R2(\"x\")\n",
    "Chi = tp.spaces.R1(\"chi\")\n",
    "U = tp.spaces.R2(\"u\")\n",
    "\n",
    "fn_space_chi = tp.spaces.FunctionSpace(X, Chi)\n",
    "fn_space_U = tp.spaces.FunctionSpace(X, U)"
   ]
  },
  {
   "cell_type": "code",
   "execution_count": 5,
   "metadata": {},
   "outputs": [],
   "source": [
    "# Split data into training and testing:\n",
    "total_data = len(input_data)\n",
    "train_N = int(0.9*total_data)\n",
    "\n",
    "train_in = input_data[:train_N]\n",
    "train_out = output_data[:train_N]\n",
    "\n",
    "test_in = input_data[train_N:]\n",
    "test_out = output_data[train_N:]\n",
    "\n",
    "# TODO: Define FunctionSet (DataSet)\n",
    "data_functionset_input = tp.domains.DataFunctionSet(fn_space_chi, train_in)\n",
    "data_functionset_output = tp.domains.DataFunctionSet(fn_space_U, train_out)"
   ]
  },
  {
   "cell_type": "markdown",
   "metadata": {},
   "source": [
    "Sampling as always"
   ]
  },
  {
   "cell_type": "code",
   "execution_count": 6,
   "metadata": {},
   "outputs": [],
   "source": [
    "functionsampler_input = tp.samplers.FunctionSamplerRandomUniform(1000, data_functionset_input)\n",
    "functionsampler_output = tp.samplers.FunctionSamplerCoupled(data_functionset_output, functionsampler_input)"
   ]
  },
  {
   "cell_type": "markdown",
   "metadata": {},
   "source": [
    "Next, we create the FNO in TorchPhysics. This is quite straightforward. The most important parameters are the number of Fourier layers, the number of hidden channels, and the number of Fourier modes that should be kept in each direction."
   ]
  },
  {
   "cell_type": "code",
   "execution_count": 7,
   "metadata": {},
   "outputs": [],
   "source": [
    "# TODO: Set the hidden channels to 32, the fourier layers to 4 and the fourier modes to 8\n",
    "model = tp.models.FNO(Chi, U, \n",
    "                      fourier_layers=4, \n",
    "                      hidden_channels=32, \n",
    "                      fourier_modes=(8, 8),\n",
    "                      skip_connections=True)"
   ]
  },
  {
   "cell_type": "markdown",
   "metadata": {},
   "source": [
    "The learning condition is the same as before:"
   ]
  },
  {
   "cell_type": "code",
   "execution_count": 8,
   "metadata": {},
   "outputs": [],
   "source": [
    "data_condition = tp.conditions.OperatorCondition(module=model, \n",
    "                                                 input_function_sampler=functionsampler_input, \n",
    "                                                 output_function_sampler=functionsampler_output)"
   ]
  },
  {
   "cell_type": "markdown",
   "metadata": {},
   "source": [
    "Now start the training. Given that the problem is a bit more complex, we have a few more parameters in the FNO, and multiple people train on the same GPU, the training is quite slow!\n",
    "Hence we only train for a few iterations, and instead will load a pretrained model (trained with 100000 iterations) afterwards."
   ]
  },
  {
   "cell_type": "code",
   "execution_count": null,
   "metadata": {},
   "outputs": [],
   "source": [
    "optim = tp.OptimizerSetting(optimizer_class=torch.optim.Adam, lr=0.001)\n",
    "solver = tp.solver.Solver([data_condition], optimizer_setting=optim)\n",
    "\n",
    "trainer = pl.Trainer(devices=1, accelerator=\"gpu\",\n",
    "                    num_sanity_val_steps=0,\n",
    "                    benchmark=True,\n",
    "                    max_steps=200, \n",
    "                    logger=False, \n",
    "                    enable_checkpointing=False)\n",
    "\n",
    "trainer.fit(solver)\n"
   ]
  },
  {
   "cell_type": "markdown",
   "metadata": {},
   "source": [
    "First we check the current results:"
   ]
  },
  {
   "cell_type": "code",
   "execution_count": 16,
   "metadata": {},
   "outputs": [
    {
     "name": "stdout",
     "output_type": "stream",
     "text": [
      "Relative error in L^2: 17.18873405456543 %\n"
     ]
    }
   ],
   "source": [
    "model_output = model(tp.spaces.Points(test_in, Chi)).as_tensor.detach().cpu()\n",
    "\n",
    "rel_error = torch.norm(model_output - test_out, p=2, dim=(1,2,3))\n",
    "rel_error /= torch.norm(test_out, p=2, dim=(1,2,3))\n",
    "\n",
    "rel_error = torch.mean(torch.sqrt(rel_error))\n",
    "\n",
    "print(f\"Relative error in L^2: {rel_error*100} %\")"
   ]
  },
  {
   "cell_type": "code",
   "execution_count": null,
   "metadata": {},
   "outputs": [],
   "source": [
    "plot_idx = 12\n",
    "\n",
    "sol_min = torch.min(test_out[plot_idx])\n",
    "sol_max = torch.max(test_out[plot_idx])\n",
    "\n",
    "# Plot \n",
    "fig = plt.figure(figsize=(12, 5))\n",
    "gs = fig.add_gridspec(2, 4)\n",
    "\n",
    "test_in = test_in.cpu()\n",
    "# First column: just plot the input\n",
    "ax_big = fig.add_subplot(gs[:, 0]) \n",
    "ax_big.imshow(test_in[plot_idx, :, :, 0], origin='lower', extent=[0,1,0,1])\n",
    "axarr[0].title.set_text(r\"Example domain\")\n",
    "\n",
    "\n",
    "# Remaining subplots (2 rows x 3 columns)\n",
    "plot_data = [test_out[plot_idx], \n",
    "             model_output[plot_idx], \n",
    "             torch.abs(test_out[plot_idx] - model_output[plot_idx])]\n",
    "title = [[r\"Expected $u_x$\", r\"Predicted $u_x$\", r\"Difference\"], \n",
    "         [r\"Expected $u_y$\", r\"Predicted $u_y$\", r\"Difference\"]]\n",
    "for r in range(2):\n",
    "    for c in range(1, 4):\n",
    "        ax = fig.add_subplot(gs[r, c])\n",
    "        if c < 3:\n",
    "            img = ax.imshow(plot_data[c-1][:, :, r], extent=[0,1,0,1],\n",
    "                            vmin=sol_min, vmax=sol_max, origin='lower')\n",
    "        else:\n",
    "            img = ax.imshow(plot_data[c-1][:, :, r], extent=[0,1,0,1], cmap='jet', origin='lower')\n",
    "        plt.colorbar(img, ax=ax, shrink=0.75)\n",
    "        ax.set_title(title[r][c-1])\n",
    "\n",
    "plt.tight_layout()"
   ]
  },
  {
   "cell_type": "markdown",
   "metadata": {},
   "source": [
    "Now uncomment the next cell and run it. This will load the pretrained model, which should perfom better. To check this, just run the above cells again. \n",
    "\n",
    "Further fine-tuning and training could also improve the results more."
   ]
  },
  {
   "cell_type": "code",
   "execution_count": null,
   "metadata": {},
   "outputs": [],
   "source": [
    "#model.load(f\"{save_path}/stokes_fno.pt\")"
   ]
  },
  {
   "cell_type": "markdown",
   "metadata": {},
   "source": [
    "Further we can ask ourself, how well does the FNO generalize to unseen obstacles. This we try in the next two cells. \n",
    "First we need to define our domain as a function/image $\\chi$, where 1 equals that the point belongs to the domain and 0 that there is an obstacle.\n",
    "\n",
    "The following cell implements a circle in the center of the domain. We observe that the solution looks reasonable, since such data was included in the training.\n",
    "\n",
    "Try to use the provided code and create a square with cornes (0.3, 0.3), (0.7, 0.3), (0.7, 0.7) and (0.3, 0.7) as an obstacle:"
   ]
  },
  {
   "cell_type": "code",
   "execution_count": 40,
   "metadata": {},
   "outputs": [],
   "source": [
    "test_chi = torch.ones((1, 64, 64, 1))\n",
    "\n",
    "def pixel_coord_to_x_coord(i, j):\n",
    "    return j/63.0, i/64.0\n",
    "\n",
    "for i in range(64):\n",
    "    for j in range(64):\n",
    "        x, y = pixel_coord_to_x_coord(i, j)\n",
    "        # TODO: implement square obstacle\n",
    "        if abs(x-0.5) <= 0.2 and abs(y-0.5) <= 0.2:\n",
    "            test_chi[0, i, j, 0] = 0.0\n",
    "        #if (x-0.5)**2 + (y-0.5)**2 <= 0.01:\n",
    "        #    test_chi[0, i, j, 0] = 0.0\n"
   ]
  },
  {
   "cell_type": "code",
   "execution_count": null,
   "metadata": {},
   "outputs": [],
   "source": [
    "model_output = model(tp.spaces.Points(test_chi, Chi)).as_tensor.detach().cpu()\n",
    "\n",
    "f, axarr = plt.subplots(1, 3, figsize=(10, 3))\n",
    "axarr[0].imshow(test_chi[0, :, :, 0], origin='lower', extent=[0,1,0,1])\n",
    "axarr[0].title.set_text(r\"Example domain\")\n",
    "img = axarr[1].imshow(model_output[0, :, :, 0], origin='lower', extent=[0,1,0,1])\n",
    "plt.colorbar(img, ax=axarr[1], shrink=0.75)\n",
    "axarr[1].title.set_text(r\"Example solution $u_x$\")\n",
    "img = axarr[2].imshow(model_output[0, :, :, 1], origin='lower', extent=[0,1,0,1])\n",
    "axarr[2].title.set_text(r\"Example solution $u_y$\")\n",
    "plt.colorbar(img, ax=axarr[2], shrink=0.75)\n",
    "plt.tight_layout()"
   ]
  }
 ],
 "metadata": {
  "kernelspec": {
   "display_name": "tp_version2",
   "language": "python",
   "name": "python3"
  },
  "language_info": {
   "codemirror_mode": {
    "name": "ipython",
    "version": 3
   },
   "file_extension": ".py",
   "mimetype": "text/x-python",
   "name": "python",
   "nbconvert_exporter": "python",
   "pygments_lexer": "ipython3",
   "version": "3.11.7"
  }
 },
 "nbformat": 4,
 "nbformat_minor": 2
}
