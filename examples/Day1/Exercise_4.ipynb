{
 "cells": [
  {
   "cell_type": "markdown",
   "metadata": {
    "id": "LWURJEwMXGB6"
   },
   "source": [
    "# Creating domains via logic operations: Example 4\n",
    "\n",
    "We now consider the same problem as before, but add more complexity to the domain to get closer to our goal of simulating the heat in a drilling process. Therefore, we cut out a rectangular part of our domain:\n",
    "\n",
    "\\begin{align*}\n",
    "    \\partial_t u -0.1\\Delta u &= 0.0 &&\\text{ in } [0, 2] \\times \\Omega &\\\\\n",
    "    u(\\cdot, 0) &= 0 &&\\text{ in } \\Omega &\\\\\n",
    "    u(x, t) &= 0 , &&\\text{ for } x_2=0, \\\\\n",
    "    \\kappa \\nabla u(x, t)\\cdot n &= 0, &&\\text{ on } \\Gamma_N,\\\\\n",
    "    \\kappa \\nabla u(x, t)\\cdot n &= f, &&\\text{ on } \\Gamma_H,\n",
    "\\end{align*}\n",
    "with $\\Omega(t) = ([0, 1] \\times [0, 1]) \\setminus D$, where $D = [0.2, 0.4] \\times [0.6, 1.0]$ and the boundary parts are given by:\n",
    "\\begin{align*}\n",
    "    \\Gamma_H &=  [0.2, 0.4] \\times \\{0.6\\}, \\\\\n",
    "    \\Gamma_N &=  \\partial ([0, 1] \\times [0, 1]) \\setminus (\\{x_2=0\\} \\cup \\Gamma_H).\n",
    "\\end{align*}"
   ]
  },
  {
   "cell_type": "code",
   "execution_count": null,
   "metadata": {
    "colab": {
     "base_uri": "https://localhost:8080/"
    },
    "id": "jmBQTvy8XDMz",
    "outputId": "7bcf9723-d9f3-42fe-f1f4-9094253a4359"
   },
   "outputs": [],
   "source": [
    "# This block is for GPU selection. Please execute.\n",
    "import pathlib\n",
    "import os\n",
    "user = int(str(pathlib.Path().resolve())[-2:])\n",
    "if user <= 21: \n",
    "    gpu_device = str(user % 7) # moriarty\n",
    "else: gpu_device = str(user % 4) # neptuno\n",
    "os.environ[\"CUDA_VISIBLE_DEVICES\"]= gpu_device"
   ]
  },
  {
   "cell_type": "markdown",
   "metadata": {
    "id": "2E-tW7E3YFrC"
   },
   "source": [
    "As before, we start by implementing the *Spaces* that appear in the problem:"
   ]
  },
  {
   "cell_type": "code",
   "execution_count": 17,
   "metadata": {
    "id": "xJMAXc6zYKjq"
   },
   "outputs": [],
   "source": [
    "import torchphysics as tp\n",
    "\n",
    "### TODO: implement all spaces (use variable names 'x', 'u', 't')\n",
    "X = ...\n",
    "U = ...\n",
    "T = ..."
   ]
  },
  {
   "cell_type": "markdown",
   "metadata": {
    "id": "5sgZ47BTMRoX"
   },
   "source": [
    "We now define the basic parameters and functions that appear in our problem."
   ]
  },
  {
   "cell_type": "code",
   "execution_count": 18,
   "metadata": {
    "id": "JCaXLq3DMRoY"
   },
   "outputs": [],
   "source": [
    "import torch\n",
    "import torchphysics as tp\n",
    "import pytorch_lightning as pl\n",
    "import math\n",
    "\n",
    "# Here all parameters are defined, please use these below.\n",
    "t_min, t_max = 0.0, 2.0\n",
    "prod_speed = 1.0 # speed of heating\n",
    "\n",
    "size_x, size_y = 1.0, 1.0\n",
    "x_start, x_end = 0.2, 0.4\n",
    "drill_height = 0.6\n",
    "\n",
    "kappa = 0.1 # heat diffusion\n",
    "\n",
    "# Function for heat source\n",
    "def f(x, t):\n",
    "    heat_source = 80 * (x[:, :1] - x_start) * (x_end - x[:, :1])\n",
    "    heat_source *= (1.0 - torch.exp(-prod_speed*t))\n",
    "    return heat_source"
   ]
  },
  {
   "cell_type": "markdown",
   "metadata": {
    "id": "USnzJA0KYsze"
   },
   "source": [
    "Now we define our domain."
   ]
  },
  {
   "cell_type": "code",
   "execution_count": 19,
   "metadata": {
    "id": "faT14MmHYxgz"
   },
   "outputs": [],
   "source": [
    "base_domain = tp.domains.Parallelogram(X, [0,0], [size_x,0], [0,size_y])\n",
    "drill = tp.domains.Parallelogram(X, [x_start, drill_height], [x_end, drill_height], [x_start, 1])\n",
    "\n",
    "### TODO: create the PDE domain by computing the difference of the previously defined domains\n",
    "omega = ...\n",
    "\n",
    "I_t = tp.domains.Interval(T, t_min, t_max)\n",
    "product_domain = I_t * omega"
   ]
  },
  {
   "cell_type": "markdown",
   "metadata": {
    "id": "ZIi_BadDE74R"
   },
   "source": [
    "Please also try other shapes and shape operations such as union or intersection to create more complex domains and visualize them by sampling points on the domain and its boundary:"
   ]
  },
  {
   "cell_type": "code",
   "execution_count": null,
   "metadata": {
    "id": "mlZIr0MeE7Bh"
   },
   "outputs": [],
   "source": [
    "just_for_fun_domain = ...\n",
    "\n",
    "just_for_fun_sampler = tp.samplers.RandomUniformSampler(just_for_fun_domain.boundary, 100)\n",
    "\n",
    "tp.utils.scatter(X, just_for_fun_sampler)"
   ]
  },
  {
   "cell_type": "markdown",
   "metadata": {
    "id": "14P0cyVDYx0F"
   },
   "source": [
    "This time, when creating samplers, we make them partially static to obtain a faster optimization."
   ]
  },
  {
   "cell_type": "code",
   "execution_count": null,
   "metadata": {
    "id": "K_9sTcr-Y4N1"
   },
   "outputs": [],
   "source": [
    "# To evaluate the PDE condition (in the inner part of the domain) as well as the initial condition, we create similar samplers to before:\n",
    "inner_sampler = tp.samplers.RandomUniformSampler(product_domain, n_points=25000).make_static(resample_interval=200)\n",
    "# we choose to use .make_static(resample_interval=200) to resample new random points every 200 iterations.\n",
    "# this will speed up the training process when compared to the standard resampling in every iteration\n",
    "initial_sampler = tp.samplers.RandomUniformSampler(I_t.boundary_left*omega, n_points=5000).make_static(resample_interval=200)\n",
    "\n",
    "\n",
    "# We again have 3 different boundary conditions that should be satisfied.\n",
    "### TODO: create a static filter-based sampler for the Dirichlet condition at the bottom of the domain.\n",
    "# Every 200 iterations, sample 8000 new points on this part of the boundary.\n",
    "def bottom_filter(x):\n",
    "    return ...\n",
    "bottom_sampler = tp.samplers.RandomUniformSampler(omega.boundary*I_t, 8000, filter_fn=bottom_filter).make_static(resample_interval=200)\n",
    "\n",
    "\n",
    "### TODO: For the inflow sampler, we decide to filter from the boundary of the drill domain\n",
    "# instead of the original domain! (in a product with the time domain)\n",
    "# As a result, less sampled points are thrown away by the filtering,\n",
    "# while both boundaries coincide in this area.\n",
    "# Implement the sampler. Every 200 iterations, sample 1000 new points on this part of the boundary.\n",
    "\n",
    "def inflow_filter(x):\n",
    "    return ...\n",
    "inflow_sampler = tp.samplers.RandomUniformSampler(drill.boundary*I_t, ..., filter_fn=...). ... # <- TODO\n",
    "\n",
    "# similar to before\n",
    "def isolated_filter(x):\n",
    "    return ~ (bottom_filter(x) | inflow_filter(x))\n",
    "isolated_sampler = tp.samplers.RandomUniformSampler(omega.boundary*I_t, 20000, filter_fn=isolated_filter).make_static(resample_interval=200)"
   ]
  },
  {
   "cell_type": "markdown",
   "metadata": {
    "id": "GTumzU23ZDip"
   },
   "source": [
    "Implement a NN, with the same architecture as in the previous exercise: Fully-Connected with 3 layers and 30 neurons each."
   ]
  },
  {
   "cell_type": "code",
   "execution_count": 21,
   "metadata": {
    "id": "L6uGqqJeZHua"
   },
   "outputs": [],
   "source": [
    "model = ..."
   ]
  },
  {
   "cell_type": "markdown",
   "metadata": {
    "id": "YkdAEBllZLXR"
   },
   "source": [
    "Now, we have to transform out mathematical conditions given by our problem into corresponding training conditions.\n",
    "\n",
    "First, we handle the PDE itself, similar to before."
   ]
  },
  {
   "cell_type": "code",
   "execution_count": 22,
   "metadata": {
    "id": "47K8sMw3Zdlp"
   },
   "outputs": [],
   "source": [
    "def pde_residual(u, x, t):\n",
    "    return tp.utils.grad(u, t) - kappa*tp.utils.laplacian(u, x)\n",
    "\n",
    "### TODO: recall the ingredients that you need in a PINNCondition and implement it.\n",
    "pde_cond = ..."
   ]
  },
  {
   "cell_type": "markdown",
   "metadata": {
    "id": "1fNJPCoiMRoe"
   },
   "source": [
    "We now also need the initial condition."
   ]
  },
  {
   "cell_type": "code",
   "execution_count": 23,
   "metadata": {
    "id": "_czD8DUIMRoe"
   },
   "outputs": [],
   "source": [
    "# Implement the residual for the initial condition:\n",
    "def initial_residual(u):\n",
    "    return ...\n",
    "\n",
    "initial_cond = tp.conditions.PINNCondition(model, initial_sampler, initial_residual, weight=1.)"
   ]
  },
  {
   "cell_type": "markdown",
   "metadata": {
    "id": "d09ElfIsGwav"
   },
   "source": [
    "The boundary conditions did not change when compared to the previous exercise."
   ]
  },
  {
   "cell_type": "code",
   "execution_count": 24,
   "metadata": {
    "id": "8UCt70NBMRof"
   },
   "outputs": [],
   "source": [
    "def bottom_residual(u):\n",
    "    return u\n",
    "\n",
    "bottom_cond = tp.conditions.PINNCondition(model, bottom_sampler, bottom_residual, weight=1.)\n",
    "\n",
    "\n",
    "def inflow_residual(u, x, t):#add the bounds of \n",
    "    normal_vectors = omega.boundary.normal(x)\n",
    "    normal_derivative = tp.utils.normal_derivative(u, normal_vectors, x)\n",
    "    return kappa * normal_derivative - f(x, t)\n",
    "\n",
    "inflow_cond = tp.conditions.PINNCondition(model, inflow_sampler, inflow_residual, weight=1.)\n",
    "\n",
    "\n",
    "def isolated_residual(u, x, t):\n",
    "    normal_vectors = omega.boundary.normal(x)\n",
    "    normal_derivative = tp.utils.normal_derivative(u, normal_vectors, x)\n",
    "    return kappa * normal_derivative\n",
    "\n",
    "isolated_cond = tp.conditions.PINNCondition(model, isolated_sampler, isolated_residual, weight=50.)"
   ]
  },
  {
   "cell_type": "markdown",
   "metadata": {
    "id": "xvsSDD16ZwQw"
   },
   "source": [
    "Before the training we collect all conditions and choose our training procedure:"
   ]
  },
  {
   "cell_type": "code",
   "execution_count": 25,
   "metadata": {
    "id": "zgt3JneHZ2JB"
   },
   "outputs": [],
   "source": [
    "optim = tp.OptimizerSetting(torch.optim.Adam, lr=8e-4)\n",
    "solver = tp.solver.Solver([pde_cond, ..., ..., ..., ...], optimizer_setting=optim)"
   ]
  },
  {
   "cell_type": "markdown",
   "metadata": {
    "id": "1U9HSeRFaEwy"
   },
   "source": [
    "Start the training:"
   ]
  },
  {
   "cell_type": "code",
   "execution_count": null,
   "metadata": {
    "colab": {
     "base_uri": "https://localhost:8080/",
     "height": 486,
     "referenced_widgets": [
      "8094e020da4e47f8beb343d237f190a6",
      "8edd65c948974663b245625ae6ad50c1",
      "0787c8b31e9a4e9287604b7c305847f4",
      "1b7885e1e79144d3ab3544756d4ea423",
      "6691d7b74cd147b7a5f15bcf69943fd5",
      "57284ad411344a90a0c41f4da5d56a98",
      "b1955ec44db9456b8efb43e5af951017",
      "ccf0204fa1c64f488fdad2bf08769986",
      "c83d6c8e3fcc44bfa9f7847496e2c4f1",
      "c1a615a4deb74c89865f998e617e28a9",
      "375a4169c3a24bf089414804c8ffb271",
      "976b00caaed34aaa83b028ea7301ef91",
      "c22f059c504a4d808dc96c327b780de6",
      "fee86eda8ab14a4a98af38356868bd48",
      "1827a52f15c04c4ab7953458b5e2e8c5",
      "ba7137eeeb4240ec9e0ee03b28f8d129",
      "242bd2e7fc004be7b3102116f23ade31",
      "049a1d0b6cc34d0d988fb6f6f123e4cd",
      "499d347d2cb24b16ac751193581fd6cf",
      "0b4bea85366747feb2c4ec8ed4ae5d8f",
      "d6f5112d67374178a4aebc2f52f701ad",
      "5df4d6cce3324ca88e3f81bbff116066",
      "1e2a2a27f27246298c24fea9217b7b92",
      "c60114125f04482fa6f00bb4b823285e",
      "c76a07dec13c41628ef92acc7c63976a",
      "5617c26428114dcb80e62146cdeff8a9",
      "8db60173ea854e569d53d8b5f32a039f",
      "1637301b2029467886a1e4b9cb0747fc",
      "fc07574bdc8f42af91f0cab4a768797c",
      "7c1f78efa3df4ed38e2371ec25943c07",
      "62ef7edeba064473a86c058a1f1c885f",
      "1d554802837f41f08f313c45d77ba8ce",
      "4662e094b4bf453684eae955d68d946a"
     ]
    },
    "id": "BwTdFc87aGb5",
    "outputId": "21cc5be6-af0f-4e59-8055-164743e2b895"
   },
   "outputs": [],
   "source": [
    "import pytorch_lightning as pl\n",
    "trainer = pl.Trainer(devices=1, accelerator=\"gpu\", # use one GPU\n",
    "                     max_steps=7000, # iteration number\n",
    "                     benchmark=True, # faster training if input batch has constant size\n",
    "                     logger=False, # to avoid logging into tensorboard\n",
    "                     enable_checkpointing=False)\n",
    "trainer.fit(solver)"
   ]
  },
  {
   "cell_type": "markdown",
   "metadata": {
    "id": "MABRHKvibdC7"
   },
   "source": [
    "We can plot the solution, for two different time points:"
   ]
  },
  {
   "cell_type": "code",
   "execution_count": null,
   "metadata": {
    "colab": {
     "base_uri": "https://localhost:8080/",
     "height": 1000
    },
    "id": "YjxhE2_MMRoh",
    "outputId": "dae81900-6c41-4ffa-a99f-5373069a8beb"
   },
   "outputs": [],
   "source": [
    "plot_sampler = tp.samplers.PlotSampler(plot_domain=omega, n_points=2000, data_for_other_variables={\"t\": 0.5})\n",
    "fig = tp.utils.plot(model, lambda u : u, plot_sampler)\n",
    "\n",
    "\n",
    "plot_sampler = tp.samplers.PlotSampler(plot_domain=omega, n_points=2000, data_for_other_variables={\"t\": 2.0})\n",
    "fig = tp.utils.plot(model, lambda u : u, plot_sampler)"
   ]
  },
  {
   "cell_type": "code",
   "execution_count": null,
   "metadata": {
    "colab": {
     "base_uri": "https://localhost:8080/",
     "height": 420
    },
    "id": "hBl-iKgeMRoi",
    "outputId": "408dc29e-fea0-4593-e02b-333fa654a328"
   },
   "outputs": [],
   "source": [
    "# We can also animate the solution over time\n",
    "anim_sampler = tp.samplers.AnimationSampler(omega, I_t, 200, n_points=1000)\n",
    "fig, anim = tp.utils.animate(model, lambda u: u, anim_sampler, ani_speed=10, angle=[30, 220])\n",
    "anim.save('heat-eq.gif')\n",
    "# You should be able to see a tab with a folder on the left side of your screen. There you can find the gif and can watch it."
   ]
  }
 ],
 "metadata": {
  "accelerator": "GPU",
  "colab": {
   "gpuType": "T4",
   "provenance": []
  },
  "kernelspec": {
   "display_name": "Python 3",
   "name": "python3"
  },
  "language_info": {
   "codemirror_mode": {
    "name": "ipython",
    "version": 3
   },
   "file_extension": ".py",
   "mimetype": "text/x-python",
   "name": "python",
   "nbconvert_exporter": "python",
   "pygments_lexer": "ipython3",
   "version": "3.9.4"
  },
  "widgets": {
   "application/vnd.jupyter.widget-state+json": {
    "049a1d0b6cc34d0d988fb6f6f123e4cd": {
     "model_module": "@jupyter-widgets/controls",
     "model_module_version": "1.5.0",
     "model_name": "DescriptionStyleModel",
     "state": {
      "_model_module": "@jupyter-widgets/controls",
      "_model_module_version": "1.5.0",
      "_model_name": "DescriptionStyleModel",
      "_view_count": null,
      "_view_module": "@jupyter-widgets/base",
      "_view_module_version": "1.2.0",
      "_view_name": "StyleView",
      "description_width": ""
     }
    },
    "0787c8b31e9a4e9287604b7c305847f4": {
     "model_module": "@jupyter-widgets/controls",
     "model_module_version": "1.5.0",
     "model_name": "FloatProgressModel",
     "state": {
      "_dom_classes": [],
      "_model_module": "@jupyter-widgets/controls",
      "_model_module_version": "1.5.0",
      "_model_name": "FloatProgressModel",
      "_view_count": null,
      "_view_module": "@jupyter-widgets/controls",
      "_view_module_version": "1.5.0",
      "_view_name": "ProgressView",
      "bar_style": "",
      "description": "",
      "description_tooltip": null,
      "layout": "IPY_MODEL_ccf0204fa1c64f488fdad2bf08769986",
      "max": 1,
      "min": 0,
      "orientation": "horizontal",
      "style": "IPY_MODEL_c83d6c8e3fcc44bfa9f7847496e2c4f1",
      "value": 1
     }
    },
    "0b4bea85366747feb2c4ec8ed4ae5d8f": {
     "model_module": "@jupyter-widgets/controls",
     "model_module_version": "1.5.0",
     "model_name": "ProgressStyleModel",
     "state": {
      "_model_module": "@jupyter-widgets/controls",
      "_model_module_version": "1.5.0",
      "_model_name": "ProgressStyleModel",
      "_view_count": null,
      "_view_module": "@jupyter-widgets/base",
      "_view_module_version": "1.2.0",
      "_view_name": "StyleView",
      "bar_color": null,
      "description_width": ""
     }
    },
    "1637301b2029467886a1e4b9cb0747fc": {
     "model_module": "@jupyter-widgets/base",
     "model_module_version": "1.2.0",
     "model_name": "LayoutModel",
     "state": {
      "_model_module": "@jupyter-widgets/base",
      "_model_module_version": "1.2.0",
      "_model_name": "LayoutModel",
      "_view_count": null,
      "_view_module": "@jupyter-widgets/base",
      "_view_module_version": "1.2.0",
      "_view_name": "LayoutView",
      "align_content": null,
      "align_items": null,
      "align_self": null,
      "border": null,
      "bottom": null,
      "display": null,
      "flex": null,
      "flex_flow": null,
      "grid_area": null,
      "grid_auto_columns": null,
      "grid_auto_flow": null,
      "grid_auto_rows": null,
      "grid_column": null,
      "grid_gap": null,
      "grid_row": null,
      "grid_template_areas": null,
      "grid_template_columns": null,
      "grid_template_rows": null,
      "height": null,
      "justify_content": null,
      "justify_items": null,
      "left": null,
      "margin": null,
      "max_height": null,
      "max_width": null,
      "min_height": null,
      "min_width": null,
      "object_fit": null,
      "object_position": null,
      "order": null,
      "overflow": null,
      "overflow_x": null,
      "overflow_y": null,
      "padding": null,
      "right": null,
      "top": null,
      "visibility": null,
      "width": null
     }
    },
    "1827a52f15c04c4ab7953458b5e2e8c5": {
     "model_module": "@jupyter-widgets/controls",
     "model_module_version": "1.5.0",
     "model_name": "HTMLModel",
     "state": {
      "_dom_classes": [],
      "_model_module": "@jupyter-widgets/controls",
      "_model_module_version": "1.5.0",
      "_model_name": "HTMLModel",
      "_view_count": null,
      "_view_module": "@jupyter-widgets/controls",
      "_view_module_version": "1.5.0",
      "_view_name": "HTMLView",
      "description": "",
      "description_tooltip": null,
      "layout": "IPY_MODEL_d6f5112d67374178a4aebc2f52f701ad",
      "placeholder": "​",
      "style": "IPY_MODEL_5df4d6cce3324ca88e3f81bbff116066",
      "value": " 5001/5001 [03:45&lt;00:00, 22.17it/s, loss=0.0296]"
     }
    },
    "1b7885e1e79144d3ab3544756d4ea423": {
     "model_module": "@jupyter-widgets/controls",
     "model_module_version": "1.5.0",
     "model_name": "HTMLModel",
     "state": {
      "_dom_classes": [],
      "_model_module": "@jupyter-widgets/controls",
      "_model_module_version": "1.5.0",
      "_model_name": "HTMLModel",
      "_view_count": null,
      "_view_module": "@jupyter-widgets/controls",
      "_view_module_version": "1.5.0",
      "_view_name": "HTMLView",
      "description": "",
      "description_tooltip": null,
      "layout": "IPY_MODEL_c1a615a4deb74c89865f998e617e28a9",
      "placeholder": "​",
      "style": "IPY_MODEL_375a4169c3a24bf089414804c8ffb271",
      "value": " 1/1 [00:00&lt;00:00, 898.33it/s]"
     }
    },
    "1d554802837f41f08f313c45d77ba8ce": {
     "model_module": "@jupyter-widgets/base",
     "model_module_version": "1.2.0",
     "model_name": "LayoutModel",
     "state": {
      "_model_module": "@jupyter-widgets/base",
      "_model_module_version": "1.2.0",
      "_model_name": "LayoutModel",
      "_view_count": null,
      "_view_module": "@jupyter-widgets/base",
      "_view_module_version": "1.2.0",
      "_view_name": "LayoutView",
      "align_content": null,
      "align_items": null,
      "align_self": null,
      "border": null,
      "bottom": null,
      "display": null,
      "flex": null,
      "flex_flow": null,
      "grid_area": null,
      "grid_auto_columns": null,
      "grid_auto_flow": null,
      "grid_auto_rows": null,
      "grid_column": null,
      "grid_gap": null,
      "grid_row": null,
      "grid_template_areas": null,
      "grid_template_columns": null,
      "grid_template_rows": null,
      "height": null,
      "justify_content": null,
      "justify_items": null,
      "left": null,
      "margin": null,
      "max_height": null,
      "max_width": null,
      "min_height": null,
      "min_width": null,
      "object_fit": null,
      "object_position": null,
      "order": null,
      "overflow": null,
      "overflow_x": null,
      "overflow_y": null,
      "padding": null,
      "right": null,
      "top": null,
      "visibility": null,
      "width": null
     }
    },
    "1e2a2a27f27246298c24fea9217b7b92": {
     "model_module": "@jupyter-widgets/controls",
     "model_module_version": "1.5.0",
     "model_name": "HBoxModel",
     "state": {
      "_dom_classes": [],
      "_model_module": "@jupyter-widgets/controls",
      "_model_module_version": "1.5.0",
      "_model_name": "HBoxModel",
      "_view_count": null,
      "_view_module": "@jupyter-widgets/controls",
      "_view_module_version": "1.5.0",
      "_view_name": "HBoxView",
      "box_style": "",
      "children": [
       "IPY_MODEL_c60114125f04482fa6f00bb4b823285e",
       "IPY_MODEL_c76a07dec13c41628ef92acc7c63976a",
       "IPY_MODEL_5617c26428114dcb80e62146cdeff8a9"
      ],
      "layout": "IPY_MODEL_8db60173ea854e569d53d8b5f32a039f"
     }
    },
    "242bd2e7fc004be7b3102116f23ade31": {
     "model_module": "@jupyter-widgets/base",
     "model_module_version": "1.2.0",
     "model_name": "LayoutModel",
     "state": {
      "_model_module": "@jupyter-widgets/base",
      "_model_module_version": "1.2.0",
      "_model_name": "LayoutModel",
      "_view_count": null,
      "_view_module": "@jupyter-widgets/base",
      "_view_module_version": "1.2.0",
      "_view_name": "LayoutView",
      "align_content": null,
      "align_items": null,
      "align_self": null,
      "border": null,
      "bottom": null,
      "display": null,
      "flex": null,
      "flex_flow": null,
      "grid_area": null,
      "grid_auto_columns": null,
      "grid_auto_flow": null,
      "grid_auto_rows": null,
      "grid_column": null,
      "grid_gap": null,
      "grid_row": null,
      "grid_template_areas": null,
      "grid_template_columns": null,
      "grid_template_rows": null,
      "height": null,
      "justify_content": null,
      "justify_items": null,
      "left": null,
      "margin": null,
      "max_height": null,
      "max_width": null,
      "min_height": null,
      "min_width": null,
      "object_fit": null,
      "object_position": null,
      "order": null,
      "overflow": null,
      "overflow_x": null,
      "overflow_y": null,
      "padding": null,
      "right": null,
      "top": null,
      "visibility": null,
      "width": null
     }
    },
    "375a4169c3a24bf089414804c8ffb271": {
     "model_module": "@jupyter-widgets/controls",
     "model_module_version": "1.5.0",
     "model_name": "DescriptionStyleModel",
     "state": {
      "_model_module": "@jupyter-widgets/controls",
      "_model_module_version": "1.5.0",
      "_model_name": "DescriptionStyleModel",
      "_view_count": null,
      "_view_module": "@jupyter-widgets/base",
      "_view_module_version": "1.2.0",
      "_view_name": "StyleView",
      "description_width": ""
     }
    },
    "4662e094b4bf453684eae955d68d946a": {
     "model_module": "@jupyter-widgets/controls",
     "model_module_version": "1.5.0",
     "model_name": "DescriptionStyleModel",
     "state": {
      "_model_module": "@jupyter-widgets/controls",
      "_model_module_version": "1.5.0",
      "_model_name": "DescriptionStyleModel",
      "_view_count": null,
      "_view_module": "@jupyter-widgets/base",
      "_view_module_version": "1.2.0",
      "_view_name": "StyleView",
      "description_width": ""
     }
    },
    "499d347d2cb24b16ac751193581fd6cf": {
     "model_module": "@jupyter-widgets/base",
     "model_module_version": "1.2.0",
     "model_name": "LayoutModel",
     "state": {
      "_model_module": "@jupyter-widgets/base",
      "_model_module_version": "1.2.0",
      "_model_name": "LayoutModel",
      "_view_count": null,
      "_view_module": "@jupyter-widgets/base",
      "_view_module_version": "1.2.0",
      "_view_name": "LayoutView",
      "align_content": null,
      "align_items": null,
      "align_self": null,
      "border": null,
      "bottom": null,
      "display": null,
      "flex": "2",
      "flex_flow": null,
      "grid_area": null,
      "grid_auto_columns": null,
      "grid_auto_flow": null,
      "grid_auto_rows": null,
      "grid_column": null,
      "grid_gap": null,
      "grid_row": null,
      "grid_template_areas": null,
      "grid_template_columns": null,
      "grid_template_rows": null,
      "height": null,
      "justify_content": null,
      "justify_items": null,
      "left": null,
      "margin": null,
      "max_height": null,
      "max_width": null,
      "min_height": null,
      "min_width": null,
      "object_fit": null,
      "object_position": null,
      "order": null,
      "overflow": null,
      "overflow_x": null,
      "overflow_y": null,
      "padding": null,
      "right": null,
      "top": null,
      "visibility": null,
      "width": null
     }
    },
    "5617c26428114dcb80e62146cdeff8a9": {
     "model_module": "@jupyter-widgets/controls",
     "model_module_version": "1.5.0",
     "model_name": "HTMLModel",
     "state": {
      "_dom_classes": [],
      "_model_module": "@jupyter-widgets/controls",
      "_model_module_version": "1.5.0",
      "_model_name": "HTMLModel",
      "_view_count": null,
      "_view_module": "@jupyter-widgets/controls",
      "_view_module_version": "1.5.0",
      "_view_name": "HTMLView",
      "description": "",
      "description_tooltip": null,
      "layout": "IPY_MODEL_1d554802837f41f08f313c45d77ba8ce",
      "placeholder": "​",
      "style": "IPY_MODEL_4662e094b4bf453684eae955d68d946a",
      "value": " 1/1 [00:00&lt;00:00, 215.65it/s]"
     }
    },
    "57284ad411344a90a0c41f4da5d56a98": {
     "model_module": "@jupyter-widgets/base",
     "model_module_version": "1.2.0",
     "model_name": "LayoutModel",
     "state": {
      "_model_module": "@jupyter-widgets/base",
      "_model_module_version": "1.2.0",
      "_model_name": "LayoutModel",
      "_view_count": null,
      "_view_module": "@jupyter-widgets/base",
      "_view_module_version": "1.2.0",
      "_view_name": "LayoutView",
      "align_content": null,
      "align_items": null,
      "align_self": null,
      "border": null,
      "bottom": null,
      "display": null,
      "flex": null,
      "flex_flow": null,
      "grid_area": null,
      "grid_auto_columns": null,
      "grid_auto_flow": null,
      "grid_auto_rows": null,
      "grid_column": null,
      "grid_gap": null,
      "grid_row": null,
      "grid_template_areas": null,
      "grid_template_columns": null,
      "grid_template_rows": null,
      "height": null,
      "justify_content": null,
      "justify_items": null,
      "left": null,
      "margin": null,
      "max_height": null,
      "max_width": null,
      "min_height": null,
      "min_width": null,
      "object_fit": null,
      "object_position": null,
      "order": null,
      "overflow": null,
      "overflow_x": null,
      "overflow_y": null,
      "padding": null,
      "right": null,
      "top": null,
      "visibility": null,
      "width": null
     }
    },
    "5df4d6cce3324ca88e3f81bbff116066": {
     "model_module": "@jupyter-widgets/controls",
     "model_module_version": "1.5.0",
     "model_name": "DescriptionStyleModel",
     "state": {
      "_model_module": "@jupyter-widgets/controls",
      "_model_module_version": "1.5.0",
      "_model_name": "DescriptionStyleModel",
      "_view_count": null,
      "_view_module": "@jupyter-widgets/base",
      "_view_module_version": "1.2.0",
      "_view_name": "StyleView",
      "description_width": ""
     }
    },
    "62ef7edeba064473a86c058a1f1c885f": {
     "model_module": "@jupyter-widgets/controls",
     "model_module_version": "1.5.0",
     "model_name": "ProgressStyleModel",
     "state": {
      "_model_module": "@jupyter-widgets/controls",
      "_model_module_version": "1.5.0",
      "_model_name": "ProgressStyleModel",
      "_view_count": null,
      "_view_module": "@jupyter-widgets/base",
      "_view_module_version": "1.2.0",
      "_view_name": "StyleView",
      "bar_color": null,
      "description_width": ""
     }
    },
    "6691d7b74cd147b7a5f15bcf69943fd5": {
     "model_module": "@jupyter-widgets/base",
     "model_module_version": "1.2.0",
     "model_name": "LayoutModel",
     "state": {
      "_model_module": "@jupyter-widgets/base",
      "_model_module_version": "1.2.0",
      "_model_name": "LayoutModel",
      "_view_count": null,
      "_view_module": "@jupyter-widgets/base",
      "_view_module_version": "1.2.0",
      "_view_name": "LayoutView",
      "align_content": null,
      "align_items": null,
      "align_self": null,
      "border": null,
      "bottom": null,
      "display": "inline-flex",
      "flex": null,
      "flex_flow": "row wrap",
      "grid_area": null,
      "grid_auto_columns": null,
      "grid_auto_flow": null,
      "grid_auto_rows": null,
      "grid_column": null,
      "grid_gap": null,
      "grid_row": null,
      "grid_template_areas": null,
      "grid_template_columns": null,
      "grid_template_rows": null,
      "height": null,
      "justify_content": null,
      "justify_items": null,
      "left": null,
      "margin": null,
      "max_height": null,
      "max_width": null,
      "min_height": null,
      "min_width": null,
      "object_fit": null,
      "object_position": null,
      "order": null,
      "overflow": null,
      "overflow_x": null,
      "overflow_y": null,
      "padding": null,
      "right": null,
      "top": null,
      "visibility": "hidden",
      "width": "100%"
     }
    },
    "7c1f78efa3df4ed38e2371ec25943c07": {
     "model_module": "@jupyter-widgets/base",
     "model_module_version": "1.2.0",
     "model_name": "LayoutModel",
     "state": {
      "_model_module": "@jupyter-widgets/base",
      "_model_module_version": "1.2.0",
      "_model_name": "LayoutModel",
      "_view_count": null,
      "_view_module": "@jupyter-widgets/base",
      "_view_module_version": "1.2.0",
      "_view_name": "LayoutView",
      "align_content": null,
      "align_items": null,
      "align_self": null,
      "border": null,
      "bottom": null,
      "display": null,
      "flex": "2",
      "flex_flow": null,
      "grid_area": null,
      "grid_auto_columns": null,
      "grid_auto_flow": null,
      "grid_auto_rows": null,
      "grid_column": null,
      "grid_gap": null,
      "grid_row": null,
      "grid_template_areas": null,
      "grid_template_columns": null,
      "grid_template_rows": null,
      "height": null,
      "justify_content": null,
      "justify_items": null,
      "left": null,
      "margin": null,
      "max_height": null,
      "max_width": null,
      "min_height": null,
      "min_width": null,
      "object_fit": null,
      "object_position": null,
      "order": null,
      "overflow": null,
      "overflow_x": null,
      "overflow_y": null,
      "padding": null,
      "right": null,
      "top": null,
      "visibility": null,
      "width": null
     }
    },
    "8094e020da4e47f8beb343d237f190a6": {
     "model_module": "@jupyter-widgets/controls",
     "model_module_version": "1.5.0",
     "model_name": "HBoxModel",
     "state": {
      "_dom_classes": [],
      "_model_module": "@jupyter-widgets/controls",
      "_model_module_version": "1.5.0",
      "_model_name": "HBoxModel",
      "_view_count": null,
      "_view_module": "@jupyter-widgets/controls",
      "_view_module_version": "1.5.0",
      "_view_name": "HBoxView",
      "box_style": "",
      "children": [
       "IPY_MODEL_8edd65c948974663b245625ae6ad50c1",
       "IPY_MODEL_0787c8b31e9a4e9287604b7c305847f4",
       "IPY_MODEL_1b7885e1e79144d3ab3544756d4ea423"
      ],
      "layout": "IPY_MODEL_6691d7b74cd147b7a5f15bcf69943fd5"
     }
    },
    "8db60173ea854e569d53d8b5f32a039f": {
     "model_module": "@jupyter-widgets/base",
     "model_module_version": "1.2.0",
     "model_name": "LayoutModel",
     "state": {
      "_model_module": "@jupyter-widgets/base",
      "_model_module_version": "1.2.0",
      "_model_name": "LayoutModel",
      "_view_count": null,
      "_view_module": "@jupyter-widgets/base",
      "_view_module_version": "1.2.0",
      "_view_name": "LayoutView",
      "align_content": null,
      "align_items": null,
      "align_self": null,
      "border": null,
      "bottom": null,
      "display": "inline-flex",
      "flex": null,
      "flex_flow": "row wrap",
      "grid_area": null,
      "grid_auto_columns": null,
      "grid_auto_flow": null,
      "grid_auto_rows": null,
      "grid_column": null,
      "grid_gap": null,
      "grid_row": null,
      "grid_template_areas": null,
      "grid_template_columns": null,
      "grid_template_rows": null,
      "height": null,
      "justify_content": null,
      "justify_items": null,
      "left": null,
      "margin": null,
      "max_height": null,
      "max_width": null,
      "min_height": null,
      "min_width": null,
      "object_fit": null,
      "object_position": null,
      "order": null,
      "overflow": null,
      "overflow_x": null,
      "overflow_y": null,
      "padding": null,
      "right": null,
      "top": null,
      "visibility": "hidden",
      "width": "100%"
     }
    },
    "8edd65c948974663b245625ae6ad50c1": {
     "model_module": "@jupyter-widgets/controls",
     "model_module_version": "1.5.0",
     "model_name": "HTMLModel",
     "state": {
      "_dom_classes": [],
      "_model_module": "@jupyter-widgets/controls",
      "_model_module_version": "1.5.0",
      "_model_name": "HTMLModel",
      "_view_count": null,
      "_view_module": "@jupyter-widgets/controls",
      "_view_module_version": "1.5.0",
      "_view_name": "HTMLView",
      "description": "",
      "description_tooltip": null,
      "layout": "IPY_MODEL_57284ad411344a90a0c41f4da5d56a98",
      "placeholder": "​",
      "style": "IPY_MODEL_b1955ec44db9456b8efb43e5af951017",
      "value": "Sanity Checking DataLoader 0: 100%"
     }
    },
    "976b00caaed34aaa83b028ea7301ef91": {
     "model_module": "@jupyter-widgets/controls",
     "model_module_version": "1.5.0",
     "model_name": "HBoxModel",
     "state": {
      "_dom_classes": [],
      "_model_module": "@jupyter-widgets/controls",
      "_model_module_version": "1.5.0",
      "_model_name": "HBoxModel",
      "_view_count": null,
      "_view_module": "@jupyter-widgets/controls",
      "_view_module_version": "1.5.0",
      "_view_name": "HBoxView",
      "box_style": "",
      "children": [
       "IPY_MODEL_c22f059c504a4d808dc96c327b780de6",
       "IPY_MODEL_fee86eda8ab14a4a98af38356868bd48",
       "IPY_MODEL_1827a52f15c04c4ab7953458b5e2e8c5"
      ],
      "layout": "IPY_MODEL_ba7137eeeb4240ec9e0ee03b28f8d129"
     }
    },
    "b1955ec44db9456b8efb43e5af951017": {
     "model_module": "@jupyter-widgets/controls",
     "model_module_version": "1.5.0",
     "model_name": "DescriptionStyleModel",
     "state": {
      "_model_module": "@jupyter-widgets/controls",
      "_model_module_version": "1.5.0",
      "_model_name": "DescriptionStyleModel",
      "_view_count": null,
      "_view_module": "@jupyter-widgets/base",
      "_view_module_version": "1.2.0",
      "_view_name": "StyleView",
      "description_width": ""
     }
    },
    "ba7137eeeb4240ec9e0ee03b28f8d129": {
     "model_module": "@jupyter-widgets/base",
     "model_module_version": "1.2.0",
     "model_name": "LayoutModel",
     "state": {
      "_model_module": "@jupyter-widgets/base",
      "_model_module_version": "1.2.0",
      "_model_name": "LayoutModel",
      "_view_count": null,
      "_view_module": "@jupyter-widgets/base",
      "_view_module_version": "1.2.0",
      "_view_name": "LayoutView",
      "align_content": null,
      "align_items": null,
      "align_self": null,
      "border": null,
      "bottom": null,
      "display": "inline-flex",
      "flex": null,
      "flex_flow": "row wrap",
      "grid_area": null,
      "grid_auto_columns": null,
      "grid_auto_flow": null,
      "grid_auto_rows": null,
      "grid_column": null,
      "grid_gap": null,
      "grid_row": null,
      "grid_template_areas": null,
      "grid_template_columns": null,
      "grid_template_rows": null,
      "height": null,
      "justify_content": null,
      "justify_items": null,
      "left": null,
      "margin": null,
      "max_height": null,
      "max_width": null,
      "min_height": null,
      "min_width": null,
      "object_fit": null,
      "object_position": null,
      "order": null,
      "overflow": null,
      "overflow_x": null,
      "overflow_y": null,
      "padding": null,
      "right": null,
      "top": null,
      "visibility": null,
      "width": "100%"
     }
    },
    "c1a615a4deb74c89865f998e617e28a9": {
     "model_module": "@jupyter-widgets/base",
     "model_module_version": "1.2.0",
     "model_name": "LayoutModel",
     "state": {
      "_model_module": "@jupyter-widgets/base",
      "_model_module_version": "1.2.0",
      "_model_name": "LayoutModel",
      "_view_count": null,
      "_view_module": "@jupyter-widgets/base",
      "_view_module_version": "1.2.0",
      "_view_name": "LayoutView",
      "align_content": null,
      "align_items": null,
      "align_self": null,
      "border": null,
      "bottom": null,
      "display": null,
      "flex": null,
      "flex_flow": null,
      "grid_area": null,
      "grid_auto_columns": null,
      "grid_auto_flow": null,
      "grid_auto_rows": null,
      "grid_column": null,
      "grid_gap": null,
      "grid_row": null,
      "grid_template_areas": null,
      "grid_template_columns": null,
      "grid_template_rows": null,
      "height": null,
      "justify_content": null,
      "justify_items": null,
      "left": null,
      "margin": null,
      "max_height": null,
      "max_width": null,
      "min_height": null,
      "min_width": null,
      "object_fit": null,
      "object_position": null,
      "order": null,
      "overflow": null,
      "overflow_x": null,
      "overflow_y": null,
      "padding": null,
      "right": null,
      "top": null,
      "visibility": null,
      "width": null
     }
    },
    "c22f059c504a4d808dc96c327b780de6": {
     "model_module": "@jupyter-widgets/controls",
     "model_module_version": "1.5.0",
     "model_name": "HTMLModel",
     "state": {
      "_dom_classes": [],
      "_model_module": "@jupyter-widgets/controls",
      "_model_module_version": "1.5.0",
      "_model_name": "HTMLModel",
      "_view_count": null,
      "_view_module": "@jupyter-widgets/controls",
      "_view_module_version": "1.5.0",
      "_view_name": "HTMLView",
      "description": "",
      "description_tooltip": null,
      "layout": "IPY_MODEL_242bd2e7fc004be7b3102116f23ade31",
      "placeholder": "​",
      "style": "IPY_MODEL_049a1d0b6cc34d0d988fb6f6f123e4cd",
      "value": "Epoch 0: 100%"
     }
    },
    "c60114125f04482fa6f00bb4b823285e": {
     "model_module": "@jupyter-widgets/controls",
     "model_module_version": "1.5.0",
     "model_name": "HTMLModel",
     "state": {
      "_dom_classes": [],
      "_model_module": "@jupyter-widgets/controls",
      "_model_module_version": "1.5.0",
      "_model_name": "HTMLModel",
      "_view_count": null,
      "_view_module": "@jupyter-widgets/controls",
      "_view_module_version": "1.5.0",
      "_view_name": "HTMLView",
      "description": "",
      "description_tooltip": null,
      "layout": "IPY_MODEL_1637301b2029467886a1e4b9cb0747fc",
      "placeholder": "​",
      "style": "IPY_MODEL_fc07574bdc8f42af91f0cab4a768797c",
      "value": "Validation DataLoader 0: 100%"
     }
    },
    "c76a07dec13c41628ef92acc7c63976a": {
     "model_module": "@jupyter-widgets/controls",
     "model_module_version": "1.5.0",
     "model_name": "FloatProgressModel",
     "state": {
      "_dom_classes": [],
      "_model_module": "@jupyter-widgets/controls",
      "_model_module_version": "1.5.0",
      "_model_name": "FloatProgressModel",
      "_view_count": null,
      "_view_module": "@jupyter-widgets/controls",
      "_view_module_version": "1.5.0",
      "_view_name": "ProgressView",
      "bar_style": "",
      "description": "",
      "description_tooltip": null,
      "layout": "IPY_MODEL_7c1f78efa3df4ed38e2371ec25943c07",
      "max": 1,
      "min": 0,
      "orientation": "horizontal",
      "style": "IPY_MODEL_62ef7edeba064473a86c058a1f1c885f",
      "value": 1
     }
    },
    "c83d6c8e3fcc44bfa9f7847496e2c4f1": {
     "model_module": "@jupyter-widgets/controls",
     "model_module_version": "1.5.0",
     "model_name": "ProgressStyleModel",
     "state": {
      "_model_module": "@jupyter-widgets/controls",
      "_model_module_version": "1.5.0",
      "_model_name": "ProgressStyleModel",
      "_view_count": null,
      "_view_module": "@jupyter-widgets/base",
      "_view_module_version": "1.2.0",
      "_view_name": "StyleView",
      "bar_color": null,
      "description_width": ""
     }
    },
    "ccf0204fa1c64f488fdad2bf08769986": {
     "model_module": "@jupyter-widgets/base",
     "model_module_version": "1.2.0",
     "model_name": "LayoutModel",
     "state": {
      "_model_module": "@jupyter-widgets/base",
      "_model_module_version": "1.2.0",
      "_model_name": "LayoutModel",
      "_view_count": null,
      "_view_module": "@jupyter-widgets/base",
      "_view_module_version": "1.2.0",
      "_view_name": "LayoutView",
      "align_content": null,
      "align_items": null,
      "align_self": null,
      "border": null,
      "bottom": null,
      "display": null,
      "flex": "2",
      "flex_flow": null,
      "grid_area": null,
      "grid_auto_columns": null,
      "grid_auto_flow": null,
      "grid_auto_rows": null,
      "grid_column": null,
      "grid_gap": null,
      "grid_row": null,
      "grid_template_areas": null,
      "grid_template_columns": null,
      "grid_template_rows": null,
      "height": null,
      "justify_content": null,
      "justify_items": null,
      "left": null,
      "margin": null,
      "max_height": null,
      "max_width": null,
      "min_height": null,
      "min_width": null,
      "object_fit": null,
      "object_position": null,
      "order": null,
      "overflow": null,
      "overflow_x": null,
      "overflow_y": null,
      "padding": null,
      "right": null,
      "top": null,
      "visibility": null,
      "width": null
     }
    },
    "d6f5112d67374178a4aebc2f52f701ad": {
     "model_module": "@jupyter-widgets/base",
     "model_module_version": "1.2.0",
     "model_name": "LayoutModel",
     "state": {
      "_model_module": "@jupyter-widgets/base",
      "_model_module_version": "1.2.0",
      "_model_name": "LayoutModel",
      "_view_count": null,
      "_view_module": "@jupyter-widgets/base",
      "_view_module_version": "1.2.0",
      "_view_name": "LayoutView",
      "align_content": null,
      "align_items": null,
      "align_self": null,
      "border": null,
      "bottom": null,
      "display": null,
      "flex": null,
      "flex_flow": null,
      "grid_area": null,
      "grid_auto_columns": null,
      "grid_auto_flow": null,
      "grid_auto_rows": null,
      "grid_column": null,
      "grid_gap": null,
      "grid_row": null,
      "grid_template_areas": null,
      "grid_template_columns": null,
      "grid_template_rows": null,
      "height": null,
      "justify_content": null,
      "justify_items": null,
      "left": null,
      "margin": null,
      "max_height": null,
      "max_width": null,
      "min_height": null,
      "min_width": null,
      "object_fit": null,
      "object_position": null,
      "order": null,
      "overflow": null,
      "overflow_x": null,
      "overflow_y": null,
      "padding": null,
      "right": null,
      "top": null,
      "visibility": null,
      "width": null
     }
    },
    "fc07574bdc8f42af91f0cab4a768797c": {
     "model_module": "@jupyter-widgets/controls",
     "model_module_version": "1.5.0",
     "model_name": "DescriptionStyleModel",
     "state": {
      "_model_module": "@jupyter-widgets/controls",
      "_model_module_version": "1.5.0",
      "_model_name": "DescriptionStyleModel",
      "_view_count": null,
      "_view_module": "@jupyter-widgets/base",
      "_view_module_version": "1.2.0",
      "_view_name": "StyleView",
      "description_width": ""
     }
    },
    "fee86eda8ab14a4a98af38356868bd48": {
     "model_module": "@jupyter-widgets/controls",
     "model_module_version": "1.5.0",
     "model_name": "FloatProgressModel",
     "state": {
      "_dom_classes": [],
      "_model_module": "@jupyter-widgets/controls",
      "_model_module_version": "1.5.0",
      "_model_name": "FloatProgressModel",
      "_view_count": null,
      "_view_module": "@jupyter-widgets/controls",
      "_view_module_version": "1.5.0",
      "_view_name": "ProgressView",
      "bar_style": "success",
      "description": "",
      "description_tooltip": null,
      "layout": "IPY_MODEL_499d347d2cb24b16ac751193581fd6cf",
      "max": 5001,
      "min": 0,
      "orientation": "horizontal",
      "style": "IPY_MODEL_0b4bea85366747feb2c4ec8ed4ae5d8f",
      "value": 5001
     }
    }
   }
  }
 },
 "nbformat": 4,
 "nbformat_minor": 0
}
