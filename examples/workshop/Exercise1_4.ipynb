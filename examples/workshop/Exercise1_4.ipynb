{
 "cells": [
  {
   "attachments": {},
   "cell_type": "markdown",
   "metadata": {},
   "source": [
    "### Exercise Sheet 1\n",
    "\n",
    "#### 1.4 Learning an Inverse Operator \n",
    "We consider the ODE: \n",
    "\\begin{align*}\n",
    "     \\partial_t^2 u(t) &= -ku(t), \\text{ on } [0, 2\\pi]\\\\\n",
    "     u(0) = &1.0, \\, \\partial_t u(0) = 0\n",
    "\\end{align*}\n",
    "The solution is given by $u(t; k) = u_0 \\cdot \\sin(\\sqrt{k} t)$. \n",
    "\n",
    "We want to train a neural network, that given solution data $(u(t_0), \\dots, u(t_N))$ should return the corresponding parameter $k$."
   ]
  },
  {
   "cell_type": "code",
   "execution_count": 12,
   "metadata": {},
   "outputs": [],
   "source": [
    "import torch \n",
    "import math\n",
    "# Here all parameters are defined:\n",
    "t_min, t_max = 0.0, 2*math.pi\n",
    "k_min, k_max = 0.1, 4.0\n",
    "\n",
    "\n",
    "# dataset size for training and testing \n",
    "N_t = 100 # discrete number of time points (t_0, ..., t_N)\n",
    "N_k_train = 500\n",
    "N_k_test = 20\n",
    "\n",
    "train_iterations = 5000\n",
    "learning_rate = 1.e-3"
   ]
  },
  {
   "attachments": {},
   "cell_type": "markdown",
   "metadata": {},
   "source": [
    "##### a) Creating the Dataset\n",
    "For the training of the neural network, we first need to create a fitting dataset. Create four tensors `input_training, output_training, input_testing, output_testing`. With shapes and data:\n",
    "```\n",
    "input_training.shape = [N_k_train, N_t], output_training.shape = [N_k_train, 1] \n",
    "```\n",
    "```\n",
    "input_training[i] = (u(t_0; k_i), ..., u(t_N; k_i)), output_training[i] = k_i\n",
    "```\n",
    "Similar for the testing case. Here we want to sample $k_i$, for $i=1,\\dots,N_{k_{train}}$, randomly in our given interval (`torch.rand`) and use an equidistant grid for $t$ (`torch.linspace`). For the implementation of $u$, the functions `torch.sin` and `torch.sqrt` are helpful. "
   ]
  },
  {
   "cell_type": "code",
   "execution_count": 13,
   "metadata": {},
   "outputs": [],
   "source": [
    "### TODO: Create and fill the tensors\n",
    "# input_training  = \n",
    "# output_training = \n",
    "# input_testing   = \n",
    "# output_testing  = "
   ]
  },
  {
   "attachments": {},
   "cell_type": "markdown",
   "metadata": {},
   "source": [
    "##### b) Defining the Neural Network\n",
    "Build a network that has $N_t$ input neurons and 1 output neuron for $k$, two hidden layers of size 25 and `torch.nn.Tanh` as activations in between."
   ]
  },
  {
   "cell_type": "code",
   "execution_count": 14,
   "metadata": {},
   "outputs": [],
   "source": [
    "### TODO: implement the neural network\n",
    "model = ..."
   ]
  },
  {
   "attachments": {},
   "cell_type": "markdown",
   "metadata": {},
   "source": [
    "##### c) Writing the Training Loop\n",
    "Complete the trainig loop, like in the exercise 1.2 and 1.3"
   ]
  },
  {
   "cell_type": "code",
   "execution_count": null,
   "metadata": {},
   "outputs": [],
   "source": [
    "### Move data to GPU\n",
    "model.to(\"cuda\")\n",
    "input_training = input_training.to(\"cuda\")\n",
    "output_training = output_training.to(\"cuda\")\n",
    "\n",
    "### For the loss, we take the mean squared error and Adam for optimization.\n",
    "loss_fn = torch.nn.MSELoss() \n",
    "optimizer = torch.optim.Adam(model.parameters(), lr=learning_rate)\n",
    "\n",
    "### Training loop\n",
    "for t in range(train_iterations):\n",
    "    ### TODO: Model evaluation, loss computation and optimization\n",
    "\n",
    "\n",
    "    ### Shows current loss every 250 iterations:\n",
    "    if t == 0 or (t+1) % 250 == 0:\n",
    "        print(\"Loss at iteration %i / %i is %f\" %(t, train_iterations, loss.item()))\n"
   ]
  },
  {
   "cell_type": "code",
   "execution_count": null,
   "metadata": {},
   "outputs": [],
   "source": [
    "### Compute error:\n",
    "model.to(\"cpu\")\n",
    "model_out = model(input_testing)\n",
    "error = torch.abs(model_out - output_testing)\n",
    "print(\"Relative error on the test data is:\", torch.max(error) / torch.max(output_testing))"
   ]
  }
 ],
 "metadata": {
  "kernelspec": {
   "display_name": "bosch",
   "language": "python",
   "name": "python3"
  },
  "language_info": {
   "codemirror_mode": {
    "name": "ipython",
    "version": 3
   },
   "file_extension": ".py",
   "mimetype": "text/x-python",
   "name": "python",
   "nbconvert_exporter": "python",
   "pygments_lexer": "ipython3",
   "version": "3.9.15"
  },
  "orig_nbformat": 4
 },
 "nbformat": 4,
 "nbformat_minor": 2
}
