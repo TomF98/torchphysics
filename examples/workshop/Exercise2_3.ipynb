{
 "cells": [
  {
   "attachments": {},
   "cell_type": "markdown",
   "metadata": {},
   "source": [
    "# Exercise Sheet 2\n",
    "\n",
    "### 2.3 Solving an inverse Problem with TorchPhysics\n",
    "We consider now the wave equation\n",
    "\n",
    "\\begin{align*}\n",
    "    \\partial_t^2 u &= c \\, \\partial_x^2 u, &&\\text{ in } I_x \\times I_t, \\\\\n",
    "    u &= 0 , &&\\text{ on } \\partial I_x \\times I_t, \\\\\n",
    "    \\partial_t u &= 0 , &&\\text{ on } \\partial I_x \\times I_t, \\\\\n",
    "    u(\\cdot, 0) &= \\sin(x) , &&\\text{ in } I_x,\n",
    "\\end{align*}\n",
    "\n",
    "with $I_x = [0, 2\\pi]$ and $I_t = [0, 20]$. We are given a noisy dataset $\\{(u_i, x_i, t_i)\\}_{i=1}^N$ and aim to determine the corresponding value of $c$. \n",
    "\n",
    "For the phyiscs informed loss, we only use the partial differential equation and not the boundary and initial conditions."
   ]
  },
  {
   "cell_type": "code",
   "execution_count": 1,
   "metadata": {},
   "outputs": [],
   "source": [
    "!pip install torchaudio==0.13.0\n",
    "!pip install torchphysics"
   ]
  },
  {
   "cell_type": "code",
   "execution_count": 2,
   "metadata": {},
   "outputs": [],
   "source": [
    "import torchphysics as tp\n",
    "import pytorch_lightning as pl\n",
    "import torch\n",
    "import math\n",
    "\n",
    "# Here all parameters are defined:\n",
    "t_min, t_max = 0.0, 20.0\n",
    "x_min, x_max = 0.0, 2 * math.pi \n",
    "\n",
    "# Number of training points \n",
    "N_pde = 20000\n",
    "\n",
    "# Training parameters\n",
    "train_iterations = 5000\n",
    "learning_rate = 1.e-3"
   ]
  },
  {
   "cell_type": "code",
   "execution_count": 3,
   "metadata": {},
   "outputs": [],
   "source": [
    "### TODO: Implement the spaces\n",
    "\n",
    "\n",
    "### TODO: Define the domain omega and time interval \n",
    "I_x = ...\n",
    "I_t = ...\n",
    "\n",
    "### TODO: Create random point sampler for the PDE condition inside I_x x I_t\n",
    "pde_sampler = ..."
   ]
  },
  {
   "cell_type": "code",
   "execution_count": 4,
   "metadata": {},
   "outputs": [],
   "source": [
    "### TODO: Create the neural networks for the solution u and the learnable parameter c.\n",
    "###       The model of u should contain 3 hidden layers with 50 neurons each and should have\n",
    "###       X*T as an input space (order is important for the following cells).\n",
    "###       For the parameter c use `tp.models.Parameter` and the initial value 1.0\n",
    "model_u = ...\n",
    "param_C = ..."
   ]
  },
  {
   "cell_type": "code",
   "execution_count": 5,
   "metadata": {},
   "outputs": [],
   "source": [
    "### TODO: Define condition for the wave equation. Parameters can be passed to the condition\n",
    "###       with the `parameter` keyword.\n",
    "def pde_residual():\n",
    "    pass\n",
    "\n",
    "pde_condition = ..."
   ]
  },
  {
   "cell_type": "code",
   "execution_count": 6,
   "metadata": {},
   "outputs": [
    {
     "name": "stdout",
     "output_type": "stream",
     "text": [
      "--2023-07-20 12:47:24--  https://github.com/TomF98/torchphysics/raw/main/examples/workshop/FEMData/Data2_3/time_points.pt\n",
      "Resolving github.com (github.com)... 140.82.121.4\n",
      "Connecting to github.com (github.com)|140.82.121.4|:443... connected.\n",
      "HTTP request sent, awaiting response... 302 Found\n",
      "Location: https://raw.githubusercontent.com/TomF98/torchphysics/main/examples/workshop/FEMData/Data2_3/time_points.pt [following]\n",
      "--2023-07-20 12:47:24--  https://raw.githubusercontent.com/TomF98/torchphysics/main/examples/workshop/FEMData/Data2_3/time_points.pt\n",
      "Resolving raw.githubusercontent.com (raw.githubusercontent.com)... 185.199.111.133, 185.199.108.133, 185.199.109.133, ...\n",
      "Connecting to raw.githubusercontent.com (raw.githubusercontent.com)|185.199.111.133|:443... connected.\n",
      "HTTP request sent, awaiting response... 200 OK\n",
      "Length: 1515 (1.5K) [application/octet-stream]\n",
      "Saving to: 'time_points.pt'\n",
      "\n",
      "time_points.pt      100%[===================>]   1.48K  --.-KB/s    in 0s      \n",
      "\n",
      "2023-07-20 12:47:24 (19.3 MB/s) - 'time_points.pt' saved [1515/1515]\n",
      "\n",
      "--2023-07-20 12:47:25--  https://github.com/TomF98/torchphysics/raw/main/examples/workshop/FEMData/Data2_3/space_coords.pt\n",
      "Resolving github.com (github.com)... 140.82.121.3\n",
      "Connecting to github.com (github.com)|140.82.121.3|:443... connected.\n",
      "HTTP request sent, awaiting response... 302 Found\n",
      "Location: https://raw.githubusercontent.com/TomF98/torchphysics/main/examples/workshop/FEMData/Data2_3/space_coords.pt [following]\n",
      "--2023-07-20 12:47:25--  https://raw.githubusercontent.com/TomF98/torchphysics/main/examples/workshop/FEMData/Data2_3/space_coords.pt\n",
      "Resolving raw.githubusercontent.com (raw.githubusercontent.com)... 185.199.111.133, 185.199.108.133, 185.199.109.133, ...\n",
      "Connecting to raw.githubusercontent.com (raw.githubusercontent.com)|185.199.111.133|:443... connected.\n",
      "HTTP request sent, awaiting response... 200 OK\n",
      "Length: 1259 (1.2K) [application/octet-stream]\n",
      "Saving to: 'space_coords.pt'\n",
      "\n",
      "space_coords.pt     100%[===================>]   1.23K  --.-KB/s    in 0s      \n",
      "\n",
      "2023-07-20 12:47:25 (37.1 MB/s) - 'space_coords.pt' saved [1259/1259]\n",
      "\n",
      "--2023-07-20 12:47:26--  https://github.com/TomF98/torchphysics/raw/main/examples/workshop/FEMData/Data2_3/wave_data.pt\n",
      "Resolving github.com (github.com)... 140.82.121.3\n",
      "Connecting to github.com (github.com)|140.82.121.3|:443... connected.\n",
      "HTTP request sent, awaiting response... 302 Found\n",
      "Location: https://raw.githubusercontent.com/TomF98/torchphysics/main/examples/workshop/FEMData/Data2_3/wave_data.pt [following]\n",
      "--2023-07-20 12:47:26--  https://raw.githubusercontent.com/TomF98/torchphysics/main/examples/workshop/FEMData/Data2_3/wave_data.pt\n",
      "Resolving raw.githubusercontent.com (raw.githubusercontent.com)... 185.199.111.133, 185.199.108.133, 185.199.109.133, ...\n",
      "Connecting to raw.githubusercontent.com (raw.githubusercontent.com)|185.199.111.133|:443... connected.\n",
      "HTTP request sent, awaiting response... 200 OK\n",
      "Length: 105259 (103K) [application/octet-stream]\n",
      "Saving to: 'wave_data.pt'\n",
      "\n",
      "wave_data.pt        100%[===================>] 102.79K  --.-KB/s    in 0.01s   \n",
      "\n",
      "2023-07-20 12:47:26 (7.33 MB/s) - 'wave_data.pt' saved [105259/105259]\n",
      "\n"
     ]
    }
   ],
   "source": [
    "### Here, we load the data. First download it from GitHub and then read it with\n",
    "### PyTorch. `in_data` contains combinations of X*T points and 'out_data' the \n",
    "### coressponding ampltidue of the wave.\n",
    "\n",
    "!wget https://github.com/TomF98/torchphysics/raw/main/examples/workshop/FEMData/Data2_3/time_points.pt\n",
    "!wget https://github.com/TomF98/torchphysics/raw/main/examples/workshop/FEMData/Data2_3/space_coords.pt\n",
    "!wget https://github.com/TomF98/torchphysics/raw/main/examples/workshop/FEMData/Data2_3/wave_data.pt"
   ]
  },
  {
   "cell_type": "code",
   "execution_count": 7,
   "metadata": {},
   "outputs": [
    {
     "name": "stdout",
     "output_type": "stream",
     "text": [
      "Data has the shape:\n",
      "torch.Size([13065, 2]) torch.Size([13065, 1])\n"
     ]
    }
   ],
   "source": [
    "fe_time = torch.load(\"time_points.pt\")\n",
    "fe_space = torch.load(\"space_coords.pt\")\n",
    "out_data = torch.load(\"wave_data.pt\")\n",
    "\n",
    "in_data = torch.zeros((len(fe_time), len(fe_space), 2))\n",
    "in_data[:, :, :1] = fe_space\n",
    "in_data[:, :, 1] = fe_time\n",
    "\n",
    "in_data = in_data.reshape(-1, 2)\n",
    "\n",
    "print(\"Data has the shape:\")\n",
    "print(in_data.shape, out_data.shape)"
   ]
  },
  {
   "cell_type": "code",
   "execution_count": 8,
   "metadata": {},
   "outputs": [],
   "source": [
    "### TODO: Randomly shuffle the data from the previous cell, add 1% of articfical noise to the `out_data`\n",
    "###       and then select, for the training, only the first 6500 points of the data batch.\n",
    "###       Hint: for the random shuffle `torch.randperm(len(in_data))` is useful and for constructing noise \n",
    "###       use: `0.01 * torch.randn_like(out_data) * out_data`. For selecting the first 8000 points\n",
    "###       use the indexing [:6500].\n",
    "permutation = ...\n",
    "in_data = in_data[permutation] # shuffles the full input dataset along the batch dimension\n",
    "out_data = ...  # shuffle output dataset\n",
    "\n",
    "# add noise:\n",
    "\n",
    "# select first 7500 entries:\n",
    "\n"
   ]
  },
  {
   "cell_type": "code",
   "execution_count": 9,
   "metadata": {},
   "outputs": [
    {
     "ename": "NameError",
     "evalue": "name 'X' is not defined",
     "output_type": "error",
     "traceback": [
      "\u001b[0;31m---------------------------------------------------------------------------\u001b[0m",
      "\u001b[0;31mNameError\u001b[0m                                 Traceback (most recent call last)",
      "\u001b[0;32m<ipython-input-9-fd5d8bf90027>\u001b[0m in \u001b[0;36m<module>\u001b[0;34m\u001b[0m\n\u001b[1;32m      2\u001b[0m \u001b[0;31m###       assign them a space and enable TorchPhysics to work with them. For the input data this is\u001b[0m\u001b[0;34m\u001b[0m\u001b[0;34m\u001b[0m\u001b[0m\n\u001b[1;32m      3\u001b[0m \u001b[0;31m###       already shown below:\u001b[0m\u001b[0;34m\u001b[0m\u001b[0;34m\u001b[0m\u001b[0m\n\u001b[0;32m----> 4\u001b[0;31m \u001b[0min_data_points\u001b[0m \u001b[0;34m=\u001b[0m \u001b[0mtp\u001b[0m\u001b[0;34m.\u001b[0m\u001b[0mspaces\u001b[0m\u001b[0;34m.\u001b[0m\u001b[0mPoints\u001b[0m\u001b[0;34m(\u001b[0m\u001b[0mdata\u001b[0m\u001b[0;34m=\u001b[0m\u001b[0min_data\u001b[0m\u001b[0;34m,\u001b[0m \u001b[0mspace\u001b[0m\u001b[0;34m=\u001b[0m\u001b[0mX\u001b[0m\u001b[0;34m*\u001b[0m\u001b[0mT\u001b[0m\u001b[0;34m)\u001b[0m\u001b[0;34m\u001b[0m\u001b[0;34m\u001b[0m\u001b[0m\n\u001b[0m\u001b[1;32m      5\u001b[0m \u001b[0mout_data_points\u001b[0m \u001b[0;34m=\u001b[0m \u001b[0;34m...\u001b[0m\u001b[0;34m\u001b[0m\u001b[0;34m\u001b[0m\u001b[0m\n\u001b[1;32m      6\u001b[0m \u001b[0;34m\u001b[0m\u001b[0m\n",
      "\u001b[0;31mNameError\u001b[0m: name 'X' is not defined"
     ]
    }
   ],
   "source": [
    "### TODO: Transform the output data from the previous cell into a `tp.spaces.Points` objects, to\n",
    "###       assign them a space and enable TorchPhysics to work with them. For the input data this is \n",
    "###       already shown below:\n",
    "in_data_points = tp.spaces.Points(data=in_data, space=X*T)\n",
    "out_data_points = ...\n",
    "\n",
    "### Here we create a DataLoader, that passes the above data to the conditions and\n",
    "### also controls the batch size, the device (CPU or GPU) and more...\n",
    "### And also the condition, that fits the given model to the data\n",
    "data_loader = tp.utils.PointsDataLoader((in_data_points, out_data_points), batch_size=len(in_data))"
   ]
  },
  {
   "cell_type": "code",
   "execution_count": null,
   "metadata": {},
   "outputs": [],
   "source": [
    "### Data condition, that fits the model to the given data:\n",
    "data_condition = tp.conditions.DataCondition(module=model_u,\n",
    "                                             dataloader=data_loader,\n",
    "                                             norm=2, use_full_dataset=True,\n",
    "                                             weight=100) "
   ]
  },
  {
   "cell_type": "code",
   "execution_count": null,
   "metadata": {},
   "outputs": [],
   "source": [
    "### Start training with Adam:\n",
    "optim = tp.OptimizerSetting(optimizer_class=torch.optim.Adam, lr=learning_rate)\n",
    "solver = tp.solver.Solver(train_conditions=[data_condition, pde_condition], optimizer_setting=optim)\n",
    "\n",
    "\n",
    "trainer = pl.Trainer(gpus=1 if torch.cuda.is_available() else None,\n",
    "                     max_steps=train_iterations,\n",
    "                     logger=False,\n",
    "                     benchmark=True)\n",
    "                     \n",
    "trainer.fit(solver)"
   ]
  },
  {
   "cell_type": "code",
   "execution_count": null,
   "metadata": {},
   "outputs": [],
   "source": [
    "### For better results in the inverse problem, switching to LBFGS is useful:\n",
    "optim = tp.OptimizerSetting(optimizer_class=torch.optim.LBFGS, lr=0.5, optimizer_args={'max_iter': 2})\n",
    "pde_condition.sampler = pde_condition.sampler.make_static()\n",
    "solver = tp.solver.Solver([pde_condition, data_condition], optimizer_setting=optim)\n",
    "\n",
    "trainer = pl.Trainer(gpus=1 if torch.cuda.is_available() else None,\n",
    "                     max_steps=2000,\n",
    "                     logger=False,\n",
    "                     benchmark=True)\n",
    "                     \n",
    "trainer.fit(solver)"
   ]
  },
  {
   "cell_type": "code",
   "execution_count": null,
   "metadata": {},
   "outputs": [],
   "source": [
    "print(\"Correct value of c is: 0.742\")\n",
    "print(\"With PINNs we computed the value:\", param_C.as_tensor.item())\n",
    "print(\"Relative difference is:\", abs(0.742 - param_C.as_tensor.item()) / 0.742)"
   ]
  },
  {
   "cell_type": "code",
   "execution_count": null,
   "metadata": {},
   "outputs": [],
   "source": [
    "### We can also plot the solution that we learned\n",
    "plot_domain = tp.domains.Parallelogram(X*T, [0, 0], [x_max, 0], [0, t_max])\n",
    "plot_sampler = tp.samplers.PlotSampler(plot_domain, 1000)\n",
    "fig = tp.utils.plot(model_u, lambda u: u, plot_sampler, plot_type=\"contour_surface\")"
   ]
  },
  {
   "cell_type": "code",
   "execution_count": null,
   "metadata": {},
   "outputs": [],
   "source": [
    "# Or an animation:\n",
    "anim_sampler = tp.samplers.AnimationSampler(I_x, I_t, 200, n_points=250)\n",
    "fig, anim = tp.utils.animate(model_u, lambda u: u, anim_sampler, ani_speed=40)\n",
    "anim.save('wave-eq.gif')\n",
    "# On Google colab you have at the left side a tab with a folder. There you should find the gif and can watch it."
   ]
  }
 ],
 "metadata": {
  "kernelspec": {
   "display_name": "bosch",
   "language": "python",
   "name": "python3"
  },
  "language_info": {
   "codemirror_mode": {
    "name": "ipython",
    "version": 3
   },
   "file_extension": ".py",
   "mimetype": "text/x-python",
   "name": "python",
   "nbconvert_exporter": "python",
   "pygments_lexer": "ipython3",
   "version": "3.9.15"
  },
  "orig_nbformat": 4
 },
 "nbformat": 4,
 "nbformat_minor": 2
}
