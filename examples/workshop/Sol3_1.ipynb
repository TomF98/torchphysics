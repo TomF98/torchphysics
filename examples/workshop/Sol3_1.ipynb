{
 "cells": [
  {
   "attachments": {},
   "cell_type": "markdown",
   "metadata": {},
   "source": [
    "### Exercise Sheet 2\n",
    "\n",
    "#### 2.1 ODE with time dependent Parameter\n",
    "Use TorchPhysics to solve the ODE for falling with a parachute:\n",
    "\\begin{align*}\n",
    "    \\partial_t^2 u(t) &= D(t)(\\partial_t u(t))^2 - g \\\\\n",
    "    u(0) &= H \\\\\n",
    "    \\partial_t u(0) &= 0\n",
    "\\end{align*}\n",
    "Where now $D: \\R \\to \\R$ with $ D(t) = 2.0\\cdot(1.1 + \\sin(4\\cdot t))$."
   ]
  },
  {
   "cell_type": "code",
   "execution_count": 32,
   "metadata": {},
   "outputs": [],
   "source": [
    "#!pip install torchaudio==0.13.0\n",
    "#!pip install torchphysics\n",
    "\n",
    "# This will give some error messages, because some package on Google colab use newer versions than we need.\n",
    "# You can ignore the errors, since we dont need the mentioned packages.\n",
    "# Also, TorchPhysics will only be installed for this session, once you close the notebook it will\n",
    "# be automatically deleted and everything resets to default."
   ]
  },
  {
   "cell_type": "code",
   "execution_count": 48,
   "metadata": {},
   "outputs": [],
   "source": [
    "import torch\n",
    "import torchphysics as tp\n",
    "import pytorch_lightning as pl\n",
    "\n",
    "# Here all parameters are defined:\n",
    "t_min, t_max = 0.0, 3.0\n",
    "v_min, v_max = -10.0, 0.0\n",
    "### TODO: implement the function of D.\n",
    "def D(t):\n",
    "    return 2.0 * (1.1 + torch.sin(4*t))\n",
    "g, H = 9.81, 50.0\n",
    "\n",
    "# number of time points \n",
    "N_t = 500\n",
    "N_initial = 1\n",
    "\n",
    "train_iterations = 10000\n",
    "learning_rate = 1.e-3"
   ]
  },
  {
   "cell_type": "code",
   "execution_count": 34,
   "metadata": {},
   "outputs": [],
   "source": [
    "### Spaces, Domains and Sampler like yesterday:\n",
    "T = tp.spaces.R1('t')\n",
    "U = tp.spaces.R1('u')\n",
    "V = tp.spaces.R1(\"v_0\")\n",
    "\n",
    "int_t = tp.domains.Interval(T, t_min, t_max)\n",
    "int_v = tp.domains.Interval(V, v_min, v_max)\n",
    "\n",
    "ode_sampler = tp.samplers.RandomUniformSampler(int_t*int_v, n_points=N_t)\n",
    "initial_sampler = tp.samplers.RandomUniformSampler(int_t.boundary_left*int_v, n_points=N_initial)"
   ]
  },
  {
   "cell_type": "code",
   "execution_count": 35,
   "metadata": {},
   "outputs": [],
   "source": [
    "### TODO: Create the neural network with 3 hidden layers and 25 neurons each.\n",
    "model = tp.models.FCN(T*V, U, hidden=(40, 40, 40))"
   ]
  },
  {
   "cell_type": "code",
   "execution_count": 36,
   "metadata": {},
   "outputs": [],
   "source": [
    "### TODO: Define condition for the ODE:\n",
    "def ode_residual(u, t):\n",
    "    u_t = tp.utils.grad(u, t)\n",
    "    u_tt = tp.utils.grad(u_t, t)\n",
    "    return u_tt - D(t)*u_t**2 + g\n",
    "\n",
    "ode_condition = tp.conditions.PINNCondition(model, ode_sampler, ode_residual)"
   ]
  },
  {
   "cell_type": "code",
   "execution_count": 37,
   "metadata": {},
   "outputs": [],
   "source": [
    "### Other conditions are also like before:\n",
    "def position_residual(u):\n",
    "    return u - H\n",
    "\n",
    "initial_position_condition = tp.conditions.PINNCondition(model, initial_sampler, position_residual)"
   ]
  },
  {
   "cell_type": "code",
   "execution_count": 38,
   "metadata": {},
   "outputs": [],
   "source": [
    "def velocity_residual(u, t, v_0):\n",
    "    return tp.utils.grad(u, t) - v_0\n",
    "\n",
    "initial_velocity_condition = tp.conditions.PINNCondition(model, initial_sampler, velocity_residual)"
   ]
  },
  {
   "cell_type": "code",
   "execution_count": 39,
   "metadata": {},
   "outputs": [
    {
     "name": "stderr",
     "output_type": "stream",
     "text": [
      "GPU available: True, used: True\n",
      "TPU available: False, using: 0 TPU cores\n",
      "LOCAL_RANK: 0 - CUDA_VISIBLE_DEVICES: [0,1,2,3]\n",
      "\n",
      "  | Name             | Type       | Params\n",
      "------------------------------------------------\n",
      "0 | train_conditions | ModuleList | 3.4 K \n",
      "1 | val_conditions   | ModuleList | 0     \n",
      "------------------------------------------------\n",
      "3.4 K     Trainable params\n",
      "0         Non-trainable params\n",
      "3.4 K     Total params\n",
      "0.014     Total estimated model params size (MB)\n"
     ]
    },
    {
     "data": {
      "application/vnd.jupyter.widget-view+json": {
       "model_id": "807994679d9c49848ce4284fb7e25584",
       "version_major": 2,
       "version_minor": 0
      },
      "text/plain": [
       "Validation sanity check: 0it [00:00, ?it/s]"
      ]
     },
     "metadata": {},
     "output_type": "display_data"
    },
    {
     "name": "stderr",
     "output_type": "stream",
     "text": [
      "/home/tomfre/miniconda3/envs/bosch/lib/python3.9/site-packages/pytorch_lightning/utilities/distributed.py:69: UserWarning: The dataloader, val dataloader 0, does not have many workers which may be a bottleneck. Consider increasing the value of the `num_workers` argument` (try 8 which is the number of cpus on this machine) in the `DataLoader` init to improve performance.\n",
      "  warnings.warn(*args, **kwargs)\n",
      "/home/tomfre/miniconda3/envs/bosch/lib/python3.9/site-packages/pytorch_lightning/utilities/distributed.py:69: UserWarning: The dataloader, train dataloader, does not have many workers which may be a bottleneck. Consider increasing the value of the `num_workers` argument` (try 8 which is the number of cpus on this machine) in the `DataLoader` init to improve performance.\n",
      "  warnings.warn(*args, **kwargs)\n"
     ]
    },
    {
     "data": {
      "application/vnd.jupyter.widget-view+json": {
       "model_id": "b17675df0dd44af8b86c7a54d9ff51b0",
       "version_major": 2,
       "version_minor": 0
      },
      "text/plain": [
       "Training: 0it [00:00, ?it/s]"
      ]
     },
     "metadata": {},
     "output_type": "display_data"
    },
    {
     "data": {
      "application/vnd.jupyter.widget-view+json": {
       "model_id": "6f6a8308e25c4634a5c050fff4d93a51",
       "version_major": 2,
       "version_minor": 0
      },
      "text/plain": [
       "Validating: 0it [00:00, ?it/s]"
      ]
     },
     "metadata": {},
     "output_type": "display_data"
    }
   ],
   "source": [
    "### Syntax for the training is already implemented:\n",
    "optim = tp.OptimizerSetting(optimizer_class=torch.optim.Adam, lr=learning_rate) \n",
    "solver = tp.solver.Solver([ode_condition, initial_position_condition, initial_velocity_condition],\n",
    "                          optimizer_setting=optim)\n",
    "\n",
    "trainer = pl.Trainer(gpus=1 if torch.cuda.is_available() else None,\n",
    "                     benchmark=True,\n",
    "                     max_steps=train_iterations,\n",
    "                     logger=False, \n",
    "                     )\n",
    "\n",
    "trainer.fit(solver)"
   ]
  },
  {
   "cell_type": "code",
   "execution_count": 53,
   "metadata": {},
   "outputs": [
    {
     "data": {
      "text/plain": [
       "<matplotlib.legend.Legend at 0x7f5ffce94dc0>"
      ]
     },
     "execution_count": 53,
     "metadata": {},
     "output_type": "execute_result"
    },
    {
     "data": {
      "image/png": "[encoded data removed]",
      "text/plain": [
       "<Figure size 432x288 with 1 Axes>"
      ]
     },
     "metadata": {
      "needs_background": "light"
     },
     "output_type": "display_data"
    }
   ],
   "source": [
    "### Here, plot the solution:\n",
    "import matplotlib.pyplot as plt\n",
    "\n",
    "v_0_test = -1.0\n",
    "\n",
    "plot_sampler = tp.samplers.PlotSampler(int_t, 200, data_for_other_variables={\"v_0\":v_0_test})\n",
    "fig = tp.utils.plot(model, lambda u: u, plot_sampler)\n",
    "plt.title(\"Solution\")\n",
    "\n",
    "# Solution for comparision with backward euler:\n",
    "t = torch.linspace(t_min, t_max, 2000)\n",
    "dt = t[1] - t[0]\n",
    "D_fn = D(t)\n",
    "u, v = torch.zeros_like(t), torch.zeros_like(t)\n",
    "u[0] = H\n",
    "v[0] = v_0_test \n",
    "for i in range(len(t)-1):\n",
    "    v[i+1] = 1/(2*dt*D_fn[i+1]) - torch.sqrt(1/(2*dt*D_fn[i+1])**2 - (v[i] - dt*g)/(dt*D_fn[i+1]))\n",
    "    u[i+1] = u[i] + dt * v[i+1]\n",
    "\n",
    "plt.plot(t, u, linestyle=\"--\")\n",
    "plt.legend([\"Neural Network\", \"Backward Euler\"])"
   ]
  }
 ],
 "metadata": {
  "kernelspec": {
   "display_name": "bosch",
   "language": "python",
   "name": "python3"
  },
  "language_info": {
   "codemirror_mode": {
    "name": "ipython",
    "version": 3
   },
   "file_extension": ".py",
   "mimetype": "text/x-python",
   "name": "python",
   "nbconvert_exporter": "python",
   "pygments_lexer": "ipython3",
   "version": "3.9.15"
  },
  "orig_nbformat": 4
 },
 "nbformat": 4,
 "nbformat_minor": 2
}
