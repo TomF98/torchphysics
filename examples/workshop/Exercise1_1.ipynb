{
 "cells": [
  {
   "attachments": {},
   "cell_type": "markdown",
   "metadata": {},
   "source": [
    "# Exercise Sheet 1\n",
    "\n",
    "### 1.1 PyTorch Tensor Indexing\n",
    "Here you can find a small overview and explanation of the tensor syntax."
   ]
  },
  {
   "cell_type": "code",
   "execution_count": 1,
   "metadata": {},
   "outputs": [],
   "source": [
    "import torch"
   ]
  },
  {
   "attachments": {},
   "cell_type": "markdown",
   "metadata": {},
   "source": [
    "A PyTorch-tensor can easily created given a Python list. Nested lists yield higher dimensional objects:"
   ]
  },
  {
   "cell_type": "code",
   "execution_count": 2,
   "metadata": {},
   "outputs": [
    {
     "name": "stdout",
     "output_type": "stream",
     "text": [
      "Example for a vector: tensor([1, 2, 3])\n",
      "Example for a matrix: \n",
      " tensor([[1, 2],\n",
      "        [0, 7]])\n"
     ]
    }
   ],
   "source": [
    "tensor_1 = torch.tensor([1, 2, 3]) # a vector with 3 entries\n",
    "tensor_2 = torch.tensor([[1, 2], [0, 7]]) # a 2x2 matrix\n",
    "print(\"Example for a vector:\", tensor_1)\n",
    "print(\"Example for a matrix: \\n\", tensor_2)"
   ]
  },
  {
   "attachments": {},
   "cell_type": "markdown",
   "metadata": {},
   "source": [
    "Instead of creating larger tensors per hand, the constructors `torch.zeros` and `torch.ones` can create tensor of a given size:"
   ]
  },
  {
   "cell_type": "code",
   "execution_count": 3,
   "metadata": {},
   "outputs": [
    {
     "name": "stdout",
     "output_type": "stream",
     "text": [
      "Example for a vector: tensor([0., 0., 0.])\n",
      "Example for a matrix: \n",
      " tensor([[1., 1.],\n",
      "        [1., 1.]])\n"
     ]
    }
   ],
   "source": [
    "tensor_zeros = torch.zeros(3) #  # a vector with 3 zero entries\n",
    "tensor_ones = torch.ones((2, 2)) # a 2x2 matrix with ones\n",
    "print(\"Example for a vector:\", tensor_zeros)\n",
    "print(\"Example for a matrix: \\n\", tensor_ones)"
   ]
  },
  {
   "attachments": {},
   "cell_type": "markdown",
   "metadata": {},
   "source": [
    "Also tensors with more than two dimensions can be created. This will be important later, when we generally use the first dimension as the size of data batches and the later dimensions for problem specific data.\n",
    "\n",
    "With `tensor.shape` we can see the size of a tensor and how many entries each dimension contains.\n",
    "\n",
    "With `tensor[index_values]` one can view and modify the entries of the tensor. Here, the *index_values* have to be smaller than the size of each dimension-1, since we start counting at index 0."
   ]
  },
  {
   "cell_type": "code",
   "execution_count": 10,
   "metadata": {},
   "outputs": [
    {
     "name": "stdout",
     "output_type": "stream",
     "text": [
      "Check shape of tensor: torch.Size([3, 2, 2])\n",
      "Check top left entry of the first 'matrix': tensor(0.)\n",
      "Check new top left entry of the first 'matrix': tensor(1.)\n",
      "Change more values\n",
      "tensor([[[1., 2.],\n",
      "         [0., 0.]],\n",
      "\n",
      "        [[0., 0.],\n",
      "         [0., 0.]],\n",
      "\n",
      "        [[0., 0.],\n",
      "         [5., 0.]]])\n",
      "Indexing also works with boolean values:\n",
      "tensor([[[1., 2.],\n",
      "         [0., 0.]],\n",
      "\n",
      "        [[0., 0.],\n",
      "         [5., 0.]]])\n"
     ]
    }
   ],
   "source": [
    "test_tensor = torch.zeros((3, 2, 2)) # could be interpreted as three 2x2 matrices\n",
    "# Of course, more complex tensors could be created, but we use here only this simple example.\n",
    "\n",
    "print(\"Check shape of tensor:\", test_tensor.shape)\n",
    "\n",
    "print(\"Check top left entry of the first 'matrix':\", test_tensor[0, 0, 0])\n",
    "test_tensor[0, 0, 0] = 1.0\n",
    "print(\"Check new top left entry of the first 'matrix':\", test_tensor[0, 0, 0])\n",
    "print(\"Change more values\")\n",
    "test_tensor[0, 0, 1] = 2.0\n",
    "test_tensor[2, 1, 0] = 5.0\n",
    "print(test_tensor)\n",
    "\n",
    "print(\"Indexing also works with boolean values:\")\n",
    "print(test_tensor[[True, False, True]])\n",
    "print(\"This returned the first and last element of the first axis!\")"
   ]
  },
  {
   "attachments": {},
   "cell_type": "markdown",
   "metadata": {},
   "source": [
    "Trying `test_tensor[3, 0, 0]` would throw an IndexError! Even if our first dimension has size 3, the index only runs from 0 to 2."
   ]
  },
  {
   "attachments": {},
   "cell_type": "markdown",
   "metadata": {},
   "source": [
    "Instead fo setting the value of entry by hand, we can utlize Python’s indexing and slicing notation `:`.\n",
    "\n",
    "Using `:` as an index at one position inside `[]` will do the assignment for all entries in the corresponding dimension."
   ]
  },
  {
   "cell_type": "code",
   "execution_count": 5,
   "metadata": {},
   "outputs": [
    {
     "name": "stdout",
     "output_type": "stream",
     "text": [
      "Top left is 2:\n",
      "tensor([[[2., 2.],\n",
      "         [0., 0.]],\n",
      "\n",
      "        [[2., 0.],\n",
      "         [0., 0.]],\n",
      "\n",
      "        [[2., 0.],\n",
      "         [5., 0.]]])\n",
      "Bottom row has 3:\n",
      "tensor([[[2., 2.],\n",
      "         [3., 3.]],\n",
      "\n",
      "        [[2., 0.],\n",
      "         [3., 3.]],\n",
      "\n",
      "        [[2., 0.],\n",
      "         [3., 3.]]])\n"
     ]
    }
   ],
   "source": [
    "test_tensor[:, 0, 0] = 2 # set the top left entry of every 'matrix' to 2\n",
    "print(\"Top left is 2:\")\n",
    "print(test_tensor)\n",
    "\n",
    "# they can also be combined:\n",
    "test_tensor[:, 1, :] = 3 # set all values in the bottom row of every 'matrix' to 3\n",
    "print(\"Bottom row has 3:\")\n",
    "print(test_tensor)"
   ]
  },
  {
   "attachments": {},
   "cell_type": "markdown",
   "metadata": {},
   "source": [
    "Slicing is even more powerful. It works also with inplace math operations, assignment of tensor values (as long both sides have a **compatible shape**). And instead of running over all values, one can also start at value `k` with `k:` or only go to the value just before `k` with `:k`."
   ]
  },
  {
   "cell_type": "code",
   "execution_count": 6,
   "metadata": {},
   "outputs": [
    {
     "name": "stdout",
     "output_type": "stream",
     "text": [
      "Top left is now:\n",
      "tensor([[[3., 2.],\n",
      "         [3., 3.]],\n",
      "\n",
      "        [[3., 0.],\n",
      "         [3., 3.]],\n",
      "\n",
      "        [[3., 0.],\n",
      "         [3., 3.]]])\n",
      "new values: tensor([1., 2., 3.])\n",
      "Top right is now:\n",
      "tensor([[[3., 1.],\n",
      "         [3., 3.]],\n",
      "\n",
      "        [[3., 2.],\n",
      "         [3., 3.]],\n",
      "\n",
      "        [[3., 3.],\n",
      "         [3., 3.]]])\n",
      "Only change first two matrices:\n",
      "tensor([[[-3., -1.],\n",
      "         [ 3.,  3.]],\n",
      "\n",
      "        [[-3., -2.],\n",
      "         [ 3.,  3.]],\n",
      "\n",
      "        [[ 3.,  3.],\n",
      "         [ 3.,  3.]]])\n"
     ]
    }
   ],
   "source": [
    "test_tensor[:, 0, 0] += 1 # add 1 to the top left entry of every 'matrix'\n",
    "print(\"Top left is now:\")\n",
    "print(test_tensor)\n",
    "\n",
    "new_values = torch.linspace(1, 3, 3) # three equdistant points between 1 and 3\n",
    "print(\"new values:\", new_values)\n",
    "test_tensor[:, 0, 1] = new_values # change top right values\n",
    "print(\"Top right is now:\")\n",
    "print(test_tensor)\n",
    "\n",
    "print(\"Only change first two matrices:\")\n",
    "test_tensor[:2, 0, :] *= -1\n",
    "print(test_tensor)"
   ]
  },
  {
   "attachments": {},
   "cell_type": "markdown",
   "metadata": {},
   "source": [
    "Lastly, slicing can also be used to extract a smaller *sub-tensor* that keeps the shape of the original one:"
   ]
  },
  {
   "cell_type": "code",
   "execution_count": 7,
   "metadata": {},
   "outputs": [
    {
     "name": "stdout",
     "output_type": "stream",
     "text": [
      "torch.Size([2, 2]) torch.Size([1, 2, 2])\n",
      "The shape is different! In the first case we lost the first dimension.\n"
     ]
    }
   ],
   "source": [
    "tensor_sub_1 = test_tensor[0] # returns the first 'matrix'\n",
    "tensor_sub_2 = test_tensor[:1] # returns also the first 'matrix'\n",
    "# But:\n",
    "print(tensor_sub_1.shape, tensor_sub_2.shape)\n",
    "print(\"The shape is different! In the first case we lost the first dimension.\")"
   ]
  },
  {
   "attachments": {},
   "cell_type": "markdown",
   "metadata": {},
   "source": [
    "Math operations can also be used between different tensors (generally they need to be of **similar shape** for this to work). If they have the same shape, most operations work entrywise: "
   ]
  },
  {
   "cell_type": "code",
   "execution_count": 8,
   "metadata": {},
   "outputs": [
    {
     "name": "stdout",
     "output_type": "stream",
     "text": [
      "Add: tensor([3.0000, 2.1000, 8.0000])\n",
      "Multiply: tensor([ 2.0000,  0.2000, 15.0000])\n",
      "Divide: tensor([ 0.5000, 20.0000,  0.6000])\n",
      "Works also with scalar values\n",
      "Add: tensor([4., 5., 6.])\n",
      "Multiply: tensor([2.5000, 5.0000, 7.5000])\n"
     ]
    }
   ],
   "source": [
    "tensor_1 = torch.tensor([1, 2, 3])\n",
    "tensor_2 = torch.tensor([2, 0.1, 5])\n",
    "print(\"Add:\", tensor_1 + tensor_2)\n",
    "print(\"Multiply:\", tensor_1 * tensor_2)\n",
    "print(\"Divide:\", tensor_1 / tensor_2)\n",
    "print(\"Works also with scalar values\")\n",
    "print(\"Add:\", 3.0 + tensor_1)\n",
    "print(\"Multiply:\", 2.5 * tensor_1)"
   ]
  },
  {
   "attachments": {},
   "cell_type": "markdown",
   "metadata": {},
   "source": [
    "With `reshape` one can transform a given tensor into a different shape. For this to work, both starting and final shape need to store the same number elements."
   ]
  },
  {
   "cell_type": "code",
   "execution_count": 9,
   "metadata": {},
   "outputs": [
    {
     "name": "stdout",
     "output_type": "stream",
     "text": [
      "Start with a matrix:\n",
      "tensor([[1, 2],\n",
      "        [0, 5]])\n",
      ".reshape(4) gives:\n",
      "tensor([1, 2, 0, 5])\n",
      "\n",
      "Works also on batches (multidimensional data)\n",
      "tensor([[[-3., -1.],\n",
      "         [ 3.,  3.]],\n",
      "\n",
      "        [[-3., -2.],\n",
      "         [ 3.,  3.]],\n",
      "\n",
      "        [[ 3.,  3.],\n",
      "         [ 3.,  3.]]])\n",
      "Now a batch of 4 dim. vectors:\n",
      "tensor([[-3., -1.,  3.,  3.],\n",
      "        [-3., -2.,  3.,  3.],\n",
      "        [ 3.,  3.,  3.,  3.]])\n"
     ]
    }
   ],
   "source": [
    "tensor_1 = torch.tensor([[1, 2], [0, 5]])\n",
    "# transform 2x2 matrix to 4 dim. vector:\n",
    "print(\"Start with a matrix:\")\n",
    "print(tensor_1)\n",
    "print(\".reshape(4) gives:\")\n",
    "print(tensor_1.reshape(4)) \n",
    "\n",
    "print(\"\\nWorks also on batches (multidimensional data)\")\n",
    "print(test_tensor) \n",
    "print(\"Now a batch of 4 dim. vectors:\")\n",
    "print(test_tensor.reshape(3, 4))"
   ]
  },
  {
   "attachments": {},
   "cell_type": "markdown",
   "metadata": {},
   "source": [
    "With `.to` the tensors can be moved to different devices (e.g. to a GPU with `.to(\"cuda\")` and to the CPU with `.to(\"CPU\")`). For operations between two tensors, both have to be on the same device."
   ]
  },
  {
   "attachments": {},
   "cell_type": "markdown",
   "metadata": {},
   "source": [
    "This is ends our small overview. There are many more properites and functions, but the above syntax is enough for the following tasks. \n",
    "\n",
    "For more informations one can always check the offical [PyTorch documentation](https://pytorch.org/docs/stable/tensors.html)."
   ]
  },
  {
   "attachments": {},
   "cell_type": "markdown",
   "metadata": {},
   "source": [
    "### b) Indexing with Boolean Values\n",
    "In cell 4 we already saw that we can index a tensor with boolean values. This can be helpful to modify large tensors.\n",
    "Here, we want to use this property to change the values of a tensor to *draw* something.\n",
    "\n",
    "We start with a blank tensor called `image`, with a width and height of 128 pixels. We want to *draw* the following:\n",
    "\n",
    "    - A sun (disk) at the pixel position x=100, y=100 with radius 20\n",
    "    - Mountains where the pixel coordinates (x, y) fulfill the condition $35 + 5sin(0.2*x) >= y$\n",
    "\n",
    "This can be implemented with boolean tensor indexing and `torch.sqrt, torch.sin`."
   ]
  },
  {
   "cell_type": "code",
   "execution_count": 37,
   "metadata": {},
   "outputs": [
    {
     "name": "stderr",
     "output_type": "stream",
     "text": [
      "<ipython-input-37-130971653af7>:12: UserWarning: torch.range is deprecated and will be removed in a future release because its behavior is inconsistent with Python's range builtin. Instead, use torch.arange, which produces values in [start, end).\n",
      "  idx_x, idx_y = torch.meshgrid(torch.range(0, res_x-1), torch.range(0, res_y-1))\n"
     ]
    },
    {
     "data": {
      "text/plain": [
       "<matplotlib.image.AxesImage at 0x7f3611388280>"
      ]
     },
     "execution_count": 37,
     "metadata": {},
     "output_type": "execute_result"
    },
    {
     "data": {
      "image/png": "[encoded data removed]",
      "text/plain": [
       "<Figure size 432x288 with 1 Axes>"
      ]
     },
     "metadata": {
      "needs_background": "light"
     },
     "output_type": "display_data"
    }
   ],
   "source": [
    "import matplotlib.pyplot as plt\n",
    "import torch\n",
    "\n",
    "### Parameters:\n",
    "res_x, res_y = 128, 128\n",
    "sun_color = 1.0\n",
    "bg_color = 0.8\n",
    "mountain_color = 0.2\n",
    "\n",
    "image = bg_color * torch.ones((res_x, res_y)) # the image color (e.g. image[k, j] = color)\n",
    "# two tensors containing the indices of the image (e.g idx_x[k, j] = k and ind_y[k, j] = j)\n",
    "idx_x, idx_y = torch.meshgrid(torch.range(0, res_x-1), torch.range(0, res_y-1))\n",
    "\n",
    "### Show the empty image\n",
    "plt.imshow(image.mT, cmap='gray', vmin=0, vmax=1, origin=\"lower\")"
   ]
  },
  {
   "cell_type": "code",
   "execution_count": null,
   "metadata": {},
   "outputs": [],
   "source": [
    "### TODO: Draw the sun and mountains:\n",
    "\n",
    "\n",
    "plt.imshow(image.mT, cmap='gray', vmin=0, vmax=1, origin=\"lower\")"
   ]
  }
 ],
 "metadata": {
  "kernelspec": {
   "display_name": "bosch",
   "language": "python",
   "name": "python3"
  },
  "language_info": {
   "codemirror_mode": {
    "name": "ipython",
    "version": 3
   },
   "file_extension": ".py",
   "mimetype": "text/x-python",
   "name": "python",
   "nbconvert_exporter": "python",
   "pygments_lexer": "ipython3",
   "version": "3.9.15"
  },
  "orig_nbformat": 4
 },
 "nbformat": 4,
 "nbformat_minor": 2
}
