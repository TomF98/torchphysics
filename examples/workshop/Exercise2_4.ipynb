{
 "cells": [
  {
   "attachments": {},
   "cell_type": "markdown",
   "metadata": {},
   "source": [
    "# Exercise Sheet 2\n",
    "\n",
    "### 2.4 Solving a PDE with the Deep Ritz Method\n",
    "Use TorchPhysics to solve the following problem:\n",
    "\n",
    "\\begin{align}\n",
    "\\Delta u &= f &&\\text{ in } \\Omega, \\\\\n",
    "u &= 0 &&\\text{ on } \\partial \\Omega\n",
    "\\end{align}\n",
    "Here, $f = 8\\pi^2 \\sin(2\\pi x_1)\\sin(2\\pi x_2)$ and $\\Omega = [0, 1] \\times [0, 1]$.\n",
    "\n",
    "Instead of using PINNs to solve this equation, we now try a different approach: the Deep Ritz Method.\n",
    "The general idea of using a neural network to learn the solution is the same. We only change how the \n",
    "physics (the PDE) is utilized in the training. Instead of using the above (strong) formulation, the Deep Ritz Method minimizes the energy functional:\n",
    "\\begin{equation}\n",
    "    \\int_{\\Omega} \\frac{1}{2}|\\nabla u(x)|^2 - f(x)u(x) \\text{d}x + \\lambda \\int_{\\partial \\Omega} u(x)^2 \\text{d}x. \\tag{3}\n",
    "\\end{equation}\n",
    "One can mathematically show that a solution of (1) is a minimum of (3) and vice versa.\n",
    "\n",
    "The implementation inside TorchPhysics is similar to the PINN case and is the focus of this exercise.\n",
    "\n",
    "If you are using Google Colab, you first have to install TorchPhysics with the following cell. We recommend first enabling the GPU and then running the cell. Since the installation can take around 2 minutes and has to be redone if you switch to the GPU later."
   ]
  },
  {
   "cell_type": "code",
   "execution_count": 80,
   "metadata": {},
   "outputs": [],
   "source": [
    "!pip install torchaudio==0.13.0\n",
    "!pip install torchphysics"
   ]
  },
  {
   "cell_type": "code",
   "execution_count": 81,
   "metadata": {},
   "outputs": [],
   "source": [
    "import torch\n",
    "import torchphysics as tp\n",
    "import pytorch_lightning as pl\n",
    "import matplotlib.pyplot as plt\n",
    "import math\n",
    "\n",
    "# Here all parameters are defined:\n",
    "width, height = 1.0, 1.0 # the size of the domain\n",
    "\n",
    "def f(x):\n",
    "    return 8*math.pi**2 * torch.sin(2*math.pi*x[:, :1]) *torch.sin(2*math.pi*x[:, 1:])\n",
    "\n",
    "\n",
    "# Number of training points \n",
    "N_pde = 75000\n",
    "N_boundary = 25000\n",
    "\n",
    "# Training parameters\n",
    "train_iterations = 8000\n",
    "learning_rate = 1.e-3"
   ]
  },
  {
   "attachments": {},
   "cell_type": "markdown",
   "metadata": {},
   "source": [
    "First we have to implement the spaces, domain and sampler, just like before:"
   ]
  },
  {
   "cell_type": "code",
   "execution_count": 82,
   "metadata": {},
   "outputs": [],
   "source": [
    "### TODO: Implement the spaces\n",
    "\n",
    "\n",
    "### TODO: Define the domain omega\n",
    "Omega = ...\n",
    "\n",
    "### TODO: Create random point sampler for inside and on the boundary of omega\n",
    "pde_sampler = ...\n",
    "boundary_sampler = ..."
   ]
  },
  {
   "cell_type": "code",
   "execution_count": 83,
   "metadata": {},
   "outputs": [],
   "source": [
    "### TODO: Create the neural network with 3 hidden layers and 25 neurons each.\n",
    "model = ..."
   ]
  },
  {
   "attachments": {},
   "cell_type": "markdown",
   "metadata": {},
   "source": [
    "Now, we implement the PDE via the energy functional and first consider the integral:\n",
    "\\begin{equation*}\n",
    "    \\int_{\\Omega} \\frac{1}{2}|\\nabla u(x)|^2 - f(x)u(x) \\text{d}x\n",
    "\\end{equation*} \n",
    "For this, we again have to define a function that returns the expression inside the integral, similar to before. The computation and minimization of the integral is then handled internally, when we use the `tp.conditions.DeepRitzCondition`."
   ]
  },
  {
   "cell_type": "code",
   "execution_count": 84,
   "metadata": {},
   "outputs": [],
   "source": [
    "def pde_integrand():\n",
    "    ### TODO: implement the expression inside the above integral.\n",
    "    ###       tp.utils.grad may be helpful.\n",
    "    pass\n",
    "\n",
    "# Inputs of the DeepRitzCondition are like before in the PINNCondition:\n",
    "pde_condition = tp.conditions.DeepRitzCondition(module=model,\n",
    "                                                sampler=pde_sampler,\n",
    "                                                integrand_fn=pde_integrand)"
   ]
  },
  {
   "attachments": {},
   "cell_type": "markdown",
   "metadata": {},
   "source": [
    "Next, we have to enforce the boundary conditions with\n",
    "\\begin{equation*}\n",
    "     \\lambda \\int_{\\partial \\Omega} u(x)^2 \\text{d}x,\n",
    "\\end{equation*}\n",
    "with a weight $\\lambda$. This can also be done, like in the above cell, using the `DeepRitzCondition`. \n",
    "We also want to pass to the condition a weight of $\\lambda=250$, or else the above PDE term will dominate the training and the boundary condition will be mostly ignored.\n",
    "\n",
    "The integral is defined over **the boundary** of $\\Omega$, so you have to pick the right sampler!"
   ]
  },
  {
   "cell_type": "code",
   "execution_count": 85,
   "metadata": {},
   "outputs": [],
   "source": [
    "### TODO: Define the boundary integrand and DeepRitzCondition\n",
    "def boundary_integrand():\n",
    "    pass\n",
    "\n",
    "boundary_condition = ..."
   ]
  },
  {
   "cell_type": "code",
   "execution_count": null,
   "metadata": {},
   "outputs": [],
   "source": [
    "# Start the training\n",
    "training_conditions = [pde_condition, boundary_condition]\n",
    "optim = tp.OptimizerSetting(optimizer_class=torch.optim.Adam, lr=learning_rate)\n",
    "solver = tp.solver.Solver(train_conditions=training_conditions, optimizer_setting=optim)\n",
    "\n",
    "trainer = pl.Trainer(gpus=1 if torch.cuda.is_available() else None,\n",
    "                     max_steps=train_iterations, # number of training steps\n",
    "                     logger=False,\n",
    "                     benchmark=True, \n",
    "                     enable_checkpointing=False)\n",
    "\n",
    "trainer.fit(solver) # run the training loop"
   ]
  },
  {
   "cell_type": "code",
   "execution_count": null,
   "metadata": {},
   "outputs": [],
   "source": [
    "# Plot the solution\n",
    "plot_sampler = tp.samplers.PlotSampler(plot_domain=Omega, n_points=1000)\n",
    "fig = tp.utils.plot(model=model, plot_function=lambda u : u, point_sampler=plot_sampler,\n",
    "                    plot_type=\"contour_surface\")\n",
    "plt.title(\"Learned Solution\")"
   ]
  },
  {
   "cell_type": "code",
   "execution_count": null,
   "metadata": {},
   "outputs": [],
   "source": [
    "# Plot the error\n",
    "def plot_fn(u, x):\n",
    "    real_solution = torch.sin(2*math.pi*x[:, :1]) *torch.sin(2*math.pi*x[:, 1:])\n",
    "    return torch.abs(u - real_solution)\n",
    "\n",
    "plot_sampler = tp.samplers.PlotSampler(plot_domain=Omega, n_points=1000)\n",
    "fig = tp.utils.plot(model=model, \n",
    "                    plot_function=plot_fn, \n",
    "                    point_sampler=plot_sampler,\n",
    "                    plot_type=\"contour_surface\")\n",
    "plt.title(\"Difference to real Solution\")"
   ]
  }
 ],
 "metadata": {
  "kernelspec": {
   "display_name": "bosch",
   "language": "python",
   "name": "python3"
  },
  "language_info": {
   "codemirror_mode": {
    "name": "ipython",
    "version": 3
   },
   "file_extension": ".py",
   "mimetype": "text/x-python",
   "name": "python",
   "nbconvert_exporter": "python",
   "pygments_lexer": "ipython3",
   "version": "3.9.15"
  },
  "orig_nbformat": 4
 },
 "nbformat": 4,
 "nbformat_minor": 2
}
