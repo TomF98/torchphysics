{
 "cells": [
  {
   "cell_type": "code",
   "execution_count": 1,
   "metadata": {},
   "outputs": [],
   "source": [
    "import torchphysics as tp \n",
    "import torch\n",
    "import pytorch_lightning as pl\n",
    "# Test to learn integrator f -> u with u' = f (data driven)\n",
    "\n",
    "T = tp.spaces.R1(\"t\") # trunk input\n",
    "U = tp.spaces.R1(\"u\") # solution\n",
    "F = tp.spaces.R1(\"f\") # branch input\n",
    "K = tp.spaces.R1(\"k\") # parameter for function set\n",
    "\n",
    "branch_space = tp.spaces.FunctionSpace(T, F)\n",
    "\n",
    "domain = tp.domains.Interval(T, 0, 1)\n",
    "branch_grid_sampler = tp.samplers.GridSampler(domain, 10).make_static()"
   ]
  },
  {
   "cell_type": "code",
   "execution_count": 2,
   "metadata": {},
   "outputs": [],
   "source": [
    "def custom_fn(t, k):\n",
    "    return k*t\n",
    "\n",
    "param_sampler = tp.samplers.RandomUniformSampler(\n",
    "    tp.domains.Interval(K, -1, 1), 100\n",
    ")\n",
    "\n",
    "custom_functionset = tp.domains.CustomFunctionSet(branch_space, param_sampler, custom_fn)\n",
    "\n",
    "functionsampler = tp.samplers.FunctionSampler(100, custom_functionset)"
   ]
  },
  {
   "cell_type": "code",
   "execution_count": 3,
   "metadata": {},
   "outputs": [],
   "source": [
    "trunk_net = tp.models.FCTrunkNet(T, hidden=(10, 10))\n",
    "branch_net = tp.models.FCBranchNet(branch_space, hidden=(20, 20), \n",
    "                                   discretization_sampler=branch_grid_sampler)\n",
    "model = tp.models.DeepONet(trunk_net, branch_net, U, output_neurons=20)"
   ]
  },
  {
   "cell_type": "code",
   "execution_count": 4,
   "metadata": {},
   "outputs": [],
   "source": [
    "def ode_residual(u, t, f):\n",
    "    return tp.utils.grad(u, t) - f\n",
    "\n",
    "ode_sampler = tp.samplers.RandomUniformSampler(domain, 1000)\n",
    "\n",
    "ode_cond = tp.conditions.PIDeepONetCondition(deeponet_model=model, \n",
    "                                              function_sampler=functionsampler, \n",
    "                                              input_sampler=ode_sampler, \n",
    "                                              residual_fn=ode_residual)"
   ]
  },
  {
   "cell_type": "code",
   "execution_count": 5,
   "metadata": {},
   "outputs": [],
   "source": [
    "boundary_sampler = tp.samplers.RandomUniformSampler(domain.boundary_left, 10)\n",
    "\n",
    "def initial_residual(u):\n",
    "    return u\n",
    "\n",
    "initial_cond = tp.conditions.PIDeepONetCondition(deeponet_model=model, \n",
    "                                              function_sampler=functionsampler, \n",
    "                                              input_sampler=boundary_sampler, \n",
    "                                              residual_fn=initial_residual)"
   ]
  },
  {
   "cell_type": "code",
   "execution_count": 6,
   "metadata": {},
   "outputs": [
    {
     "name": "stderr",
     "output_type": "stream",
     "text": [
      "GPU available: True, used: True\n",
      "TPU available: False, using: 0 TPU cores\n",
      "LOCAL_RANK: 0 - CUDA_VISIBLE_DEVICES: [0,1,2,3]\n",
      "\n",
      "  | Name             | Type       | Params\n",
      "------------------------------------------------\n",
      "0 | train_conditions | ModuleList | 1.4 K \n",
      "1 | val_conditions   | ModuleList | 0     \n",
      "------------------------------------------------\n",
      "1.4 K     Trainable params\n",
      "0         Non-trainable params\n",
      "1.4 K     Total params\n",
      "0.006     Total estimated model params size (MB)\n",
      "/home/tomfre/miniconda3/envs/bosch/lib/python3.9/site-packages/pytorch_lightning/utilities/distributed.py:69: UserWarning: The dataloader, train dataloader, does not have many workers which may be a bottleneck. Consider increasing the value of the `num_workers` argument` (try 20 which is the number of cpus on this machine) in the `DataLoader` init to improve performance.\n",
      "  warnings.warn(*args, **kwargs)\n",
      "/home/tomfre/miniconda3/envs/bosch/lib/python3.9/site-packages/pytorch_lightning/utilities/distributed.py:69: UserWarning: The dataloader, val dataloader 0, does not have many workers which may be a bottleneck. Consider increasing the value of the `num_workers` argument` (try 20 which is the number of cpus on this machine) in the `DataLoader` init to improve performance.\n",
      "  warnings.warn(*args, **kwargs)\n"
     ]
    },
    {
     "data": {
      "application/vnd.jupyter.widget-view+json": {
       "model_id": "4285101c79cc4236a2a15bdc0d6445b2",
       "version_major": 2,
       "version_minor": 0
      },
      "text/plain": [
       "Training: 0it [00:00, ?it/s]"
      ]
     },
     "metadata": {},
     "output_type": "display_data"
    },
    {
     "data": {
      "application/vnd.jupyter.widget-view+json": {
       "model_id": "c993ee88263d4165b4e2b563e78d7c3d",
       "version_major": 2,
       "version_minor": 0
      },
      "text/plain": [
       "Validating: 0it [00:00, ?it/s]"
      ]
     },
     "metadata": {},
     "output_type": "display_data"
    }
   ],
   "source": [
    "optim = tp.OptimizerSetting(optimizer_class=torch.optim.Adam, lr=0.0005)\n",
    "\n",
    "solver = tp.solver.Solver([ode_cond, initial_cond], optimizer_setting=optim)\n",
    "\n",
    "trainer = pl.Trainer(gpus=1,\n",
    "                     num_sanity_val_steps=0,\n",
    "                     benchmark=True,\n",
    "                     max_steps=5000, \n",
    "                     logger=False)\n",
    "\n",
    "trainer.fit(solver)"
   ]
  },
  {
   "cell_type": "code",
   "execution_count": 7,
   "metadata": {},
   "outputs": [
    {
     "name": "stdout",
     "output_type": "stream",
     "text": [
      "torch.Size([1, 10, 1]) torch.Size([1, 1000, 1])\n"
     ]
    },
    {
     "data": {
      "image/png": "[encoded data removed]",
      "text/plain": [
       "<Figure size 432x288 with 1 Axes>"
      ]
     },
     "metadata": {
      "needs_background": "light"
     },
     "output_type": "display_data"
    }
   ],
   "source": [
    "scale = 0.7\n",
    "test_branch_input = (scale * branch_grid_sampler.sample_points().as_tensor.unsqueeze(0))\n",
    "test_trunk_input = tp.samplers.GridSampler(domain, 1000).sample_points().unsqueeze(0)\n",
    "print(test_branch_input.shape, test_trunk_input.as_tensor.shape)\n",
    "model_out = model(test_trunk_input, test_branch_input).as_tensor\n",
    "\n",
    "import matplotlib.pyplot as plt\n",
    "\n",
    "plt.plot(test_trunk_input.as_tensor[0], model_out.detach()[0])\n",
    "plt.plot(test_trunk_input.as_tensor[0], scale/2.0*test_trunk_input.as_tensor[0]**2)\n",
    "plt.legend([\"learned\", \"reference\"])\n",
    "plt.grid()"
   ]
  }
 ],
 "metadata": {
  "kernelspec": {
   "display_name": "bosch",
   "language": "python",
   "name": "python3"
  },
  "language_info": {
   "codemirror_mode": {
    "name": "ipython",
    "version": 3
   },
   "file_extension": ".py",
   "mimetype": "text/x-python",
   "name": "python",
   "nbconvert_exporter": "python",
   "pygments_lexer": "ipython3",
   "version": "3.9.15"
  }
 },
 "nbformat": 4,
 "nbformat_minor": 2
}
