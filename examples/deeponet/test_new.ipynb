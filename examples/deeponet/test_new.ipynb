{
 "cells": [
  {
   "cell_type": "code",
   "execution_count": 9,
   "metadata": {},
   "outputs": [],
   "source": [
    "import torchphysics as tp \n",
    "import torch\n",
    "import pytorch_lightning as pl\n",
    "# Test to learn integrator f -> u with u' = f (data driven)\n",
    "\n",
    "T = tp.spaces.R1(\"t\") # trunk input\n",
    "U = tp.spaces.R1(\"u\") # solution\n",
    "U_data = tp.spaces.R1(\"u_data\") # data of solution\n",
    "F = tp.spaces.R1(\"f\") # branch input\n",
    "\n",
    "branch_space = tp.spaces.FunctionSpace(T, F)\n",
    "data_space = tp.spaces.FunctionSpace(T, U_data)"
   ]
  },
  {
   "cell_type": "code",
   "execution_count": 10,
   "metadata": {},
   "outputs": [
    {
     "name": "stdout",
     "output_type": "stream",
     "text": [
      "Shapes of data:\n",
      "Branch dis. grid: torch.Size([1, 10, 1])\n",
      "Branch input: torch.Size([1000, 10, 1])\n",
      "Trunk input: torch.Size([1, 100, 1])\n",
      "Expected output: torch.Size([1000, 100, 1])\n"
     ]
    }
   ],
   "source": [
    "# create some dummy data:\n",
    "N_B = 1000\n",
    "N_branch_grid = 10\n",
    "branch_params = torch.randn((1000, 1))\n",
    "branch_grid = torch.linspace(0, 1, N_branch_grid).unsqueeze(0)\n",
    "branch_input = (branch_params * branch_grid).unsqueeze(-1)\n",
    "branch_grid = branch_grid.unsqueeze(-1)\n",
    "\n",
    "N_trunk_grid = 100\n",
    "trunk_input = torch.linspace(0, 1, N_trunk_grid).unsqueeze(0)\n",
    "expected_output = (branch_params/2.0 * trunk_input**2).unsqueeze(-1)\n",
    "trunk_input = trunk_input.unsqueeze(-1)\n",
    "\n",
    "print(\"Shapes of data:\")\n",
    "print(\"Branch dis. grid:\", branch_grid.shape)\n",
    "print(\"Branch input:\", branch_input.shape)\n",
    "print(\"Trunk input:\", trunk_input.shape)\n",
    "print(\"Expected output:\", expected_output.shape)"
   ]
  },
  {
   "cell_type": "code",
   "execution_count": 11,
   "metadata": {},
   "outputs": [],
   "source": [
    "data_functionset_branch = tp.domains.DataFunctionSet(branch_space, branch_input)\n",
    "data_functionset_solution = tp.domains.DataFunctionSet(data_space, expected_output)\n",
    "\n",
    "# TODO: coupled trunk point sampler with functionsampler????\n",
    "N_branch = 100\n",
    "functionsampler_branch = tp.samplers.RandomUniformFunctionSampler(N_branch, data_functionset_branch, 1)\n",
    "functionsampler_solution = tp.samplers.CoupledFunctionSampler(data_functionset_solution, functionsampler_branch)\n",
    "trunk_point_sampler = tp.samplers.DataSampler({\"t\":trunk_input})"
   ]
  },
  {
   "cell_type": "code",
   "execution_count": 12,
   "metadata": {},
   "outputs": [],
   "source": [
    "trunk_net = tp.models.FCTrunkNet(T, hidden=(10, 10))\n",
    "branch_net = tp.models.FCBranchNet(branch_space, hidden=(20, 20), \n",
    "                                   grid=branch_grid)\n",
    "model = tp.models.DeepONet(trunk_net, branch_net, U, output_neurons=20)"
   ]
  },
  {
   "cell_type": "code",
   "execution_count": 13,
   "metadata": {},
   "outputs": [],
   "source": [
    "def data_residual(u, u_data):\n",
    "    return u - u_data\n",
    "\n",
    "data_cond = tp.conditions.PIDeepONetCondition(deeponet_model=model, \n",
    "                                              branch_function_sampler=functionsampler_branch,\n",
    "                                              trunk_points_sampler=trunk_point_sampler,                                                                                                                        \n",
    "                                              residual_fn=data_residual, \n",
    "                                              data_sampler=functionsampler_solution)"
   ]
  },
  {
   "cell_type": "code",
   "execution_count": 14,
   "metadata": {},
   "outputs": [
    {
     "name": "stderr",
     "output_type": "stream",
     "text": [
      "GPU available: True, used: True\n",
      "TPU available: False, using: 0 TPU cores\n",
      "LOCAL_RANK: 0 - CUDA_VISIBLE_DEVICES: [0,1,2,3]\n",
      "\n",
      "  | Name             | Type       | Params\n",
      "------------------------------------------------\n",
      "0 | train_conditions | ModuleList | 1.4 K \n",
      "1 | val_conditions   | ModuleList | 0     \n",
      "------------------------------------------------\n",
      "1.4 K     Trainable params\n",
      "0         Non-trainable params\n",
      "1.4 K     Total params\n",
      "0.006     Total estimated model params size (MB)\n"
     ]
    },
    {
     "name": "stderr",
     "output_type": "stream",
     "text": [
      "/home/tomfre/miniconda3/envs/bosch/lib/python3.9/site-packages/pytorch_lightning/utilities/distributed.py:69: UserWarning: The dataloader, train dataloader, does not have many workers which may be a bottleneck. Consider increasing the value of the `num_workers` argument` (try 20 which is the number of cpus on this machine) in the `DataLoader` init to improve performance.\n",
      "  warnings.warn(*args, **kwargs)\n",
      "/home/tomfre/miniconda3/envs/bosch/lib/python3.9/site-packages/pytorch_lightning/utilities/distributed.py:69: UserWarning: The dataloader, val dataloader 0, does not have many workers which may be a bottleneck. Consider increasing the value of the `num_workers` argument` (try 20 which is the number of cpus on this machine) in the `DataLoader` init to improve performance.\n",
      "  warnings.warn(*args, **kwargs)\n"
     ]
    },
    {
     "data": {
      "application/vnd.jupyter.widget-view+json": {
       "model_id": "a472c562440b48869cb88088e6212539",
       "version_major": 2,
       "version_minor": 0
      },
      "text/plain": [
       "Training: 0it [00:00, ?it/s]"
      ]
     },
     "metadata": {},
     "output_type": "display_data"
    },
    {
     "data": {
      "application/vnd.jupyter.widget-view+json": {
       "model_id": "b5c3c20e14674d58b9cb72c4af966d15",
       "version_major": 2,
       "version_minor": 0
      },
      "text/plain": [
       "Validating: 0it [00:00, ?it/s]"
      ]
     },
     "metadata": {},
     "output_type": "display_data"
    }
   ],
   "source": [
    "optim = tp.OptimizerSetting(optimizer_class=torch.optim.Adam, lr=0.0005)\n",
    "\n",
    "solver = tp.solver.Solver([data_cond], optimizer_setting=optim)\n",
    "\n",
    "trainer = pl.Trainer(gpus=1,\n",
    "                     num_sanity_val_steps=0,\n",
    "                     benchmark=True,\n",
    "                     max_steps=5000, \n",
    "                     logger=False)\n",
    "\n",
    "trainer.fit(solver)"
   ]
  },
  {
   "cell_type": "code",
   "execution_count": 15,
   "metadata": {},
   "outputs": [
    {
     "data": {
      "image/png": "[encoded data removed]",
      "text/plain": [
       "<Figure size 432x288 with 1 Axes>"
      ]
     },
     "metadata": {
      "needs_background": "light"
     },
     "output_type": "display_data"
    }
   ],
   "source": [
    "scale = 0.17\n",
    "test_branch_input = (scale * branch_grid)\n",
    "test_trunk_input = tp.spaces.Points(trunk_input, T)\n",
    "model_out = model(test_trunk_input, test_branch_input).as_tensor\n",
    "\n",
    "import matplotlib.pyplot as plt\n",
    "\n",
    "plt.plot(test_trunk_input.as_tensor[0], model_out.detach()[0])\n",
    "plt.plot(test_trunk_input.as_tensor[0], scale/2.0*test_trunk_input.as_tensor[0]**2)\n",
    "plt.legend([\"learned\", \"reference\"])\n",
    "plt.grid()"
   ]
  },
  {
   "cell_type": "code",
   "execution_count": null,
   "metadata": {},
   "outputs": [],
   "source": []
  }
 ],
 "metadata": {
  "kernelspec": {
   "display_name": "bosch",
   "language": "python",
   "name": "python3"
  },
  "language_info": {
   "codemirror_mode": {
    "name": "ipython",
    "version": 3
   },
   "file_extension": ".py",
   "mimetype": "text/x-python",
   "name": "python",
   "nbconvert_exporter": "python",
   "pygments_lexer": "ipython3",
   "version": "3.9.15"
  }
 },
 "nbformat": 4,
 "nbformat_minor": 2
}
