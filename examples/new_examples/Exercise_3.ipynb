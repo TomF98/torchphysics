{
  "cells": [
    {
      "cell_type": "markdown",
      "metadata": {
        "id": "LWURJEwMXGB6"
      },
      "source": [
        "# Boundary conditions for the heat equation: Example 3\n",
        "\n",
        "We now extend the previously studied heat equation by boundary conditions that vary for different parts of the boundary of our domain. We neglect the inner source and consider the following problem:\n",
        "\n",
        "\\begin{align*}\n",
        "    \\partial_t u -0.1\\Delta u &= 0.0 &&\\text{ in } [0, 2] \\times \\Omega &\\\\\n",
        "    u(\\cdot, 0) &= 0 &&\\text{ in } \\Omega &\\\\\n",
        "\n",
        "    u(x, t) &= 0 , &&\\text{ for } x_2=0, & \\text{ i.e. Dirichlet condition for fixed temperature at the bottom our domain}\\\\\n",
        "    0.1 \\nabla u(x, t)\\cdot n &= 0 , &&\\text{ on } \\Gamma_N, & \\text{ i.e. homogeneous Neumann condition for isolated walls} \\\\\n",
        "    0.1 \\nabla u(x, t)\\cdot n &= f , &&\\text{ on } \\Gamma_H, & \\text{ i.e. Neumann condition for in-flow of heat into our domain.}\n",
        "\\end{align*}\n",
        "\n",
        "with $\\Omega = [0, 1] \\times [0, 1]$ and the boundary parts given by:\n",
        "\\begin{align*}\n",
        "    \\Gamma_H &=  [0.2, 0.4] \\times \\{1\\}, \\\\\n",
        "    \\Gamma_N &=  \\partial ([0, 1] \\times [0, 1]) \\setminus (\\{x_2=0\\} \\cup \\Gamma_H).\n",
        "\\end{align*}\n",
        "\n",
        "First we have to again install the library:"
      ]
    },
    {
      "cell_type": "code",
      "execution_count": null,
      "metadata": {
        "colab": {
          "base_uri": "https://localhost:8080/"
        },
        "id": "jmBQTvy8XDMz",
        "outputId": "d670e3b7-bf65-4485-b250-e386074f7019"
      },
      "outputs": [],
      "source": [
        "!pip install torchaudio==0.13.0\n",
        "!pip install torchvision==0.14.0\n",
        "!pip install torchphysics"
      ]
    },
    {
      "cell_type": "markdown",
      "metadata": {
        "id": "2E-tW7E3YFrC"
      },
      "source": [
        "As before, we start by implementing the *Spaces* that appear in the problem:"
      ]
    },
    {
      "cell_type": "code",
      "execution_count": null,
      "metadata": {
        "id": "xJMAXc6zYKjq"
      },
      "outputs": [],
      "source": [
        "import torchphysics as tp\n",
        "X = tp.spaces.R2('x')\n",
        "U = tp.spaces.R1('u')\n",
        "T = ... # <- Add the time variable \"t\" of dimension 1"
      ]
    },
    {
      "cell_type": "markdown",
      "metadata": {
        "id": "5sgZ47BTMRoX"
      },
      "source": [
        "We now define the basic parameters and functions that appear in our problem."
      ]
    },
    {
      "cell_type": "code",
      "execution_count": 2,
      "metadata": {
        "id": "JCaXLq3DMRoY"
      },
      "outputs": [],
      "source": [
        "import torch\n",
        "import torchphysics as tp\n",
        "import pytorch_lightning as pl\n",
        "import math\n",
        "\n",
        "# Here all parameters are defined, please use them below:\n",
        "t_min, t_max = 0.0, 2.0\n",
        "prod_speed = 1.0 # speed of heating\n",
        "\n",
        "size_x, size_y = 1.0, 1.0\n",
        "x_start, x_end = 0.2, 0.4 # x-size of heat source\n",
        "\n",
        "kappa = 0.1 # heat diffusion\n",
        "\n",
        "# Function for heat source\n",
        "def f(x, t):\n",
        "    heat_source = 80 * (x[:, :1] - x_start) * (x_end - x[:, :1])\n",
        "    heat_source *= (1.0 - torch.exp(-prod_speed*t))\n",
        "    return heat_source"
      ]
    },
    {
      "cell_type": "markdown",
      "metadata": {
        "id": "USnzJA0KYsze"
      },
      "source": [
        "Now we define our domain. The space domain is already completed, here you have to create the time interval and the Cartesian product of both."
      ]
    },
    {
      "cell_type": "code",
      "execution_count": 3,
      "metadata": {
        "id": "faT14MmHYxgz"
      },
      "outputs": [],
      "source": [
        "omega = tp.domains.Parallelogram(X, [0,0], [1,0], [0,1])\n",
        "I_t = ... # <- TODO: add the bounds of the time interval\n",
        "product_domain = ... # <- TODO: create the product domain of time interval and omega"
      ]
    },
    {
      "cell_type": "markdown",
      "metadata": {
        "id": "14P0cyVDYx0F"
      },
      "source": [
        "Next we need to create some points, this is done by the *Sampler*. Here we need 5 *Samplers*, one inside the domain, 3 for the boundary and one for the initial condition."
      ]
    },
    {
      "cell_type": "code",
      "execution_count": 4,
      "metadata": {
        "id": "K_9sTcr-Y4N1"
      },
      "outputs": [],
      "source": [
        "### TODO: To evaluate the PDE condition (in the inner part of the domain) as well as the initial condition, we create similar samplers to before:\n",
        "inner_sampler = tp.samplers.RandomUniformSampler(..., n_points=25000)\n",
        "initial_sampler = tp.samplers.RandomUniformSampler(..., n_points=5000)\n",
        "\n",
        "# We now have 3 different boundary conditions that should be satisfied.\n",
        "# filter-based samplers can be created as follows:\n",
        "\n",
        "def bottom_filter(x, t): # for the Dirichlet condition at the bottom of the domain\n",
        "    return x[..., 1] == 0\n",
        "bottom_sampler = tp.samplers.RandomUniformSampler(omega.boundary*I_t, 10000, filter_fn=bottom_filter)\n",
        "\n",
        "### TODO: create a filter-based sampler for the in-flow Neumann condition.\n",
        "# if you are not sure which points are created or if you want to play with the possibilities, have aa look at the cell below.\n",
        "def inflow_filter(x, t):\n",
        "    return ...\n",
        "inflow_sampler = tp.samplers.RandomUniformSampler(..., 5000, filter_fn=...)\n",
        "\n",
        "def isolated_filter(x, t):\n",
        "    return ~ (bottom_filter(x, t) | inflow_filter(x, t))\n",
        "### TODO: create a sampler for the isolated parts, where you sample random uniformly distributed points\n",
        "isolated_sampler = ..."
      ]
    },
    {
      "cell_type": "markdown",
      "metadata": {},
      "source": [
        "Let's visualize the points that are sampled: you can play around with some samplers and filters on the domain and its boundary and look at the resulting points."
      ]
    },
    {
      "cell_type": "code",
      "execution_count": null,
      "metadata": {},
      "outputs": [],
      "source": [
        "def just_for_fun_filter(x, t):\n",
        "    return ...\n",
        "\n",
        "just_for_fun_sampler = tp.samplers.RandomUniformSampler(omega.boundary, 100, filter_fn=just_for_fun_filter)\n",
        "\n",
        "tp.utils.scatter(X, just_for_fun_sampler)"
      ]
    },
    {
      "cell_type": "markdown",
      "metadata": {
        "id": "GTumzU23ZDip"
      },
      "source": [
        "The neural network to learn the solution, gets as an input the time and space variable and outputs the solution u. Add the correct spaces."
      ]
    },
    {
      "cell_type": "code",
      "execution_count": 6,
      "metadata": {
        "id": "L6uGqqJeZHua"
      },
      "outputs": [],
      "source": [
        "model = tp.models.FCN(input_space=..., output_space=..., hidden=(30,30,30))"
      ]
    },
    {
      "cell_type": "markdown",
      "metadata": {
        "id": "YkdAEBllZLXR"
      },
      "source": [
        "Now, we have to transform out mathematical conditions given by our PDE into corresponding training conditions.\n",
        "\n",
        "First we handle the PDE itself. Here, you have to finish the residual function."
      ]
    },
    {
      "cell_type": "code",
      "execution_count": 7,
      "metadata": {
        "id": "47K8sMw3Zdlp"
      },
      "outputs": [],
      "source": [
        "def pde_residual(u, x, t):\n",
        "    # in the differential operators you have to pass in the correct variables\n",
        "    # for the derivative computation as the second argument\n",
        "    # TODO: combine tp.utils.grad(u, t) and tp.utils.laplacian(u, x) in the correct way to implement the PDE residual\n",
        "    return ...\n",
        "\n",
        "pde_cond = tp.conditions.PINNCondition(model, inner_sampler, pde_residual)"
      ]
    },
    {
      "cell_type": "markdown",
      "metadata": {
        "id": "1fNJPCoiMRoe"
      },
      "source": [
        "We now also need the initial condition ..."
      ]
    },
    {
      "cell_type": "code",
      "execution_count": 8,
      "metadata": {
        "id": "_czD8DUIMRoe"
      },
      "outputs": [],
      "source": [
        "### TODO: Implement the residual for the initial condition:\n",
        "\n",
        "...\n",
        "\n",
        "initial_cond = tp.conditions.PINNCondition(model, initial_sampler, ...)"
      ]
    },
    {
      "cell_type": "markdown",
      "metadata": {},
      "source": [
        "... and the boundary conditions:"
      ]
    },
    {
      "cell_type": "code",
      "execution_count": 9,
      "metadata": {
        "id": "8UCt70NBMRof"
      },
      "outputs": [],
      "source": [
        "### TODO: implement the residual for the Dirichlet condition at the bottom of the domain\n",
        "...\n",
        "\n",
        "bottom_cond = tp.conditions.PINNCondition(model, ..., ...)\n",
        "\n",
        "\n",
        "# Condition for the Neumann in-flow\n",
        "def inflow_residual(u, x, t):\n",
        "    normal_vectors = omega.boundary.normal(x)\n",
        "    normal_derivative = tp.utils.normal_derivative(u, normal_vectors, x)\n",
        "    ### TODO: return the residual for the in-flow part of the problem, where you use f as defined above\n",
        "    return ...\n",
        "\n",
        "### TODO: define the condition for the inflow\n",
        "inflow_cond = tp.conditions.PINNCondition(model, ..., ...)\n",
        "\n",
        "\n",
        "### TODO: implement the whole residual for the isolated part of the boundary\n",
        "def isolated_residual(u, x, t):\n",
        "    normal_vectors = omega.boundary.normal(x)\n",
        "    normal_derivative = tp.utils.normal_derivative(u, normal_vectors, x)\n",
        "    return kappa * normal_derivative\n",
        "\n",
        "isolated_cond = tp.conditions.PINNCondition(model, isolated_sampler, isolated_residual, weight=10.)\n",
        "# a weight larger than the default 1.0 puts a larger emphasis on the certain condition in the optimization task"
      ]
    },
    {
      "cell_type": "markdown",
      "metadata": {
        "id": "xvsSDD16ZwQw"
      },
      "source": [
        "Before the training, we collect all conditions and choose our training procedure:"
      ]
    },
    {
      "cell_type": "code",
      "execution_count": 10,
      "metadata": {
        "id": "zgt3JneHZ2JB"
      },
      "outputs": [],
      "source": [
        "optim = tp.OptimizerSetting(torch.optim.Adam, lr=1e-3)\n",
        "### TODO: add the missing conditions\n",
        "solver = tp.solver.Solver([pde_cond, ..., ..., ..., ...], optimizer_setting=optim)"
      ]
    },
    {
      "cell_type": "markdown",
      "metadata": {
        "id": "1U9HSeRFaEwy"
      },
      "source": [
        "Start the training:"
      ]
    },
    {
      "cell_type": "code",
      "execution_count": null,
      "metadata": {
        "colab": {
          "base_uri": "https://localhost:8080/",
          "height": 1000,
          "referenced_widgets": [
            "ca5ffd5580794490a4e481ecaf0ce744",
            "cc7d6d8e94734f9f9aa8247f62a8b1b0",
            "21549e8d6b494664b3f6749a135e43a1",
            "a98cea3ab5ae427b8ce6b0f778e37683",
            "4a2c93203b084ed59a4710adaf16f641",
            "2be31af92802405e839ad0f5e3ca8eea",
            "4611c29b832b40599a50431e0d821e11",
            "b0c4f67efc8d4dc3890cc8c7e654ad25",
            "e9c786b4080e4826b711a5085a0a50da",
            "255bfe55b4f1438ea47cb85e19c8a666",
            "537ac265f7ba41918a67f1d865b38250",
            "caa4d435c321422497495f0245fde9cb",
            "3b37c5e34b96454ab52a7eea3356e93d",
            "8502a6c1dd6f48439dabf041f44c4da8",
            "085db38a4e6d435999dcb3fa93ad8041",
            "7c4d50c138614e06b602f46070e0b45a",
            "7f99c8bb8c7b413782f90616b6b37e63",
            "98b476cb0acd48cfa8700865322f527a",
            "9208fafac5c14898bc39ce71659a5c02",
            "4b0385c04cb44d2795595ed3f2ec6e2e",
            "93deccf63e67441098d3d895b6b139b3",
            "d0e9840d919342b18ec9289f02391ad0",
            "09216b4d16be4c9185eab4c830924d3e",
            "89bfdecaa99d4409ace79f11101c7715",
            "3e453f73706e4ec9b95fb76fc8dd69ba",
            "3c61e303422f47cfbf8ed24c2010f92f",
            "062c35a3740b479fb428a8560e3304b3",
            "cfd90098b73b44078ab69dac56a24c99",
            "15d1d40f954f4b62a1e701dc897dff1e",
            "2570ead1c0ca4b868ce0cc17a6bdab18",
            "ec993f4f5f6042068d7f7060633aa6ab",
            "f98d83cbaf484994a29afa6e26837033",
            "ded2b687aa67430ca3e6fd5793ff41c1"
          ]
        },
        "id": "BwTdFc87aGb5",
        "outputId": "4c5b5e77-e276-4509-e3cf-706424b2cd7d"
      },
      "outputs": [],
      "source": [
        "import pytorch_lightning as pl\n",
        "trainer = pl.Trainer(gpus=1, # use one GPU\n",
        "                     max_steps=5000, # iteration number\n",
        "                     benchmark=True, # faster if input batch has constant size\n",
        "                     logger=False) # for writting into tensorboard\n",
        "trainer.fit(solver)"
      ]
    },
    {
      "cell_type": "markdown",
      "metadata": {
        "id": "MABRHKvibdC7"
      },
      "source": [
        "We can plot the solution, for two different time points:"
      ]
    },
    {
      "cell_type": "code",
      "execution_count": null,
      "metadata": {
        "colab": {
          "base_uri": "https://localhost:8080/",
          "height": 813
        },
        "id": "YjxhE2_MMRoh",
        "outputId": "2c66b4ff-324a-43b9-bdc0-9141d53a50df"
      },
      "outputs": [],
      "source": [
        "plot_sampler = tp.samplers.PlotSampler(plot_domain=omega, n_points=2000, data_for_other_variables={\"t\": 0.5})\n",
        "fig = tp.utils.plot(model, lambda u : u, plot_sampler)\n",
        "\n",
        "\n",
        "plot_sampler = tp.samplers.PlotSampler(plot_domain=omega, n_points=2000, data_for_other_variables={\"t\": 2.0})\n",
        "fig = tp.utils.plot(model, lambda u : u, plot_sampler)"
      ]
    },
    {
      "cell_type": "code",
      "execution_count": null,
      "metadata": {
        "colab": {
          "base_uri": "https://localhost:8080/",
          "height": 420
        },
        "id": "hBl-iKgeMRoi",
        "outputId": "3f73dad7-d37d-4aea-ba2b-6a26c1771220"
      },
      "outputs": [],
      "source": [
        "# We can also animate the solution over time\n",
        "anim_sampler = tp.samplers.AnimationSampler(omega, I_t, 200, n_points=1000)\n",
        "fig, anim = tp.utils.animate(model, lambda u: u, anim_sampler, ani_speed=10, angle=[30, 220])\n",
        "anim.save('heat-eq.gif')\n",
        "# On Google colab you have at the left side a tab with a folder. There you can find the gif and can watch it."
      ]
    }
  ],
  "metadata": {
    "accelerator": "GPU",
    "colab": {
      "gpuType": "T4",
      "provenance": []
    },
    "kernelspec": {
      "display_name": "Python 3",
      "name": "python3"
    },
    "language_info": {
      "codemirror_mode": {
        "name": "ipython",
        "version": 3
      },
      "file_extension": ".py",
      "mimetype": "text/x-python",
      "name": "python",
      "nbconvert_exporter": "python",
      "pygments_lexer": "ipython3",
      "version": "3.9.4"
    },
    "widgets": {
      "application/vnd.jupyter.widget-state+json": {
        "062c35a3740b479fb428a8560e3304b3": {
          "model_module": "@jupyter-widgets/base",
          "model_module_version": "1.2.0",
          "model_name": "LayoutModel",
          "state": {
            "_model_module": "@jupyter-widgets/base",
            "_model_module_version": "1.2.0",
            "_model_name": "LayoutModel",
            "_view_count": null,
            "_view_module": "@jupyter-widgets/base",
            "_view_module_version": "1.2.0",
            "_view_name": "LayoutView",
            "align_content": null,
            "align_items": null,
            "align_self": null,
            "border": null,
            "bottom": null,
            "display": "inline-flex",
            "flex": null,
            "flex_flow": "row wrap",
            "grid_area": null,
            "grid_auto_columns": null,
            "grid_auto_flow": null,
            "grid_auto_rows": null,
            "grid_column": null,
            "grid_gap": null,
            "grid_row": null,
            "grid_template_areas": null,
            "grid_template_columns": null,
            "grid_template_rows": null,
            "height": null,
            "justify_content": null,
            "justify_items": null,
            "left": null,
            "margin": null,
            "max_height": null,
            "max_width": null,
            "min_height": null,
            "min_width": null,
            "object_fit": null,
            "object_position": null,
            "order": null,
            "overflow": null,
            "overflow_x": null,
            "overflow_y": null,
            "padding": null,
            "right": null,
            "top": null,
            "visibility": "hidden",
            "width": "100%"
          }
        },
        "085db38a4e6d435999dcb3fa93ad8041": {
          "model_module": "@jupyter-widgets/controls",
          "model_module_version": "1.5.0",
          "model_name": "HTMLModel",
          "state": {
            "_dom_classes": [],
            "_model_module": "@jupyter-widgets/controls",
            "_model_module_version": "1.5.0",
            "_model_name": "HTMLModel",
            "_view_count": null,
            "_view_module": "@jupyter-widgets/controls",
            "_view_module_version": "1.5.0",
            "_view_name": "HTMLView",
            "description": "",
            "description_tooltip": null,
            "layout": "IPY_MODEL_93deccf63e67441098d3d895b6b139b3",
            "placeholder": "​",
            "style": "IPY_MODEL_d0e9840d919342b18ec9289f02391ad0",
            "value": " 5001/5001 [06:38&lt;00:00, 12.53it/s, loss=0.00149]"
          }
        },
        "09216b4d16be4c9185eab4c830924d3e": {
          "model_module": "@jupyter-widgets/controls",
          "model_module_version": "1.5.0",
          "model_name": "HBoxModel",
          "state": {
            "_dom_classes": [],
            "_model_module": "@jupyter-widgets/controls",
            "_model_module_version": "1.5.0",
            "_model_name": "HBoxModel",
            "_view_count": null,
            "_view_module": "@jupyter-widgets/controls",
            "_view_module_version": "1.5.0",
            "_view_name": "HBoxView",
            "box_style": "",
            "children": [
              "IPY_MODEL_89bfdecaa99d4409ace79f11101c7715",
              "IPY_MODEL_3e453f73706e4ec9b95fb76fc8dd69ba",
              "IPY_MODEL_3c61e303422f47cfbf8ed24c2010f92f"
            ],
            "layout": "IPY_MODEL_062c35a3740b479fb428a8560e3304b3"
          }
        },
        "15d1d40f954f4b62a1e701dc897dff1e": {
          "model_module": "@jupyter-widgets/controls",
          "model_module_version": "1.5.0",
          "model_name": "DescriptionStyleModel",
          "state": {
            "_model_module": "@jupyter-widgets/controls",
            "_model_module_version": "1.5.0",
            "_model_name": "DescriptionStyleModel",
            "_view_count": null,
            "_view_module": "@jupyter-widgets/base",
            "_view_module_version": "1.2.0",
            "_view_name": "StyleView",
            "description_width": ""
          }
        },
        "21549e8d6b494664b3f6749a135e43a1": {
          "model_module": "@jupyter-widgets/controls",
          "model_module_version": "1.5.0",
          "model_name": "FloatProgressModel",
          "state": {
            "_dom_classes": [],
            "_model_module": "@jupyter-widgets/controls",
            "_model_module_version": "1.5.0",
            "_model_name": "FloatProgressModel",
            "_view_count": null,
            "_view_module": "@jupyter-widgets/controls",
            "_view_module_version": "1.5.0",
            "_view_name": "ProgressView",
            "bar_style": "",
            "description": "",
            "description_tooltip": null,
            "layout": "IPY_MODEL_b0c4f67efc8d4dc3890cc8c7e654ad25",
            "max": 1,
            "min": 0,
            "orientation": "horizontal",
            "style": "IPY_MODEL_e9c786b4080e4826b711a5085a0a50da",
            "value": 1
          }
        },
        "255bfe55b4f1438ea47cb85e19c8a666": {
          "model_module": "@jupyter-widgets/base",
          "model_module_version": "1.2.0",
          "model_name": "LayoutModel",
          "state": {
            "_model_module": "@jupyter-widgets/base",
            "_model_module_version": "1.2.0",
            "_model_name": "LayoutModel",
            "_view_count": null,
            "_view_module": "@jupyter-widgets/base",
            "_view_module_version": "1.2.0",
            "_view_name": "LayoutView",
            "align_content": null,
            "align_items": null,
            "align_self": null,
            "border": null,
            "bottom": null,
            "display": null,
            "flex": null,
            "flex_flow": null,
            "grid_area": null,
            "grid_auto_columns": null,
            "grid_auto_flow": null,
            "grid_auto_rows": null,
            "grid_column": null,
            "grid_gap": null,
            "grid_row": null,
            "grid_template_areas": null,
            "grid_template_columns": null,
            "grid_template_rows": null,
            "height": null,
            "justify_content": null,
            "justify_items": null,
            "left": null,
            "margin": null,
            "max_height": null,
            "max_width": null,
            "min_height": null,
            "min_width": null,
            "object_fit": null,
            "object_position": null,
            "order": null,
            "overflow": null,
            "overflow_x": null,
            "overflow_y": null,
            "padding": null,
            "right": null,
            "top": null,
            "visibility": null,
            "width": null
          }
        },
        "2570ead1c0ca4b868ce0cc17a6bdab18": {
          "model_module": "@jupyter-widgets/base",
          "model_module_version": "1.2.0",
          "model_name": "LayoutModel",
          "state": {
            "_model_module": "@jupyter-widgets/base",
            "_model_module_version": "1.2.0",
            "_model_name": "LayoutModel",
            "_view_count": null,
            "_view_module": "@jupyter-widgets/base",
            "_view_module_version": "1.2.0",
            "_view_name": "LayoutView",
            "align_content": null,
            "align_items": null,
            "align_self": null,
            "border": null,
            "bottom": null,
            "display": null,
            "flex": "2",
            "flex_flow": null,
            "grid_area": null,
            "grid_auto_columns": null,
            "grid_auto_flow": null,
            "grid_auto_rows": null,
            "grid_column": null,
            "grid_gap": null,
            "grid_row": null,
            "grid_template_areas": null,
            "grid_template_columns": null,
            "grid_template_rows": null,
            "height": null,
            "justify_content": null,
            "justify_items": null,
            "left": null,
            "margin": null,
            "max_height": null,
            "max_width": null,
            "min_height": null,
            "min_width": null,
            "object_fit": null,
            "object_position": null,
            "order": null,
            "overflow": null,
            "overflow_x": null,
            "overflow_y": null,
            "padding": null,
            "right": null,
            "top": null,
            "visibility": null,
            "width": null
          }
        },
        "2be31af92802405e839ad0f5e3ca8eea": {
          "model_module": "@jupyter-widgets/base",
          "model_module_version": "1.2.0",
          "model_name": "LayoutModel",
          "state": {
            "_model_module": "@jupyter-widgets/base",
            "_model_module_version": "1.2.0",
            "_model_name": "LayoutModel",
            "_view_count": null,
            "_view_module": "@jupyter-widgets/base",
            "_view_module_version": "1.2.0",
            "_view_name": "LayoutView",
            "align_content": null,
            "align_items": null,
            "align_self": null,
            "border": null,
            "bottom": null,
            "display": null,
            "flex": null,
            "flex_flow": null,
            "grid_area": null,
            "grid_auto_columns": null,
            "grid_auto_flow": null,
            "grid_auto_rows": null,
            "grid_column": null,
            "grid_gap": null,
            "grid_row": null,
            "grid_template_areas": null,
            "grid_template_columns": null,
            "grid_template_rows": null,
            "height": null,
            "justify_content": null,
            "justify_items": null,
            "left": null,
            "margin": null,
            "max_height": null,
            "max_width": null,
            "min_height": null,
            "min_width": null,
            "object_fit": null,
            "object_position": null,
            "order": null,
            "overflow": null,
            "overflow_x": null,
            "overflow_y": null,
            "padding": null,
            "right": null,
            "top": null,
            "visibility": null,
            "width": null
          }
        },
        "3b37c5e34b96454ab52a7eea3356e93d": {
          "model_module": "@jupyter-widgets/controls",
          "model_module_version": "1.5.0",
          "model_name": "HTMLModel",
          "state": {
            "_dom_classes": [],
            "_model_module": "@jupyter-widgets/controls",
            "_model_module_version": "1.5.0",
            "_model_name": "HTMLModel",
            "_view_count": null,
            "_view_module": "@jupyter-widgets/controls",
            "_view_module_version": "1.5.0",
            "_view_name": "HTMLView",
            "description": "",
            "description_tooltip": null,
            "layout": "IPY_MODEL_7f99c8bb8c7b413782f90616b6b37e63",
            "placeholder": "​",
            "style": "IPY_MODEL_98b476cb0acd48cfa8700865322f527a",
            "value": "Epoch 0: 100%"
          }
        },
        "3c61e303422f47cfbf8ed24c2010f92f": {
          "model_module": "@jupyter-widgets/controls",
          "model_module_version": "1.5.0",
          "model_name": "HTMLModel",
          "state": {
            "_dom_classes": [],
            "_model_module": "@jupyter-widgets/controls",
            "_model_module_version": "1.5.0",
            "_model_name": "HTMLModel",
            "_view_count": null,
            "_view_module": "@jupyter-widgets/controls",
            "_view_module_version": "1.5.0",
            "_view_name": "HTMLView",
            "description": "",
            "description_tooltip": null,
            "layout": "IPY_MODEL_f98d83cbaf484994a29afa6e26837033",
            "placeholder": "​",
            "style": "IPY_MODEL_ded2b687aa67430ca3e6fd5793ff41c1",
            "value": " 1/1 [00:00&lt;00:00, 386.86it/s]"
          }
        },
        "3e453f73706e4ec9b95fb76fc8dd69ba": {
          "model_module": "@jupyter-widgets/controls",
          "model_module_version": "1.5.0",
          "model_name": "FloatProgressModel",
          "state": {
            "_dom_classes": [],
            "_model_module": "@jupyter-widgets/controls",
            "_model_module_version": "1.5.0",
            "_model_name": "FloatProgressModel",
            "_view_count": null,
            "_view_module": "@jupyter-widgets/controls",
            "_view_module_version": "1.5.0",
            "_view_name": "ProgressView",
            "bar_style": "",
            "description": "",
            "description_tooltip": null,
            "layout": "IPY_MODEL_2570ead1c0ca4b868ce0cc17a6bdab18",
            "max": 1,
            "min": 0,
            "orientation": "horizontal",
            "style": "IPY_MODEL_ec993f4f5f6042068d7f7060633aa6ab",
            "value": 1
          }
        },
        "4611c29b832b40599a50431e0d821e11": {
          "model_module": "@jupyter-widgets/controls",
          "model_module_version": "1.5.0",
          "model_name": "DescriptionStyleModel",
          "state": {
            "_model_module": "@jupyter-widgets/controls",
            "_model_module_version": "1.5.0",
            "_model_name": "DescriptionStyleModel",
            "_view_count": null,
            "_view_module": "@jupyter-widgets/base",
            "_view_module_version": "1.2.0",
            "_view_name": "StyleView",
            "description_width": ""
          }
        },
        "4a2c93203b084ed59a4710adaf16f641": {
          "model_module": "@jupyter-widgets/base",
          "model_module_version": "1.2.0",
          "model_name": "LayoutModel",
          "state": {
            "_model_module": "@jupyter-widgets/base",
            "_model_module_version": "1.2.0",
            "_model_name": "LayoutModel",
            "_view_count": null,
            "_view_module": "@jupyter-widgets/base",
            "_view_module_version": "1.2.0",
            "_view_name": "LayoutView",
            "align_content": null,
            "align_items": null,
            "align_self": null,
            "border": null,
            "bottom": null,
            "display": "inline-flex",
            "flex": null,
            "flex_flow": "row wrap",
            "grid_area": null,
            "grid_auto_columns": null,
            "grid_auto_flow": null,
            "grid_auto_rows": null,
            "grid_column": null,
            "grid_gap": null,
            "grid_row": null,
            "grid_template_areas": null,
            "grid_template_columns": null,
            "grid_template_rows": null,
            "height": null,
            "justify_content": null,
            "justify_items": null,
            "left": null,
            "margin": null,
            "max_height": null,
            "max_width": null,
            "min_height": null,
            "min_width": null,
            "object_fit": null,
            "object_position": null,
            "order": null,
            "overflow": null,
            "overflow_x": null,
            "overflow_y": null,
            "padding": null,
            "right": null,
            "top": null,
            "visibility": "hidden",
            "width": "100%"
          }
        },
        "4b0385c04cb44d2795595ed3f2ec6e2e": {
          "model_module": "@jupyter-widgets/controls",
          "model_module_version": "1.5.0",
          "model_name": "ProgressStyleModel",
          "state": {
            "_model_module": "@jupyter-widgets/controls",
            "_model_module_version": "1.5.0",
            "_model_name": "ProgressStyleModel",
            "_view_count": null,
            "_view_module": "@jupyter-widgets/base",
            "_view_module_version": "1.2.0",
            "_view_name": "StyleView",
            "bar_color": null,
            "description_width": ""
          }
        },
        "537ac265f7ba41918a67f1d865b38250": {
          "model_module": "@jupyter-widgets/controls",
          "model_module_version": "1.5.0",
          "model_name": "DescriptionStyleModel",
          "state": {
            "_model_module": "@jupyter-widgets/controls",
            "_model_module_version": "1.5.0",
            "_model_name": "DescriptionStyleModel",
            "_view_count": null,
            "_view_module": "@jupyter-widgets/base",
            "_view_module_version": "1.2.0",
            "_view_name": "StyleView",
            "description_width": ""
          }
        },
        "7c4d50c138614e06b602f46070e0b45a": {
          "model_module": "@jupyter-widgets/base",
          "model_module_version": "1.2.0",
          "model_name": "LayoutModel",
          "state": {
            "_model_module": "@jupyter-widgets/base",
            "_model_module_version": "1.2.0",
            "_model_name": "LayoutModel",
            "_view_count": null,
            "_view_module": "@jupyter-widgets/base",
            "_view_module_version": "1.2.0",
            "_view_name": "LayoutView",
            "align_content": null,
            "align_items": null,
            "align_self": null,
            "border": null,
            "bottom": null,
            "display": "inline-flex",
            "flex": null,
            "flex_flow": "row wrap",
            "grid_area": null,
            "grid_auto_columns": null,
            "grid_auto_flow": null,
            "grid_auto_rows": null,
            "grid_column": null,
            "grid_gap": null,
            "grid_row": null,
            "grid_template_areas": null,
            "grid_template_columns": null,
            "grid_template_rows": null,
            "height": null,
            "justify_content": null,
            "justify_items": null,
            "left": null,
            "margin": null,
            "max_height": null,
            "max_width": null,
            "min_height": null,
            "min_width": null,
            "object_fit": null,
            "object_position": null,
            "order": null,
            "overflow": null,
            "overflow_x": null,
            "overflow_y": null,
            "padding": null,
            "right": null,
            "top": null,
            "visibility": null,
            "width": "100%"
          }
        },
        "7f99c8bb8c7b413782f90616b6b37e63": {
          "model_module": "@jupyter-widgets/base",
          "model_module_version": "1.2.0",
          "model_name": "LayoutModel",
          "state": {
            "_model_module": "@jupyter-widgets/base",
            "_model_module_version": "1.2.0",
            "_model_name": "LayoutModel",
            "_view_count": null,
            "_view_module": "@jupyter-widgets/base",
            "_view_module_version": "1.2.0",
            "_view_name": "LayoutView",
            "align_content": null,
            "align_items": null,
            "align_self": null,
            "border": null,
            "bottom": null,
            "display": null,
            "flex": null,
            "flex_flow": null,
            "grid_area": null,
            "grid_auto_columns": null,
            "grid_auto_flow": null,
            "grid_auto_rows": null,
            "grid_column": null,
            "grid_gap": null,
            "grid_row": null,
            "grid_template_areas": null,
            "grid_template_columns": null,
            "grid_template_rows": null,
            "height": null,
            "justify_content": null,
            "justify_items": null,
            "left": null,
            "margin": null,
            "max_height": null,
            "max_width": null,
            "min_height": null,
            "min_width": null,
            "object_fit": null,
            "object_position": null,
            "order": null,
            "overflow": null,
            "overflow_x": null,
            "overflow_y": null,
            "padding": null,
            "right": null,
            "top": null,
            "visibility": null,
            "width": null
          }
        },
        "8502a6c1dd6f48439dabf041f44c4da8": {
          "model_module": "@jupyter-widgets/controls",
          "model_module_version": "1.5.0",
          "model_name": "FloatProgressModel",
          "state": {
            "_dom_classes": [],
            "_model_module": "@jupyter-widgets/controls",
            "_model_module_version": "1.5.0",
            "_model_name": "FloatProgressModel",
            "_view_count": null,
            "_view_module": "@jupyter-widgets/controls",
            "_view_module_version": "1.5.0",
            "_view_name": "ProgressView",
            "bar_style": "success",
            "description": "",
            "description_tooltip": null,
            "layout": "IPY_MODEL_9208fafac5c14898bc39ce71659a5c02",
            "max": 5001,
            "min": 0,
            "orientation": "horizontal",
            "style": "IPY_MODEL_4b0385c04cb44d2795595ed3f2ec6e2e",
            "value": 5001
          }
        },
        "89bfdecaa99d4409ace79f11101c7715": {
          "model_module": "@jupyter-widgets/controls",
          "model_module_version": "1.5.0",
          "model_name": "HTMLModel",
          "state": {
            "_dom_classes": [],
            "_model_module": "@jupyter-widgets/controls",
            "_model_module_version": "1.5.0",
            "_model_name": "HTMLModel",
            "_view_count": null,
            "_view_module": "@jupyter-widgets/controls",
            "_view_module_version": "1.5.0",
            "_view_name": "HTMLView",
            "description": "",
            "description_tooltip": null,
            "layout": "IPY_MODEL_cfd90098b73b44078ab69dac56a24c99",
            "placeholder": "​",
            "style": "IPY_MODEL_15d1d40f954f4b62a1e701dc897dff1e",
            "value": "Validation DataLoader 0: 100%"
          }
        },
        "9208fafac5c14898bc39ce71659a5c02": {
          "model_module": "@jupyter-widgets/base",
          "model_module_version": "1.2.0",
          "model_name": "LayoutModel",
          "state": {
            "_model_module": "@jupyter-widgets/base",
            "_model_module_version": "1.2.0",
            "_model_name": "LayoutModel",
            "_view_count": null,
            "_view_module": "@jupyter-widgets/base",
            "_view_module_version": "1.2.0",
            "_view_name": "LayoutView",
            "align_content": null,
            "align_items": null,
            "align_self": null,
            "border": null,
            "bottom": null,
            "display": null,
            "flex": "2",
            "flex_flow": null,
            "grid_area": null,
            "grid_auto_columns": null,
            "grid_auto_flow": null,
            "grid_auto_rows": null,
            "grid_column": null,
            "grid_gap": null,
            "grid_row": null,
            "grid_template_areas": null,
            "grid_template_columns": null,
            "grid_template_rows": null,
            "height": null,
            "justify_content": null,
            "justify_items": null,
            "left": null,
            "margin": null,
            "max_height": null,
            "max_width": null,
            "min_height": null,
            "min_width": null,
            "object_fit": null,
            "object_position": null,
            "order": null,
            "overflow": null,
            "overflow_x": null,
            "overflow_y": null,
            "padding": null,
            "right": null,
            "top": null,
            "visibility": null,
            "width": null
          }
        },
        "93deccf63e67441098d3d895b6b139b3": {
          "model_module": "@jupyter-widgets/base",
          "model_module_version": "1.2.0",
          "model_name": "LayoutModel",
          "state": {
            "_model_module": "@jupyter-widgets/base",
            "_model_module_version": "1.2.0",
            "_model_name": "LayoutModel",
            "_view_count": null,
            "_view_module": "@jupyter-widgets/base",
            "_view_module_version": "1.2.0",
            "_view_name": "LayoutView",
            "align_content": null,
            "align_items": null,
            "align_self": null,
            "border": null,
            "bottom": null,
            "display": null,
            "flex": null,
            "flex_flow": null,
            "grid_area": null,
            "grid_auto_columns": null,
            "grid_auto_flow": null,
            "grid_auto_rows": null,
            "grid_column": null,
            "grid_gap": null,
            "grid_row": null,
            "grid_template_areas": null,
            "grid_template_columns": null,
            "grid_template_rows": null,
            "height": null,
            "justify_content": null,
            "justify_items": null,
            "left": null,
            "margin": null,
            "max_height": null,
            "max_width": null,
            "min_height": null,
            "min_width": null,
            "object_fit": null,
            "object_position": null,
            "order": null,
            "overflow": null,
            "overflow_x": null,
            "overflow_y": null,
            "padding": null,
            "right": null,
            "top": null,
            "visibility": null,
            "width": null
          }
        },
        "98b476cb0acd48cfa8700865322f527a": {
          "model_module": "@jupyter-widgets/controls",
          "model_module_version": "1.5.0",
          "model_name": "DescriptionStyleModel",
          "state": {
            "_model_module": "@jupyter-widgets/controls",
            "_model_module_version": "1.5.0",
            "_model_name": "DescriptionStyleModel",
            "_view_count": null,
            "_view_module": "@jupyter-widgets/base",
            "_view_module_version": "1.2.0",
            "_view_name": "StyleView",
            "description_width": ""
          }
        },
        "a98cea3ab5ae427b8ce6b0f778e37683": {
          "model_module": "@jupyter-widgets/controls",
          "model_module_version": "1.5.0",
          "model_name": "HTMLModel",
          "state": {
            "_dom_classes": [],
            "_model_module": "@jupyter-widgets/controls",
            "_model_module_version": "1.5.0",
            "_model_name": "HTMLModel",
            "_view_count": null,
            "_view_module": "@jupyter-widgets/controls",
            "_view_module_version": "1.5.0",
            "_view_name": "HTMLView",
            "description": "",
            "description_tooltip": null,
            "layout": "IPY_MODEL_255bfe55b4f1438ea47cb85e19c8a666",
            "placeholder": "​",
            "style": "IPY_MODEL_537ac265f7ba41918a67f1d865b38250",
            "value": " 1/1 [00:00&lt;00:00, 679.35it/s]"
          }
        },
        "b0c4f67efc8d4dc3890cc8c7e654ad25": {
          "model_module": "@jupyter-widgets/base",
          "model_module_version": "1.2.0",
          "model_name": "LayoutModel",
          "state": {
            "_model_module": "@jupyter-widgets/base",
            "_model_module_version": "1.2.0",
            "_model_name": "LayoutModel",
            "_view_count": null,
            "_view_module": "@jupyter-widgets/base",
            "_view_module_version": "1.2.0",
            "_view_name": "LayoutView",
            "align_content": null,
            "align_items": null,
            "align_self": null,
            "border": null,
            "bottom": null,
            "display": null,
            "flex": "2",
            "flex_flow": null,
            "grid_area": null,
            "grid_auto_columns": null,
            "grid_auto_flow": null,
            "grid_auto_rows": null,
            "grid_column": null,
            "grid_gap": null,
            "grid_row": null,
            "grid_template_areas": null,
            "grid_template_columns": null,
            "grid_template_rows": null,
            "height": null,
            "justify_content": null,
            "justify_items": null,
            "left": null,
            "margin": null,
            "max_height": null,
            "max_width": null,
            "min_height": null,
            "min_width": null,
            "object_fit": null,
            "object_position": null,
            "order": null,
            "overflow": null,
            "overflow_x": null,
            "overflow_y": null,
            "padding": null,
            "right": null,
            "top": null,
            "visibility": null,
            "width": null
          }
        },
        "ca5ffd5580794490a4e481ecaf0ce744": {
          "model_module": "@jupyter-widgets/controls",
          "model_module_version": "1.5.0",
          "model_name": "HBoxModel",
          "state": {
            "_dom_classes": [],
            "_model_module": "@jupyter-widgets/controls",
            "_model_module_version": "1.5.0",
            "_model_name": "HBoxModel",
            "_view_count": null,
            "_view_module": "@jupyter-widgets/controls",
            "_view_module_version": "1.5.0",
            "_view_name": "HBoxView",
            "box_style": "",
            "children": [
              "IPY_MODEL_cc7d6d8e94734f9f9aa8247f62a8b1b0",
              "IPY_MODEL_21549e8d6b494664b3f6749a135e43a1",
              "IPY_MODEL_a98cea3ab5ae427b8ce6b0f778e37683"
            ],
            "layout": "IPY_MODEL_4a2c93203b084ed59a4710adaf16f641"
          }
        },
        "caa4d435c321422497495f0245fde9cb": {
          "model_module": "@jupyter-widgets/controls",
          "model_module_version": "1.5.0",
          "model_name": "HBoxModel",
          "state": {
            "_dom_classes": [],
            "_model_module": "@jupyter-widgets/controls",
            "_model_module_version": "1.5.0",
            "_model_name": "HBoxModel",
            "_view_count": null,
            "_view_module": "@jupyter-widgets/controls",
            "_view_module_version": "1.5.0",
            "_view_name": "HBoxView",
            "box_style": "",
            "children": [
              "IPY_MODEL_3b37c5e34b96454ab52a7eea3356e93d",
              "IPY_MODEL_8502a6c1dd6f48439dabf041f44c4da8",
              "IPY_MODEL_085db38a4e6d435999dcb3fa93ad8041"
            ],
            "layout": "IPY_MODEL_7c4d50c138614e06b602f46070e0b45a"
          }
        },
        "cc7d6d8e94734f9f9aa8247f62a8b1b0": {
          "model_module": "@jupyter-widgets/controls",
          "model_module_version": "1.5.0",
          "model_name": "HTMLModel",
          "state": {
            "_dom_classes": [],
            "_model_module": "@jupyter-widgets/controls",
            "_model_module_version": "1.5.0",
            "_model_name": "HTMLModel",
            "_view_count": null,
            "_view_module": "@jupyter-widgets/controls",
            "_view_module_version": "1.5.0",
            "_view_name": "HTMLView",
            "description": "",
            "description_tooltip": null,
            "layout": "IPY_MODEL_2be31af92802405e839ad0f5e3ca8eea",
            "placeholder": "​",
            "style": "IPY_MODEL_4611c29b832b40599a50431e0d821e11",
            "value": "Sanity Checking DataLoader 0: 100%"
          }
        },
        "cfd90098b73b44078ab69dac56a24c99": {
          "model_module": "@jupyter-widgets/base",
          "model_module_version": "1.2.0",
          "model_name": "LayoutModel",
          "state": {
            "_model_module": "@jupyter-widgets/base",
            "_model_module_version": "1.2.0",
            "_model_name": "LayoutModel",
            "_view_count": null,
            "_view_module": "@jupyter-widgets/base",
            "_view_module_version": "1.2.0",
            "_view_name": "LayoutView",
            "align_content": null,
            "align_items": null,
            "align_self": null,
            "border": null,
            "bottom": null,
            "display": null,
            "flex": null,
            "flex_flow": null,
            "grid_area": null,
            "grid_auto_columns": null,
            "grid_auto_flow": null,
            "grid_auto_rows": null,
            "grid_column": null,
            "grid_gap": null,
            "grid_row": null,
            "grid_template_areas": null,
            "grid_template_columns": null,
            "grid_template_rows": null,
            "height": null,
            "justify_content": null,
            "justify_items": null,
            "left": null,
            "margin": null,
            "max_height": null,
            "max_width": null,
            "min_height": null,
            "min_width": null,
            "object_fit": null,
            "object_position": null,
            "order": null,
            "overflow": null,
            "overflow_x": null,
            "overflow_y": null,
            "padding": null,
            "right": null,
            "top": null,
            "visibility": null,
            "width": null
          }
        },
        "d0e9840d919342b18ec9289f02391ad0": {
          "model_module": "@jupyter-widgets/controls",
          "model_module_version": "1.5.0",
          "model_name": "DescriptionStyleModel",
          "state": {
            "_model_module": "@jupyter-widgets/controls",
            "_model_module_version": "1.5.0",
            "_model_name": "DescriptionStyleModel",
            "_view_count": null,
            "_view_module": "@jupyter-widgets/base",
            "_view_module_version": "1.2.0",
            "_view_name": "StyleView",
            "description_width": ""
          }
        },
        "ded2b687aa67430ca3e6fd5793ff41c1": {
          "model_module": "@jupyter-widgets/controls",
          "model_module_version": "1.5.0",
          "model_name": "DescriptionStyleModel",
          "state": {
            "_model_module": "@jupyter-widgets/controls",
            "_model_module_version": "1.5.0",
            "_model_name": "DescriptionStyleModel",
            "_view_count": null,
            "_view_module": "@jupyter-widgets/base",
            "_view_module_version": "1.2.0",
            "_view_name": "StyleView",
            "description_width": ""
          }
        },
        "e9c786b4080e4826b711a5085a0a50da": {
          "model_module": "@jupyter-widgets/controls",
          "model_module_version": "1.5.0",
          "model_name": "ProgressStyleModel",
          "state": {
            "_model_module": "@jupyter-widgets/controls",
            "_model_module_version": "1.5.0",
            "_model_name": "ProgressStyleModel",
            "_view_count": null,
            "_view_module": "@jupyter-widgets/base",
            "_view_module_version": "1.2.0",
            "_view_name": "StyleView",
            "bar_color": null,
            "description_width": ""
          }
        },
        "ec993f4f5f6042068d7f7060633aa6ab": {
          "model_module": "@jupyter-widgets/controls",
          "model_module_version": "1.5.0",
          "model_name": "ProgressStyleModel",
          "state": {
            "_model_module": "@jupyter-widgets/controls",
            "_model_module_version": "1.5.0",
            "_model_name": "ProgressStyleModel",
            "_view_count": null,
            "_view_module": "@jupyter-widgets/base",
            "_view_module_version": "1.2.0",
            "_view_name": "StyleView",
            "bar_color": null,
            "description_width": ""
          }
        },
        "f98d83cbaf484994a29afa6e26837033": {
          "model_module": "@jupyter-widgets/base",
          "model_module_version": "1.2.0",
          "model_name": "LayoutModel",
          "state": {
            "_model_module": "@jupyter-widgets/base",
            "_model_module_version": "1.2.0",
            "_model_name": "LayoutModel",
            "_view_count": null,
            "_view_module": "@jupyter-widgets/base",
            "_view_module_version": "1.2.0",
            "_view_name": "LayoutView",
            "align_content": null,
            "align_items": null,
            "align_self": null,
            "border": null,
            "bottom": null,
            "display": null,
            "flex": null,
            "flex_flow": null,
            "grid_area": null,
            "grid_auto_columns": null,
            "grid_auto_flow": null,
            "grid_auto_rows": null,
            "grid_column": null,
            "grid_gap": null,
            "grid_row": null,
            "grid_template_areas": null,
            "grid_template_columns": null,
            "grid_template_rows": null,
            "height": null,
            "justify_content": null,
            "justify_items": null,
            "left": null,
            "margin": null,
            "max_height": null,
            "max_width": null,
            "min_height": null,
            "min_width": null,
            "object_fit": null,
            "object_position": null,
            "order": null,
            "overflow": null,
            "overflow_x": null,
            "overflow_y": null,
            "padding": null,
            "right": null,
            "top": null,
            "visibility": null,
            "width": null
          }
        }
      }
    }
  },
  "nbformat": 4,
  "nbformat_minor": 0
}
