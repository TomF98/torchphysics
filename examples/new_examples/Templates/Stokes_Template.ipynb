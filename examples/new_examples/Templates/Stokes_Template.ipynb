{
 "cells": [
  {
   "cell_type": "markdown",
   "metadata": {},
   "source": [
    "# Template: Stokes flow through a pipe\n",
    "### (Difficulty: Easy)\n",
    "\n",
    "In this Notebook, we want to solve the Stokes equation inside a square pipe.\n",
    "\n",
    "We take $\\Omega \\subset \\mathbb{R}^2$ as the rectangle $(0, 1) \\times (0, 1)$.\n",
    "\n",
    "We want to solve the following problem:\n",
    "\\begin{align*}\n",
    "    \\Delta u - \\nabla p&= 0, \\text{ in } \\Omega \\\\\n",
    "    \\nabla \\cdot u &= 0 \\text{ in } \\Omega \\\\\n",
    "    u(0, y) &= (2.0y(1-y), 0) , \\text{ for } y \\in [0, 1] \\\\\n",
    "    p(1, y) &= 0 , \\text{ for } y \\in [0, 1] \\\\\n",
    "    u &= (0, 0) , \\text{ for } x \\in [0, 1], y \\in \\{0, 1\\}\\\\\n",
    "\\end{align*}\n",
    "\n",
    "Train a PINN that outputs both the velocity field $u$ (2D) and the pressure $p$ (1D).\n",
    "\n",
    "\n",
    "You can also take a look at documentation if you need some specific functionalities: [Link to docs](https://torchphysics.readthedocs.io/en/latest/)"
   ]
  },
  {
   "cell_type": "code",
   "execution_count": null,
   "metadata": {},
   "outputs": [],
   "source": [
    "!pip install torchaudio==0.13.0\n",
    "!pip install torchvision==0.14.0\n",
    "!pip install torchphysics"
   ]
  },
  {
   "cell_type": "code",
   "execution_count": null,
   "metadata": {},
   "outputs": [],
   "source": [
    "import torchphysics as tp\n",
    "import torch\n",
    "import math"
   ]
  }
 ],
 "metadata": {
  "language_info": {
   "name": "python"
  },
  "orig_nbformat": 4
 },
 "nbformat": 4,
 "nbformat_minor": 2
}
