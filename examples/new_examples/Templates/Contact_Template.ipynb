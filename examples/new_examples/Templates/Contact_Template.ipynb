{
 "cells": [
  {
   "cell_type": "markdown",
   "metadata": {},
   "source": [
    "# Template: Signorini problem (Contact problem)\n",
    "### (Difficulty: Hard)\n",
    "\n",
    "In this example we a solve a obstacle PDE. The special point in this example are the inequalyties in the corresponding differentialequation. On the unit square $\\Omega = (0, 1) \\times (0, 1)$, we consider the problem:\n",
    "\\begin{align*}\n",
    "    -\\Delta u &= 0.01 \\text{ in } \\Omega \\\\\n",
    "    u &= 0 \\text{ on } \\Gamma_D \\\\\n",
    "    \\vec{n} \\nabla u &= 0 \\text{ on } \\Gamma_N \\\\\n",
    "    u -g &\\geq 0 \\text{ on } \\Gamma_C \\\\\n",
    "    -\\vec{n} \\nabla u &\\leq 0 \\text{ on } \\Gamma_C \\\\\n",
    "    \\vec{n} \\nabla u (u-g) &= 0 \\text{ on } \\Gamma_C\n",
    "\\end{align*}\n",
    "Where $\\Gamma_D = \\{0\\} \\times [0, 1]$, $\\Gamma_D = (0, 1) \\times \\{0, 1\\}$ and $\\Gamma_C = \\{0\\} \\times [0, 1]$.\n",
    "$g(x, y)= - 0.1 - (\\frac{y - 0.5}{5})^2$ is the obstacle at the contact boundary $\\Gamma_C$.  \n",
    "\n",
    "The condition $u -g \\geq 0$ sets the contact, $-\\vec{n} \\nabla u \\leq 0$ implies that the solution can extract a force on the obstacle not the other way around. The last complementary condition ensures, that we can only apply a force when there is a contact, otherwise the normal derivative has to be zero.\n",
    "\n",
    "The other boundary conditions only exist to make the problem easier and to have a unique solution.\n",
    "\n",
    "You can also take a look at documentation if you need some specific functionalities: [Link to docs](https://torchphysics.readthedocs.io/en/latest/)"
   ]
  },
  {
   "cell_type": "code",
   "execution_count": null,
   "metadata": {},
   "outputs": [],
   "source": [
    "!pip install torchaudio==0.13.0\n",
    "!pip install torchvision==0.14.0\n",
    "!pip install torchphysics"
   ]
  },
  {
   "cell_type": "code",
   "execution_count": null,
   "metadata": {},
   "outputs": [],
   "source": [
    "import torchphysics as tp\n",
    "import torch\n",
    "import math"
   ]
  }
 ],
 "metadata": {
  "language_info": {
   "name": "python"
  },
  "orig_nbformat": 4
 },
 "nbformat": 4,
 "nbformat_minor": 2
}
