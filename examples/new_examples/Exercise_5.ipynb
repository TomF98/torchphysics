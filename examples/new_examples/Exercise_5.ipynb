{
 "cells": [
  {
   "cell_type": "markdown",
   "metadata": {},
   "source": [
    "# Heat equation on a time-dependent domain: Example 5\n",
    "\n",
    "With the knowledge gained from the previous examples, we can now solve the drilling problem. Here, we consider\n",
    "the heat equation on a time-dependent domain. For the PDE we consider, for $t\\in[0, 5]$,\n",
    "\\begin{align*}\n",
    "    \\partial_t u(x, t) -0.1\\Delta u(x, t) &= 0.0, && \\text{ in }  \\Omega(t), \\\\\n",
    "    u(x, 0) &= 0 , && \\text{ in }  \\Omega(0), \\\\\n",
    "    u(x, t) &= 0 , &&\\text{ for } x_2=0, \\\\\n",
    "    -\\kappa \\nabla u(x, t)\\cdot n &= 0 , &&\\text{ on } \\Gamma_N(t), \\\\\n",
    "    -\\kappa \\nabla u(x, t)\\cdot n &= f , &&\\text{ on } \\Gamma_H(t).\n",
    "\\end{align*}\n",
    "\n",
    "Here, $\\Omega(t) = ([0, 1] \\times [0, 1]) \\setminus D(t)$ and $D(t) = [0.2, 0.4] \\times [h(t), 1.0]$, with\n",
    "\\begin{align*}\n",
    "    h(t) = 1.0 - v_\\text{drill} * t,\n",
    "\\end{align*}\n",
    "such that $h(t)$ describes the depth of the drill at point $t$ and we remove a rectangular part from our domain.\n",
    "\n",
    "The boundary parts are given by\n",
    "\\begin{align*}\n",
    "    \\Gamma_H(t) &=  [0.2, 0.4] \\times \\{h(t)\\}, \\\\\n",
    "    \\Gamma_N(t) &=  \\partial ([0, 1] \\times [0, 1]) \\setminus (\\{x_2=0\\} \\cup \\Gamma_H(t)),\n",
    "\\end{align*}\n",
    "e.g. at the bottom boundary we have a fixed temperature $u=0$, at the bottom of the drill part a heat source and \n",
    "everywhere else homogeneous Neumann conditions.\n",
    "\n",
    "First we have to install the library:"
   ]
  },
  {
   "cell_type": "code",
   "execution_count": null,
   "metadata": {},
   "outputs": [],
   "source": [
    "!pip install torchaudio==0.13.0\n",
    "!pip install torchvision==0.14.0\n",
    "!pip install torchphysics"
   ]
  },
  {
   "cell_type": "code",
   "execution_count": 1,
   "metadata": {},
   "outputs": [],
   "source": [
    "import torch\n",
    "import torchphysics as tp\n",
    "import pytorch_lightning as pl\n",
    "import math \n",
    "\n",
    "# Here all parameters are defined:\n",
    "t_min, t_max = 0.0, 5.0\n",
    "t_prod_end = 5.0\n",
    "prod_speed = 1.0 # speed of heating \n",
    "\n",
    "size_x, size_y = 1.0, 1.0\n",
    "x_start, x_end = 0.2, 0.4 # x-size of drill hole\n",
    "y_end = 0.4 # end height of drill hole\n",
    "\n",
    "drill_speed = (size_y - y_end) / (t_prod_end)\n",
    "\n",
    "kappa = 0.1 # heat diffusion\n",
    "\n",
    "# Function for heat source\n",
    "def f(t, x):\n",
    "    heat_source = 80 * (x[:, :1] - x_start) * (x_end - x[:, :1])\n",
    "    heat_source *= (1.0 - torch.exp(-prod_speed*t))\n",
    "    return heat_source\n",
    "\n",
    "# Movement of drill (returns the y position of the bottom of the drill head)\n",
    "def drill_height(t):\n",
    "    height = size_y - drill_speed * t\n",
    "    return height"
   ]
  },
  {
   "cell_type": "code",
   "execution_count": 2,
   "metadata": {},
   "outputs": [],
   "source": [
    "# First we have to implement the spaces that appear:\n",
    "X = tp.spaces.R2('x')\n",
    "T = tp.spaces.R1('t')\n",
    "U = tp.spaces.R1('u')"
   ]
  },
  {
   "cell_type": "markdown",
   "metadata": {},
   "source": [
    "Now, we handle the time dependent domain. The basic domain creation is like we have seen before.\n",
    "Special here is now, that we use Pyhton-functions to describe the corners of our drill hole.\n",
    "\n",
    "To create our domain, we define first the square $[0, 1] \\times [0, 1]$ and then substract the drill hole (a \n",
    "time dependent square) from it."
   ]
  },
  {
   "cell_type": "code",
   "execution_count": 3,
   "metadata": {},
   "outputs": [],
   "source": [
    "# TODO: Implement the unit square \n",
    "box = ...\n",
    "\n",
    "# This is the lower left corner of our drill hole. At a given input t, we have to return \n",
    "# the correct coordinate of the left lower corner.\n",
    "def left_corner(t):\n",
    "    # First construct a tensor, where we can input the correct corrdinates.\n",
    "    # The x-coordinate is \n",
    "    coordinate = x_start * torch.ones((len(t), 2), device=t.device)\n",
    "    coordinate[:, 1:] = drill_height(t)\n",
    "    return coordinate\n",
    "\n",
    "# TODO: Implement the lower right corner:\n",
    "def right_corner(t):\n",
    "    pass\n",
    "\n",
    "# Now we can use the above functions as input arguments in the Parallelogram.\n",
    "# The top left corner is fixed (outside our square for numerical reasons), such that we obtain  \n",
    "# a rectangle that grows in the negative y direction in time.\n",
    "drill_hole = tp.domains.Parallelogram(X, left_corner, right_corner, [x_start, size_y+0.1])\n",
    "\n",
    "# TODO: Construct the difference of the \"box\" and \"drill_hole\"\n",
    "omega = ...\n",
    "\n",
    "# TODO: Implement the time interval\n",
    "I_t = ..."
   ]
  },
  {
   "cell_type": "markdown",
   "metadata": {},
   "source": [
    "The defined domain $\\Omega$ is now dependent on time, since the *drill_hole* depends on time.\n",
    "This we have to keep in mind when we want to create points inside this domain. To sample points we\n",
    "we have to say what time point $t$ we are considering, e.g. we can only sample in $\\Omega \\times [0, T]$.\n",
    "\n",
    "This order is also important for the *Samplers* in TorchPhysics. If we input the Cartesian Product *omega \\* I_t*, the sampler will create points from right to left, first points in the time interval and then pass them to the space domain to create valid points. \n",
    "\n",
    "The combination *I_t \\* omega* does **not** work. "
   ]
  },
  {
   "cell_type": "code",
   "execution_count": null,
   "metadata": {},
   "outputs": [],
   "source": [
    "# TODO: Experiment a bit with different Samplers and number of points to get a feeling of the\n",
    "#       time dependent domain.\n",
    "\n",
    "inner_sampler = tp.samplers.RandomUniformSampler(omega * I_t, 5000)\n",
    "bc_sampler = tp.samplers.RandomUniformSampler(box.boundary*I_t, 2000)\n",
    "\n",
    "# One can also multiply (create the Cartesian product) of the samplers, which allows for \n",
    "# grid sampling. \n",
    "time_sampler = tp.samplers.GridSampler(I_t, 10)\n",
    "drill_sampler = tp.samplers.RandomUniformSampler(drill_hole.boundary, 50) * time_sampler\n",
    "\n",
    "# With scatter we can visualize one example batch of points.\n",
    "# First argument: The space over which we want to plot (here either: X, T or X*T)\n",
    "# Later arguments all sampler we want to visualize.\n",
    "# Note: The points in the plot not always have the correct three-dimensional \"depth\", \n",
    "# they may incorrectly appear behind or in front of each other.\n",
    "fig = tp.utils.scatter(X, drill_sampler, bc_sampler)"
   ]
  },
  {
   "cell_type": "markdown",
   "metadata": {},
   "source": [
    "For training we use the following sampler:"
   ]
  },
  {
   "cell_type": "code",
   "execution_count": null,
   "metadata": {},
   "outputs": [],
   "source": [
    "# When making a sampler static (e.g. fixing the points it creates) we can also pass an \n",
    "# after how many training iterations it will create new points.\n",
    "# We do this here to speed up the training process, since sampling in time dependent domains\n",
    "# is a little bit slower than in normal domains. \n",
    "inner_sampler = tp.samplers.RandomUniformSampler(omega * I_t, 75000).make_static(resample_interval=250)\n",
    "bc_sampler = tp.samplers.RandomUniformSampler(box.boundary*I_t, 25000)\n",
    "\n",
    "time_sampler = tp.samplers.GridSampler(I_t, 120).make_static()\n",
    "drill_sampler = tp.samplers.RandomUniformSampler(drill_hole.boundary, 2000) * time_sampler"
   ]
  },
  {
   "cell_type": "code",
   "execution_count": null,
   "metadata": {},
   "outputs": [],
   "source": [
    "# Next the neural network:\n",
    "model = tp.models.FCN(input_space=X*T, output_space=U, \n",
    "                      hidden=(80, 80, 80, 80, 80, 80, 80))"
   ]
  },
  {
   "cell_type": "markdown",
   "metadata": {},
   "source": [
    "To simplify the training procedure, we implement some conditions into the network architecture by using the so called *hard constrains*.\n",
    "These include the initial condition $u(\\cdot, 0) = 0$ and the Dirichlet condition at the lower boundary. \n",
    "A simple way to achieve this, is to multiply the output of the neural network by some factors such that the conditions are fulfilled.\n",
    "\n",
    "In our case this is possible with\n",
    "\\begin{align*}\n",
    "    u \\cdot (1.0 - e^{-t}) \\cdot x_2,\n",
    "\\end{align*}\n",
    "where $u$ is the output of the neural network."
   ]
  },
  {
   "cell_type": "code",
   "execution_count": null,
   "metadata": {},
   "outputs": [],
   "source": [
    "# TODO: Implement the hard constrains\n",
    "def constrain_fn(u, x, t):\n",
    "    pass"
   ]
  },
  {
   "cell_type": "markdown",
   "metadata": {},
   "source": [
    "Next, we implement the PDE via the *PINNCondition* as we did before."
   ]
  },
  {
   "cell_type": "code",
   "execution_count": 113,
   "metadata": {},
   "outputs": [],
   "source": [
    "# Start we the heat equation\n",
    "def pde_residual(u, x, t):\n",
    "    u = constrain_fn(u, x, t) # here remember to apply our constrain \n",
    "    return kappa * tp.utils.laplacian(u, x) - tp.utils.grad(u, t)\n",
    "\n",
    "pde_condition = tp.conditions.PINNCondition(module=model,\n",
    "                                            sampler=inner_sampler,\n",
    "                                            residual_fn=pde_residual,\n",
    "                                            name='pde_condition', weight=50)"
   ]
  },
  {
   "cell_type": "code",
   "execution_count": null,
   "metadata": {},
   "outputs": [],
   "source": [
    "# Next the boundary conditions at the drill hole:\n",
    "tol = 0.0001 # small tolerance for filtering points\n",
    "\n",
    "def drill_residual(u, x, t):\n",
    "    u = constrain_fn(u, x, t)\n",
    "\n",
    "    resiudal = torch.zeros_like(u) # a tensor to write the residual into\n",
    "    normal_vectors = -drill_hole.boundary.normal(x, {\"t\": t})\n",
    "    u_n = tp.utils.normal_derivative(u, normal_vectors, x)\n",
    "    \n",
    "    # Evaluate heat source everywhere (filter out correct points later)\n",
    "    heat_source = f(t, x) \n",
    "    # The upper boundary of our drill hole rectangle is not inside the domain\n",
    "    # -> filter out the correct points\n",
    "    point_in_domain = (x[:, 1:] <= size_y)\n",
    "\n",
    "    # Homogeneous Neumann condition on drill hole\n",
    "    resiudal[point_in_domain] = u_n[point_in_domain]\n",
    "    \n",
    "    # On the bottom side on the hole we have a heat source.\n",
    "    # First filter the points: \n",
    "    drill_section_x = torch.logical_and(x[:, :1] > x_start + tol, x[:, :1] < x_end - tol)\n",
    "    drill_section = torch.logical_and(point_in_domain, drill_section_x)\n",
    "    # Then construct residual:\n",
    "    resiudal[drill_section] = (u_n - heat_source/kappa)[drill_section]\n",
    "\n",
    "    return resiudal\n",
    "\n",
    "drill_condition = tp.conditions.PINNCondition(module=model,\n",
    "                                           sampler=drill_sampler,\n",
    "                                           residual_fn=drill_residual,\n",
    "                                           name='drill_condition', weight=2)"
   ]
  },
  {
   "cell_type": "code",
   "execution_count": 115,
   "metadata": {},
   "outputs": [],
   "source": [
    "# TODO: Implement the condition for the outer boundary (not on the drill hole)\n",
    "\n",
    "def bc_residual(u, x, t):\n",
    "    # Apply constrains:\n",
    "    \n",
    "    # Compute normal vectors and derivative:\n",
    "\n",
    "    # Construct residual:\n",
    "\n",
    "    return \n",
    "\n",
    "bc_condition = tp.conditions.PINNCondition(module=model,\n",
    "                                           sampler=bc_sampler,\n",
    "                                           residual_fn=bc_residual,\n",
    "                                           name='bc_condition', weight=100)"
   ]
  },
  {
   "cell_type": "markdown",
   "metadata": {},
   "source": [
    "Now, we can start the training of the neural network. \n",
    "In our testing we found that first only training the boundary condition on the drill part is helpful:"
   ]
  },
  {
   "cell_type": "code",
   "execution_count": null,
   "metadata": {},
   "outputs": [],
   "source": [
    "optim = tp.OptimizerSetting(optimizer_class=torch.optim.Adam, lr=1.e-4)\n",
    "solver = tp.solver.Solver([drill_condition], optimizer_setting=optim)\n",
    "\n",
    "trainer = pl.Trainer(gpus=1,\n",
    "                     num_sanity_val_steps=0,\n",
    "                     benchmark=True,\n",
    "                     max_steps=2500, \n",
    "                     logger=False, \n",
    "                     enable_checkpointing=False\n",
    "                     )\n",
    "\n",
    "trainer.fit(solver)"
   ]
  },
  {
   "cell_type": "markdown",
   "metadata": {},
   "source": [
    "Next, we combine all loss terms in the training process. Here, we only train for a short time frame. Because we need a rather large network and the GPUs on Google Colab at not that fast, the training is slow. \n",
    "\n",
    "But we can still obtain a good first approximation and in the later cells also load a pretrained network, that we trained for roughly 25 minutes on a RTX 2080 beforehand."
   ]
  },
  {
   "cell_type": "code",
   "execution_count": null,
   "metadata": {},
   "outputs": [],
   "source": [
    "optim = tp.OptimizerSetting(optimizer_class=torch.optim.Adam, lr=1.e-3) \n",
    "solver = tp.solver.Solver([pde_condition, drill_condition, bc_condition],\n",
    "                        optimizer_setting=optim)\n",
    "\n",
    "trainer = pl.Trainer(gpus=1,\n",
    "                    num_sanity_val_steps=0,\n",
    "                    benchmark=True,\n",
    "                    max_steps=1500,\n",
    "                    logger=False, \n",
    "                    enable_checkpointing=False\n",
    "                    )\n",
    "\n",
    "trainer.fit(solver)"
   ]
  },
  {
   "cell_type": "markdown",
   "metadata": {},
   "source": [
    "First we can have a look on the learned solution:"
   ]
  },
  {
   "cell_type": "code",
   "execution_count": null,
   "metadata": {},
   "outputs": [],
   "source": [
    "anim_sampler = tp.samplers.AnimationSampler(omega, I_t, 100, n_points=1000)\n",
    "fig, anim = tp.utils.animate(model, lambda u, t, x: constrain_fn(u, x, t), \n",
    "                             anim_sampler, ani_speed=10, ani_type='contour_surface')\n",
    "anim.save('moving-heat-eq.gif')\n",
    "# On Google colab you have at the left side a tab with a folder. There you can find the gif and can watch it."
   ]
  },
  {
   "cell_type": "markdown",
   "metadata": {},
   "source": [
    "We also prepared a FEM-solution for comparision. First, we download the data from GitHub and then read it with\n",
    "numpy."
   ]
  },
  {
   "cell_type": "code",
   "execution_count": null,
   "metadata": {},
   "outputs": [],
   "source": [
    "!wget https://github.com/TomF98/torchphysics/raw/main/examples/workshop/FEMData/DrillingData/time_points.npy\n",
    "!wget https://github.com/TomF98/torchphysics/raw/main/examples/workshop/FEMData/DrillingData/coordinates.npy\n",
    "!wget https://github.com/TomF98/torchphysics/raw/main/examples/workshop/FEMData/DrillingData/solution.npy"
   ]
  },
  {
   "cell_type": "code",
   "execution_count": null,
   "metadata": {},
   "outputs": [],
   "source": [
    "import numpy as np\n",
    "\n",
    "time_points = np.load(\"time_points.npy\")\n",
    "coords = np.load(\"coordinates.npy\")\n",
    "fem_sol = np.load(\"solution.npy\")"
   ]
  },
  {
   "cell_type": "code",
   "execution_count": null,
   "metadata": {},
   "outputs": [],
   "source": [
    "# Now evaluate the PINN solution at the FEM-points and compare the solution.\n",
    "pinn_sol = torch.zeros((len(time_points), len(coords[0])))\n",
    "\n",
    "for i in range(len(time_points)):\n",
    "    input_points = torch.zeros((len(coords[i]), 3))\n",
    "    input_points[:, :2] = torch.tensor(coords[i], dtype=torch.float32)\n",
    "    input_points[:, 2] = time_points[i]\n",
    "    model_out = model(tp.spaces.Points(input_points, X*T)).as_tensor\n",
    "    pinn_sol[i, :] = constrain_fn(model_out, input_points[:, :2], input_points[:, 2:]).flatten()\n",
    "\n",
    "print(\"Difference to FEM in Sup-norm:\")\n",
    "difference_sup = np.max(np.abs(fem_sol - pinn_sol.detach().numpy()))\n",
    "print(\"Absolute:\", difference_sup)\n",
    "print(\"Relative:\", difference_sup / np.max(fem_sol))"
   ]
  },
  {
   "cell_type": "markdown",
   "metadata": {},
   "source": [
    "Since we only trained for a short time frame, the relative error is still large.\n",
    "Therefore, we also prepared a neural network that has been trained a bit longer."
   ]
  },
  {
   "cell_type": "code",
   "execution_count": null,
   "metadata": {},
   "outputs": [],
   "source": [
    "# Get the network from Github\n",
    "!wget https://github.com/TomF98/torchphysics/raw/main/examples/workshop/FEMData/DrillingData/model_drilling.pt"
   ]
  },
  {
   "cell_type": "code",
   "execution_count": 175,
   "metadata": {},
   "outputs": [
    {
     "data": {
      "text/plain": [
       "<All keys matched successfully>"
      ]
     },
     "execution_count": 175,
     "metadata": {},
     "output_type": "execute_result"
    }
   ],
   "source": [
    "# The following lines show how one can save and load a neural network\n",
    "torch.save(model.state_dict(), 'model_drilling_short_training.pt')\n",
    "\n",
    "model.load_state_dict(torch.load('model_drilling.pt'))"
   ]
  },
  {
   "cell_type": "markdown",
   "metadata": {},
   "source": [
    "We evaluate the new model and obtain a relative error of around 9%."
   ]
  },
  {
   "cell_type": "code",
   "execution_count": 176,
   "metadata": {},
   "outputs": [],
   "source": [
    "pinn_sol = torch.zeros((len(time_points), len(coords[0])))\n",
    "\n",
    "for i in range(len(time_points)):\n",
    "    input_points = torch.zeros((len(coords[i]), 3))\n",
    "    input_points[:, :2] = torch.tensor(coords[i], dtype=torch.float32)\n",
    "    input_points[:, 2] = time_points[i]\n",
    "    model_out = model(tp.spaces.Points(input_points, X*T)).as_tensor\n",
    "    pinn_sol[i, :] = constrain_fn(model_out, input_points[:, :2], input_points[:, 2:]).flatten()"
   ]
  },
  {
   "cell_type": "code",
   "execution_count": null,
   "metadata": {},
   "outputs": [],
   "source": [
    "print(\"Difference to FEM in Sup-norm:\")\n",
    "difference_sup = np.max(np.abs(fem_sol - pinn_sol.detach().numpy()))\n",
    "print(\"Absolute:\", difference_sup)\n",
    "print(\"Relative:\", difference_sup / np.max(fem_sol))"
   ]
  }
 ],
 "metadata": {
  "kernelspec": {
   "display_name": "bosch",
   "language": "python",
   "name": "python3"
  },
  "language_info": {
   "codemirror_mode": {
    "name": "ipython",
    "version": 3
   },
   "file_extension": ".py",
   "mimetype": "text/x-python",
   "name": "python",
   "nbconvert_exporter": "python",
   "pygments_lexer": "ipython3",
   "version": "3.9.15"
  },
  "orig_nbformat": 4
 },
 "nbformat": 4,
 "nbformat_minor": 2
}
